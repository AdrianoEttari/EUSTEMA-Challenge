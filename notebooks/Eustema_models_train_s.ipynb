{
 "cells": [
  {
   "attachments": {},
   "cell_type": "markdown",
   "metadata": {},
   "source": [
    "# <a style = background:lightgreen;color:black>Settlement Prediction on train_s (modeling) </a>"
   ]
  },
  {
   "cell_type": "code",
   "execution_count": 1,
   "metadata": {},
   "outputs": [],
   "source": [
    "import pandas as pd\n",
    "import numpy as np"
   ]
  },
  {
   "cell_type": "code",
   "execution_count": 2,
   "metadata": {},
   "outputs": [],
   "source": [
    "data = pd.read_csv('../DATA/final_train_s_dummies.csv')"
   ]
  },
  {
   "cell_type": "code",
   "execution_count": 3,
   "metadata": {},
   "outputs": [],
   "source": [
    "X = data[['Tax Related', 'Number of Lawyers',\n",
    "     'Number of Legal Parties', 'Value formatted',\n",
    "       'Unified Contribution formatted', 'Milano', 'Bari', 'Bologna', 'Genova',\n",
    "       'Palermo', 'Napoli', 'Torino', 'Trento', 'Roma', \"L'Aquila\", 'Potenza',\n",
    "       'Perugia', 'Campobasso', 'Firenze', 'Cagliari', 'Venezia', 'Cosenza',\n",
    "       'Ancona', 'Trieste', 'Aosta','OR-140999', 'OR-145009', 'OR-139999',\n",
    "       'OR-145999', 'OR-130099', 'OR-101003', 'OR-130121', 'OR-130111',\n",
    "       'OR-130131', 'OR-101002', 'OR-180002', 'OSA-180002']]\n",
    "y=data['Settlement']"
   ]
  },
  {
   "attachments": {},
   "cell_type": "markdown",
   "metadata": {},
   "source": [
    "## <a style=background:yellow;color:black> Standardization and Split in training, validation and testing set </a>"
   ]
  },
  {
   "attachments": {},
   "cell_type": "markdown",
   "metadata": {},
   "source": [
    "You need to scale just the variables that are neither dummies nor boolean."
   ]
  },
  {
   "cell_type": "code",
   "execution_count": 4,
   "metadata": {},
   "outputs": [],
   "source": [
    "X_to_scale = X[['Number of Lawyers','Number of Legal Parties', 'Value formatted',\n",
    "       'Unified Contribution formatted']]\n",
    "X_not_to_scale = X[['Tax Related','Milano', 'Bari', 'Bologna', 'Genova',\n",
    "       'Palermo', 'Napoli', 'Torino', 'Trento', 'Roma', \"L'Aquila\", 'Potenza',\n",
    "       'Perugia', 'Campobasso', 'Firenze', 'Cagliari', 'Venezia', 'Cosenza',\n",
    "       'Ancona', 'Trieste', 'Aosta','OR-140999', 'OR-145009', 'OR-139999',\n",
    "       'OR-145999', 'OR-130099', 'OR-101003', 'OR-130121', 'OR-130111',\n",
    "       'OR-130131', 'OR-101002', 'OR-180002', 'OSA-180002']]"
   ]
  },
  {
   "cell_type": "code",
   "execution_count": 5,
   "metadata": {},
   "outputs": [],
   "source": [
    "from sklearn.preprocessing import StandardScaler\n",
    "from sklearn.model_selection import train_test_split\n",
    "\n",
    "y = pd.DataFrame(y)\n",
    "std_scale = StandardScaler()\n",
    "X_scaled = std_scale.fit_transform(X_to_scale)"
   ]
  },
  {
   "cell_type": "code",
   "execution_count": 6,
   "metadata": {},
   "outputs": [],
   "source": [
    "X_scaled_df = pd.DataFrame(X_scaled, columns=[X_to_scale.columns])\n",
    "X_scaled_df = pd.concat([X_scaled_df, X_not_to_scale], axis=1)"
   ]
  },
  {
   "cell_type": "code",
   "execution_count": 7,
   "metadata": {},
   "outputs": [],
   "source": [
    "new_var_names = []\n",
    "for var_name in X_scaled_df.columns:\n",
    "    if '(' not in var_name:\n",
    "        new_var_names.append(var_name)\n",
    "    else:\n",
    "        new_var_names.append(var_name.replace('(', '').replace(')', '')\n",
    "        .replace('\\'','').replace(',','').replace('\"',''))\n",
    "new_var_names = []\n",
    "for var_name in X_scaled_df.columns:\n",
    "    if type(var_name) != tuple:\n",
    "        new_var_names.append(var_name)\n",
    "    else:\n",
    "        new_var_names.append(var_name[0])\n",
    "\n",
    "X_scaled_df = pd.DataFrame(X_scaled_df.values, columns=new_var_names)"
   ]
  },
  {
   "cell_type": "code",
   "execution_count": 8,
   "metadata": {},
   "outputs": [],
   "source": [
    "X_train_val, X_test, y_train_val, y_test = train_test_split(X_scaled_df, y, random_state=0,\n",
    "                                                            test_size=0.1)\n",
    "\n",
    "X_train, X_val, y_train, y_val = train_test_split(X_train_val, y_train_val,random_state=0,\n",
    "                                                            test_size=0.2  )"
   ]
  },
  {
   "cell_type": "markdown",
   "id": "f4575ad0",
   "metadata": {
    "id": "f4575ad0"
   },
   "source": [
    "## <a style=background:yellow;color:black id='reg_tree'> REGRESSION-TREE</a>"
   ]
  },
  {
   "cell_type": "code",
   "execution_count": 9,
   "id": "bb402f2f",
   "metadata": {
    "id": "bb402f2f"
   },
   "outputs": [],
   "source": [
    "from sklearn.tree import DecisionTreeRegressor\n",
    "from sklearn.model_selection import GridSearchCV\n",
    "from sklearn.metrics import mean_absolute_error"
   ]
  },
  {
   "cell_type": "code",
   "execution_count": 12,
   "id": "34018f77",
   "metadata": {
    "id": "34018f77",
    "outputId": "03eb7765-8fe8-4de1-e106-7fa686b3e810"
   },
   "outputs": [
    {
     "data": {
      "text/html": [
       "<style>#sk-container-id-1 {color: black;background-color: white;}#sk-container-id-1 pre{padding: 0;}#sk-container-id-1 div.sk-toggleable {background-color: white;}#sk-container-id-1 label.sk-toggleable__label {cursor: pointer;display: block;width: 100%;margin-bottom: 0;padding: 0.3em;box-sizing: border-box;text-align: center;}#sk-container-id-1 label.sk-toggleable__label-arrow:before {content: \"▸\";float: left;margin-right: 0.25em;color: #696969;}#sk-container-id-1 label.sk-toggleable__label-arrow:hover:before {color: black;}#sk-container-id-1 div.sk-estimator:hover label.sk-toggleable__label-arrow:before {color: black;}#sk-container-id-1 div.sk-toggleable__content {max-height: 0;max-width: 0;overflow: hidden;text-align: left;background-color: #f0f8ff;}#sk-container-id-1 div.sk-toggleable__content pre {margin: 0.2em;color: black;border-radius: 0.25em;background-color: #f0f8ff;}#sk-container-id-1 input.sk-toggleable__control:checked~div.sk-toggleable__content {max-height: 200px;max-width: 100%;overflow: auto;}#sk-container-id-1 input.sk-toggleable__control:checked~label.sk-toggleable__label-arrow:before {content: \"▾\";}#sk-container-id-1 div.sk-estimator input.sk-toggleable__control:checked~label.sk-toggleable__label {background-color: #d4ebff;}#sk-container-id-1 div.sk-label input.sk-toggleable__control:checked~label.sk-toggleable__label {background-color: #d4ebff;}#sk-container-id-1 input.sk-hidden--visually {border: 0;clip: rect(1px 1px 1px 1px);clip: rect(1px, 1px, 1px, 1px);height: 1px;margin: -1px;overflow: hidden;padding: 0;position: absolute;width: 1px;}#sk-container-id-1 div.sk-estimator {font-family: monospace;background-color: #f0f8ff;border: 1px dotted black;border-radius: 0.25em;box-sizing: border-box;margin-bottom: 0.5em;}#sk-container-id-1 div.sk-estimator:hover {background-color: #d4ebff;}#sk-container-id-1 div.sk-parallel-item::after {content: \"\";width: 100%;border-bottom: 1px solid gray;flex-grow: 1;}#sk-container-id-1 div.sk-label:hover label.sk-toggleable__label {background-color: #d4ebff;}#sk-container-id-1 div.sk-serial::before {content: \"\";position: absolute;border-left: 1px solid gray;box-sizing: border-box;top: 0;bottom: 0;left: 50%;z-index: 0;}#sk-container-id-1 div.sk-serial {display: flex;flex-direction: column;align-items: center;background-color: white;padding-right: 0.2em;padding-left: 0.2em;position: relative;}#sk-container-id-1 div.sk-item {position: relative;z-index: 1;}#sk-container-id-1 div.sk-parallel {display: flex;align-items: stretch;justify-content: center;background-color: white;position: relative;}#sk-container-id-1 div.sk-item::before, #sk-container-id-1 div.sk-parallel-item::before {content: \"\";position: absolute;border-left: 1px solid gray;box-sizing: border-box;top: 0;bottom: 0;left: 50%;z-index: -1;}#sk-container-id-1 div.sk-parallel-item {display: flex;flex-direction: column;z-index: 1;position: relative;background-color: white;}#sk-container-id-1 div.sk-parallel-item:first-child::after {align-self: flex-end;width: 50%;}#sk-container-id-1 div.sk-parallel-item:last-child::after {align-self: flex-start;width: 50%;}#sk-container-id-1 div.sk-parallel-item:only-child::after {width: 0;}#sk-container-id-1 div.sk-dashed-wrapped {border: 1px dashed gray;margin: 0 0.4em 0.5em 0.4em;box-sizing: border-box;padding-bottom: 0.4em;background-color: white;}#sk-container-id-1 div.sk-label label {font-family: monospace;font-weight: bold;display: inline-block;line-height: 1.2em;}#sk-container-id-1 div.sk-label-container {text-align: center;}#sk-container-id-1 div.sk-container {/* jupyter's `normalize.less` sets `[hidden] { display: none; }` but bootstrap.min.css set `[hidden] { display: none !important; }` so we also need the `!important` here to be able to override the default hidden behavior on the sphinx rendered scikit-learn.org. See: https://github.com/scikit-learn/scikit-learn/issues/21755 */display: inline-block !important;position: relative;}#sk-container-id-1 div.sk-text-repr-fallback {display: none;}</style><div id=\"sk-container-id-1\" class=\"sk-top-container\"><div class=\"sk-text-repr-fallback\"><pre>DecisionTreeRegressor(criterion=&#x27;absolute_error&#x27;, max_features=&#x27;sqrt&#x27;,\n",
       "                      min_samples_split=10, random_state=42)</pre><b>In a Jupyter environment, please rerun this cell to show the HTML representation or trust the notebook. <br />On GitHub, the HTML representation is unable to render, please try loading this page with nbviewer.org.</b></div><div class=\"sk-container\" hidden><div class=\"sk-item\"><div class=\"sk-estimator sk-toggleable\"><input class=\"sk-toggleable__control sk-hidden--visually\" id=\"sk-estimator-id-1\" type=\"checkbox\" checked><label for=\"sk-estimator-id-1\" class=\"sk-toggleable__label sk-toggleable__label-arrow\">DecisionTreeRegressor</label><div class=\"sk-toggleable__content\"><pre>DecisionTreeRegressor(criterion=&#x27;absolute_error&#x27;, max_features=&#x27;sqrt&#x27;,\n",
       "                      min_samples_split=10, random_state=42)</pre></div></div></div></div></div>"
      ],
      "text/plain": [
       "DecisionTreeRegressor(criterion='absolute_error', max_features='sqrt',\n",
       "                      min_samples_split=10, random_state=42)"
      ]
     },
     "execution_count": 12,
     "metadata": {},
     "output_type": "execute_result"
    }
   ],
   "source": [
    "reg_tree = DecisionTreeRegressor(random_state=42, criterion='absolute_error',\n",
    "                                min_samples_split=10,\n",
    "                                max_features='sqrt')\n",
    "\n",
    "reg_tree.fit(X_train_val,y_train_val)"
   ]
  },
  {
   "cell_type": "code",
   "execution_count": 15,
   "id": "c34a58d9",
   "metadata": {
    "id": "c34a58d9",
    "outputId": "537f811c-1583-40ee-f291-9ffabc166651"
   },
   "outputs": [
    {
     "data": {
      "text/html": [
       "<div>\n",
       "<style scoped>\n",
       "    .dataframe tbody tr th:only-of-type {\n",
       "        vertical-align: middle;\n",
       "    }\n",
       "\n",
       "    .dataframe tbody tr th {\n",
       "        vertical-align: top;\n",
       "    }\n",
       "\n",
       "    .dataframe thead th {\n",
       "        text-align: right;\n",
       "    }\n",
       "</style>\n",
       "<table border=\"1\" class=\"dataframe\">\n",
       "  <thead>\n",
       "    <tr style=\"text-align: right;\">\n",
       "      <th></th>\n",
       "      <th>y_true</th>\n",
       "      <th>y_pred</th>\n",
       "      <th>residuals</th>\n",
       "    </tr>\n",
       "  </thead>\n",
       "  <tbody>\n",
       "    <tr>\n",
       "      <th>0</th>\n",
       "      <td>971.67</td>\n",
       "      <td>600.00</td>\n",
       "      <td>-371.67</td>\n",
       "    </tr>\n",
       "    <tr>\n",
       "      <th>1</th>\n",
       "      <td>409.63</td>\n",
       "      <td>464.00</td>\n",
       "      <td>54.37</td>\n",
       "    </tr>\n",
       "    <tr>\n",
       "      <th>2</th>\n",
       "      <td>7290.49</td>\n",
       "      <td>11659.89</td>\n",
       "      <td>4369.40</td>\n",
       "    </tr>\n",
       "    <tr>\n",
       "      <th>3</th>\n",
       "      <td>1.00</td>\n",
       "      <td>3913.24</td>\n",
       "      <td>3912.24</td>\n",
       "    </tr>\n",
       "    <tr>\n",
       "      <th>4</th>\n",
       "      <td>1082.64</td>\n",
       "      <td>1777.23</td>\n",
       "      <td>694.59</td>\n",
       "    </tr>\n",
       "    <tr>\n",
       "      <th>...</th>\n",
       "      <td>...</td>\n",
       "      <td>...</td>\n",
       "      <td>...</td>\n",
       "    </tr>\n",
       "    <tr>\n",
       "      <th>9655</th>\n",
       "      <td>752.05</td>\n",
       "      <td>600.00</td>\n",
       "      <td>-152.05</td>\n",
       "    </tr>\n",
       "    <tr>\n",
       "      <th>9656</th>\n",
       "      <td>314.39</td>\n",
       "      <td>317.00</td>\n",
       "      <td>2.61</td>\n",
       "    </tr>\n",
       "    <tr>\n",
       "      <th>9657</th>\n",
       "      <td>500.00</td>\n",
       "      <td>1052.00</td>\n",
       "      <td>552.00</td>\n",
       "    </tr>\n",
       "    <tr>\n",
       "      <th>9658</th>\n",
       "      <td>135.43</td>\n",
       "      <td>750.00</td>\n",
       "      <td>614.57</td>\n",
       "    </tr>\n",
       "    <tr>\n",
       "      <th>9659</th>\n",
       "      <td>1946.43</td>\n",
       "      <td>2633.39</td>\n",
       "      <td>686.96</td>\n",
       "    </tr>\n",
       "  </tbody>\n",
       "</table>\n",
       "<p>9660 rows × 3 columns</p>\n",
       "</div>"
      ],
      "text/plain": [
       "       y_true    y_pred  residuals\n",
       "0      971.67    600.00    -371.67\n",
       "1      409.63    464.00      54.37\n",
       "2     7290.49  11659.89    4369.40\n",
       "3        1.00   3913.24    3912.24\n",
       "4     1082.64   1777.23     694.59\n",
       "...       ...       ...        ...\n",
       "9655   752.05    600.00    -152.05\n",
       "9656   314.39    317.00       2.61\n",
       "9657   500.00   1052.00     552.00\n",
       "9658   135.43    750.00     614.57\n",
       "9659  1946.43   2633.39     686.96\n",
       "\n",
       "[9660 rows x 3 columns]"
      ]
     },
     "execution_count": 15,
     "metadata": {},
     "output_type": "execute_result"
    }
   ],
   "source": [
    "from sklearn.metrics import mean_absolute_error\n",
    "y_pred = reg_tree.predict(X_test)\n",
    "residuals = np.ravel(np.array(y_pred)) - np.ravel(np.array(y_test))\n",
    "\n",
    "pd.DataFrame({'y_true':np.ravel(y_test), 'y_pred':np.ravel(y_pred), 'residuals':np.ravel(residuals)})"
   ]
  },
  {
   "cell_type": "code",
   "execution_count": 14,
   "metadata": {},
   "outputs": [
    {
     "name": "stdout",
     "output_type": "stream",
     "text": [
      "867.1266563146997\n"
     ]
    }
   ],
   "source": [
    "print(mean_absolute_error(y_test, y_pred))"
   ]
  },
  {
   "attachments": {},
   "cell_type": "markdown",
   "metadata": {},
   "source": [
    "## <a style=background:yellow;color:black> MARS (Check the R Script)</a>"
   ]
  },
  {
   "attachments": {},
   "cell_type": "markdown",
   "metadata": {},
   "source": [
    "* One major problem with trees is their high variance. Often a small change in the data can result in a very different series of splits. This is due to the hierarchical nature of the process (if an error occurs in the first split, then all the other splits can just make it worse and worse). A way to reduce this variance is to use Bagging (We've done it with Random Forest).\n",
    "* The lack of smoothness of the predictions surfaces and the difficulty in capturing additive structure can be a problem for regression tasks. We can solve this problems by using <a style=color:deepskyblue> **MARS** </a> (Multivariate Additive Regression Splines)."
   ]
  },
  {
   "cell_type": "code",
   "execution_count": null,
   "metadata": {},
   "outputs": [],
   "source": [
    "# # This chunk is for the MARS model.\n",
    "# final_train_s_dummies_std = pd.concat([X_test, X_train_val],axis=0 )\n",
    "# final_train_s_dummies_std['Settlement'] = pd.concat([y_test, y_train_val], axis = 0)\n",
    "# final_train_s_dummies_std.to_excel('final_train_s_dummies_std.xlsx')"
   ]
  },
  {
   "cell_type": "markdown",
   "id": "a12418d4",
   "metadata": {
    "id": "a12418d4"
   },
   "source": [
    "## <a style=background:yellow;color:black id='Random_Forest'> Random Forest </a>"
   ]
  },
  {
   "cell_type": "code",
   "execution_count": 23,
   "id": "8a7c7903",
   "metadata": {
    "id": "8a7c7903"
   },
   "outputs": [],
   "source": [
    "from sklearn.ensemble import RandomForestRegressor\n",
    "\n",
    "rnd_reg = RandomForestRegressor(n_estimators=50,\n",
    "                                #n_jobs=5,\n",
    "                                max_depth=10,\n",
    "                                criterion='absolute_error',\n",
    "                               random_state = 42,\n",
    "                               min_samples_split=20,\n",
    "                               min_samples_leaf=20,\n",
    "                               max_leaf_nodes=None)"
   ]
  },
  {
   "cell_type": "code",
   "execution_count": 24,
   "id": "17811dbe",
   "metadata": {
    "colab": {
     "base_uri": "https://localhost:8080/"
    },
    "id": "17811dbe",
    "outputId": "6a83d955-a72a-4b41-b6e3-08f8ccd952cb"
   },
   "outputs": [],
   "source": [
    "rnd_reg.fit(X_train_val, np.array(y_train_val).ravel())"
   ]
  },
  {
   "cell_type": "code",
   "execution_count": null,
   "id": "590fa7b8",
   "metadata": {
    "colab": {
     "base_uri": "https://localhost:8080/"
    },
    "id": "590fa7b8",
    "outputId": "009606d8-1c45-4e12-9a22-8ff621af75e9"
   },
   "outputs": [
    {
     "name": "stdout",
     "output_type": "stream",
     "text": [
      "765.0234303933746\n",
      "727.9669157159126\n"
     ]
    }
   ],
   "source": [
    "y_pred = rnd_reg.predict(X_test)\n",
    "\n",
    "residuals = np.array(y_pred) - np.array(y_test)\n",
    "\n",
    "print(mean_absolute_error(y_test, y_pred))\n",
    "print(mean_absolute_error(y_train_val, rnd_reg.predict(X_train_val)))"
   ]
  },
  {
   "cell_type": "code",
   "execution_count": null,
   "metadata": {},
   "outputs": [],
   "source": [
    "import joblib\n",
    "\n",
    "# joblib.dumb(rnd_red, '../models/random_forest_train_s.sav')\n",
    "# rnd_reg = joblib.load('../models/random_forest_train_s.sav')"
   ]
  },
  {
   "attachments": {},
   "cell_type": "markdown",
   "id": "6ea9f5e7",
   "metadata": {},
   "source": [
    "Let's destandardize X_train_val and X_test (the reason why we do it is that we want to build a dataset (data_for_plotting.csv) in order to see the results of the models in Tableau considering the original scale of the variables)."
   ]
  },
  {
   "cell_type": "code",
   "execution_count": null,
   "id": "QL-H5SVLeN_t",
   "metadata": {
    "colab": {
     "base_uri": "https://localhost:8080/"
    },
    "id": "QL-H5SVLeN_t",
    "outputId": "b406ebde-6899-4e72-8981-58db46b26138"
   },
   "outputs": [],
   "source": [
    "X_train_val_inv_trans = pd.DataFrame(std_scale.inverse_transform(X_train_val[['Number of Lawyers','Number of Legal Parties', 'Value formatted',\n",
    "       'Unified Contribution formatted']]), columns = ['Number of Lawyers','Number of Legal Parties', 'Value formatted',\n",
    "       'Unified Contribution formatted'], index = X_train_val.index)\n",
    "\n",
    "X_test_inv_trans = pd.DataFrame(std_scale.inverse_transform(X_test[['Number of Lawyers','Number of Legal Parties', 'Value formatted',\n",
    "       'Unified Contribution formatted']]), columns = ['Number of Lawyers','Number of Legal Parties', 'Value formatted',\n",
    "       'Unified Contribution formatted'], index=X_test.index)\n",
    "\n",
    "X_train_val_not_std = X_train_val[['Tax Related','Milano', 'Bari', 'Bologna', 'Genova',\n",
    "       'Palermo', 'Napoli', 'Torino', 'Trento', 'Roma', \"L'Aquila\", 'Potenza',\n",
    "       'Perugia', 'Campobasso', 'Firenze', 'Cagliari', 'Venezia', 'Cosenza',\n",
    "       'Ancona', 'Trieste', 'Aosta','OR-140999', 'OR-145009', 'OR-139999',\n",
    "       'OR-145999', 'OR-130099', 'OR-101003', 'OR-130121', 'OR-130111',\n",
    "       'OR-130131', 'OR-101002', 'OR-180002', 'OSA-180002']]\n",
    "\n",
    "X_test_not_std = X_test[['Tax Related','Milano', 'Bari', 'Bologna', 'Genova',\n",
    "       'Palermo', 'Napoli', 'Torino', 'Trento', 'Roma', \"L'Aquila\", 'Potenza',\n",
    "       'Perugia', 'Campobasso', 'Firenze', 'Cagliari', 'Venezia', 'Cosenza',\n",
    "       'Ancona', 'Trieste', 'Aosta','OR-140999', 'OR-145009', 'OR-139999',\n",
    "       'OR-145999', 'OR-130099', 'OR-101003', 'OR-130121', 'OR-130111',\n",
    "       'OR-130131', 'OR-101002', 'OR-180002', 'OSA-180002']]\n",
    "\n",
    "X_train_val_destandardized = pd.concat([X_train_val_inv_trans, X_train_val_not_std],axis=1)\n",
    "X_test_destandardized = pd.concat([X_test_inv_trans, X_test_not_std],axis=1)\n",
    "\n",
    "X_train_val_destandardized = pd.DataFrame(np.array(X_train_val_destandardized), columns=[['Number of Lawyers',\n",
    "     'Number of Legal Parties', 'Value formatted',\n",
    "       'Unified Contribution formatted', 'Tax Related','Milano', 'Bari', 'Bologna', 'Genova',\n",
    "       'Palermo', 'Napoli', 'Torino', 'Trento', 'Roma', \"L'Aquila\", 'Potenza',\n",
    "       'Perugia', 'Campobasso', 'Firenze', 'Cagliari', 'Venezia', 'Cosenza',\n",
    "       'Ancona', 'Trieste', 'Aosta','OR-140999', 'OR-145009', 'OR-139999',\n",
    "       'OR-145999', 'OR-130099', 'OR-101003', 'OR-130121', 'OR-130111',\n",
    "       'OR-130131', 'OR-101002', 'OR-180002', 'OSA-180002']], index = X_train_val_destandardized.index)\n",
    "\n",
    "X_test_destandardized = pd.DataFrame(np.array(X_test_destandardized), columns=[['Number of Lawyers',\n",
    "     'Number of Legal Parties', 'Value formatted',\n",
    "       'Unified Contribution formatted', 'Tax Related','Milano', 'Bari', 'Bologna', 'Genova',\n",
    "       'Palermo', 'Napoli', 'Torino', 'Trento', 'Roma', \"L'Aquila\", 'Potenza',\n",
    "       'Perugia', 'Campobasso', 'Firenze', 'Cagliari', 'Venezia', 'Cosenza',\n",
    "       'Ancona', 'Trieste', 'Aosta','OR-140999', 'OR-145009', 'OR-139999',\n",
    "       'OR-145999', 'OR-130099', 'OR-101003', 'OR-130121', 'OR-130111',\n",
    "       'OR-130131', 'OR-101002', 'OR-180002', 'OSA-180002']], index = X_test_destandardized.index)"
   ]
  },
  {
   "cell_type": "code",
   "execution_count": null,
   "id": "28a598fc",
   "metadata": {},
   "outputs": [],
   "source": [
    "# y_pred_MARS = np.array(pd.read_excel('y_pred.xlsx')).ravel()\n",
    "\n",
    "# data_for_plotting = pd.DataFrame({'y_true':np.concatenate([np.array(y_test),np.array(y_train_val)]).ravel(),\n",
    "#  'y_pred_rnd_for_no_grid':np.concatenate([np.array(rnd_reg.predict(X_test)),np.array(rnd_reg.predict(X_train_val))]),\n",
    "# 'y_pred_MARS':y_pred_MARS,\n",
    "#  'Value formatted':np.array(pd.concat([X_test_destandardized['Value formatted'], X_train_val_destandardized['Value formatted']], axis=0)).ravel(),\n",
    "#  'Unified contribution formatted':np.array(pd.concat([X_test_destandardized['Unified Contribution formatted'], X_train_val_destandardized['Unified Contribution formatted']], axis=0)).ravel(),\n",
    "# 'train_test':np.concatenate([np.repeat('test',y_test.shape[0]),np.repeat('train',y_train_val.shape[0])])})\n",
    "\n",
    "# data_for_plotting.to_csv('data_for_plotting.csv')"
   ]
  },
  {
   "cell_type": "markdown",
   "id": "fe76ad9d",
   "metadata": {
    "id": "fe76ad9d"
   },
   "source": [
    "## <a style=background:yellow;color:black id='xgboost'> XGBoost</a>"
   ]
  },
  {
   "cell_type": "code",
   "execution_count": 25,
   "metadata": {},
   "outputs": [],
   "source": [
    "import xgboost as xgb\n",
    "from sklearn.metrics import mean_absolute_error"
   ]
  },
  {
   "cell_type": "code",
   "execution_count": 70,
   "metadata": {},
   "outputs": [],
   "source": [
    "params = {\n",
    "    'booster': 'gbtree',\n",
    "    'learning_rate': 0.05,\n",
    "    'objective': 'reg:linear',\n",
    "    'eval_metric': 'mae',\n",
    "    'eta': 0.01,\n",
    "    'subsample': 0.8,\n",
    "    'colsample_bytree': 0.5,\n",
    "    'tree_method': 'exact',\n",
    "    'verbosity': 0,\n",
    "    'max_depth': 10,\n",
    "}\n",
    "\n",
    "# Define the dataset for xgboost\n",
    "dtrain = xgb.DMatrix(X_train, label=y_train)\n",
    "dval = xgb.DMatrix(X_val, label=y_val)\n",
    "\n",
    "# # Define the learning rate schedule\n",
    "# def learning_rate_schedule(iteration):\n",
    "#     if iteration < 100:\n",
    "#         return 0.1\n",
    "#     elif 100 <= iteration < 200:\n",
    "#         return 0.01\n",
    "#     else:\n",
    "#         return 0.001\n",
    "\n",
    "# # Define the callback to update the learning rate\n",
    "# def update_learning_rate(env):\n",
    "#     lr = learning_rate_schedule(env.iteration)\n",
    "#     env.model.params['learning_rate'] = lr\n",
    "\n",
    "# Define the stopping criteria\n",
    "early_stopping_rounds = 50\n",
    "\n",
    "# Train the model with early stopping\n",
    "# model = xgb.train(params, dtrain, num_boost_round=500, evals=[(dval, 'val')], early_stopping_rounds=early_stopping_rounds, verbose_eval=False, callbacks=[update_learning_rate])\n",
    "model = xgb.train(params, dtrain, num_boost_round=1000, evals=[(dval, 'val')], early_stopping_rounds=early_stopping_rounds, verbose_eval=False)\n"
   ]
  },
  {
   "cell_type": "code",
   "execution_count": 72,
   "metadata": {},
   "outputs": [],
   "source": [
    "# model.save_model(\"../models/xgb_train_s.model\")"
   ]
  },
  {
   "cell_type": "code",
   "execution_count": 73,
   "metadata": {},
   "outputs": [
    {
     "name": "stdout",
     "output_type": "stream",
     "text": [
      "805.6419785217511\n"
     ]
    }
   ],
   "source": [
    "# xgb_model = xgb.Booster()\n",
    "# xgb_model.load_model('../models/xgb_train_s.model')\n",
    "\n",
    "dtest = xgb.DMatrix(X_test)\n",
    "y_pred_test = model.predict(dtest)\n",
    "print(mean_absolute_error(y_pred_test,y_test))"
   ]
  },
  {
   "cell_type": "code",
   "execution_count": 75,
   "metadata": {},
   "outputs": [],
   "source": [
    "# data_for_plotting = pd.read_csv('../DATA/data_for_plotting.csv')\n",
    "# dtrain_val = xgb.DMatrix(X_train_val)\n",
    "# data_for_plotting['y_pred_xgb'] = np.concatenate([np.array(model.predict(dtest)),np.array(model.predict(dtrain_val))])\n",
    "# data_for_plotting.to_csv('../DATA/data_for_plotting.csv')\n",
    "# data_for_plotting = pd.read_csv('../DATA/data_for_plotting.csv')\n",
    "# data_for_plotting.to_excel('../DATA/data_for_plotting.xlsx')"
   ]
  },
  {
   "attachments": {},
   "cell_type": "markdown",
   "id": "37bce5c1",
   "metadata": {},
   "source": [
    "## <a style=background:yellow;color:black id='neural_network'> Neural Network </a>"
   ]
  },
  {
   "cell_type": "code",
   "execution_count": 11,
   "id": "91b150b3",
   "metadata": {},
   "outputs": [],
   "source": [
    "import tensorflow as tf\n",
    "from tensorflow import keras\n",
    "import os\n",
    "from sklearn.metrics import mean_absolute_error"
   ]
  },
  {
   "attachments": {},
   "cell_type": "markdown",
   "metadata": {},
   "source": [
    "The following chunk is for reproducibility purposes. It is not necessary to run it. Moreover, keras.backend.clear_session() is useful in cases where you want to start a new session with a fresh set of variables, or if you want to clear the session to free up memory."
   ]
  },
  {
   "cell_type": "code",
   "execution_count": 12,
   "id": "823022a4",
   "metadata": {},
   "outputs": [],
   "source": [
    "tf.random.set_seed(42)\n",
    "keras.backend.clear_session() \n",
    "np.random.seed(42)"
   ]
  },
  {
   "attachments": {},
   "cell_type": "markdown",
   "metadata": {},
   "source": [
    "In the following chunk we have the learning rate scheduler of the neural network (for the first 3 epochs it is equal to the lr defined in the .compile() method and afterwords at each epoch it decreases of lr*exp(-0.025)). Moreover there is an early stopping callback and a tensorboard callback. The tensorboard callback is used to visualize the training process in Tensorboard. The early stopping callback is used to stop the training process when the validation loss doesn't decrease for 10 epochs. The get_run_logdir function is used to create a unique subdirectory in which to save the Tensorboard log files for each training run. This is necessary to avoid problems when you launch multiple Tensorboard instances at the same time.\n",
    "\n",
    "The histogram_freq parameter in the TensorBoard callback of Keras determines how often (in number of epochs) to compute activation and weight histograms for the layers of the model. If set to 1, histograms will be computed after every epoch. If set to 0, histograms will not be computed. If set to a value greater than 1, histograms will be computed every histogram_freq epochs."
   ]
  },
  {
   "cell_type": "code",
   "execution_count": 13,
   "id": "e616b741",
   "metadata": {},
   "outputs": [],
   "source": [
    "def scheduler(epoch, lr):\n",
    "    if epoch < 3:\n",
    "        return lr\n",
    "    else:\n",
    "        return lr * tf.math.exp(-0.025)\n",
    "\n",
    "def get_run_logdir(root_logdir, model_name):\n",
    "    import time\n",
    "    run_id = time.strftime('run_%Y_%m_%d-%H_%M_%S')\n",
    "    return os.path.join(root_logdir, model_name+'_'+run_id)\n",
    "\n",
    "model_name = input('Enter model name: ')\n",
    "root_logdir = os.path.join(os.curdir,'..', 'my_logs')\n",
    "run_logdir = get_run_logdir(root_logdir, model_name)\n",
    "\n",
    "lr_schedule_cb = tf.keras.callbacks.LearningRateScheduler(scheduler)\n",
    "early_stop_cb = tf.keras.callbacks.EarlyStopping(patience=10, restore_best_weights=True)\n",
    "tensorboard_cb = keras.callbacks.TensorBoard(run_logdir,\n",
    "                                            histogram_freq=1)"
   ]
  },
  {
   "cell_type": "code",
   "execution_count": null,
   "id": "e4dc5342",
   "metadata": {},
   "outputs": [],
   "source": [
    "model = keras.models.Sequential([\n",
    "    keras.layers.Dense(64, activation=\"relu\", kernel_initializer=\"he_normal\",input_shape=X_train.shape[1:]),\n",
    "    keras.layers.Dense(128, activation='relu', kernel_initializer=\"he_normal\"),\n",
    "    keras.layers.Dense(64, activation='relu', kernel_initializer=\"he_normal\"),\n",
    "    keras.layers.Dense(30, activation=\"relu\", kernel_initializer=\"he_normal\"),\n",
    "    keras.layers.Dense(1)\n",
    "])\n",
    "\n",
    "model.compile(loss='mae', optimizer=keras.optimizers.Adam(learning_rate=0.015))"
   ]
  },
  {
   "cell_type": "code",
   "execution_count": null,
   "id": "eae17809",
   "metadata": {
    "id": "eae17809"
   },
   "outputs": [],
   "source": [
    "history = model.fit(X_train, y_train, epochs=100, validation_data=(X_val, y_val),callbacks=[tensorboard_cb, lr_schedule_cb, early_stop_cb])"
   ]
  },
  {
   "cell_type": "code",
   "execution_count": 22,
   "metadata": {},
   "outputs": [],
   "source": [
    "# model.save('../models/NeuralNet_train_s.h5')"
   ]
  },
  {
   "cell_type": "code",
   "execution_count": null,
   "id": "73ecaf48",
   "metadata": {
    "id": "73ecaf48"
   },
   "outputs": [],
   "source": [
    "!tensorboard --logdir=../my_logs --port=6006"
   ]
  },
  {
   "cell_type": "code",
   "execution_count": null,
   "id": "e77ff69f",
   "metadata": {},
   "outputs": [],
   "source": [
    "mean_absolute_error(y_test, model.predict(X_test))"
   ]
  },
  {
   "cell_type": "code",
   "execution_count": null,
   "id": "4e3ba329",
   "metadata": {},
   "outputs": [],
   "source": [
    "# data_for_plotting = pd.read_excel('data_for_plotting.xlsx')\n",
    "# data_for_plotting['y_pred_neural_network_oversamp'] = np.concatenate([np.array(model.predict(X_test)),np.array(model.predict(X_train_val))])\n",
    "# data_for_plotting.to_excel('data_for_plotting.xlsx')"
   ]
  },
  {
   "attachments": {},
   "cell_type": "markdown",
   "metadata": {},
   "source": [
    "### <a style=background:lightgreen;color:black> Neural Network with Pytorch </a>"
   ]
  },
  {
   "cell_type": "code",
   "execution_count": 103,
   "metadata": {},
   "outputs": [],
   "source": [
    "import torch\n",
    "import torch.nn as nn\n",
    "import torch.nn.functional as F\n",
    "\n",
    "class RegressioNet(nn.Module):\n",
    "    def __init__(self, input_dim, hidden_dims_vector, output_dim):\n",
    "        super(RegressioNet, self).__init__()\n",
    "        self.input_dim = input_dim\n",
    "        self.hidden_dims_vector = hidden_dims_vector\n",
    "        self.output_dim = output_dim\n",
    "        self.fc1 = nn.Linear(self.input_dim, self.hidden_dims_vector[0])\n",
    "        self.fc2 = nn.Linear(self.hidden_dims_vector[0], self.hidden_dims_vector[1])\n",
    "        self.fc3 = nn.Linear(self.hidden_dims_vector[1], self.hidden_dims_vector[2])\n",
    "        self.fc4 = nn.Linear(self.hidden_dims_vector[2], self.hidden_dims_vector[3])\n",
    "        self.fc5 = nn.Linear(self.hidden_dims_vector[3], self.output_dim)\n",
    "        self.batch_norm = nn.BatchNorm1d(self.hidden_dims_vector[0])\n",
    "        self.criterion = nn.L1Loss()\n",
    "        self.optimizer = torch.optim.Adam(self.parameters(), lr=0.001)\n",
    "        self.scheduler = torch.optim.lr_scheduler.ReduceLROnPlateau(self.optimizer, factor=0.1, patience=5)\n",
    "        \n",
    "    def forward(self, x):\n",
    "        x = F.relu(self.fc1(x))\n",
    "        x = F.relu(self.fc2(x))\n",
    "        x = F.relu(self.fc3(x))\n",
    "        x = F.relu(self.fc4(x))\n",
    "        x = self.fc5(x)\n",
    "        return x\n",
    "    \n",
    "    def fit(self, X_train, y_train, X_val, y_val, epochs, batch_size, patience):\n",
    "        self.train()\n",
    "        best_val_loss = float('inf')\n",
    "        counter_patience = 0\n",
    "        best_model_state = None\n",
    "        for epoch in range(epochs):\n",
    "            running_loss_train = 0\n",
    "            for i in range(0, X_train.shape[0], batch_size):\n",
    "                self.optimizer.zero_grad()\n",
    "                X_train_batch = X_train[i:i+batch_size]\n",
    "                y_train_batch = y_train[i:i+batch_size]\n",
    "                y_train_pred = self.forward(X_train_batch)\n",
    "                loss_train = self.criterion(y_train_pred, y_train_batch)\n",
    "                loss_train.backward()\n",
    "                running_loss_train += loss_train * X_train_batch.size(0)\n",
    "                self.optimizer.step()\n",
    "            epoch_loss = running_loss_train / X_train.shape[0]\n",
    "            self.scheduler.step(epoch_loss)\n",
    "\n",
    "            self.eval()\n",
    "            with torch.no_grad():\n",
    "                y_val_pred = self.forward(X_val)\n",
    "                loss_val = self.criterion(y_val_pred, y_val)\n",
    "            \n",
    "                if loss_val < best_val_loss:\n",
    "                    best_val_loss = loss_val\n",
    "                    counter_patience = 0\n",
    "                    best_model_state = self.state_dict()\n",
    "                else:\n",
    "                    counter_patience += 1\n",
    "\n",
    "            if counter_patience >= patience:\n",
    "                print(f\"Stopping early after {epoch+1} epochs with best validation loss of {best_val_loss:.4f}\")\n",
    "                self.load_state_dict(best_model_state)\n",
    "                return self\n",
    "            \n",
    "            if (epoch + 1) % 5 == 0:\n",
    "                print(f\"Epoch {epoch+1}, train loss: {epoch_loss:.4f}, val loss: {loss_val:.4f}\")\n",
    "        \n",
    "        self.load_state_dict(best_model_state)\n",
    "        return self\n",
    "    \n",
    "    def predict(self, X):\n",
    "        self.eval()\n",
    "        with torch.no_grad():\n",
    "            y_pred = self.forward(X)\n",
    "        return y_pred\n",
    "         "
   ]
  },
  {
   "cell_type": "code",
   "execution_count": 104,
   "metadata": {},
   "outputs": [],
   "source": [
    "torch_nn_model = RegressioNet(input_dim=X_train.shape[1], hidden_dims_vector=[64, 128, 64, 30], output_dim=1)"
   ]
  },
  {
   "cell_type": "code",
   "execution_count": 94,
   "metadata": {},
   "outputs": [],
   "source": [
    "X_train_tensor = torch.Tensor(X_train.to_numpy())\n",
    "y_train_tensor = torch.Tensor(y_train.to_numpy())\n",
    "X_val_tensor = torch.Tensor(X_val.to_numpy())\n",
    "y_val_tensor = torch.Tensor(y_val.to_numpy())"
   ]
  },
  {
   "cell_type": "code",
   "execution_count": 105,
   "metadata": {},
   "outputs": [
    {
     "name": "stdout",
     "output_type": "stream",
     "text": [
      "Epoch 5, train loss: 799.5844, val loss: 771.1795\n",
      "Epoch 10, train loss: 773.7317, val loss: 760.5770\n",
      "Epoch 15, train loss: 755.6249, val loss: 752.5309\n",
      "Epoch 20, train loss: 748.3757, val loss: 749.5948\n",
      "Epoch 25, train loss: 743.9448, val loss: 749.1926\n",
      "Epoch 30, train loss: 740.8941, val loss: 748.3987\n",
      "Epoch 35, train loss: 737.5598, val loss: 745.8500\n",
      "Epoch 40, train loss: 734.2260, val loss: 742.1061\n",
      "Epoch 45, train loss: 732.2869, val loss: 741.0244\n",
      "Epoch 50, train loss: 729.4374, val loss: 739.9911\n",
      "Epoch 55, train loss: 727.6086, val loss: 741.5348\n",
      "Epoch 60, train loss: 725.3690, val loss: 740.0701\n",
      "Epoch 65, train loss: 724.2121, val loss: 738.1782\n",
      "Epoch 70, train loss: 722.4235, val loss: 738.5695\n",
      "Epoch 75, train loss: 721.1548, val loss: 736.5424\n",
      "Epoch 80, train loss: 719.6270, val loss: 739.5966\n",
      "Epoch 85, train loss: 717.4664, val loss: 743.9574\n",
      "Epoch 90, train loss: 716.5593, val loss: 738.9031\n",
      "Stopping early after 95 epochs with best validation loss of 736.5424\n"
     ]
    },
    {
     "data": {
      "text/plain": [
       "RegressioNet(\n",
       "  (fc1): Linear(in_features=37, out_features=64, bias=True)\n",
       "  (fc2): Linear(in_features=64, out_features=128, bias=True)\n",
       "  (fc3): Linear(in_features=128, out_features=64, bias=True)\n",
       "  (fc4): Linear(in_features=64, out_features=30, bias=True)\n",
       "  (fc5): Linear(in_features=30, out_features=1, bias=True)\n",
       "  (batch_norm): BatchNorm1d(64, eps=1e-05, momentum=0.1, affine=True, track_running_stats=True)\n",
       "  (criterion): L1Loss()\n",
       ")"
      ]
     },
     "execution_count": 105,
     "metadata": {},
     "output_type": "execute_result"
    }
   ],
   "source": [
    "torch_nn_model.fit(X_train_tensor, y_train_tensor,X_val_tensor,y_val_tensor, epochs=300, batch_size=32, patience = 20)"
   ]
  },
  {
   "cell_type": "code",
   "execution_count": 106,
   "metadata": {},
   "outputs": [
    {
     "name": "stdout",
     "output_type": "stream",
     "text": [
      "tensor(764.8514)\n"
     ]
    }
   ],
   "source": [
    "X_test_tensor = torch.Tensor(X_test.to_numpy())\n",
    "y_test_tensor = torch.Tensor(y_test.to_numpy())\n",
    "\n",
    "with torch.no_grad():\n",
    "    y_pred = torch_nn_model.predict(X_test_tensor)\n",
    "    test_loss = nn.L1Loss()(y_pred, y_test_tensor)\n",
    "\n",
    "print(test_loss)"
   ]
  },
  {
   "attachments": {},
   "cell_type": "markdown",
   "metadata": {},
   "source": [
    "## <a style=background:yellow;color:black> Downsampling and Upsampling </a>"
   ]
  },
  {
   "attachments": {},
   "cell_type": "markdown",
   "metadata": {},
   "source": [
    "In this chapter we are going to try to solve the unbalance problem with downsampling and upsampling."
   ]
  },
  {
   "cell_type": "code",
   "execution_count": 1,
   "metadata": {},
   "outputs": [],
   "source": [
    "import numpy as np\n",
    "import pandas as pd\n",
    "from sklearn.model_selection import train_test_split\n",
    "from sklearn.preprocessing import StandardScaler"
   ]
  },
  {
   "cell_type": "code",
   "execution_count": 2,
   "metadata": {},
   "outputs": [],
   "source": [
    "data = pd.read_csv('../DATA/final_train_s_dummies.csv')\n",
    "\n",
    "X_y = data[['Tax Related', 'Number of Lawyers',\n",
    "     'Number of Legal Parties', 'Value formatted',\n",
    "       'Unified Contribution formatted', 'Milano', 'Bari', 'Bologna', 'Genova',\n",
    "       'Palermo', 'Napoli', 'Torino', 'Trento', 'Roma', \"L'Aquila\", 'Potenza',\n",
    "       'Perugia', 'Campobasso', 'Firenze', 'Cagliari', 'Venezia', 'Cosenza',\n",
    "       'Ancona', 'Trieste', 'Aosta','OR-140999', 'OR-145009', 'OR-139999',\n",
    "       'OR-145999', 'OR-130099', 'OR-101003', 'OR-130121', 'OR-130111',\n",
    "       'OR-130131', 'OR-101002', 'OR-180002', 'OSA-180002', 'Settlement']]\n",
    "\n"
   ]
  },
  {
   "cell_type": "code",
   "execution_count": null,
   "metadata": {},
   "outputs": [],
   "source": [
    "# This chunk takes about 20 seconds to run\n",
    "ranges_value = []\n",
    "for i in range(X_y.shape[0]):\n",
    "    if (X_y.iloc[i]['Value formatted'] >= 0) & (X_y.iloc[i]['Value formatted'] < 1) :\n",
    "         ranges_value.append('[0-1)')\n",
    "    elif (X_y.iloc[i]['Value formatted'] >= 1) & (X_y.iloc[i]['Value formatted'] <= 1000) :\n",
    "         ranges_value.append('[1,1000]')\n",
    "    elif (X_y.iloc[i]['Value formatted'] > 1000) & (X_y.iloc[i]['Value formatted'] <= 1100) :\n",
    "         ranges_value.append('(1000,1100]')\n",
    "    elif (X_y.iloc[i]['Value formatted'] > 1100) & (X_y.iloc[i]['Value formatted'] <= 5200) :\n",
    "         ranges_value.append('(1100,5200]')\n",
    "    elif (X_y.iloc[i]['Value formatted'] > 5200) & (X_y.iloc[i]['Value formatted'] <= 26000) :\n",
    "         ranges_value.append('(5200,26000]')\n",
    "    elif (X_y.iloc[i]['Value formatted'] > 26000) & (X_y.iloc[i]['Value formatted'] <= 52000) :\n",
    "         ranges_value.append('(26000,52000]')\n",
    "    elif (X_y.iloc[i]['Value formatted'] > 52000) & (X_y.iloc[i]['Value formatted'] <= 260000) :\n",
    "         ranges_value.append('(52000,260000]')\n",
    "    elif (X_y.iloc[i]['Value formatted'] > 260000) & (X_y.iloc[i]['Value formatted'] <= 520000) :\n",
    "         ranges_value.append('(260000,520000]')\n",
    "    elif (X_y.iloc[i]['Value formatted'] > 520000):\n",
    "         ranges_value.append('(520000,inf)')\n",
    "    else:\n",
    "        ranges_value.append('error')\n",
    "\n",
    "X_y['ranges_value']=ranges_value\n"
   ]
  },
  {
   "cell_type": "code",
   "execution_count": 4,
   "metadata": {},
   "outputs": [
    {
     "data": {
      "text/plain": [
       "ranges_value\n",
       "(1000,1100]        5369\n",
       "(1100,5200]       48556\n",
       "(26000,52000]        61\n",
       "(5200,26000]       9539\n",
       "(52000,260000]        8\n",
       "(520000,inf)          2\n",
       "[0-1)               748\n",
       "[1,1000]          32308\n",
       "dtype: int64"
      ]
     },
     "execution_count": 4,
     "metadata": {},
     "output_type": "execute_result"
    }
   ],
   "source": [
    "X_y.groupby(['ranges_value']).size()"
   ]
  },
  {
   "cell_type": "code",
   "execution_count": 5,
   "metadata": {},
   "outputs": [
    {
     "name": "stderr",
     "output_type": "stream",
     "text": [
      "/var/folders/j3/6zzd1jr16pb3yxx70_376pmw0000gn/T/ipykernel_6407/3290639181.py:3: SettingWithCopyWarning: \n",
      "A value is trying to be set on a copy of a slice from a DataFrame\n",
      "\n",
      "See the caveats in the documentation: https://pandas.pydata.org/pandas-docs/stable/user_guide/indexing.html#returning-a-view-versus-a-copy\n",
      "  X_y.drop(['Settlement'], axis=1, inplace=True)\n"
     ]
    }
   ],
   "source": [
    "y = X_y['Settlement']\n",
    "\n",
    "X_y.drop(['Settlement'], axis=1, inplace=True)\n",
    "\n",
    "X_to_scale = X_y[['Number of Lawyers','Number of Legal Parties', 'Value formatted',\n",
    "       'Unified Contribution formatted']]\n",
    "\n",
    "X_not_to_scale = X_y[['Tax Related','Milano', 'Bari', 'Bologna', 'Genova',\n",
    "       'Palermo', 'Napoli', 'Torino', 'Trento', 'Roma', \"L'Aquila\", 'Potenza',\n",
    "       'Perugia', 'Campobasso', 'Firenze', 'Cagliari', 'Venezia', 'Cosenza',\n",
    "       'Ancona', 'Trieste', 'Aosta','OR-140999', 'OR-145009', 'OR-139999',\n",
    "       'OR-145999', 'OR-130099', 'OR-101003', 'OR-130121', 'OR-130111',\n",
    "       'OR-130131', 'OR-101002', 'OR-180002', 'OSA-180002', 'ranges_value']]\n",
    "\n",
    "\n",
    "y = pd.DataFrame(y)\n",
    "std_scale = StandardScaler()\n",
    "X_scaled = std_scale.fit_transform(X_to_scale)\n",
    "X_scaled_df = pd.DataFrame(X_scaled, columns=X_to_scale.columns)\n",
    "X_scaled_df = pd.concat([X_scaled_df, X_not_to_scale], axis=1)\n",
    "X_train_val, X_test, y_train_val, y_test = train_test_split(X_scaled_df, y, random_state=0,\n",
    "                                                            test_size=0.1)\n",
    "X_test.drop(['ranges_value'], axis=1, inplace=True)\n",
    "X_y_train_val = pd.concat([X_train_val,y_train_val],axis=1)\n"
   ]
  },
  {
   "attachments": {},
   "cell_type": "markdown",
   "metadata": {},
   "source": [
    "In the following chunk we're going to:\n",
    "\n",
    "*  build a downsampled dataset (the four classes with the highest number of observations will be downsampled to 4831 that is the number of observations of the class with less observations among them);\n",
    "* build an upsampled dataset (the (5200, 26000] class will be upsampled to 29000 observations). The reason is that for this class we have the highest MAE considering the number of observations per class."
   ]
  },
  {
   "cell_type": "code",
   "execution_count": null,
   "metadata": {},
   "outputs": [],
   "source": [
    "downsampled_df = pd.DataFrame(columns=X_y_train_val.columns)\n",
    "upsampled_df = pd.DataFrame(columns=X_y_train_val.columns)\n",
    "\n",
    "for i in X_y_train_val['ranges_value'].unique():\n",
    "    if i in ['[1,1000]','(1000,1100]','(1100,5200]']:\n",
    "        downsampled_df = downsampled_df.append(X_y_train_val[X_y_train_val['ranges_value']==i].sample(4831, replace=True))\n",
    "        upsampled_df = upsampled_df.append(X_y_train_val[X_y_train_val['ranges_value']==i])\n",
    "    elif i == '(5200,26000]':\n",
    "        downsampled_df = downsampled_df.append(X_y_train_val[X_y_train_val['ranges_value']==i].sample(4831, replace=True))\n",
    "        upsampled_df = upsampled_df.append(X_y_train_val[X_y_train_val['ranges_value']==i].sample(29000, replace=True))\n",
    "    else:\n",
    "        downsampled_df = downsampled_df.append(X_y_train_val[X_y_train_val['ranges_value']==i])\n",
    "        upsampled_df = upsampled_df.append(X_y_train_val[X_y_train_val['ranges_value']==i])"
   ]
  },
  {
   "attachments": {},
   "cell_type": "markdown",
   "metadata": {},
   "source": [
    "In the following chunk we have the learning rate scheduler of the neural network (for the first 3 epochs it is equal to the lr defined in the .compile and afterwords at each epoch it decreases of lr*exp(-0.025)). Moreover there is an early stopping callback and a tensorboard callback. The tensorboard callback is used to visualize the training process in Tensorboard. The early stopping callback is used to stop the training process when the validation loss doesn't decrease for 10 epochs. The get_run_logdir function is used to create a unique subdirectory in which to save the Tensorboard log files for each training run. This is necessary to avoid problems when you launch multiple Tensorboard instances at the same time."
   ]
  },
  {
   "cell_type": "code",
   "execution_count": 7,
   "metadata": {},
   "outputs": [],
   "source": [
    "columns_to_convert = ['Tax Related', 'Milano', 'Bari',\n",
    "       'Bologna', 'Genova', 'Palermo', 'Napoli', 'Torino', 'Trento', 'Roma',\n",
    "       \"L'Aquila\", 'Potenza', 'Perugia', 'Campobasso', 'Firenze', 'Cagliari',\n",
    "       'Venezia', 'Cosenza', 'Ancona', 'Trieste', 'Aosta', 'OR-140999',\n",
    "       'OR-145009', 'OR-139999', 'OR-145999', 'OR-130099', 'OR-101003',\n",
    "       'OR-130121', 'OR-130111', 'OR-130131', 'OR-101002', 'OR-180002',\n",
    "       'OSA-180002']\n",
    "\n",
    "for column in columns_to_convert:\n",
    "    downsampled_df[column] = downsampled_df[column].astype('int64')\n",
    "    upsampled_df[column] = upsampled_df[column].astype('int64')"
   ]
  },
  {
   "attachments": {},
   "cell_type": "markdown",
   "metadata": {},
   "source": [
    "The following chunk builds and fit a neural network on the downsampled dataset."
   ]
  },
  {
   "cell_type": "code",
   "execution_count": null,
   "id": "e616b741",
   "metadata": {},
   "outputs": [],
   "source": [
    "import tensorflow as tf\n",
    "from tensorflow import keras\n",
    "import os\n",
    "from sklearn.model_selection import train_test_split\n",
    "from sklearn.metrics import mean_absolute_error\n",
    "\n",
    "# Set random seed and clear the session\n",
    "tf.random.set_seed(42)\n",
    "keras.backend.clear_session()\n",
    "\n",
    "# Callbacks\n",
    "def scheduler(epoch, lr):\n",
    "    if epoch < 3:\n",
    "        return lr\n",
    "    else:\n",
    "        return lr * tf.math.exp(-0.025)\n",
    "\n",
    "def get_run_logdir(root_logdir, model_name):\n",
    "    import time\n",
    "    run_id = time.strftime('run_%Y_%m_%d-%H_%M_%S')\n",
    "    return os.path.join(root_logdir, model_name+'_'+run_id)\n",
    "\n",
    "model_name = input('Enter model name: ')\n",
    "root_logdir = os.path.join(os.curdir,'..', 'my_logs')\n",
    "run_logdir = get_run_logdir(root_logdir, model_name)\n",
    "\n",
    "lr_schedule_cb = tf.keras.callbacks.LearningRateScheduler(scheduler)\n",
    "early_stop_cb = tf.keras.callbacks.EarlyStopping(patience=10, restore_best_weights=True)\n",
    "tensorboard_cb = keras.callbacks.TensorBoard(run_logdir,\n",
    "                                            histogram_freq=1)\n",
    "\n",
    "# Model design\n",
    "model1 = keras.models.Sequential([\n",
    "    keras.layers.Dense(64, activation=\"relu\", kernel_initializer=\"he_normal\",input_shape=(37,)),\n",
    "    keras.layers.Dropout(0.1),\n",
    "    keras.layers.Dense(128, activation='relu', kernel_initializer=\"he_normal\"),\n",
    "    keras.layers.Dropout(0.1),\n",
    "    keras.layers.Dense(64, activation='relu', kernel_initializer=\"he_normal\"),\n",
    "    keras.layers.Dropout(0.1),\n",
    "    keras.layers.Dense(30, activation=\"relu\", kernel_initializer=\"he_normal\"),\n",
    "    keras.layers.Dense(1)\n",
    "])\n",
    "\n",
    "model1.compile(loss='mae', optimizer=keras.optimizers.Adam(learning_rate=0.015))\n",
    "\n",
    "# Split in train and validation set\n",
    "train_downsampled, val_downsampled = train_test_split(downsampled_df, test_size=0.2, random_state=42)\n",
    "\n",
    "# Fitting\n",
    "history = model1.fit(train_downsampled.drop(columns=['Settlement','ranges_value']),\n",
    "                     train_downsampled['Settlement'],\n",
    "                      epochs=100,\n",
    "                       validation_data=(val_downsampled.drop(columns=['Settlement','ranges_value']),\n",
    "                        val_downsampled['Settlement']),\n",
    "                       callbacks=[tensorboard_cb, lr_schedule_cb, early_stop_cb])\n",
    "\n",
    "# MAE on the test set\n",
    "mean_absolute_error(y_test, model1.predict(X_test))"
   ]
  },
  {
   "attachments": {},
   "cell_type": "markdown",
   "metadata": {},
   "source": [
    "The following chunk builds and fit a neural network on the upsampled dataset."
   ]
  },
  {
   "cell_type": "code",
   "execution_count": null,
   "id": "eae17809",
   "metadata": {
    "id": "eae17809"
   },
   "outputs": [],
   "source": [
    "import tensorflow as tf\n",
    "from tensorflow import keras\n",
    "import os\n",
    "from sklearn.model_selection import train_test_split\n",
    "from sklearn.metrics import mean_absolute_error\n",
    "\n",
    "# Set random seed and clear the session\n",
    "tf.random.set_seed(42)\n",
    "keras.backend.clear_session()\n",
    "\n",
    "# Callbacks\n",
    "def scheduler(epoch, lr):\n",
    "    if epoch < 3:\n",
    "        return lr\n",
    "    else:\n",
    "        return lr * tf.math.exp(-0.025)\n",
    "\n",
    "def get_run_logdir(root_logdir, model_name):\n",
    "    import time\n",
    "    run_id = time.strftime('run_%Y_%m_%d-%H_%M_%S')\n",
    "    return os.path.join(root_logdir, model_name+'_'+run_id)\n",
    "\n",
    "model_name = input('Enter model name: ')\n",
    "root_logdir = os.path.join(os.curdir,'..', 'my_logs')\n",
    "run_logdir = get_run_logdir(root_logdir, model_name)\n",
    "\n",
    "lr_schedule_cb = tf.keras.callbacks.LearningRateScheduler(scheduler)\n",
    "early_stop_cb = tf.keras.callbacks.EarlyStopping(patience=10, restore_best_weights=True)\n",
    "tensorboard_cb = keras.callbacks.TensorBoard(run_logdir,\n",
    "                                            histogram_freq=1)\n",
    "\n",
    "# Model design\n",
    "model = keras.models.Sequential([\n",
    "    keras.layers.Dense(64, activation=\"relu\", kernel_initializer=\"he_normal\",input_shape=(37,)),\n",
    "    keras.layers.Dropout(0.1),\n",
    "    keras.layers.Dense(128, activation='relu', kernel_initializer=\"he_normal\"),\n",
    "    keras.layers.Dropout(0.1),\n",
    "    keras.layers.Dense(64, activation='relu', kernel_initializer=\"he_normal\"),\n",
    "    keras.layers.Dropout(0.1),\n",
    "    keras.layers.Dense(30, activation=\"relu\", kernel_initializer=\"he_normal\"),\n",
    "    keras.layers.Dense(1)\n",
    "])\n",
    "\n",
    "model.compile(loss='mae', optimizer=keras.optimizers.Adam(learning_rate=0.015))\n",
    "\n",
    "# Split in train and validation set\n",
    "train_downsampled, val_downsampled = train_test_split(upsampled_df, test_size=0.2, random_state=42)\n",
    "\n",
    "# Fitting\n",
    "history = model.fit(train_downsampled.drop(columns=['Settlement','ranges_value']),\n",
    "                     train_downsampled['Settlement'],\n",
    "                      epochs=100,\n",
    "                       validation_data=(val_downsampled.drop(columns=['Settlement','ranges_value']),\n",
    "                        val_downsampled['Settlement']),\n",
    "                       callbacks=[tensorboard_cb, lr_schedule_cb, early_stop_cb])\n",
    "\n",
    "# MAE on the test set\n",
    "mean_absolute_error(y_test, model.predict(X_test))"
   ]
  },
  {
   "cell_type": "code",
   "execution_count": null,
   "id": "73ecaf48",
   "metadata": {
    "id": "73ecaf48"
   },
   "outputs": [],
   "source": [
    "# !tensorboard --logdir=../my_logs --port=6006"
   ]
  },
  {
   "attachments": {},
   "cell_type": "markdown",
   "metadata": {},
   "source": [
    "The following chunk is to fill data_for_plotting.csv with the prediction of the upsampling neural network and of the downsampling neural network."
   ]
  },
  {
   "cell_type": "code",
   "execution_count": null,
   "id": "e77ff69f",
   "metadata": {},
   "outputs": [],
   "source": [
    "# data_for_plotting = pd.read_csv('../DATA/data_for_plotting.csv')\n",
    "# data = pd.read_csv('../DATA/final_train_s_dummies.csv')\n",
    "\n",
    "# X = data[['Tax Related', 'Number of Lawyers',\n",
    "#      'Number of Legal Parties', 'Value formatted',\n",
    "#        'Unified Contribution formatted', 'Milano', 'Bari', 'Bologna', 'Genova',\n",
    "#        'Palermo', 'Napoli', 'Torino', 'Trento', 'Roma', \"L'Aquila\", 'Potenza',\n",
    "#        'Perugia', 'Campobasso', 'Firenze', 'Cagliari', 'Venezia', 'Cosenza',\n",
    "#        'Ancona', 'Trieste', 'Aosta','OR-140999', 'OR-145009', 'OR-139999',\n",
    "#        'OR-145999', 'OR-130099', 'OR-101003', 'OR-130121', 'OR-130111',\n",
    "#        'OR-130131', 'OR-101002', 'OR-180002', 'OSA-180002']]\n",
    "\n",
    "# y=data['Settlement']\n",
    "\n",
    "# X_to_scale = X[['Number of Lawyers','Number of Legal Parties', 'Value formatted',\n",
    "#        'Unified Contribution formatted']]\n",
    "\n",
    "# X_not_to_scale = X[['Tax Related','Milano', 'Bari', 'Bologna', 'Genova',\n",
    "#        'Palermo', 'Napoli', 'Torino', 'Trento', 'Roma', \"L'Aquila\", 'Potenza',\n",
    "#        'Perugia', 'Campobasso', 'Firenze', 'Cagliari', 'Venezia', 'Cosenza',\n",
    "#        'Ancona', 'Trieste', 'Aosta','OR-140999', 'OR-145009', 'OR-139999',\n",
    "#        'OR-145999', 'OR-130099', 'OR-101003', 'OR-130121', 'OR-130111',\n",
    "#        'OR-130131', 'OR-101002', 'OR-180002', 'OSA-180002']]\n",
    "       \n",
    "# from sklearn.preprocessing import StandardScaler\n",
    "# from sklearn.model_selection import train_test_split\n",
    "\n",
    "# y = pd.DataFrame(y)\n",
    "# std_scale = StandardScaler()\n",
    "# X_scaled = std_scale.fit_transform(X_to_scale)\n",
    "# X_scaled_df = pd.DataFrame(X_scaled, columns=[X_to_scale.columns])\n",
    "# X_scaled_df = pd.concat([X_scaled_df, X_not_to_scale], axis=1)\n",
    "# X_train_val, X_test, y_train_val, y_test = train_test_split(X_scaled_df, y, random_state=0,\n",
    "#                                                             test_size=0.1)\n",
    "\n",
    "# X_train, X_val, y_train, y_val = train_test_split(X_train_val, y_train_val,random_state=0,\n",
    "#                                                             test_size=0.2  )\n",
    "\n",
    "# X_train_val = pd.DataFrame(np.array(X_train_val), columns=[['Number of Lawyers',\n",
    "#      'Number of Legal Parties', 'Value formatted',\n",
    "#        'Unified Contribution formatted', 'Tax Related','Milano', 'Bari', 'Bologna', 'Genova',\n",
    "#        'Palermo', 'Napoli', 'Torino', 'Trento', 'Roma', \"L'Aquila\", 'Potenza',\n",
    "#        'Perugia', 'Campobasso', 'Firenze', 'Cagliari', 'Venezia', 'Cosenza',\n",
    "#        'Ancona', 'Trieste', 'Aosta','OR-140999', 'OR-145009', 'OR-139999',\n",
    "#        'OR-145999', 'OR-130099', 'OR-101003', 'OR-130121', 'OR-130111',\n",
    "#        'OR-130131', 'OR-101002', 'OR-180002', 'OSA-180002']], index = X_train_val.index)\n",
    "\n",
    "# X_test = pd.DataFrame(np.array(X_test), columns=[['Number of Lawyers',\n",
    "#      'Number of Legal Parties', 'Value formatted',\n",
    "#        'Unified Contribution formatted', 'Tax Related','Milano', 'Bari', 'Bologna', 'Genova',\n",
    "#        'Palermo', 'Napoli', 'Torino', 'Trento', 'Roma', \"L'Aquila\", 'Potenza',\n",
    "#        'Perugia', 'Campobasso', 'Firenze', 'Cagliari', 'Venezia', 'Cosenza',\n",
    "#        'Ancona', 'Trieste', 'Aosta','OR-140999', 'OR-145009', 'OR-139999',\n",
    "#        'OR-145999', 'OR-130099', 'OR-101003', 'OR-130121', 'OR-130111',\n",
    "#        'OR-130131', 'OR-101002', 'OR-180002', 'OSA-180002']], index = X_test.index)\n",
    "\n",
    "# data_for_plotting['y_pred_neural_network_upsamp'] = np.concatenate([np.array(model.predict(X_test)),np.array(model.predict(X_train_val))])\n",
    "# data_for_plotting['y_pred_neural_network_downsamp'] = np.concatenate([np.array(model1.predict(X_test)),np.array(model1.predict(X_train_val))])\n",
    "\n",
    "# data_for_plotting.to_csv('../DATA/data_for_plotting.csv', index=False)"
   ]
  },
  {
   "attachments": {},
   "cell_type": "markdown",
   "metadata": {},
   "source": [
    "## <a style=background:yellow;color:black> test_s predictions </a>"
   ]
  },
  {
   "cell_type": "code",
   "execution_count": 1,
   "metadata": {},
   "outputs": [
    {
     "name": "stderr",
     "output_type": "stream",
     "text": [
      "/var/folders/j3/6zzd1jr16pb3yxx70_376pmw0000gn/T/ipykernel_3490/3995180842.py:15: FutureWarning: The default value of regex will change from True to False in a future version. In addition, single character regular expressions will *not* be treated as literal strings when regex=True.\n",
      "  .str.replace('Euro ', '').str.replace('.','').str.replace(',', '.'), errors='coerce')\n",
      "/var/folders/j3/6zzd1jr16pb3yxx70_376pmw0000gn/T/ipykernel_3490/3995180842.py:20: FutureWarning: The default value of regex will change from True to False in a future version. In addition, single character regular expressions will *not* be treated as literal strings when regex=True.\n",
      "  .str.replace('Euro ', '').str.replace('.','').str.replace(',', '.'), errors='coerce')\n"
     ]
    }
   ],
   "source": [
    "import pandas as pd\n",
    "import numpy as np\n",
    "from sklearn.preprocessing import OneHotEncoder\n",
    "from sklearn.preprocessing import StandardScaler\n",
    "\n",
    "blind_test_s = pd.read_csv('../DATA/test_s.csv')\n",
    "\n",
    "\n",
    "del blind_test_s['Unnamed: 0']\n",
    "\n",
    "blind_test_s['Tax Related'] = blind_test_s['Tax Related'].replace(np.nan, 0)\n",
    "blind_test_s['Tax Related'] = blind_test_s['Tax Related'].replace(True, 1)\n",
    "\n",
    "blind_test_s['Value formatted'] = pd.to_numeric(blind_test_s['Value']\\\n",
    "    .str.replace('Euro ', '').str.replace('.','').str.replace(',', '.'), errors='coerce')\n",
    "    \n",
    "del blind_test_s['Value']\n",
    "\n",
    "blind_test_s['Unified Contribution formatted'] = pd.to_numeric(blind_test_s['Unified Contribution']\\\n",
    "    .str.replace('Euro ', '').str.replace('.','').str.replace(',', '.'), errors='coerce')\n",
    "    \n",
    "del blind_test_s['Unified Contribution']\n",
    "\n",
    "del blind_test_s['Primary Actor']\n",
    "del blind_test_s['Secondary Actor']\n",
    "del blind_test_s['Primary Defendant']\n",
    "\n",
    "city_encoder = OneHotEncoder().fit(blind_test_s[['City of the judge’s office']])\n",
    "\n",
    "blind_test_s = pd.concat([blind_test_s,\n",
    "  pd.DataFrame(city_encoder.transform(blind_test_s[['City of the judge’s office']]).toarray(),columns=city_encoder.categories_)],\n",
    "  axis=1).drop(['City of the judge’s office'],axis=1)\n",
    "\n",
    "object_encoder = OneHotEncoder().fit(blind_test_s[['Object']])\n",
    "\n",
    "blind_test_s = pd.concat([blind_test_s,\n",
    "  pd.DataFrame(object_encoder.transform(blind_test_s[['Object']]).toarray(),columns=object_encoder.categories_)],\n",
    "  axis=1).drop(['Object'],axis=1)\n",
    "\n",
    "new_var_names = []\n",
    "for var_name in blind_test_s.columns:\n",
    "    if '(' not in var_name:\n",
    "        new_var_names.append(var_name)\n",
    "    else:\n",
    "        new_var_names.append(var_name.replace('(', '').replace(')', '')\n",
    "        .replace('\\'','').replace(',','').replace('\"',''))\n",
    "new_var_names = []\n",
    "for var_name in blind_test_s.columns:\n",
    "    if type(var_name) != tuple:\n",
    "        new_var_names.append(var_name)\n",
    "    else:\n",
    "        new_var_names.append(var_name[0])\n",
    "\n",
    "blind_test_s = pd.DataFrame(blind_test_s.values, columns=new_var_names)\n",
    "\n",
    "blind_test_s = blind_test_s[['ID','Tax Related', 'Number of Lawyers',\n",
    "     'Number of Legal Parties', 'Value formatted',\n",
    "       'Unified Contribution formatted', 'Milano', 'Bari', 'Bologna', 'Genova',\n",
    "       'Palermo', 'Napoli', 'Torino', 'Trento', 'Roma', \"L'Aquila\", 'Potenza',\n",
    "       'Perugia', 'Campobasso', 'Firenze', 'Cagliari', 'Venezia', 'Cosenza',\n",
    "       'Ancona', 'Trieste', 'Aosta','OR-140999', 'OR-145009', 'OR-139999',\n",
    "       'OR-145999', 'OR-130099', 'OR-101003', 'OR-130121', 'OR-130111',\n",
    "       'OR-130131', 'OR-101002', 'OR-180002']]\n",
    "blind_test_s_to_scale = blind_test_s[['Number of Lawyers','Number of Legal Parties', 'Value formatted',\n",
    "       'Unified Contribution formatted']]\n",
    "blind_test_s_not_to_scale = blind_test_s[['ID','Tax Related','Milano', 'Bari', 'Bologna', 'Genova',\n",
    "       'Palermo', 'Napoli', 'Torino', 'Trento', 'Roma', \"L'Aquila\", 'Potenza',\n",
    "       'Perugia', 'Campobasso', 'Firenze', 'Cagliari', 'Venezia', 'Cosenza',\n",
    "       'Ancona', 'Trieste', 'Aosta','OR-140999', 'OR-145009', 'OR-139999',\n",
    "       'OR-145999', 'OR-130099', 'OR-101003', 'OR-130121', 'OR-130111',\n",
    "       'OR-130131', 'OR-101002', 'OR-180002']]\n",
    "       \n",
    "std_scale = StandardScaler()\n",
    "blind_test_s_scaled = std_scale.fit_transform(blind_test_s_to_scale)\n",
    "\n",
    "blind_test_s_scaled = pd.DataFrame(blind_test_s_scaled, columns=[blind_test_s_to_scale.columns])\n",
    "blind_test_s_scaled = pd.concat([blind_test_s_scaled, blind_test_s_not_to_scale], axis=1)\n",
    "\n",
    "new_var_names = []\n",
    "for var_name in blind_test_s_scaled.columns:\n",
    "    if '(' not in var_name:\n",
    "        new_var_names.append(var_name)\n",
    "    else:\n",
    "        new_var_names.append(var_name.replace('(', '').replace(')', '')\n",
    "        .replace('\\'','').replace(',','').replace('\"',''))\n",
    "new_var_names = []\n",
    "for var_name in blind_test_s_scaled.columns:\n",
    "    if type(var_name) != tuple:\n",
    "        new_var_names.append(var_name)\n",
    "    else:\n",
    "        new_var_names.append(var_name[0])\n",
    "\n",
    "blind_test_s_scaled = pd.DataFrame(blind_test_s_scaled.values, columns=new_var_names)"
   ]
  },
  {
   "attachments": {},
   "cell_type": "markdown",
   "metadata": {},
   "source": [
    "<a style =color:deepskyblue>**PROBLEMS:**</a> \n",
    "\n",
    "*  We have a different number of columns among the training set on which we trained the models and the blind_test_s_scaled. It is a problem because we need to have the same number of columns that we had in the training set otherwise we can't use the model to make predictions on the blind test set. We solve this problem by adding a column of zeros to the blind_test_s_scaled (whose name is the same of the missing one 'OSA-180002').\n",
    "\n",
    "* There are some NA in the blind_test_s_scaled. We solve this problem in two ways:\n",
    "    * by replacing the NA according to the table of value and unified contribution we have in the preprocessing notebook. \n",
    "    * by deleting them."
   ]
  },
  {
   "cell_type": "code",
   "execution_count": 12,
   "metadata": {},
   "outputs": [],
   "source": [
    "X_train_val_columns = ['Number of Lawyers', 'Number of Legal Parties', 'Value formatted',\n",
    "       'Unified Contribution formatted', 'Tax Related', 'Milano', 'Bari',\n",
    "       'Bologna', 'Genova', 'Palermo', 'Napoli', 'Torino', 'Trento', 'Roma',\n",
    "       \"L'Aquila\", 'Potenza', 'Perugia', 'Campobasso', 'Firenze', 'Cagliari',\n",
    "       'Venezia', 'Cosenza', 'Ancona', 'Trieste', 'Aosta', 'OR-140999',\n",
    "       'OR-145009', 'OR-139999', 'OR-145999', 'OR-130099', 'OR-101003',\n",
    "       'OR-130121', 'OR-130111', 'OR-130131', 'OR-101002', 'OR-180002',\n",
    "       'OSA-180002']"
   ]
  },
  {
   "cell_type": "code",
   "execution_count": 3,
   "metadata": {},
   "outputs": [],
   "source": [
    "for col in X_train_val_columns:\n",
    "    if col not in blind_test_s_scaled.columns:\n",
    "        blind_test_s_scaled[col] = 0.0"
   ]
  },
  {
   "attachments": {},
   "cell_type": "markdown",
   "metadata": {},
   "source": [
    "Let's first make the csv prediction with dropping the NA."
   ]
  },
  {
   "cell_type": "code",
   "execution_count": 4,
   "metadata": {},
   "outputs": [],
   "source": [
    "blind_test_s_scaled_cleaned = blind_test_s_scaled.dropna()"
   ]
  },
  {
   "cell_type": "code",
   "execution_count": null,
   "metadata": {},
   "outputs": [],
   "source": [
    "import joblib\n",
    "rnd_reg = joblib.load('../models/random_forest_train_s.sav')"
   ]
  },
  {
   "cell_type": "code",
   "execution_count": null,
   "metadata": {},
   "outputs": [],
   "source": [
    "y_pred_settlement = rnd_reg.predict(blind_test_s_scaled_cleaned.drop(['ID'], axis=1)).astype(np.float32)\n",
    "\n",
    "prediction_settlement_2 = pd.DataFrame({'ID':blind_test_s_scaled_cleaned['ID'], 'Settlement':y_pred_settlement})\n",
    "prediction_settlement_2['Settlement'] = prediction_settlement_2['Settlement'].astype(pd.np.float32)\n",
    "\n",
    "prediction_settlement_2.to_csv('../predictions/prediction_settlement_2.csv', index=False)"
   ]
  },
  {
   "attachments": {},
   "cell_type": "markdown",
   "metadata": {},
   "source": [
    "I converted the types of Settlement in float32, but once I read the saved csv, the types of Settlement are float64."
   ]
  },
  {
   "cell_type": "code",
   "execution_count": 83,
   "metadata": {},
   "outputs": [
    {
     "data": {
      "text/plain": [
       "ID             object\n",
       "Settlement    float32\n",
       "dtype: object"
      ]
     },
     "execution_count": 83,
     "metadata": {},
     "output_type": "execute_result"
    }
   ],
   "source": [
    "prediction_settlement_2.dtypes"
   ]
  },
  {
   "cell_type": "code",
   "execution_count": 84,
   "metadata": {},
   "outputs": [
    {
     "data": {
      "text/plain": [
       "ID              int64\n",
       "Settlement    float64\n",
       "dtype: object"
      ]
     },
     "execution_count": 84,
     "metadata": {},
     "output_type": "execute_result"
    }
   ],
   "source": [
    "pd.read_csv('../predictions/prediction_settlement_2.csv').dtypes"
   ]
  },
  {
   "attachments": {},
   "cell_type": "markdown",
   "metadata": {},
   "source": [
    "<a style=color:deepskyblue>Let's now make the csv prediction with replacing the NA</a>"
   ]
  },
  {
   "cell_type": "code",
   "execution_count": 5,
   "metadata": {},
   "outputs": [],
   "source": [
    "import pandas as pd\n",
    "import numpy as np\n",
    "\n",
    "def unified_contribution_calculator(in_array):\n",
    "    out_array = list(in_array*0.5)+list(in_array*1)+list(in_array*1.5)+list(in_array*2)\n",
    "    return np.sort(np.array(out_array))\n",
    "\n",
    "table_range_since_25_06_2014 = pd.DataFrame({\n",
    "    'Lawsuit Value': [[0],np.arange(1,1101),np.arange(1101,5201),np.arange(5201,26001),np.arange(26001,52001),np.arange(52001,260001),np.arange(260001,520001),np.arange(520001, 3500000)],\n",
    "    'Unified Contribution' : [unified_contribution_calculator(np.array([43,98,237,259,518,43*1.5,98*1.5,237*1.5,259*1.5,518*1.5])),\n",
    "                              unified_contribution_calculator(np.array([43,43*1.5])),\n",
    "                              unified_contribution_calculator(np.array([98,98*1.5])),\n",
    "                              unified_contribution_calculator(np.array([237,237*1.5])),\n",
    "                              unified_contribution_calculator(np.array([518,518*1.5])),\n",
    "                              unified_contribution_calculator(np.array([759,759*1.5])),\n",
    "                              unified_contribution_calculator(np.array([1214,1214*1.5])),\n",
    "                              unified_contribution_calculator(np.array([1686,1686*1.5]))]\n",
    "})\n",
    "\n",
    "table_range_before_25_06_2014 = pd.DataFrame({\n",
    "    'Lawsuit Value': [[0],np.arange(1,1101),np.arange(1101,5201),np.arange(5201,26001),np.arange(26001,52001),np.arange(52001,260001),np.arange(260001,520001),np.arange(520001,3500000)],\n",
    "    'Unified Contribution' : [unified_contribution_calculator(np.array([37,85,206,450,37*1.5,85*1.5,206*1.5,450*1.5])),\n",
    "                              unified_contribution_calculator(np.array([37,37*1.5])),\n",
    "                              unified_contribution_calculator(np.array([85,85*1.5])),\n",
    "                              unified_contribution_calculator(np.array([206,206*1.5])),\n",
    "                              unified_contribution_calculator(np.array([450,450*1.5])),\n",
    "                              unified_contribution_calculator(np.array([660,660*1.5])),\n",
    "                              unified_contribution_calculator(np.array([1056,1056*1.5])),\n",
    "                              unified_contribution_calculator(np.array([1466,1466*1.5]))]\n",
    "})"
   ]
  },
  {
   "cell_type": "code",
   "execution_count": null,
   "metadata": {},
   "outputs": [],
   "source": [
    "from sklearn.preprocessing import OneHotEncoder\n",
    "from sklearn.preprocessing import StandardScaler\n",
    "\n",
    "blind_test_s = pd.read_csv('../DATA/test_s.csv')\n",
    "\n",
    "\n",
    "del blind_test_s['Unnamed: 0']\n",
    "\n",
    "blind_test_s['Tax Related'] = blind_test_s['Tax Related'].replace(np.nan, 0)\n",
    "blind_test_s['Tax Related'] = blind_test_s['Tax Related'].replace(True, 1)\n",
    "\n",
    "blind_test_s['Value formatted'] = pd.to_numeric(blind_test_s['Value']\\\n",
    "    .str.replace('Euro ', '').str.replace('.','').str.replace(',', '.'), errors='coerce')\n",
    "    \n",
    "del blind_test_s['Value']\n",
    "\n",
    "blind_test_s['Unified Contribution formatted'] = pd.to_numeric(blind_test_s['Unified Contribution']\\\n",
    "    .str.replace('Euro ', '').str.replace('.','').str.replace(',', '.'), errors='coerce')\n",
    "    \n",
    "del blind_test_s['Unified Contribution']\n",
    "\n",
    "del blind_test_s['Primary Actor']\n",
    "del blind_test_s['Secondary Actor']\n",
    "del blind_test_s['Primary Defendant']\n",
    "\n",
    "new_unified_contribution = []\n",
    "\n",
    "# DIFFERENT PART THAT FILL THE NA OF UNIFIED CONTRIBUTION   \n",
    "for i in range(blind_test_s.shape[0]):\n",
    "    if np.isnan(blind_test_s.iloc[i]['Unified Contribution formatted']):\n",
    "        if blind_test_s.iloc[i]['Date']>='2014-06-25':\n",
    "            for j in range(table_range_since_25_06_2014.shape[0]):\n",
    "                if np.round(blind_test_s.iloc[i]['Value formatted']) in table_range_since_25_06_2014.iloc[j]['Lawsuit Value']:\n",
    "                   new_unified_contribution.append(np.random.choice(table_range_since_25_06_2014.iloc[j]['Unified Contribution'])) \n",
    "        else:\n",
    "            for j in range(table_range_before_25_06_2014.shape[0]):\n",
    "                if np.round(blind_test_s.iloc[i]['Value formatted']) in table_range_before_25_06_2014.iloc[j]['Lawsuit Value']:\n",
    "                    new_unified_contribution.append(np.random.choice(table_range_since_25_06_2014.iloc[j]['Unified Contribution'])) \n",
    "    else:\n",
    "        new_unified_contribution.append(blind_test_s.iloc[i]['Unified Contribution formatted'])\n",
    "\n",
    "blind_test_s['Unified Contribution formatted'] = new_unified_contribution\n",
    "\n",
    "city_encoder = OneHotEncoder().fit(blind_test_s[['City of the judge’s office']])\n",
    "\n",
    "blind_test_s = pd.concat([blind_test_s,\n",
    "  pd.DataFrame(city_encoder.transform(blind_test_s[['City of the judge’s office']]).toarray(),columns=city_encoder.categories_)],\n",
    "  axis=1).drop(['City of the judge’s office'],axis=1)\n",
    "\n",
    "object_encoder = OneHotEncoder().fit(blind_test_s[['Object']])\n",
    "\n",
    "blind_test_s = pd.concat([blind_test_s,\n",
    "  pd.DataFrame(object_encoder.transform(blind_test_s[['Object']]).toarray(),columns=object_encoder.categories_)],\n",
    "  axis=1).drop(['Object'],axis=1)\n",
    "\n",
    "new_var_names = []\n",
    "for var_name in blind_test_s.columns:\n",
    "    if '(' not in var_name:\n",
    "        new_var_names.append(var_name)\n",
    "    else:\n",
    "        new_var_names.append(var_name.replace('(', '').replace(')', '')\n",
    "        .replace('\\'','').replace(',','').replace('\"',''))\n",
    "new_var_names = []\n",
    "for var_name in blind_test_s.columns:\n",
    "    if type(var_name) != tuple:\n",
    "        new_var_names.append(var_name)\n",
    "    else:\n",
    "        new_var_names.append(var_name[0])\n",
    "\n",
    "blind_test_s = pd.DataFrame(blind_test_s.values, columns=new_var_names)\n",
    "\n",
    "blind_test_s = blind_test_s[['ID','Tax Related', 'Number of Lawyers',\n",
    "     'Number of Legal Parties', 'Value formatted',\n",
    "       'Unified Contribution formatted', 'Milano', 'Bari', 'Bologna', 'Genova',\n",
    "       'Palermo', 'Napoli', 'Torino', 'Trento', 'Roma', \"L'Aquila\", 'Potenza',\n",
    "       'Perugia', 'Campobasso', 'Firenze', 'Cagliari', 'Venezia', 'Cosenza',\n",
    "       'Ancona', 'Trieste', 'Aosta','OR-140999', 'OR-145009', 'OR-139999',\n",
    "       'OR-145999', 'OR-130099', 'OR-101003', 'OR-130121', 'OR-130111',\n",
    "       'OR-130131', 'OR-101002', 'OR-180002']]\n",
    "blind_test_s_to_scale = blind_test_s[['Number of Lawyers','Number of Legal Parties', 'Value formatted',\n",
    "       'Unified Contribution formatted']]\n",
    "blind_test_s_not_to_scale = blind_test_s[['ID','Tax Related','Milano', 'Bari', 'Bologna', 'Genova',\n",
    "       'Palermo', 'Napoli', 'Torino', 'Trento', 'Roma', \"L'Aquila\", 'Potenza',\n",
    "       'Perugia', 'Campobasso', 'Firenze', 'Cagliari', 'Venezia', 'Cosenza',\n",
    "       'Ancona', 'Trieste', 'Aosta','OR-140999', 'OR-145009', 'OR-139999',\n",
    "       'OR-145999', 'OR-130099', 'OR-101003', 'OR-130121', 'OR-130111',\n",
    "       'OR-130131', 'OR-101002', 'OR-180002']]\n",
    "       \n",
    "std_scale = StandardScaler()\n",
    "blind_test_s_scaled = std_scale.fit_transform(blind_test_s_to_scale)\n",
    "\n",
    "blind_test_s_scaled = pd.DataFrame(blind_test_s_scaled, columns=[blind_test_s_to_scale.columns])\n",
    "blind_test_s_scaled = pd.concat([blind_test_s_scaled, blind_test_s_not_to_scale], axis=1)\n",
    "\n",
    "new_var_names = []\n",
    "for var_name in blind_test_s_scaled.columns:\n",
    "    if '(' not in var_name:\n",
    "        new_var_names.append(var_name)\n",
    "    else:\n",
    "        new_var_names.append(var_name.replace('(', '').replace(')', '')\n",
    "        .replace('\\'','').replace(',','').replace('\"',''))\n",
    "new_var_names = []\n",
    "for var_name in blind_test_s_scaled.columns:\n",
    "    if type(var_name) != tuple:\n",
    "        new_var_names.append(var_name)\n",
    "    else:\n",
    "        new_var_names.append(var_name[0])\n",
    "\n",
    "blind_test_s_scaled = pd.DataFrame(blind_test_s_scaled.values, columns=new_var_names)"
   ]
  },
  {
   "cell_type": "code",
   "execution_count": 13,
   "metadata": {},
   "outputs": [],
   "source": [
    "X_train_val_columns = ['Number of Lawyers', 'Number of Legal Parties', 'Value formatted',\n",
    "       'Unified Contribution formatted', 'Tax Related', 'Milano', 'Bari',\n",
    "       'Bologna', 'Genova', 'Palermo', 'Napoli', 'Torino', 'Trento', 'Roma',\n",
    "       \"L'Aquila\", 'Potenza', 'Perugia', 'Campobasso', 'Firenze', 'Cagliari',\n",
    "       'Venezia', 'Cosenza', 'Ancona', 'Trieste', 'Aosta', 'OR-140999',\n",
    "       'OR-145009', 'OR-139999', 'OR-145999', 'OR-130099', 'OR-101003',\n",
    "       'OR-130121', 'OR-130111', 'OR-130131', 'OR-101002', 'OR-180002',\n",
    "       'OSA-180002']"
   ]
  },
  {
   "cell_type": "code",
   "execution_count": 17,
   "metadata": {},
   "outputs": [],
   "source": [
    "for col in X_train_val_columns:\n",
    "    if col not in blind_test_s_scaled.columns:\n",
    "        blind_test_s_scaled[col] = 0.0"
   ]
  },
  {
   "cell_type": "code",
   "execution_count": 4,
   "metadata": {},
   "outputs": [
    {
     "name": "stderr",
     "output_type": "stream",
     "text": [
      "/Users/adrianoettari/miniforge3/envs/EUSTEMA_ENV/lib/python3.10/site-packages/sklearn/base.py:288: UserWarning: Trying to unpickle estimator DecisionTreeRegressor from version 1.0.2 when using version 1.2.0. This might lead to breaking code or invalid results. Use at your own risk. For more info please refer to:\n",
      "https://scikit-learn.org/stable/model_persistence.html#security-maintainability-limitations\n",
      "  warnings.warn(\n",
      "/Users/adrianoettari/miniforge3/envs/EUSTEMA_ENV/lib/python3.10/site-packages/sklearn/base.py:288: UserWarning: Trying to unpickle estimator RandomForestRegressor from version 1.0.2 when using version 1.2.0. This might lead to breaking code or invalid results. Use at your own risk. For more info please refer to:\n",
      "https://scikit-learn.org/stable/model_persistence.html#security-maintainability-limitations\n",
      "  warnings.warn(\n"
     ]
    }
   ],
   "source": [
    "import joblib\n",
    "rnd_reg = joblib.load('../models/random_forest_train_s.sav')"
   ]
  },
  {
   "cell_type": "code",
   "execution_count": 18,
   "metadata": {},
   "outputs": [
    {
     "name": "stderr",
     "output_type": "stream",
     "text": [
      "/Users/adrianoettari/miniforge3/envs/EUSTEMA_ENV/lib/python3.10/site-packages/sklearn/base.py:402: UserWarning: X has feature names, but RandomForestRegressor was fitted without feature names\n",
      "  warnings.warn(\n",
      "/var/folders/j3/6zzd1jr16pb3yxx70_376pmw0000gn/T/ipykernel_1925/2853703077.py:4: FutureWarning: The pandas.np module is deprecated and will be removed from pandas in a future version. Import numpy directly instead.\n",
      "  prediction_settlement['Settlement'] = prediction_settlement['Settlement'].astype(pd.np.float32)\n"
     ]
    }
   ],
   "source": [
    "y_pred_settlement = rnd_reg.predict(blind_test_s_scaled.drop(['ID'], axis=1)).astype(np.float32)\n",
    "\n",
    "prediction_settlement = pd.DataFrame({'ID':blind_test_s_scaled['ID'], 'Settlement':y_pred_settlement})\n",
    "prediction_settlement['Settlement'] = prediction_settlement['Settlement'].astype(pd.np.float32)\n",
    "\n",
    "prediction_settlement.to_csv('../predictions/prediction_settlement.csv', index=False)"
   ]
  },
  {
   "attachments": {},
   "cell_type": "markdown",
   "metadata": {},
   "source": [
    "## <a style=background:yellow;color:black> Explainer </a>"
   ]
  },
  {
   "cell_type": "code",
   "execution_count": 9,
   "metadata": {},
   "outputs": [
    {
     "name": "stderr",
     "output_type": "stream",
     "text": [
      "/Users/adrianoettari/miniforge3/envs/Adri_Env/lib/python3.10/site-packages/sklearn/base.py:288: UserWarning: Trying to unpickle estimator DecisionTreeRegressor from version 1.0.2 when using version 1.2.0. This might lead to breaking code or invalid results. Use at your own risk. For more info please refer to:\n",
      "https://scikit-learn.org/stable/model_persistence.html#security-maintainability-limitations\n",
      "  warnings.warn(\n",
      "/Users/adrianoettari/miniforge3/envs/Adri_Env/lib/python3.10/site-packages/sklearn/base.py:288: UserWarning: Trying to unpickle estimator RandomForestRegressor from version 1.0.2 when using version 1.2.0. This might lead to breaking code or invalid results. Use at your own risk. For more info please refer to:\n",
      "https://scikit-learn.org/stable/model_persistence.html#security-maintainability-limitations\n",
      "  warnings.warn(\n"
     ]
    }
   ],
   "source": [
    "import joblib\n",
    "\n",
    "rnd_reg = joblib.load('../models/random_forest_train_s.sav')"
   ]
  },
  {
   "cell_type": "code",
   "execution_count": 12,
   "metadata": {},
   "outputs": [],
   "source": [
    "X_train_val_columns = ['Number of Lawyers', 'Number of Legal Parties', 'Value formatted',\n",
    "       'Unified Contribution formatted', 'Tax Related', 'Milano', 'Bari',\n",
    "       'Bologna', 'Genova', 'Palermo', 'Napoli', 'Torino', 'Trento', 'Roma',\n",
    "       \"L'Aquila\", 'Potenza', 'Perugia', 'Campobasso', 'Firenze', 'Cagliari',\n",
    "       'Venezia', 'Cosenza', 'Ancona', 'Trieste', 'Aosta', 'OR-140999',\n",
    "       'OR-145009', 'OR-139999', 'OR-145999', 'OR-130099', 'OR-101003',\n",
    "       'OR-130121', 'OR-130111', 'OR-130131', 'OR-101002', 'OR-180002',\n",
    "       'OSA-180002']"
   ]
  },
  {
   "cell_type": "code",
   "execution_count": 13,
   "metadata": {},
   "outputs": [],
   "source": [
    "importances = rnd_reg.feature_importances_\n",
    "variables = X_train_val_columns"
   ]
  },
  {
   "attachments": {},
   "cell_type": "markdown",
   "metadata": {},
   "source": [
    "`LIME` is a model agnostic approach for explaining the predictions of any machine learning model."
   ]
  },
  {
   "cell_type": "code",
   "execution_count": 14,
   "metadata": {},
   "outputs": [],
   "source": [
    "from interpret.blackbox import LimeTabular\n",
    "from interpret import show"
   ]
  },
  {
   "cell_type": "code",
   "execution_count": 15,
   "metadata": {},
   "outputs": [
    {
     "name": "stderr",
     "output_type": "stream",
     "text": [
      "/Users/adrianoettari/miniforge3/envs/Adri_Env/lib/python3.10/site-packages/sklearn/base.py:402: UserWarning: X has feature names, but RandomForestRegressor was fitted without feature names\n",
      "  warnings.warn(\n"
     ]
    }
   ],
   "source": [
    "y_pred_test = rnd_reg.predict(X_test).astype(np.float32)\n",
    "\n",
    "residuals = np.array(y_test).astype(np.float32).ravel() - y_pred_test"
   ]
  },
  {
   "cell_type": "code",
   "execution_count": 16,
   "metadata": {},
   "outputs": [],
   "source": [
    "all_idxs = np.argsort(residuals)[::-1][np.concatenate([np.arange(20),np.arange(1000,1020),np.arange(4000,4020)])]"
   ]
  },
  {
   "attachments": {},
   "cell_type": "markdown",
   "metadata": {},
   "source": [
    "When you hover over a variable in a LIME plot, the value displayed is the difference between the actual value of the variable in the specific observation and its reference value, which is often the mean value of the variable in the training dataset. This difference shows how much the value of the variable deviates from its expected value in the LIME explanation and can help you understand the contribution of that variable to the model's prediction for that particular observation."
   ]
  },
  {
   "cell_type": "code",
   "execution_count": 17,
   "metadata": {},
   "outputs": [
    {
     "data": {
      "text/html": [
       "<!-- http://127.0.0.1:7001/5872612448/ -->\n",
       "<iframe src=\"http://127.0.0.1:7001/5872612448/\" width=100% height=800 frameBorder=\"0\"></iframe>"
      ]
     },
     "metadata": {},
     "output_type": "display_data"
    }
   ],
   "source": [
    "lime_explainer = LimeTabular(predict_fn=rnd_reg.predict,data=X_train,random_state=1)\n",
    "lime_local= lime_explainer.explain_local(X_test.iloc[all_idxs], y_test.iloc[all_idxs], name='LIME')\n",
    "show(lime_local)"
   ]
  },
  {
   "attachments": {},
   "cell_type": "markdown",
   "metadata": {},
   "source": [
    "`SHAP` is a model agnostic approach to explain the output of any machine learning model. SHAP connects game theory with local explanations."
   ]
  },
  {
   "cell_type": "code",
   "execution_count": 18,
   "metadata": {},
   "outputs": [
    {
     "name": "stderr",
     "output_type": "stream",
     "text": [
      "No data for colormapping provided via 'c'. Parameters 'vmin', 'vmax' will be ignored\n"
     ]
    },
    {
     "data": {
      "image/png": "[encoded data removed]",
      "text/plain": [
       "<Figure size 800x550 with 2 Axes>"
      ]
     },
     "metadata": {},
     "output_type": "display_data"
    }
   ],
   "source": [
    "import shap\n",
    "import matplotlib.pyplot as plt\n",
    "\n",
    "# Create a shap.Explanation object from the shap_values and X_test variables\n",
    "explainer = shap.TreeExplainer(rnd_reg)\n",
    "shap_values = explainer.shap_values(X_test)\n",
    "shap_exp = shap.Explanation(values=shap_values, \n",
    "                            data=X_test, \n",
    "                            feature_names=X_test.columns)\n",
    "\n",
    "# Create a beeswarm plot of the SHAP values\n",
    "shap.plots.beeswarm(shap_exp, max_display=10, show=False)\n",
    "\n",
    "# Add labels to the plot\n",
    "plt.xlabel(\"SHAP value\")\n",
    "plt.ylabel(\"Feature\")\n",
    "\n",
    "# Show the plot\n",
    "plt.show()\n"
   ]
  },
  {
   "cell_type": "code",
   "execution_count": null,
   "metadata": {},
   "outputs": [],
   "source": []
  }
 ],
 "metadata": {
  "kernelspec": {
   "display_name": "Adri_Env",
   "language": "python",
   "name": "python3"
  },
  "language_info": {
   "codemirror_mode": {
    "name": "ipython",
    "version": 3
   },
   "file_extension": ".py",
   "mimetype": "text/x-python",
   "name": "python",
   "nbconvert_exporter": "python",
   "pygments_lexer": "ipython3",
   "version": "3.10.8"
  },
  "orig_nbformat": 4,
  "vscode": {
   "interpreter": {
    "hash": "28d2d24dc05509bf292e34803b47a1e549616d0bedf6bebdafbe5e542b7fb512"
   }
  }
 },
 "nbformat": 4,
 "nbformat_minor": 2
}
