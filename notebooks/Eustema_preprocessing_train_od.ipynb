{
 "cells": [
  {
   "attachments": {},
   "cell_type": "markdown",
   "id": "f638fd33",
   "metadata": {},
   "source": [
    "# <a style = background:lightgreen;color:black>Outcome and Duration Prediction on train_od (preprocessing) </a>"
   ]
  },
  {
   "cell_type": "code",
   "execution_count": 1,
   "id": "1954c718",
   "metadata": {},
   "outputs": [],
   "source": [
    "import pandas as pd\n",
    "import numpy as np\n",
    "import matplotlib.pyplot as plt\n",
    "import seaborn as sns"
   ]
  },
  {
   "cell_type": "code",
   "execution_count": 2,
   "id": "150338f1",
   "metadata": {},
   "outputs": [],
   "source": [
    "train_od = pd.read_csv('../DATA/train_od.csv')"
   ]
  },
  {
   "cell_type": "code",
   "execution_count": 3,
   "id": "b686d362",
   "metadata": {},
   "outputs": [],
   "source": [
    "del train_od['Unnamed: 0']"
   ]
  },
  {
   "cell_type": "markdown",
   "id": "8803a201",
   "metadata": {},
   "source": [
    "`Date` is the starting date of the case. Notice that each case identifier may have more starting dates (it is obvious if you think that there may be the same case identifier for different cities). "
   ]
  },
  {
   "cell_type": "code",
   "execution_count": 4,
   "id": "65ef46dc",
   "metadata": {},
   "outputs": [],
   "source": [
    "train_od['Date'] = pd.to_datetime(train_od['Date'])"
   ]
  },
  {
   "cell_type": "markdown",
   "id": "f82a9f4d",
   "metadata": {},
   "source": [
    "`Value` is the monetary value of the lawsuit. Example: I got a traffic ticket for speeding of 500€ and I appel to court (the 500€ of the ticket represents the value of the lawsuit). It is formatted as string, we have to remove the 'Euro' and take just the number, moreover, we have to remove the point which in Italy is used to separate the thousands."
   ]
  },
  {
   "cell_type": "code",
   "execution_count": 5,
   "id": "c1168247",
   "metadata": {},
   "outputs": [
    {
     "name": "stderr",
     "output_type": "stream",
     "text": [
      "/var/folders/j3/6zzd1jr16pb3yxx70_376pmw0000gn/T/ipykernel_20179/1880134183.py:1: FutureWarning: The default value of regex will change from True to False in a future version. In addition, single character regular expressions will *not* be treated as literal strings when regex=True.\n",
      "  train_od['Value formatted'] = pd.to_numeric(train_od['Value']\\\n"
     ]
    }
   ],
   "source": [
    "train_od['Value formatted'] = pd.to_numeric(train_od['Value']\\\n",
    "    .str.replace('Euro ', '').str.replace('.','').str.replace(',', '.'), errors='coerce')\n",
    "    \n",
    "del train_od['Value']"
   ]
  },
  {
   "cell_type": "code",
   "execution_count": 77,
   "id": "65bb32af",
   "metadata": {},
   "outputs": [],
   "source": [
    "# # THIS IS A VERSION OF THE PREVIOUS CELL WRITTEN BY HAND\n",
    "\n",
    "# taxes_string = np.array(train_od['Value'])\n",
    "\n",
    "# taxes_string_number = [string[5:] for string in taxes_string]\n",
    "\n",
    "# taxes_number = []\n",
    "# for value_string_wrong in taxes_string_number:\n",
    "#     value_string = ''\n",
    "#     for chr_ in value_string_wrong:\n",
    "#         if chr_ != '.' and chr_ != ',':\n",
    "#             value_string += chr_\n",
    "#         elif chr_ == ',':\n",
    "#             value_string += '.'\n",
    "#     taxes_number.append(float(value_string)) # we need to transform the number in float\n",
    "\n",
    "# train_od['Value formatted'] = taxes_number\n",
    "# del train_od['Value']"
   ]
  },
  {
   "cell_type": "markdown",
   "id": "20dd8bfd",
   "metadata": {},
   "source": [
    "`Unified Contribution` is the monetary cost for starting the lawsuit. Basically, to start a lawsuit there is the need of a \"budget\" that is the unified contribution.\n",
    "The unified contribution depends from the value of the lawsuit. \n",
    "The following are the unified contribution tables (of the first lawsuit grade) valid since the 25/06/2014 (first one) and before (second one).\n",
    "\n",
    "<a style=color:deepskyblue>$$SINCE - 25/06/2014 (First Grade)$$ </a>\n",
    "<table>\n",
    "    <tr> <td> Lawsuit value</td> <td> Unified contribution</td> </tr>\n",
    "    <tr> <td> 0€</td> <td>43€, 237€ and 98€ </td> </tr>\n",
    "    <tr> <td> 1€-1000€</td> <td> 43€</td> </tr>\n",
    "    <tr> <td> 1000.01€-1100€</td> <td> 43€</td> </tr>\n",
    "    <tr> <td> 1100.01€-5200€ </td> <td> 98€</td> </tr>\n",
    "    <tr> <td> 5200.01€-26000€</td> <td> 237€</td> </tr>\n",
    "    <tr> <td> 26000.01€-52000€</td> <td> 518€</td> </tr>\n",
    "    <tr> <td> 52000.01€-260000€</td> <td> 759€</td> </tr>\n",
    "    <tr> <td> 260000.01€-520000€</td> <td> 1214€</td> </tr>\n",
    "    <tr> <td> 520000.01€-∞</td> <td> 1686€</td> </tr>\n",
    "</table>\n",
    "\n",
    "<a style=color:deepskyblue> $$BEFORE - 25/06/2014 (First Grade)$$</a> \n",
    "<table>\n",
    "    <tr> <td> Lawsuit value</td> <td> Unified contribution</td> </tr>\n",
    "    <tr> <td> 0€</td> <td>37€, 85€, 206€ and 450€</td> </tr>\n",
    "    <tr> <td> 1€-1000€</td> <td>37€ </td> </tr>\n",
    "    <tr> <td> 1000.01€-1100€</td> <td>37€ </td> </tr>\n",
    "    <tr> <td> 1100.01€-5200€ </td> <td>85€ </td> </tr>\n",
    "    <tr> <td> 5200.01€-26000€</td> <td>206€ </td> </tr>\n",
    "    <tr> <td> 26000.01€-52000€</td> <td>450€ </td> </tr>\n",
    "    <tr> <td> 52000.01€-260000€</td> <td>660€ </td> </tr>\n",
    "    <tr> <td> 260000.01€-520000€</td> <td>1056€ </td> </tr>\n",
    "    <tr> <td> 520000.01€-∞</td> <td> 1466€</td> </tr>\n",
    "</table>\n",
    "\n",
    "Moreover, this field is formatted as the Value column was formatted, so we have to remove 'Euro' and convert the field as float. It's name will be Unified Contribution formatted."
   ]
  },
  {
   "cell_type": "code",
   "execution_count": 6,
   "id": "1115557d",
   "metadata": {},
   "outputs": [
    {
     "name": "stderr",
     "output_type": "stream",
     "text": [
      "/var/folders/j3/6zzd1jr16pb3yxx70_376pmw0000gn/T/ipykernel_20179/4082647123.py:1: FutureWarning: The default value of regex will change from True to False in a future version. In addition, single character regular expressions will *not* be treated as literal strings when regex=True.\n",
      "  train_od['Unified Contribution formatted'] = pd.to_numeric(train_od['Unified Contribution']\\\n"
     ]
    }
   ],
   "source": [
    "train_od['Unified Contribution formatted'] = pd.to_numeric(train_od['Unified Contribution']\\\n",
    "    .str.replace('Euro ', '').str.replace('.','').str.replace(',', '.'), errors='coerce')\n",
    "    \n",
    "del train_od['Unified Contribution']"
   ]
  },
  {
   "cell_type": "code",
   "execution_count": 79,
   "id": "d2925ba5",
   "metadata": {},
   "outputs": [],
   "source": [
    "# # THIS IS A VERSION OF THE PREVIOUS CELL WRITTEN BY HAND\n",
    "\n",
    "# un_contr_string = train_od['Unified Contribution']\n",
    "\n",
    "# un_contr_string_number =[]\n",
    "# for string in un_contr_string:\n",
    "#     if pd.isna(string)==False:\n",
    "#         un_contr_string_number.append(string[5:])\n",
    "#     else:\n",
    "#         un_contr_string_number.append(pd.NA)\n",
    "\n",
    "# un_contr_number = []\n",
    "# for value_string_wrong in un_contr_string_number:\n",
    "#     value_string = ''\n",
    "#     if pd.isna(value_string_wrong)==False:\n",
    "#         for chr_ in value_string_wrong:\n",
    "#             if chr_ != '.' and chr_ != ',':\n",
    "#                 value_string += chr_\n",
    "#             elif chr_ == ',':\n",
    "#                 value_string += '.'\n",
    "#         un_contr_number.append(float(value_string)) # we need to transform the number in float\n",
    "#     else:\n",
    "#         un_contr_number.append(pd.NA)\n",
    "\n",
    "# train_od['Unified Contribution formatted'] = un_contr_number\n",
    "# del train_od['Unified Contribution']"
   ]
  },
  {
   "attachments": {},
   "cell_type": "markdown",
   "id": "b8ff1400",
   "metadata": {},
   "source": [
    "In the following chunks we create a function which returns the indexes of the rows which are probably anomalies. To do this we check in each row the value of Value formatted. If the value formatted is in a given range, then its Unified Contribution formatted must be in a given range to be a correct value (the tables are shown above: there are two of them because after the 25th June 2014 they changed). If the Unified Contribution is not in that range, then the function append the index in the anomalies_index list. Notice the following things:  \n",
    "\n",
    "* The NaN are not considered because otherwise pd.NA in [1,2,3] returns an error. We will analyze them separetely.\n",
    "* We are considering two tables because after the 25th June 2014 they changed.\n",
    "* We are considering the Value formatted transformed in integers because the values with float are far from the boundaries and so there is no danger that a row ends up in another range when we consider it as int.\n",
    "* We create also a function (unified_contribution_calculator) which gets the array of the \"standard\" values of the unified contribution like the ones you've seen in the previous table and returns an array with these values, these values multipled by 0.5, these values multipied by 1.5 and these values multiplied by 2. We did this in order to eliminate just the obvious anomalies.\n"
   ]
  },
  {
   "cell_type": "code",
   "execution_count": 7,
   "id": "ad8ebbf5",
   "metadata": {},
   "outputs": [],
   "source": [
    "def retrieve_oddness(data, range_table):\n",
    "        '''\n",
    "        This function iterates through each row of the data and through each row in range_table and\n",
    "        if the Value formatted of a row in the data is in a range of the Lawsuit Value, then it is checked also if \n",
    "        the Unified Contribution of that row is in the right Unified Contribution range.\n",
    "        '''\n",
    "        anomalies_index = []\n",
    "        \n",
    "        for row_index_data in range(len(data)):\n",
    "            for row_index_table in range(len(range_table)):\n",
    "                if int(data.iloc[row_index_data]['Value formatted']) in range_table.iloc[row_index_table]['Lawsuit Value']:\n",
    "                    if data.iloc[row_index_data]['Unified Contribution formatted'] not in range_table.iloc[row_index_table]['Unified Contribution']:\n",
    "                        anomalies_index.append(row_index_data)\n",
    "                    break # once we find the right row (value-unified contribution) we don't need to check the ones below\n",
    "                        \n",
    "        return anomalies_index"
   ]
  },
  {
   "cell_type": "code",
   "execution_count": 8,
   "id": "12225431",
   "metadata": {},
   "outputs": [],
   "source": [
    "def unified_contribution_calculator(in_array):\n",
    "    out_array = list(in_array*0.5)+list(in_array*1)+list(in_array*1.5)+list(in_array*2)\n",
    "    return np.sort(np.array(out_array))"
   ]
  },
  {
   "cell_type": "markdown",
   "id": "5720cba1",
   "metadata": {},
   "source": [
    "The unified_contribution_calculator will be fed with the values of the first grade and the values of the second grade (which are the values of the first grade multiplied by 1.5)."
   ]
  },
  {
   "cell_type": "code",
   "execution_count": 10,
   "id": "b8e2696d",
   "metadata": {},
   "outputs": [],
   "source": [
    "table_range_since_25_06_2014 = pd.DataFrame({\n",
    "    'Lawsuit Value': [[0],np.arange(1,1101),np.arange(1101,5201),np.arange(5201,26001),np.arange(26001,52001),np.arange(52001,260001),np.arange(260001,520001),np.arange(520001, 3500000)],\n",
    "    'Unified Contribution' : [unified_contribution_calculator(np.array([43,98,237,259,518,43*1.5,98*1.5,237*1.5,259*1.5,518*1.5])),\n",
    "                              unified_contribution_calculator(np.array([43,43*1.5])),\n",
    "                              unified_contribution_calculator(np.array([98,98*1.5])),\n",
    "                              unified_contribution_calculator(np.array([237,237*1.5])),\n",
    "                              unified_contribution_calculator(np.array([518,518*1.5])),\n",
    "                              unified_contribution_calculator(np.array([759,759*1.5])),\n",
    "                              unified_contribution_calculator(np.array([1214,1214*1.5])),\n",
    "                              unified_contribution_calculator(np.array([1686,1686*1.5]))]\n",
    "})\n",
    "\n",
    "table_range_before_25_06_2014 = pd.DataFrame({\n",
    "    'Lawsuit Value': [[0],np.arange(1,1101),np.arange(1101,5201),np.arange(5201,26001),np.arange(26001,52001),np.arange(52001,260001),np.arange(260001,520001),np.arange(520001,3500000)],\n",
    "    'Unified Contribution' : [unified_contribution_calculator(np.array([37,85,206,450,37*1.5,85*1.5,206*1.5,450*1.5])),\n",
    "                              unified_contribution_calculator(np.array([37,37*1.5])),\n",
    "                              unified_contribution_calculator(np.array([85,85*1.5])),\n",
    "                              unified_contribution_calculator(np.array([206,206*1.5])),\n",
    "                              unified_contribution_calculator(np.array([450,450*1.5])),\n",
    "                              unified_contribution_calculator(np.array([660,660*1.5])),\n",
    "                              unified_contribution_calculator(np.array([1056,1056*1.5])),\n",
    "                              unified_contribution_calculator(np.array([1466,1466*1.5]))]\n",
    "})\n",
    "\n",
    "train_od_since_25_06_2014_complete = train_od.loc[train_od['Date']>='2014-06-25'][['ID','Value formatted', 'Unified Contribution formatted']]\n",
    "train_od_since_25_06_2014_not_NA = train_od_since_25_06_2014_complete.dropna()  \n",
    "train_od_before_25_06_2014_complete = train_od.loc[train_od['Date']<'2014-06-25'][['ID','Value formatted', 'Unified Contribution formatted']]\n",
    "train_od_before_25_06_2014_not_NA = train_od_before_25_06_2014_complete.dropna() "
   ]
  },
  {
   "cell_type": "code",
   "execution_count": 11,
   "id": "5df64704",
   "metadata": {},
   "outputs": [],
   "source": [
    "# This cell takes about 38 seconds to run\n",
    "anomalies_index_since_25_06_2014 = retrieve_oddness(train_od_since_25_06_2014_not_NA, table_range_since_25_06_2014)\n",
    "\n",
    "anomalies_ID_since_25_06_2014 = []\n",
    "\n",
    "for idx in anomalies_index_since_25_06_2014:\n",
    "    anomalies_ID_since_25_06_2014.append(train_od_since_25_06_2014_not_NA.iloc[idx]['ID'])\n",
    "\n",
    "anomalies_index_before_25_06_2014 = retrieve_oddness(train_od_before_25_06_2014_not_NA, table_range_before_25_06_2014)\n",
    "\n",
    "anomalies_ID_before_25_06_2014 = []\n",
    "\n",
    "for idx in anomalies_index_before_25_06_2014:\n",
    "    anomalies_ID_before_25_06_2014.append(train_od_before_25_06_2014_not_NA.iloc[idx]['ID'])\n",
    "\n",
    "df_anomaly_since_25_06_2014 = train_od.loc[train_od['ID'].isin(anomalies_ID_since_25_06_2014)]\n",
    "\n",
    "df_anomaly_before_25_06_2014 = train_od.loc[train_od['ID'].isin(anomalies_ID_before_25_06_2014)]"
   ]
  },
  {
   "attachments": {},
   "cell_type": "markdown",
   "id": "a2fc415b",
   "metadata": {},
   "source": [
    "<a style=color:deepskyblue> After analyzing the anomalies obtained with these function, we have decided to remove them from the data. This because they are just 4706+2298 rows (2.44% of train_od) and so it's not worth trying to substitute wrong values with the ones which respect the unified contribution boundaries. Also, we've decided to remove the NA values because we couldn't find a reason why there is no value in there."
   ]
  },
  {
   "cell_type": "code",
   "execution_count": 12,
   "id": "d0d063bf",
   "metadata": {},
   "outputs": [],
   "source": [
    "anomaly_IDs = list(df_anomaly_since_25_06_2014['ID'])+list(df_anomaly_before_25_06_2014['ID'])\n",
    "\n",
    "train_od_no_anomaly = train_od.loc[~train_od['ID'].isin(anomaly_IDs)]"
   ]
  },
  {
   "cell_type": "code",
   "execution_count": 13,
   "id": "a7d27d6f",
   "metadata": {},
   "outputs": [],
   "source": [
    "train_od_no_anomaly_NA = train_od_no_anomaly.loc[train_od_no_anomaly['Unified Contribution formatted'].isna()]\n",
    "to_remove_anomalies = list(df_anomaly_before_25_06_2014['ID'])+list(df_anomaly_since_25_06_2014['ID'])\n",
    "to_remove_NA = list(train_od_no_anomaly_NA['ID'])\n",
    "train_od_cleaned = train_od.loc[~train_od['ID'].isin(to_remove_anomalies)]\n",
    "train_od_cleaned = train_od_cleaned.loc[~train_od_cleaned['ID'].isin(to_remove_NA)]\n",
    "# train_od_cleaned.to_csv('../DATA/train_od_cleaned.csv')"
   ]
  },
  {
   "attachments": {},
   "cell_type": "markdown",
   "id": "f28d620b",
   "metadata": {},
   "source": [
    "<a style=color:deepskyblue> From now we are going to use the train_od_cleaned dataset. </a>"
   ]
  },
  {
   "cell_type": "markdown",
   "id": "a93c13fb",
   "metadata": {},
   "source": [
    "`Primary Actor` is the accusing part. There are 110862 NaN values. It is meaningless to check how many are the unique values because they are encripted for privacy reasons."
   ]
  },
  {
   "cell_type": "markdown",
   "id": "3e2a2f66",
   "metadata": {},
   "source": [
    "`Secondary Actor` is always the accusing part. There are 253867 NaN values."
   ]
  },
  {
   "cell_type": "markdown",
   "id": "9e7172cf",
   "metadata": {},
   "source": [
    "`Primary Defendant` is the defendant of the lawsuit. There are 111328 NaN values."
   ]
  },
  {
   "cell_type": "markdown",
   "id": "d4e18d97",
   "metadata": {},
   "source": [
    "`Secondary Defendant` is the defendant of the lawsuit. There are 188832 NaN values."
   ]
  },
  {
   "cell_type": "markdown",
   "id": "12670e1f",
   "metadata": {},
   "source": [
    "`Number of Lawyers`: lawyers of the actor + lawyers of the defendant"
   ]
  },
  {
   "cell_type": "markdown",
   "id": "9cbdf907",
   "metadata": {},
   "source": [
    "`Number of Legal Parties`:  the number of legal parties involved in the lawsuit"
   ]
  },
  {
   "cell_type": "markdown",
   "id": "1ad4ef5a",
   "metadata": {},
   "source": [
    "`Number of Persons`: number of attacked people ."
   ]
  },
  {
   "attachments": {},
   "cell_type": "markdown",
   "id": "b678009a",
   "metadata": {},
   "source": [
    "`City of the judge’s office` is the city in which the judge's office is located. There are 20 cities in the dataset. As you can see in the following barplot, the cases are not balanced in the cities."
   ]
  },
  {
   "cell_type": "code",
   "execution_count": 15,
   "id": "ed4fcfcc",
   "metadata": {},
   "outputs": [
    {
     "data": {
      "image/png": "[encoded data removed]",
      "text/plain": [
       "<Figure size 1000x500 with 1 Axes>"
      ]
     },
     "metadata": {},
     "output_type": "display_data"
    }
   ],
   "source": [
    "sns.set_theme(rc={\"axes.spines.right\": False,\n",
    "                  \"axes.spines.top\": False,\n",
    "                  'axes.spines.left': False,\n",
    "                  'axes.spines.bottom': False})\n",
    "\n",
    "f, axs = plt.subplots(1, figsize=(10,5))\n",
    "    \n",
    "sns.barplot(data = train_od_cleaned.groupby(['City of the judge’s office'])\\\n",
    "            .size().reset_index().rename(columns={0:'Count'})\\\n",
    "            .sort_values(['Count'], ascending=False),\n",
    "            x='City of the judge’s office',\n",
    "            y= 'Count',\n",
    "            color='cornflowerblue',\n",
    "            saturation=0.7,\n",
    "           ax=axs)\n",
    "\n",
    "bars = list(train_od_cleaned.groupby(['City of the judge’s office'])\\\n",
    "            .size().reset_index().rename(columns={0:'Count'})\\\n",
    "            .sort_values(['Count'], ascending=False)['City of the judge’s office'])\n",
    "\n",
    "x_pos = np.arange(len(bars))\n",
    "plt.xticks(x_pos, bars, rotation=90)\n",
    "plt.subplots_adjust(bottom=0.2, top=0.99)\n",
    "\n",
    "heights=np.array(train_od_cleaned.groupby(['City of the judge’s office'])\\\n",
    "            .size().reset_index().rename(columns={0:'Count'})\\\n",
    "            .sort_values(['Count'], ascending=False)['Count'])\n",
    "\n",
    "plt.text(x = -0.4 , y = heights[0]+1, s = heights[0], size = 15)\n",
    "plt.text(x = len(bars)-1.4 , y = heights[-1]+1, s = heights[-1], size = 15)\n",
    "plt.xlabel('City of the judge’s office', fontsize=12)\n",
    "plt.yticks([])\n",
    "plt.xlabel('')\n",
    "plt.ylabel('')\n",
    "plt.title('Number of lawsuits per city', fontsize=20, color='black')\n",
    "plt.show()"
   ]
  },
  {
   "attachments": {},
   "cell_type": "markdown",
   "id": "56a142e1",
   "metadata": {},
   "source": [
    "`Duration`: How much the lawsuit lasts (in terms of days)."
   ]
  },
  {
   "cell_type": "markdown",
   "id": "ff2bd40f",
   "metadata": {},
   "source": [
    "`Outcome`: result of the lawsuit."
   ]
  },
  {
   "attachments": {},
   "cell_type": "markdown",
   "id": "149f2ff6",
   "metadata": {},
   "source": [
    "<a style=color:deepskyblue> The last preprocessing steps are: \n",
    "* remove the observations where duration is lower than 0 (10963 observations (4% of the overall observations))\n",
    "* remove the observations in which the date plus the duration exceed the 15 of October 2022 (when the data was provided to us)</a>.\n",
    "\n"
   ]
  },
  {
   "cell_type": "code",
   "execution_count": 16,
   "id": "5d91c329",
   "metadata": {
    "scrolled": true
   },
   "outputs": [],
   "source": [
    "train_od_cleaned = train_od_cleaned[train_od_cleaned['Duration'] > 0]"
   ]
  },
  {
   "cell_type": "code",
   "execution_count": 17,
   "id": "201dfc63",
   "metadata": {},
   "outputs": [],
   "source": [
    "del train_od_cleaned['ID']\n",
    "del train_od_cleaned['Primary Actor']\n",
    "del train_od_cleaned['Secondary Actor']\n",
    "del train_od_cleaned['Primary Defendant']\n",
    "del train_od_cleaned['Secondary Defendant']"
   ]
  },
  {
   "cell_type": "code",
   "execution_count": 18,
   "id": "f24d7fab",
   "metadata": {},
   "outputs": [],
   "source": [
    "from datetime import datetime\n",
    "\n",
    "train_od_cleaned['Date'] = pd.to_datetime(train_od_cleaned['Date'])\n",
    "\n",
    "new_time = datetime.strptime('15/10/2022','%d/%m/%Y')\n",
    "\n",
    "train_od_cleaned['lasture'] = new_time - train_od_cleaned['Date']\n",
    "\n",
    "train_od_cleaned['lasture'] = train_od_cleaned['lasture'].astype('timedelta64[D]').astype(int)\n",
    "\n",
    "train_od_cleaned = train_od_cleaned.loc[train_od_cleaned['lasture']>train_od_cleaned['Duration']]\n",
    "\n",
    "del train_od_cleaned['lasture']"
   ]
  },
  {
   "cell_type": "code",
   "execution_count": 90,
   "id": "81c1e028",
   "metadata": {},
   "outputs": [],
   "source": [
    "# train_od_cleaned.to_csv('../DATA/final_train_od.csv')"
   ]
  },
  {
   "attachments": {},
   "cell_type": "markdown",
   "id": "2de0453e",
   "metadata": {},
   "source": [
    "## <a style=background:yellow;color:black > Let's convert the variable 'City of the judge’s office' in One-Hot encoding </a>"
   ]
  },
  {
   "cell_type": "code",
   "execution_count": 19,
   "id": "54237106",
   "metadata": {},
   "outputs": [],
   "source": [
    "from sklearn.preprocessing import OneHotEncoder\n",
    "import pandas as pd\n",
    "import numpy as np\n",
    "import seaborn as sns\n",
    "import matplotlib.pyplot as plt"
   ]
  },
  {
   "cell_type": "code",
   "execution_count": 20,
   "id": "62aaa7de",
   "metadata": {},
   "outputs": [],
   "source": [
    "data = pd.read_csv('../DATA/final_train_od.csv')"
   ]
  },
  {
   "cell_type": "code",
   "execution_count": 21,
   "id": "dd53dcec",
   "metadata": {},
   "outputs": [],
   "source": [
    "city_encoder = OneHotEncoder().fit(data[['City of the judge’s office']])\n",
    "\n",
    "data = pd.concat([data,\n",
    "  pd.DataFrame(city_encoder.transform(data[['City of the judge’s office']]).toarray(),columns=city_encoder.categories_)],\n",
    "  axis=1).drop(['City of the judge’s office'],axis=1)"
   ]
  },
  {
   "cell_type": "code",
   "execution_count": 5,
   "id": "e32c8e91",
   "metadata": {},
   "outputs": [],
   "source": [
    "# # THIS IS A VERSION OF THE PREVIOUS CELL WRITTEN BY HAND\n",
    "# cities = []\n",
    "# for city in data['City of the judge’s office'].tolist() :\n",
    "\n",
    "#     if city not in cities : \n",
    "#         cities.append(city)\n",
    "\n",
    "# for city in cities : \n",
    "#     data[city] = np.zeros(len(data))\n",
    "\n",
    "# for i in range(len(data)) : \n",
    "#     data[data['City of the judge’s office'].iloc[i]].iloc[i] = 1\n",
    "\n",
    "# del data['City of the judge’s office']"
   ]
  },
  {
   "cell_type": "code",
   "execution_count": 22,
   "id": "8f358218",
   "metadata": {},
   "outputs": [],
   "source": [
    "object_encoder = OneHotEncoder().fit(data[['Object']])\n",
    "\n",
    "data = pd.concat([data,\n",
    "  pd.DataFrame(object_encoder.transform(data[['Object']]).toarray(),columns=object_encoder.categories_)],\n",
    "  axis=1).drop(['Object'],axis=1)"
   ]
  },
  {
   "cell_type": "code",
   "execution_count": 7,
   "id": "585d4f5a",
   "metadata": {},
   "outputs": [],
   "source": [
    "# # THIS IS A VERSION OF THE PREVIOUS CELL WRITTEN BY HAND\n",
    "\n",
    "# crimes=[]\n",
    "# for crime in data['Object'].tolist() :\n",
    "\n",
    "#     if crime not in crimes : \n",
    "\n",
    "#         crimes.append(crime)\n",
    "\n",
    "# for crime in crimes : \n",
    "\n",
    "#     data[crime] = np.zeros(len(data))\n",
    "\n",
    "# for i in range(len(data)) : \n",
    "\n",
    "#     data[data['Object'].iloc[i]].iloc[i] = 1\n",
    "\n",
    "# del data['Object']"
   ]
  },
  {
   "cell_type": "code",
   "execution_count": 23,
   "id": "db8833b4",
   "metadata": {},
   "outputs": [],
   "source": [
    "data['Tax Related'] = data['Tax Related'].fillna(0).replace(True, 1)"
   ]
  },
  {
   "attachments": {},
   "cell_type": "markdown",
   "id": "3eb08b57",
   "metadata": {},
   "source": [
    "Let's analyze the spearman (not linear) correlation between the numerical columns of the dataset. As we can see from the following correlation matrix, there is a positive correlation between the number of lawyers and the Duration. It means that the more the number of lawyers, the more the lawsuit lasts (notice that this can be due to some spurious correlation)."
   ]
  },
  {
   "cell_type": "code",
   "execution_count": 24,
   "id": "87270a1d",
   "metadata": {},
   "outputs": [
    {
     "data": {
      "image/png": "[encoded data removed]",
      "text/plain": [
       "<Figure size 640x480 with 2 Axes>"
      ]
     },
     "metadata": {},
     "output_type": "display_data"
    }
   ],
   "source": [
    "df_num = data[['Value formatted', 'Unified Contribution formatted', 'Number of Lawyers', 'Number of Legal Parties', 'Number of Persons', 'Duration']]\n",
    "\n",
    "corr = df_num.corr('spearman')\n",
    "\n",
    "mask = np.zeros_like(corr)\n",
    "mask[np.triu_indices_from(mask)] = True\n",
    "\n",
    "dataplot = sns.heatmap(corr, cmap=plt.cm.coolwarm, annot=True,mask=mask, square=True)\n",
    "plt.show()"
   ]
  },
  {
   "attachments": {},
   "cell_type": "markdown",
   "id": "8b784003",
   "metadata": {},
   "source": [
    "The following chunk is needed in order to correct the name of the data columns."
   ]
  },
  {
   "cell_type": "code",
   "execution_count": 25,
   "id": "b516b6bf",
   "metadata": {},
   "outputs": [],
   "source": [
    "new_var_names = []\n",
    "for var_name in data.columns:\n",
    "    if '(' not in var_name:\n",
    "        new_var_names.append(var_name)\n",
    "    else:\n",
    "        new_var_names.append(var_name.replace('(', '').replace(')', '')\n",
    "        .replace('\\'','').replace(',','').replace('\"',''))\n",
    "new_var_names = []\n",
    "for var_name in data.columns:\n",
    "    if type(var_name) != tuple:\n",
    "        new_var_names.append(var_name)\n",
    "    else:\n",
    "        new_var_names.append(var_name[0])\n",
    "\n",
    "data = pd.DataFrame(data.values, columns=new_var_names)"
   ]
  },
  {
   "cell_type": "code",
   "execution_count": 11,
   "id": "f1b51ba8",
   "metadata": {},
   "outputs": [],
   "source": [
    "# data.to_csv('../DATA/final_train_od_dummies.csv')"
   ]
  }
 ],
 "metadata": {
  "kernelspec": {
   "display_name": "EUSTEMA_ENV",
   "language": "python",
   "name": "python3"
  },
  "language_info": {
   "codemirror_mode": {
    "name": "ipython",
    "version": 3
   },
   "file_extension": ".py",
   "mimetype": "text/x-python",
   "name": "python",
   "nbconvert_exporter": "python",
   "pygments_lexer": "ipython3",
   "version": "3.8.16"
  },
  "vscode": {
   "interpreter": {
    "hash": "2acc762cc7aeb6db2a706c4dc52cf1d55b70f63001b943adf40303505232559a"
   }
  }
 },
 "nbformat": 4,
 "nbformat_minor": 5
}
