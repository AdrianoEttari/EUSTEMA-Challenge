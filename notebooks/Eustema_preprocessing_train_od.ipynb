{
 "cells": [
  {
   "cell_type": "code",
   "execution_count": 1,
   "id": "1954c718",
   "metadata": {},
   "outputs": [],
   "source": [
    "import pandas as pd\n",
    "import numpy as np\n",
    "import matplotlib.pyplot as plt\n",
    "import seaborn as sns"
   ]
  },
  {
   "attachments": {},
   "cell_type": "markdown",
   "id": "f98ad915",
   "metadata": {},
   "source": [
    "# <a style=background:yellow;color:black> Preprocessing </a>"
   ]
  },
  {
   "cell_type": "code",
   "execution_count": 3,
   "id": "150338f1",
   "metadata": {},
   "outputs": [],
   "source": [
    "train_od = pd.read_csv('../DATA/train_od.csv')"
   ]
  },
  {
   "cell_type": "code",
   "execution_count": 4,
   "id": "b686d362",
   "metadata": {},
   "outputs": [],
   "source": [
    "del train_od['Unnamed: 0']"
   ]
  },
  {
   "cell_type": "markdown",
   "id": "8803a201",
   "metadata": {},
   "source": [
    "`Date` is the starting date of the case. Notice that each case identifier may have more starting dates (it is obvious if you think that there may be the same case identifier for different cities). "
   ]
  },
  {
   "cell_type": "code",
   "execution_count": 5,
   "id": "65ef46dc",
   "metadata": {},
   "outputs": [],
   "source": [
    "train_od['Date'] = pd.to_datetime(train_od['Date'])"
   ]
  },
  {
   "cell_type": "markdown",
   "id": "f82a9f4d",
   "metadata": {},
   "source": [
    "`Value` is the monetary value of the lawsuit. Example: I got a traffic ticket for speeding of 500€ and I appel to court (the 500€ of the ticket represents the value of the lawsuit). It is formatted as string, we have to remove the 'Euro' and take just the number, moreover, we have to remove the point which in Italy is used to separate the thousands."
   ]
  },
  {
   "cell_type": "code",
   "execution_count": 6,
   "id": "65bb32af",
   "metadata": {},
   "outputs": [],
   "source": [
    "taxes_string = np.array(train_od['Value'])\n",
    "\n",
    "taxes_string_number = [string[5:] for string in taxes_string]\n",
    "\n",
    "taxes_number = []\n",
    "for value_string_wrong in taxes_string_number:\n",
    "    value_string = ''\n",
    "    for chr_ in value_string_wrong:\n",
    "        if chr_ != '.' and chr_ != ',':\n",
    "            value_string += chr_\n",
    "        elif chr_ == ',':\n",
    "            value_string += '.'\n",
    "    taxes_number.append(float(value_string)) # we need to transform the number in float"
   ]
  },
  {
   "cell_type": "code",
   "execution_count": 7,
   "id": "c20bd5e1",
   "metadata": {},
   "outputs": [],
   "source": [
    "train_od['Value formatted'] = taxes_number"
   ]
  },
  {
   "cell_type": "code",
   "execution_count": 8,
   "id": "69a01104",
   "metadata": {},
   "outputs": [],
   "source": [
    "del train_od['Value']"
   ]
  },
  {
   "cell_type": "markdown",
   "id": "20dd8bfd",
   "metadata": {},
   "source": [
    "`Unified Contribution` is the monetary cost for starting the lawsuit. Basically, to start a lawsuit there is the need of a \"budget\" that is the unified contribution.\n",
    "The unified contribution depends from the value of the lawsuit. \n",
    "The following are the unified contribution tables (of the first lawsuit grade) valid since the 25/06/2014 (first one) and before (second one).\n",
    "\n",
    "<a style=color:deepskyblue>$$SINCE - 25/06/2014 (First Grade)$$ </a>\n",
    "<table>\n",
    "    <tr> <td> Lawsuit value</td> <td> Unified contribution</td> </tr>\n",
    "    <tr> <td> 0€</td> <td>43€, 237€ and 98€ </td> </tr>\n",
    "    <tr> <td> 1€-1000€</td> <td> 43€</td> </tr>\n",
    "    <tr> <td> 1000.01€-1100€</td> <td> 43€</td> </tr>\n",
    "    <tr> <td> 1100.01€-5200€ </td> <td> 98€</td> </tr>\n",
    "    <tr> <td> 5200.01€-26000€</td> <td> 237€</td> </tr>\n",
    "    <tr> <td> 26000.01€-52000€</td> <td> 518€</td> </tr>\n",
    "    <tr> <td> 52000.01€-260000€</td> <td> 759€</td> </tr>\n",
    "    <tr> <td> 260000.01€-520000€</td> <td> 1214€</td> </tr>\n",
    "    <tr> <td> 520000.01€-∞</td> <td> 1686€</td> </tr>\n",
    "</table>\n",
    "\n",
    "<a style=color:deepskyblue> $$BEFORE - 25/06/2014 (First Grade)$$</a> \n",
    "<table>\n",
    "    <tr> <td> Lawsuit value</td> <td> Unified contribution</td> </tr>\n",
    "    <tr> <td> 0€</td> <td>37€, 85€, 206€ and 450€</td> </tr>\n",
    "    <tr> <td> 1€-1000€</td> <td>37€ </td> </tr>\n",
    "    <tr> <td> 1000.01€-1100€</td> <td>37€ </td> </tr>\n",
    "    <tr> <td> 1100.01€-5200€ </td> <td>85€ </td> </tr>\n",
    "    <tr> <td> 5200.01€-26000€</td> <td>206€ </td> </tr>\n",
    "    <tr> <td> 26000.01€-52000€</td> <td>450€ </td> </tr>\n",
    "    <tr> <td> 52000.01€-260000€</td> <td>660€ </td> </tr>\n",
    "    <tr> <td> 260000.01€-520000€</td> <td>1056€ </td> </tr>\n",
    "    <tr> <td> 520000.01€-∞</td> <td> 1466€</td> </tr>\n",
    "</table>\n",
    "\n",
    "Moreover, this field is formatted as the Value column was formatted, so we have to remove 'Euro' and convert the field as float. It's name will be Unified Contribution formatted."
   ]
  },
  {
   "cell_type": "code",
   "execution_count": 9,
   "id": "d2925ba5",
   "metadata": {},
   "outputs": [],
   "source": [
    "un_contr_string = train_od['Unified Contribution']\n",
    "\n",
    "un_contr_string_number =[]\n",
    "for string in un_contr_string:\n",
    "    if pd.isna(string)==False:\n",
    "        un_contr_string_number.append(string[5:])\n",
    "    else:\n",
    "        un_contr_string_number.append(pd.NA)\n",
    "\n",
    "un_contr_number = []\n",
    "for value_string_wrong in un_contr_string_number:\n",
    "    value_string = ''\n",
    "    if pd.isna(value_string_wrong)==False:\n",
    "        for chr_ in value_string_wrong:\n",
    "            if chr_ != '.' and chr_ != ',':\n",
    "                value_string += chr_\n",
    "            elif chr_ == ',':\n",
    "                value_string += '.'\n",
    "        un_contr_number.append(float(value_string)) # we need to transform the number in float\n",
    "    else:\n",
    "        un_contr_number.append(pd.NA)\n"
   ]
  },
  {
   "cell_type": "code",
   "execution_count": 10,
   "id": "529187cf",
   "metadata": {},
   "outputs": [],
   "source": [
    "train_od['Unified Contribution formatted'] = un_contr_number\n",
    "del train_od['Unified Contribution']"
   ]
  },
  {
   "cell_type": "markdown",
   "id": "b8ff1400",
   "metadata": {},
   "source": [
    "#### In the following chunks we create a function which returns the indexes of the rows which are probably anomalies. To do this we check in each row the value of Value formatted. If the value formatted is in a given range, then its Unified Contribution formatted must be in a given range to be a correct value (the tables are shown above: there are two of them because after the 25th June 2014 they changed). If the Unified Contribution is not in that range, then the function append the index in the anomalies_index list. Notice the following things:  \n",
    "\n",
    "* The NaN are not considered because otherwise pd.NA in [1,2,3] returns an error. We will analyze them separetely.\n",
    "* We are considering two tables because after the 25th June 2014 they changed.\n",
    "* We are considering the Value formatted transformed in integers because the values with float are far from the boundaries and so there is no danger that a row ends up in another range when we consider it as int.\n",
    "* We create also a function (unified_contribution_calculator) which gets the array of the \"standard\" values of the unified contribution like the ones you've seen in the previous table and returns an array with these values, these values multipled by 0.5, these values multipied by 1.5 and these values multiplied by 2. We did this in order to eliminate just the obvious anomalies.\n",
    "* We create two different excel files with all the columns of train_s and as rows the anomaly records."
   ]
  },
  {
   "cell_type": "code",
   "execution_count": 11,
   "id": "ad8ebbf5",
   "metadata": {},
   "outputs": [],
   "source": [
    "def retrieve_oddness(data, range_table):\n",
    "        '''\n",
    "        This function iterates through each row of the data and through each row in range_table and\n",
    "        if the Value formatted of a row in the data is in a range of the Lawsuit Value, then it is checked also if \n",
    "        the Unified Contribution of that row is in the right Unified Contribution range.\n",
    "        '''\n",
    "        anomalies_index = []\n",
    "        \n",
    "        for row_index_data in range(len(data)):\n",
    "            for row_index_table in range(len(range_table)):\n",
    "                if int(data.iloc[row_index_data]['Value formatted']) in range_table.iloc[row_index_table]['Lawsuit Value']:\n",
    "                    if data.iloc[row_index_data]['Unified Contribution formatted'] not in range_table.iloc[row_index_table]['Unified Contribution']:\n",
    "                        anomalies_index.append(row_index_data)\n",
    "                    break # once we find the right row (value-unified contribution) we don't need to check the ones below\n",
    "                        \n",
    "        return anomalies_index"
   ]
  },
  {
   "cell_type": "code",
   "execution_count": 12,
   "id": "12225431",
   "metadata": {},
   "outputs": [],
   "source": [
    "def unified_contribution_calculator(in_array):\n",
    "    out_array = list(in_array*0.5)+list(in_array*1)+list(in_array*1.5)+list(in_array*2)\n",
    "    return np.sort(np.array(out_array))"
   ]
  },
  {
   "cell_type": "markdown",
   "id": "5720cba1",
   "metadata": {},
   "source": [
    "The unified_contribution_calculator will be fed with the values of the first grade and the values of the second grade (which are the values of the first grade multiplied by 1.5)."
   ]
  },
  {
   "cell_type": "code",
   "execution_count": 13,
   "id": "b8e2696d",
   "metadata": {},
   "outputs": [],
   "source": [
    "table_range_since_25_06_2014 = pd.DataFrame({\n",
    "    'Lawsuit Value': [[0],np.arange(1,1101),np.arange(1101,5201),np.arange(5201,26001),np.arange(26001,52001),np.arange(52001,260001),np.arange(260001,520001),np.arange(520001, 3500000)],\n",
    "    'Unified Contribution' : [unified_contribution_calculator(np.array([43,98,237,259,518,43*1.5,98*1.5,237*1.5,259*1.5,518*1.5])),\n",
    "                              unified_contribution_calculator(np.array([43,43*1.5])),\n",
    "                              unified_contribution_calculator(np.array([98,98*1.5])),\n",
    "                              unified_contribution_calculator(np.array([237,237*1.5])),\n",
    "                              unified_contribution_calculator(np.array([518,518*1.5])),\n",
    "                              unified_contribution_calculator(np.array([759,759*1.5])),\n",
    "                              unified_contribution_calculator(np.array([1214,1214*1.5])),\n",
    "                              unified_contribution_calculator(np.array([1686,1686*1.5]))]\n",
    "})\n",
    "\n",
    "table_range_before_25_06_2014 = pd.DataFrame({\n",
    "    'Lawsuit Value': [[0],np.arange(1,1101),np.arange(1101,5201),np.arange(5201,26001),np.arange(26001,52001),np.arange(52001,260001),np.arange(260001,520001),np.arange(520001,3500000)],\n",
    "    'Unified Contribution' : [unified_contribution_calculator(np.array([37,85,206,450,37*1.5,85*1.5,206*1.5,450*1.5])),\n",
    "                              unified_contribution_calculator(np.array([37,37*1.5])),\n",
    "                              unified_contribution_calculator(np.array([85,85*1.5])),\n",
    "                              unified_contribution_calculator(np.array([206,206*1.5])),\n",
    "                              unified_contribution_calculator(np.array([450,450*1.5])),\n",
    "                              unified_contribution_calculator(np.array([660,660*1.5])),\n",
    "                              unified_contribution_calculator(np.array([1056,1056*1.5])),\n",
    "                              unified_contribution_calculator(np.array([1466,1466*1.5]))]\n",
    "})\n",
    "\n",
    "train_od_since_25_06_2014_complete = train_od.loc[train_od['Date']>='2014-06-25'][['ID','Value formatted', 'Unified Contribution formatted']]\n",
    "train_od_since_25_06_2014_not_NA = train_od_since_25_06_2014_complete.dropna()  \n",
    "train_od_before_25_06_2014_complete = train_od.loc[train_od['Date']<'2014-06-25'][['ID','Value formatted', 'Unified Contribution formatted']]\n",
    "train_od_before_25_06_2014_not_NA = train_od_before_25_06_2014_complete.dropna() "
   ]
  },
  {
   "cell_type": "code",
   "execution_count": 14,
   "id": "5df64704",
   "metadata": {},
   "outputs": [],
   "source": [
    "anomalies_index_since_25_06_2014 = retrieve_oddness(train_od_since_25_06_2014_not_NA, table_range_since_25_06_2014)\n",
    "\n",
    "anomalies_ID_since_25_06_2014 = []\n",
    "\n",
    "for idx in anomalies_index_since_25_06_2014:\n",
    "    anomalies_ID_since_25_06_2014.append(train_od_since_25_06_2014_not_NA.iloc[idx]['ID'])\n",
    "\n",
    "anomalies_index_before_25_06_2014 = retrieve_oddness(train_od_before_25_06_2014_not_NA, table_range_before_25_06_2014)\n",
    "\n",
    "anomalies_ID_before_25_06_2014 = []\n",
    "\n",
    "for idx in anomalies_index_before_25_06_2014:\n",
    "    anomalies_ID_before_25_06_2014.append(train_od_before_25_06_2014_not_NA.iloc[idx]['ID'])\n",
    "\n",
    "df_anomaly_since_25_06_2014 = train_od.loc[train_od['ID'].isin(anomalies_ID_since_25_06_2014)]\n",
    "#df_anomaly_since_25_06_2014.to_excel('df_anomaly_since_25_06_2014.xlsx')\n",
    "\n",
    "df_anomaly_before_25_06_2014 = train_od.loc[train_od['ID'].isin(anomalies_ID_before_25_06_2014)]\n",
    "#df_anomaly_before_25_06_2014.to_excel('df_anomaly_before_25_06_2014.xlsx')"
   ]
  },
  {
   "cell_type": "markdown",
   "id": "a2fc415b",
   "metadata": {},
   "source": [
    "<a style=color:deepskyblue> After analyzing the anomalies obtained with these function, we've decided to remove them from the data. This because they are just 4706+2298 rows and so it's not worth trying to substitute wrong values with the ones which respect the unified contribution boundaries. Also, we've decided to remove the NA values because we couldn't find a reason why there is no value in there."
   ]
  },
  {
   "cell_type": "code",
   "execution_count": 15,
   "id": "d0d063bf",
   "metadata": {},
   "outputs": [],
   "source": [
    "anomaly_IDs = list(df_anomaly_since_25_06_2014['ID'])+list(df_anomaly_before_25_06_2014['ID'])\n",
    "\n",
    "train_od_no_anomaly = train_od.loc[~train_od['ID'].isin(anomaly_IDs)]\n",
    "\n",
    "#train_od_no_anomaly.to_excel('train_od_no_anomaly.xlsx')"
   ]
  },
  {
   "cell_type": "code",
   "execution_count": 16,
   "id": "a7d27d6f",
   "metadata": {},
   "outputs": [],
   "source": [
    "train_od_no_anomaly_NA = train_od_no_anomaly.loc[train_od_no_anomaly['Unified Contribution formatted'].isna()]\n",
    "to_remove_anomalies = list(df_anomaly_before_25_06_2014['ID'])+list(df_anomaly_since_25_06_2014['ID'])\n",
    "to_remove_NA = list(train_od_no_anomaly_NA['ID'])\n",
    "train_od_cleaned = train_od.loc[~train_od['ID'].isin(to_remove_anomalies)]\n",
    "train_od_cleaned = train_od_cleaned.loc[~train_od_cleaned['ID'].isin(to_remove_NA)]\n",
    "#train_od_cleaned.to_excel('train_od_cleaned.xlsx')"
   ]
  },
  {
   "attachments": {},
   "cell_type": "markdown",
   "id": "f28d620b",
   "metadata": {},
   "source": [
    "<a style=color:deepskyblue> From now we are going to use the train_od_cleaned dataset. </a>"
   ]
  },
  {
   "cell_type": "markdown",
   "id": "a93c13fb",
   "metadata": {},
   "source": [
    "`Primary Actor` is the accusing part. There are 110862 NaN values. It is meaningless to check how many are the unique values because they are encripted for privacy reasons."
   ]
  },
  {
   "cell_type": "markdown",
   "id": "3e2a2f66",
   "metadata": {},
   "source": [
    "`Secondary Actor` is always the accusing part. There are 253867 NaN values."
   ]
  },
  {
   "cell_type": "markdown",
   "id": "9e7172cf",
   "metadata": {},
   "source": [
    "`Primary Defendant` is the defendant of the lawsuit. There are 111328 NaN values."
   ]
  },
  {
   "cell_type": "markdown",
   "id": "d4e18d97",
   "metadata": {},
   "source": [
    "`Secondary Defendant` is the defendant of the lawsuit. There are 188832 NaN values."
   ]
  },
  {
   "cell_type": "markdown",
   "id": "12670e1f",
   "metadata": {},
   "source": [
    "`Number of Lawyers`: lawyers of the actor + lawyers of the defendant"
   ]
  },
  {
   "cell_type": "markdown",
   "id": "9cbdf907",
   "metadata": {},
   "source": [
    "`Number of Legal Parties`:  the number of legal parties involved in the lawsuit"
   ]
  },
  {
   "cell_type": "markdown",
   "id": "1ad4ef5a",
   "metadata": {},
   "source": [
    "`Number of Persons`: number of attacked people ."
   ]
  },
  {
   "attachments": {},
   "cell_type": "markdown",
   "id": "56a142e1",
   "metadata": {},
   "source": [
    "`Duration`: How much the lawsuit lasts (in terms of days)."
   ]
  },
  {
   "cell_type": "markdown",
   "id": "ff2bd40f",
   "metadata": {},
   "source": [
    "`Outcome`: result of the lawsuit."
   ]
  },
  {
   "cell_type": "markdown",
   "id": "a278936c",
   "metadata": {},
   "source": [
    "Let's analyze the spearman (not linear) correlation between the numerical columns of the dataset."
   ]
  },
  {
   "cell_type": "code",
   "execution_count": 20,
   "id": "f8ed1d5a",
   "metadata": {},
   "outputs": [
    {
     "name": "stderr",
     "output_type": "stream",
     "text": [
      "/var/folders/j3/6zzd1jr16pb3yxx70_376pmw0000gn/T/ipykernel_5539/1802705095.py:3: FutureWarning: The default value of numeric_only in DataFrame.corr is deprecated. In a future version, it will default to False. Select only valid columns or specify the value of numeric_only to silence this warning.\n",
      "  corr = df_num.corr('spearman')\n"
     ]
    },
    {
     "data": {
      "image/png": "[encoded data removed]",
      "text/plain": [
       "<Figure size 640x480 with 2 Axes>"
      ]
     },
     "metadata": {},
     "output_type": "display_data"
    }
   ],
   "source": [
    "df_num = train_od_cleaned[['Value formatted', 'Unified Contribution formatted', 'Number of Lawyers', 'Number of Legal Parties', 'Number of Persons', 'Duration']]\n",
    "\n",
    "corr = df_num.corr('spearman')\n",
    "\n",
    "mask = np.zeros_like(corr)\n",
    "mask[np.triu_indices_from(mask)] = True\n",
    "\n",
    "dataplot = sns.heatmap(corr, cmap=plt.cm.coolwarm, annot=True,mask=mask, square=True)\n",
    "plt.show()"
   ]
  },
  {
   "attachments": {},
   "cell_type": "markdown",
   "id": "149f2ff6",
   "metadata": {},
   "source": [
    "<a style=color:deepskyblue> **The last preprocessing steps is to remove the observation where duration is lower than 0** (10963 observations (4% of the overall observations)) </a>.\n",
    "\n"
   ]
  },
  {
   "cell_type": "code",
   "execution_count": 21,
   "id": "5d91c329",
   "metadata": {
    "scrolled": true
   },
   "outputs": [],
   "source": [
    "train_od_cleaned = train_od_cleaned[train_od_cleaned['Duration'] > 0]"
   ]
  },
  {
   "cell_type": "code",
   "execution_count": 23,
   "id": "201dfc63",
   "metadata": {},
   "outputs": [],
   "source": [
    "del train_od_cleaned['ID']\n",
    "del train_od_cleaned['Primary Actor']\n",
    "del train_od_cleaned['Secondary Actor']\n",
    "del train_od_cleaned['Primary Defendant']\n",
    "del train_od_cleaned['Secondary Defendant']"
   ]
  },
  {
   "cell_type": "code",
   "execution_count": 95,
   "id": "81c1e028",
   "metadata": {},
   "outputs": [],
   "source": [
    "#train_od_cleaned.to_excel('final_train_od.xlsx')"
   ]
  },
  {
   "cell_type": "code",
   "execution_count": 4,
   "id": "62aaa7de",
   "metadata": {},
   "outputs": [],
   "source": [
    "data = pd.read_excel('../DATA/final_train_od.xlsx')"
   ]
  },
  {
   "cell_type": "code",
   "execution_count": 5,
   "id": "70850d6b",
   "metadata": {},
   "outputs": [],
   "source": [
    "del data['Unnamed: 0']"
   ]
  },
  {
   "cell_type": "code",
   "execution_count": 6,
   "id": "66227b24",
   "metadata": {},
   "outputs": [
    {
     "data": {
      "text/plain": [
       "OSA-180002    95668\n",
       "OR-140999     85055\n",
       "OR-145009     36160\n",
       "OR-145999     19870\n",
       "OSA-180099     7144\n",
       "OR-139999      3289\n",
       "OSA-180001     2439\n",
       "OR-101003      1738\n",
       "OR-130099       669\n",
       "OR-130121        28\n",
       "OR-130131        26\n",
       "OSA-140999       12\n",
       "OR-101002         6\n",
       "OR-180002         5\n",
       "OR-130111         4\n",
       "OSA-145999        1\n",
       "Name: Object, dtype: int64"
      ]
     },
     "execution_count": 6,
     "metadata": {},
     "output_type": "execute_result"
    }
   ],
   "source": [
    "data['Object'].value_counts()"
   ]
  },
  {
   "cell_type": "code",
   "execution_count": null,
   "id": "e32c8e91",
   "metadata": {},
   "outputs": [
    {
     "name": "stderr",
     "output_type": "stream",
     "text": [
      "/var/folders/k1/4fxq2hjd6z7fksrtl6mfqbtc0000gn/T/ipykernel_42734/1278460691.py:11: SettingWithCopyWarning: \n",
      "A value is trying to be set on a copy of a slice from a DataFrame\n",
      "\n",
      "See the caveats in the documentation: https://pandas.pydata.org/pandas-docs/stable/user_guide/indexing.html#returning-a-view-versus-a-copy\n",
      "  data[data['City of the judge’s office'].iloc[i]].iloc[i] = 1\n"
     ]
    }
   ],
   "source": [
    "cities = []\n",
    "for city in data['City of the judge’s office'].tolist() :\n",
    "\n",
    "    if city not in cities : \n",
    "        cities.append(city)\n",
    "\n",
    "for city in cities : \n",
    "    data[city] = np.zeros(len(data))\n",
    "\n",
    "for i in range(len(data)) : \n",
    "    data[data['City of the judge’s office'].iloc[i]].iloc[i] = 1\n",
    "\n",
    "del data['City of the judge’s office']"
   ]
  },
  {
   "cell_type": "code",
   "execution_count": null,
   "id": "585d4f5a",
   "metadata": {},
   "outputs": [],
   "source": [
    "crimes=[]\n",
    "for crime in data['Object'].tolist() :\n",
    "\n",
    "    if crime not in crimes : \n",
    "\n",
    "        crimes.append(crime)\n",
    "\n",
    "for crime in crimes : \n",
    "\n",
    "    data[crime] = np.zeros(len(data))\n",
    "\n",
    "for i in range(len(data)) : \n",
    "\n",
    "    data[data['Object'].iloc[i]].iloc[i] = 1"
   ]
  },
  {
   "cell_type": "code",
   "execution_count": null,
   "id": "d25a1cf8",
   "metadata": {},
   "outputs": [],
   "source": [
    "del data['Object']\n",
    "\n",
    "for i in range(len(data)) : \n",
    "\n",
    "    if data['Tax Related'].iloc[i] == True : \n",
    "\n",
    "        data['Tax Related'].iloc[i]  = 1 \n",
    "\n",
    "    else :\n",
    "\n",
    "        data['Tax Related'].iloc[i] = 0"
   ]
  },
  {
   "cell_type": "code",
   "execution_count": 27,
   "id": "f24d7fab",
   "metadata": {},
   "outputs": [],
   "source": [
    "from datetime import datetime\n",
    "\n",
    "new_time = datetime.strptime('15/10/2022','%d/%m/%Y')\n",
    "\n",
    "data['lasture'] = new_time - data['Date']\n",
    "\n",
    "data['lasture'] = data['lasture'].astype('timedelta64[D]').astype(int)\n",
    "\n",
    "data = data.loc[data['lasture']>data['Duration']]\n",
    "\n",
    "del data['lasture']"
   ]
  },
  {
   "cell_type": "code",
   "execution_count": 28,
   "id": "7e575f84",
   "metadata": {},
   "outputs": [],
   "source": [
    "# data = pd.to_excel('../DATA/final_train_od.xlsx')\n",
    "# data = pd.read_excel('../DATA/final_train_od.xlsx')"
   ]
  },
  {
   "cell_type": "code",
   "execution_count": null,
   "id": "ebd96035",
   "metadata": {},
   "outputs": [],
   "source": []
  },
  {
   "attachments": {},
   "cell_type": "markdown",
   "id": "18ae4bfb",
   "metadata": {},
   "source": [
    "# <a style=background:yellow;color:black> Models <a>"
   ]
  },
  {
   "attachments": {},
   "cell_type": "markdown",
   "id": "d1d472ad",
   "metadata": {},
   "source": [
    "## <a style=background:yellow;color:black> Random forest </a>"
   ]
  },
  {
   "cell_type": "code",
   "execution_count": null,
   "id": "e5331308",
   "metadata": {},
   "outputs": [],
   "source": [
    "from sklearn.ensemble import RandomForestClassifier\n",
    "from sklearn.model_selection import train_test_split\n",
    "from sklearn.metrics import f1_score\n",
    "\n",
    "# Carica i dati\n",
    "X, y = load_data()\n",
    "\n",
    "# Dividi i dati in training e test set\n",
    "X_train, X_test, y_train, y_test = train_test_split(X, y, test_size=0.2, random_state=42)\n",
    "\n",
    "# Crea il modello di random forest\n",
    "model = RandomForestClassifier(n_estimators=100, class_weight='balanced')\n",
    "\n",
    "# Addestra il modello\n",
    "model.fit(X_train, y_train)\n",
    "\n",
    "# Fai le previsioni sul test set\n",
    "y_pred = model.predict(X_test)\n",
    "\n",
    "# Calcola l'f1 score\n",
    "f1 = f1_score(y_test, y_pred)\n",
    "\n",
    "print(\"f1 score:\", f1)\n"
   ]
  },
  {
   "attachments": {},
   "cell_type": "markdown",
   "id": "f1d44acd",
   "metadata": {},
   "source": [
    "## <a style=background:yellow;color:black> Neural Network</a>"
   ]
  },
  {
   "cell_type": "code",
   "execution_count": null,
   "id": "9af63687",
   "metadata": {},
   "outputs": [],
   "source": [
    "import numpy as np\n",
    "from sklearn.preprocessing import LabelEncoder\n",
    "from sklearn.model_selection import train_test_split\n",
    "from sklearn.metrics import f1_score\n",
    "from tensorflow.keras.utils import to_categorical\n",
    "from tensorflow.keras.models import Sequential\n",
    "from tensorflow.keras.layers import Dense\n",
    "\n",
    "# carica i dati\n",
    "X = np.load('data_features.npy')\n",
    "y = np.load('data_labels.npy')\n",
    "\n",
    "# converte la variabile da predire in numerica\n",
    "encoder = LabelEncoder()\n",
    "y = encoder.fit_transform(y)\n",
    "\n",
    "# divide i dati in training e test set\n",
    "X_train, X_test, y_train, y_test = train_test_split(X, y, test_size=0.2)\n",
    "\n",
    "# converte le etichette in formato one-hot\n",
    "y_train = to_categorical(y_train)\n",
    "y_test = to_categorical(y_test)\n",
    "\n",
    "# crea il modello\n",
    "model = Sequential()\n",
    "model.add(Dense(10, input_dim=X.shape[1], activation='relu'))\n",
    "model.add(Dense(10, activation='relu'))\n",
    "model.add(Dense(y.shape[1], activation='softmax'))\n",
    "\n",
    "# compila il modello\n",
    "model.compile(loss='categorical_crossentropy', optimizer='adam', metrics=['accuracy'])\n",
    "\n",
    "# addestra il modello\n",
    "model.fit(X_train, y_train, epochs=10, batch_size=32, validation_data=(X_test, y_test))\n",
    "\n",
    "# effettua le predizioni\n",
    "y_pred = model.predict(X_test)\n",
    "\n",
    "# calcola l'f1 score\n",
    "score = f1_score(y_test, y_pred, average='micro')\n",
    "print(score)\n"
   ]
  }
 ],
 "metadata": {
  "kernelspec": {
   "display_name": "Adri_Env",
   "language": "python",
   "name": "python3"
  },
  "language_info": {
   "codemirror_mode": {
    "name": "ipython",
    "version": 3
   },
   "file_extension": ".py",
   "mimetype": "text/x-python",
   "name": "python",
   "nbconvert_exporter": "python",
   "pygments_lexer": "ipython3",
   "version": "3.10.8 | packaged by conda-forge | (main, Nov 22 2022, 08:25:29) [Clang 14.0.6 ]"
  },
  "vscode": {
   "interpreter": {
    "hash": "28d2d24dc05509bf292e34803b47a1e549616d0bedf6bebdafbe5e542b7fb512"
   }
  }
 },
 "nbformat": 4,
 "nbformat_minor": 5
}
