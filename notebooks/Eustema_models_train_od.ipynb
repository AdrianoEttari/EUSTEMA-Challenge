{
 "cells": [
  {
   "attachments": {},
   "cell_type": "markdown",
   "metadata": {},
   "source": [
    "# <a style = background:lightgreen;color:black>Outcome and Duration Prediction on train_od (modeling) </a>"
   ]
  },
  {
   "cell_type": "code",
   "execution_count": 1,
   "metadata": {},
   "outputs": [],
   "source": [
    "import pandas as pd\n",
    "import numpy as np"
   ]
  },
  {
   "cell_type": "code",
   "execution_count": 2,
   "metadata": {},
   "outputs": [],
   "source": [
    "data = pd.read_csv('../DATA/final_train_od_dummies.csv')"
   ]
  },
  {
   "attachments": {},
   "cell_type": "markdown",
   "metadata": {},
   "source": [
    "You have to encode target (Outcome) labels with value between 0 and n_classes-1."
   ]
  },
  {
   "cell_type": "code",
   "execution_count": 3,
   "metadata": {},
   "outputs": [],
   "source": [
    "from sklearn.preprocessing import LabelEncoder\n",
    "\n",
    "le = LabelEncoder()\n",
    "le.fit(np.array(data['Outcome']).ravel())\n",
    "data['Outcome'] = le.transform(np.array(data['Outcome']).ravel())"
   ]
  },
  {
   "cell_type": "code",
   "execution_count": 4,
   "metadata": {},
   "outputs": [],
   "source": [
    "X = data[['Tax Related', 'Number of Lawyers',\n",
    "     'Number of Legal Parties', 'Value formatted',\n",
    "       'Unified Contribution formatted', 'Milano', 'Bari', 'Bologna', 'Genova',\n",
    "       'Palermo', 'Napoli', 'Torino', 'Trento', 'Roma', \"L'Aquila\", 'Potenza',\n",
    "       'Perugia', 'Campobasso', 'Firenze', 'Cagliari', 'Venezia', 'Cosenza',\n",
    "       'Ancona', 'Trieste', 'Aosta','OR-140999', 'OR-145009', 'OR-139999',\n",
    "       'OR-145999', 'OR-130099', 'OR-101003', 'OR-130121', 'OR-130111',\n",
    "       'OR-130131', 'OR-101002', 'OR-180002', 'OSA-180002','OSA-180099','OSA-180001','OSA-140999','OSA-145999']]\n",
    "\n",
    "y = data[['Duration', 'Outcome']]"
   ]
  },
  {
   "attachments": {},
   "cell_type": "markdown",
   "metadata": {},
   "source": [
    "## <a style=background:yellow;color:black> Standardization and Split in training, validation and testing set </a>"
   ]
  },
  {
   "attachments": {},
   "cell_type": "markdown",
   "metadata": {},
   "source": [
    "You need to scale just the variables that are neither dummies nor boolean."
   ]
  },
  {
   "cell_type": "code",
   "execution_count": 5,
   "metadata": {},
   "outputs": [],
   "source": [
    "X_to_scale = X[['Number of Lawyers','Number of Legal Parties', 'Value formatted',\n",
    "       'Unified Contribution formatted']]\n",
    "X_not_to_scale = X[['Tax Related','Milano', 'Bari', 'Bologna', 'Genova',\n",
    "       'Palermo', 'Napoli', 'Torino', 'Trento', 'Roma', \"L'Aquila\", 'Potenza',\n",
    "       'Perugia', 'Campobasso', 'Firenze', 'Cagliari', 'Venezia', 'Cosenza',\n",
    "       'Ancona', 'Trieste', 'Aosta','OR-140999', 'OR-145009', 'OR-139999',\n",
    "       'OR-145999', 'OR-130099', 'OR-101003', 'OR-130121', 'OR-130111',\n",
    "       'OR-130131', 'OR-101002', 'OR-180002', 'OSA-180002','OSA-180099','OSA-180001','OSA-140999','OSA-145999']]"
   ]
  },
  {
   "cell_type": "code",
   "execution_count": 6,
   "metadata": {},
   "outputs": [],
   "source": [
    "from sklearn.preprocessing import StandardScaler\n",
    "from sklearn.model_selection import train_test_split\n",
    "\n",
    "y = pd.DataFrame(y)\n",
    "std_scale = StandardScaler()\n",
    "X_scaled = std_scale.fit_transform(X_to_scale)"
   ]
  },
  {
   "cell_type": "code",
   "execution_count": 7,
   "metadata": {},
   "outputs": [],
   "source": [
    "X_scaled_df = pd.DataFrame(X_scaled, columns=[X_to_scale.columns])\n",
    "X_scaled_df = pd.concat([X_scaled_df, X_not_to_scale], axis=1)"
   ]
  },
  {
   "cell_type": "code",
   "execution_count": 8,
   "metadata": {},
   "outputs": [],
   "source": [
    "new_var_names = []\n",
    "for var_name in X_scaled_df.columns:\n",
    "    if '(' not in var_name:\n",
    "        new_var_names.append(var_name)\n",
    "    else:\n",
    "        new_var_names.append(var_name.replace('(', '').replace(')', '')\n",
    "        .replace('\\'','').replace(',','').replace('\"',''))\n",
    "new_var_names = []\n",
    "for var_name in X_scaled_df.columns:\n",
    "    if type(var_name) != tuple:\n",
    "        new_var_names.append(var_name)\n",
    "    else:\n",
    "        new_var_names.append(var_name[0])\n",
    "\n",
    "X_scaled_df = pd.DataFrame(X_scaled_df.values, columns=new_var_names)"
   ]
  },
  {
   "cell_type": "code",
   "execution_count": 9,
   "metadata": {},
   "outputs": [],
   "source": [
    "X_train_val, X_test, y_train_val, y_test = train_test_split(X_scaled_df, y, random_state=0,\n",
    "                                                            test_size=0.1)\n",
    "\n",
    "X_train, X_val, y_train, y_val = train_test_split(X_train_val, y_train_val,random_state=0,\n",
    "                                                            test_size=0.2  )"
   ]
  },
  {
   "cell_type": "code",
   "execution_count": 10,
   "metadata": {},
   "outputs": [],
   "source": [
    "y_train_val_duration = y_train_val['Duration']\n",
    "y_train_val_Outcome = y_train_val['Outcome']\n",
    "y_test_duration = y_test['Duration']\n",
    "y_test_Outcome = y_test['Outcome']\n",
    "y_train_duration = y_train['Duration']\n",
    "y_train_Outcome = y_train['Outcome']\n",
    "y_val_duration = y_val['Duration']\n",
    "y_val_Outcome = y_val['Outcome']\n",
    "y_train_val_duration = pd.DataFrame(y_train_val_duration)\n",
    "y_train_val_Outcome = pd.DataFrame(y_train_val_Outcome)\n",
    "y_test_duration = pd.DataFrame(y_test_duration)\n",
    "y_test_Outcome = pd.DataFrame(y_test_Outcome)\n",
    "y_train_duration = pd.DataFrame(y_train_duration)\n",
    "y_train_Outcome = pd.DataFrame(y_train_Outcome )\n",
    "y_val_duration = pd.DataFrame(y_val_duration)\n",
    "y_val_Outcome = pd.DataFrame(y_val_Outcome)"
   ]
  },
  {
   "attachments": {},
   "cell_type": "markdown",
   "id": "18ae4bfb",
   "metadata": {},
   "source": [
    "# <a style=background:yellow;color:black> Models <a>"
   ]
  },
  {
   "attachments": {},
   "cell_type": "markdown",
   "metadata": {},
   "source": [
    "## <a style=background:yellow;color:black> CLASSIFICATION TASK </a>"
   ]
  },
  {
   "attachments": {},
   "cell_type": "markdown",
   "id": "d1d472ad",
   "metadata": {},
   "source": [
    "### <a style=background:yellow;color:black> Random forest Classification</a>"
   ]
  },
  {
   "attachments": {},
   "cell_type": "markdown",
   "metadata": {},
   "source": [
    "<a style=color:red> During the training I got 0.43 of f1_score on the test set. I don't know what happened. Maybe it's better deliting it </a>"
   ]
  },
  {
   "attachments": {},
   "cell_type": "markdown",
   "metadata": {},
   "source": [
    "Due to the lack of computational power, we cannot use the GridSearchCV sklearn function to find the best parameters for the Random Forest Classifier. We will do it by hand and save the result of each random forest locally. Actually not all the results are saved: at each step we check if the f1_score is better than the previous one and if it is the case we save the result, otherwise we just change the name of the one we saved before (in order to understand where we left in case the runtime died)."
   ]
  },
  {
   "cell_type": "code",
   "execution_count": 11,
   "metadata": {},
   "outputs": [],
   "source": [
    "import itertools as it\n",
    "import os\n",
    "from sklearn.ensemble import RandomForestClassifier\n",
    "from sklearn.metrics import f1_score\n",
    "\n",
    "# param_grid = {'max_depth':np.arange(1,8),\n",
    "#                'min_samples_split':np.arange(5,100,10),\n",
    "#                'min_samples_leaf':np.arange(5,100,10),\n",
    "#                'n_estimators':np.arange(1,500,50)}\n",
    "\n",
    "\n",
    "# allNames = sorted(param_grid)\n",
    "# combinations = it.product(*(param_grid[Name] for Name in allNames))\n",
    "# combinations = list(combinations)\n",
    "\n",
    "# df = pd.DataFrame(combinations, columns=param_grid.keys())\n",
    "\n",
    "# start_point = int(input('START POINT:'))\n",
    "# end_point = int(input('END POINT:'))\n",
    "\n",
    "\n",
    "# # best_f1 = np.load('../RFC/'+os.listdir('../RFC')[-1],allow_pickle=True)[1]\n",
    "# best_f1 = 0 \n",
    "# for i in range(start_point,end_point):\n",
    "#   clf = RandomForestClassifier(max_depth = df.iloc[i][0],\n",
    "#                                min_samples_split = df.iloc[i][1],\n",
    "#                                min_samples_leaf = df.iloc[i][2],\n",
    "#                                n_estimators = df.iloc[i][3],\n",
    "#                                class_weight = 'balanced',\n",
    "#                                n_jobs=1)\n",
    "#   clf.fit(X_train_val, np.array(y_train_val_Outcome).ravel())\n",
    "#   clf_val = np.array([clf.get_params(), f1_score(np.array(y_test_Outcome).ravel(),clf.predict(X_test), average = 'weighted')])\n",
    "#   if clf_val[1]>best_f1:\n",
    "#     best_f1 = clf_val[1]\n",
    "#     #np.save(os.path.join('/content/drive/MyDrive/RFC/', 'best_up_to_' + str(i)), clf_val)\n",
    "#     np.save(os.path.join('../RFC', 'best_up_to_'+str(i)),clf_val)\n",
    "#   else:\n",
    "#     # os.rename('/content/drive/MyDrive/RFC/' + os.listdir('/content/drive/MyDrive/RFC/')[-1],\n",
    "#     #           os.path.join('/content/drive/MyDrive/RFC/', 'best_up_to_' + str(i) + '.npy'))\n",
    "#     os.rename('../RFC/'+os.listdir('../RFC')[-1], os.path.join('../RFC', 'best_up_to_'+str(i)+'.npy'))\n",
    "    "
   ]
  },
  {
   "cell_type": "code",
   "execution_count": null,
   "metadata": {},
   "outputs": [],
   "source": [
    "from sklearn.ensemble import RandomForestClassifier\n",
    "from sklearn.metrics import confusion_matrix,precision_score\n",
    "from sklearn.metrics import recall_score,f1_score,ConfusionMatrixDisplay\n",
    "import matplotlib.pyplot as plt\n",
    "\n",
    "best_rnd_for_clf = RandomForestClassifier()\n",
    "best_rnd_for_clf.set_params(**np.load('../RFC/'+os.listdir('../RFC')[-1],allow_pickle=True)[0])\n",
    "best_rnd_for_clf.fit(X_train_val, np.array(y_train_val_Outcome).ravel())"
   ]
  },
  {
   "cell_type": "code",
   "execution_count": 33,
   "metadata": {},
   "outputs": [
    {
     "data": {
      "image/png": "[encoded data removed]",
      "text/plain": [
       "<Figure size 640x480 with 2 Axes>"
      ]
     },
     "metadata": {},
     "output_type": "display_data"
    }
   ],
   "source": [
    "y_pred_Outcome_rnd_for = best_rnd_for_clf.predict(X_test)\n",
    "ConfusionMatrixDisplay.from_predictions(y_test_Outcome,y_pred_Outcome_rnd_for, normalize = \"true\", cmap = \"Reds\")\n",
    "plt.show()"
   ]
  },
  {
   "cell_type": "code",
   "execution_count": null,
   "metadata": {},
   "outputs": [],
   "source": [
    "f1_rnd_for = f1_score(y_test_Outcome, y_pred_Outcome_rnd_for,average = 'weighted')\n",
    "precision_rnd_for = precision_score(y_test_Outcome,y_pred_Outcome_rnd_for,average = 'weighted')\n",
    "recall_rnd_for = recall_score(y_test_Outcome,y_pred_Outcome_rnd_for,average ='weighted')\n",
    "\n",
    "print(\"precision:\", precision_rnd_for)\n",
    "print(\"recall:\", recall_rnd_for)\n",
    "print(\"f1 score:\", f1_rnd_for)"
   ]
  },
  {
   "cell_type": "code",
   "execution_count": 48,
   "metadata": {},
   "outputs": [
    {
     "data": {
      "text/plain": [
       "array([[   0, 4385, 4053, 5627],\n",
       "       [   0,  525,  323,  271],\n",
       "       [   0, 1961, 2879, 3212],\n",
       "       [   0,  342,  348, 1271]])"
      ]
     },
     "execution_count": 48,
     "metadata": {},
     "output_type": "execute_result"
    }
   ],
   "source": [
    "confusion_matrix(y_test_Outcome, y_pred_Outcome_rnd_for)"
   ]
  },
  {
   "attachments": {},
   "cell_type": "markdown",
   "metadata": {},
   "source": [
    "### <a style=background:yellow;color:black> XGBOOST Classification </a>"
   ]
  },
  {
   "cell_type": "code",
   "execution_count": 25,
   "metadata": {},
   "outputs": [],
   "source": [
    "import xgboost\n",
    "from sklearn.metrics import confusion_matrix\n",
    "from sklearn.metrics import precision_score\n",
    "from sklearn.metrics import recall_score\n",
    "from sklearn.metrics import f1_score\n",
    "import matplotlib.pyplot as plt\n",
    "from sklearn.metrics import ConfusionMatrixDisplay"
   ]
  },
  {
   "cell_type": "code",
   "execution_count": null,
   "metadata": {},
   "outputs": [],
   "source": [
    "xgb_class = xgboost.XGBClassifier(n_estimators = 300,random_state = 42,eval_metric = 'merror')\n",
    "xgb_class.fit(X_train,y_train_Outcome,eval_set = [(X_val,y_val_Outcome)],early_stopping_rounds = 15)"
   ]
  },
  {
   "cell_type": "code",
   "execution_count": 46,
   "metadata": {},
   "outputs": [
    {
     "data": {
      "image/png": "[encoded data removed]",
      "text/plain": [
       "<Figure size 640x480 with 2 Axes>"
      ]
     },
     "metadata": {},
     "output_type": "display_data"
    }
   ],
   "source": [
    "import matplotlib.pyplot as plt\n",
    "from sklearn.metrics import ConfusionMatrixDisplay\n",
    "y_pred_Outcome_xgb = xgb_class.predict(X_test)\n",
    "ConfusionMatrixDisplay.from_predictions(y_test_Outcome,y_pred_Outcome_xgb, normalize = \"true\", cmap = \"Reds\")\n",
    "plt.show()"
   ]
  },
  {
   "cell_type": "code",
   "execution_count": 41,
   "metadata": {},
   "outputs": [
    {
     "name": "stdout",
     "output_type": "stream",
     "text": [
      "precision: 0.5704663902382515\n",
      "recall: 0.59237210779061\n",
      "f1 score: 0.5372173890480365\n"
     ]
    }
   ],
   "source": [
    "f1_xgb = f1_score(y_test_Outcome, y_pred_Outcome_xgb,average = 'weighted')\n",
    "precision_xgb = precision_score(y_test_Outcome,y_pred_Outcome_xgb,average = 'weighted')\n",
    "recall_xgb = recall_score(y_test_Outcome,y_pred_Outcome_xgb,average ='weighted')\n",
    "\n",
    "print(\"precision:\", precision_xgb)\n",
    "print(\"recall:\", recall_xgb)\n",
    "print(\"f1 score:\", f1_xgb)"
   ]
  },
  {
   "cell_type": "code",
   "execution_count": 79,
   "metadata": {},
   "outputs": [
    {
     "name": "stdout",
     "output_type": "stream",
     "text": [
      "[[12392    25  1547   101]\n",
      " [  897    35   173    14]\n",
      " [ 5708     9  2233   102]\n",
      " [ 1321     1   373   266]]\n",
      "Precision for class 0: 0.6099025494635298 n.obs: 20318\n",
      "Precision for class 1: 0.5 n.obs: 70\n",
      "Precision for class 2: 0.5161812297734628 n.obs: 4326\n",
      "Precision for class 3: 0.5507246376811594 n.obs: 483\n",
      "Overall Precision: [0.57046639]\n"
     ]
    }
   ],
   "source": [
    "conf_matrix = confusion_matrix(y_test_Outcome, y_pred_Outcome_xgb)\n",
    "print(conf_matrix)\n",
    "\n",
    "precisions =[] \n",
    "\n",
    "for i in range(4):\n",
    "    precisions.append(conf_matrix[i,i]/np.sum(conf_matrix[:,i]))\n",
    "    print('Precision for class {}: {}'.format(i,precisions[i]), 'n.obs: {}'.format(np.sum(conf_matrix[:,i])))\n",
    "\n",
    "overall_precision = 0\n",
    "for i in range(4):\n",
    "    overall_precision += precisions[i]*np.sum(y_test_Outcome==i)/len(y_test_Outcome)\n",
    "    \n",
    "print('Overall Precision: {}'.format(overall_precision.to_numpy()))"
   ]
  },
  {
   "attachments": {},
   "cell_type": "markdown",
   "metadata": {},
   "source": [
    "### <a style=background:yellow;color:black> Neural Network Classification </a>"
   ]
  },
  {
   "cell_type": "code",
   "execution_count": 13,
   "metadata": {},
   "outputs": [],
   "source": [
    "import tensorflow as tf\n",
    "from tensorflow import keras\n",
    "from sklearn.metrics import confusion_matrix,precision_score\n",
    "from sklearn.metrics import recall_score,f1_score,ConfusionMatrixDisplay\n",
    "import os"
   ]
  },
  {
   "cell_type": "code",
   "execution_count": 36,
   "metadata": {},
   "outputs": [],
   "source": [
    "tf.random.set_seed(42)\n",
    "keras.backend.clear_session() \n",
    "np.random.seed(42)"
   ]
  },
  {
   "cell_type": "code",
   "execution_count": 37,
   "metadata": {},
   "outputs": [],
   "source": [
    "def get_run_logdir(root_logdir, model_name):\n",
    "    import time\n",
    "    run_id = time.strftime('run_%Y_%m_%d-%H_%M_%S')\n",
    "    return os.path.join(root_logdir, model_name+'_'+run_id)\n",
    "\n",
    "model_name = input('Enter model name: ')\n",
    "root_logdir = os.path.join(os.curdir,'..', 'my_logs')\n",
    "run_logdir = get_run_logdir(root_logdir, model_name)\n",
    "\n",
    "early_stop_cb = tf.keras.callbacks.EarlyStopping(patience=10, restore_best_weights=True)\n",
    "tensorboard_cb = keras.callbacks.TensorBoard(run_logdir,\n",
    "                                            histogram_freq=1)"
   ]
  },
  {
   "cell_type": "code",
   "execution_count": null,
   "metadata": {},
   "outputs": [],
   "source": [
    "NN_class = keras.models.Sequential([\n",
    "    keras.layers.Dense(1024,activation = 'relu',kernel_initializer='he_normal',input_shape = X_train.shape[1:]),\n",
    "    keras.layers.Dense(512,activation = 'relu',kernel_initializer='he_normal'),\n",
    "    keras.layers.Dense(256,activation = 'relu',kernel_initializer='he_normal'),\n",
    "    keras.layers.Dense(128,activation = 'relu',kernel_initializer='he_normal'),\n",
    "    keras.layers.Dense(56,activation = 'relu',kernel_initializer='he_normal'),\n",
    "    keras.layers.Dense(4,activation = 'softmax')\n",
    "])"
   ]
  },
  {
   "cell_type": "code",
   "execution_count": 39,
   "metadata": {},
   "outputs": [
    {
     "name": "stdout",
     "output_type": "stream",
     "text": [
      "Epoch 1/30\n"
     ]
    },
    {
     "name": "stderr",
     "output_type": "stream",
     "text": [
      "2023-01-14 23:29:40.334996: W tensorflow/core/platform/profile_utils/cpu_utils.cc:128] Failed to get CPU frequency: 0 Hz\n",
      "2023-01-14 23:29:40.562505: I tensorflow/core/grappler/optimizers/custom_graph_optimizer_registry.cc:113] Plugin optimizer for device_type GPU is enabled.\n"
     ]
    },
    {
     "name": "stdout",
     "output_type": "stream",
     "text": [
      "5670/5670 [==============================] - ETA: 0s - loss: 0.9465 - Accuracy: 0.5697"
     ]
    },
    {
     "name": "stderr",
     "output_type": "stream",
     "text": [
      "2023-01-14 23:30:22.900760: I tensorflow/core/grappler/optimizers/custom_graph_optimizer_registry.cc:113] Plugin optimizer for device_type GPU is enabled.\n"
     ]
    },
    {
     "name": "stdout",
     "output_type": "stream",
     "text": [
      "5670/5670 [==============================] - 48s 8ms/step - loss: 0.9465 - Accuracy: 0.5697 - val_loss: 0.9371 - val_Accuracy: 0.5724\n",
      "Epoch 2/30\n",
      "5670/5670 [==============================] - 48s 8ms/step - loss: 0.9296 - Accuracy: 0.5768 - val_loss: 0.9313 - val_Accuracy: 0.5771\n",
      "Epoch 3/30\n",
      "5670/5670 [==============================] - 49s 9ms/step - loss: 0.9241 - Accuracy: 0.5788 - val_loss: 0.9311 - val_Accuracy: 0.5782\n",
      "Epoch 4/30\n",
      "5670/5670 [==============================] - 46s 8ms/step - loss: 0.9207 - Accuracy: 0.5812 - val_loss: 0.9288 - val_Accuracy: 0.5793\n",
      "Epoch 5/30\n",
      "5670/5670 [==============================] - 49s 9ms/step - loss: 0.9193 - Accuracy: 0.5816 - val_loss: 0.9247 - val_Accuracy: 0.5790\n",
      "Epoch 6/30\n",
      "5670/5670 [==============================] - 50s 9ms/step - loss: 0.9165 - Accuracy: 0.5833 - val_loss: 0.9274 - val_Accuracy: 0.5804\n",
      "Epoch 7/30\n",
      "5670/5670 [==============================] - 51s 9ms/step - loss: 0.9164 - Accuracy: 0.5844 - val_loss: 0.9244 - val_Accuracy: 0.5800\n",
      "Epoch 8/30\n",
      "5670/5670 [==============================] - 50s 9ms/step - loss: 0.9134 - Accuracy: 0.5847 - val_loss: 0.9241 - val_Accuracy: 0.5797\n",
      "Epoch 9/30\n",
      "5670/5670 [==============================] - 50s 9ms/step - loss: 0.9128 - Accuracy: 0.5862 - val_loss: 0.9246 - val_Accuracy: 0.5814\n",
      "Epoch 10/30\n",
      "5670/5670 [==============================] - 51s 9ms/step - loss: 0.9114 - Accuracy: 0.5862 - val_loss: 0.9273 - val_Accuracy: 0.5804\n",
      "Epoch 11/30\n",
      "5670/5670 [==============================] - 51s 9ms/step - loss: 0.9113 - Accuracy: 0.5866 - val_loss: 0.9250 - val_Accuracy: 0.5813\n",
      "Epoch 12/30\n",
      "5670/5670 [==============================] - 51s 9ms/step - loss: 0.9091 - Accuracy: 0.5876 - val_loss: 0.9252 - val_Accuracy: 0.5799\n",
      "Epoch 13/30\n",
      "5670/5670 [==============================] - 50s 9ms/step - loss: 0.9091 - Accuracy: 0.5865 - val_loss: 0.9229 - val_Accuracy: 0.5815\n",
      "Epoch 14/30\n",
      "5670/5670 [==============================] - 50s 9ms/step - loss: 0.9078 - Accuracy: 0.5881 - val_loss: 0.9266 - val_Accuracy: 0.5811\n",
      "Epoch 15/30\n",
      "5670/5670 [==============================] - 50s 9ms/step - loss: 0.9068 - Accuracy: 0.5883 - val_loss: 0.9267 - val_Accuracy: 0.5804\n",
      "Epoch 16/30\n",
      "5670/5670 [==============================] - 50s 9ms/step - loss: 0.9056 - Accuracy: 0.5884 - val_loss: 0.9263 - val_Accuracy: 0.5825\n",
      "Epoch 17/30\n",
      "5670/5670 [==============================] - 48s 9ms/step - loss: 0.9047 - Accuracy: 0.5892 - val_loss: 0.9261 - val_Accuracy: 0.5825\n",
      "Epoch 18/30\n",
      "5670/5670 [==============================] - 49s 9ms/step - loss: 0.9043 - Accuracy: 0.5895 - val_loss: 0.9292 - val_Accuracy: 0.5787\n",
      "Epoch 19/30\n",
      "5670/5670 [==============================] - 47s 8ms/step - loss: 0.9043 - Accuracy: 0.5891 - val_loss: 0.9302 - val_Accuracy: 0.5793\n",
      "Epoch 20/30\n",
      "5670/5670 [==============================] - 47s 8ms/step - loss: 0.9028 - Accuracy: 0.5906 - val_loss: 0.9271 - val_Accuracy: 0.5810\n",
      "Epoch 21/30\n",
      "5670/5670 [==============================] - 50s 9ms/step - loss: 0.9020 - Accuracy: 0.5908 - val_loss: 0.9402 - val_Accuracy: 0.5748\n",
      "Epoch 22/30\n",
      "5670/5670 [==============================] - 50s 9ms/step - loss: 0.9016 - Accuracy: 0.5907 - val_loss: 0.9367 - val_Accuracy: 0.5791\n",
      "Epoch 23/30\n",
      "5670/5670 [==============================] - 49s 9ms/step - loss: 0.9016 - Accuracy: 0.5908 - val_loss: 0.9359 - val_Accuracy: 0.5804\n"
     ]
    }
   ],
   "source": [
    "NN_class.compile(loss = \"sparse_categorical_crossentropy\",optimizer = \"adam\",metrics = ['Accuracy'])\n",
    "history_class = NN_class.fit(X_train,y_train_Outcome,epochs = 30,validation_data = (X_val,y_val_Outcome),callbacks=[tensorboard_cb, early_stop_cb])"
   ]
  },
  {
   "cell_type": "code",
   "execution_count": null,
   "metadata": {},
   "outputs": [],
   "source": [
    "!tensorboard --logdir=../my_logs --port=6006"
   ]
  },
  {
   "cell_type": "code",
   "execution_count": 40,
   "metadata": {},
   "outputs": [
    {
     "name": "stdout",
     "output_type": "stream",
     "text": [
      " 44/788 [>.............................] - ETA: 1s"
     ]
    },
    {
     "name": "stderr",
     "output_type": "stream",
     "text": [
      "2023-01-14 23:49:19.855527: I tensorflow/core/grappler/optimizers/custom_graph_optimizer_registry.cc:113] Plugin optimizer for device_type GPU is enabled.\n"
     ]
    },
    {
     "name": "stdout",
     "output_type": "stream",
     "text": [
      "788/788 [==============================] - 2s 2ms/step\n"
     ]
    },
    {
     "data": {
      "image/png": "[encoded data removed]",
      "text/plain": [
       "<Figure size 640x480 with 2 Axes>"
      ]
     },
     "metadata": {},
     "output_type": "display_data"
    }
   ],
   "source": [
    "y_pred_Outcome_NN = np.argmax(NN_class.predict(X_test),axis=1)\n",
    "ConfusionMatrixDisplay.from_predictions(y_test_Outcome,y_pred_Outcome_NN, normalize = \"true\", cmap = \"Reds\")\n",
    "plt.show()"
   ]
  },
  {
   "cell_type": "code",
   "execution_count": 41,
   "metadata": {},
   "outputs": [
    {
     "name": "stdout",
     "output_type": "stream",
     "text": [
      "precision: 0.5617734796814394\n",
      "recall: 0.5868555780450053\n",
      "f1 score: 0.5412687022490835\n"
     ]
    }
   ],
   "source": [
    "f1_NN = f1_score(y_test_Outcome,y_pred_Outcome_NN,average = 'weighted')\n",
    "precision_NN = precision_score(y_test_Outcome,y_pred_Outcome_NN,average = 'weighted')\n",
    "recall_NN = recall_score(y_test_Outcome,y_pred_Outcome_NN,average ='weighted')\n",
    "\n",
    "print(\"precision:\", precision_NN)\n",
    "print(\"recall:\", recall_NN)\n",
    "print(\"f1 score:\", f1_NN)"
   ]
  },
  {
   "cell_type": "code",
   "execution_count": 78,
   "metadata": {},
   "outputs": [
    {
     "name": "stdout",
     "output_type": "stream",
     "text": [
      "[[11878    20  2055   112]\n",
      " [  869    28   209    13]\n",
      " [ 5313    12  2609   118]\n",
      " [ 1270     2   417   272]]\n",
      "Precision for class 0: 0.6144852560786342 n.obs: 19330\n",
      "Precision for class 1: 0.45161290322580644 n.obs: 62\n",
      "Precision for class 2: 0.49319470699432894 n.obs: 5290\n",
      "Precision for class 3: 0.5281553398058253 n.obs: 515\n",
      "Overall Precision: [0.56177348]\n"
     ]
    }
   ],
   "source": [
    "conf_matrix = confusion_matrix(y_test_Outcome, y_pred_Outcome_NN)\n",
    "print(conf_matrix)\n",
    "\n",
    "precisions =[] \n",
    "\n",
    "for i in range(4):\n",
    "    precisions.append(conf_matrix[i,i]/np.sum(conf_matrix[:,i]))\n",
    "    print('Precision for class {}: {}'.format(i,precisions[i]), 'n.obs: {}'.format(np.sum(conf_matrix[:,i])))\n",
    "\n",
    "overall_precision = 0\n",
    "for i in range(4):\n",
    "    overall_precision += precisions[i]*np.sum(y_test_Outcome==i)/len(y_test_Outcome)\n",
    "    \n",
    "print('Overall Precision: {}'.format(overall_precision.to_numpy()))"
   ]
  },
  {
   "cell_type": "code",
   "execution_count": 44,
   "metadata": {},
   "outputs": [
    {
     "name": "stdout",
     "output_type": "stream",
     "text": [
      "INFO:tensorflow:Assets written to: ram://63bf539b-08cf-4369-af66-488aa746baec/assets\n"
     ]
    },
    {
     "data": {
      "text/plain": [
       "['../models/NN_clf_train_od_not_balanced.sav']"
      ]
     },
     "execution_count": 44,
     "metadata": {},
     "output_type": "execute_result"
    }
   ],
   "source": [
    "import joblib\n",
    "\n",
    "# joblib.dump(NN_class, '../models/NN_clf_train_od_not_balanced.sav')\n",
    "# rnd_reg = joblib.load('../models/NN_clf_train_od_not_balanced.sav')"
   ]
  },
  {
   "attachments": {},
   "cell_type": "markdown",
   "metadata": {},
   "source": [
    "## <a style=background:yellow;color:black> Dealing with the unbalance</a>"
   ]
  },
  {
   "cell_type": "code",
   "execution_count": 11,
   "metadata": {},
   "outputs": [],
   "source": [
    "train_data = pd.concat([X_train, y_train['Outcome']], axis=1, join='inner')"
   ]
  },
  {
   "cell_type": "code",
   "execution_count": 12,
   "metadata": {},
   "outputs": [
    {
     "data": {
      "image/png": "[encoded data removed]",
      "text/plain": [
       "<Figure size 500x400 with 1 Axes>"
      ]
     },
     "metadata": {},
     "output_type": "display_data"
    }
   ],
   "source": [
    "import seaborn as sns\n",
    "import matplotlib.pyplot as plt\n",
    "f, axs = plt.subplots(1, figsize=(5,4))\n",
    "sns.countplot(x=train_data['Outcome'], ax=axs)\n",
    "plt.show()"
   ]
  },
  {
   "cell_type": "code",
   "execution_count": 13,
   "metadata": {},
   "outputs": [],
   "source": [
    "df_class_0 = train_data[train_data.Outcome==0]\n",
    "df_class_1 = train_data[train_data.Outcome==1]\n",
    "df_class_2 = train_data[train_data.Outcome==2]\n",
    "df_class_3 = train_data[train_data.Outcome==3]"
   ]
  },
  {
   "attachments": {},
   "cell_type": "markdown",
   "metadata": {},
   "source": [
    "New sample size equal to lowest sample's size to avoid synthetic data (we already have a lot of data) "
   ]
  },
  {
   "cell_type": "code",
   "execution_count": 14,
   "metadata": {},
   "outputs": [],
   "source": [
    "min_sample_nbr = min(train_data['Outcome'].value_counts().tolist())\n",
    "\n",
    "#We perform the resampling \n",
    "df_class3_downsampled = df_class_3.sample(n = min_sample_nbr)\n",
    "df_class2_downsampled = df_class_2.sample(n = min_sample_nbr)\n",
    "df_class0_downsampled = df_class_0.sample(n = min_sample_nbr)\n",
    "\n",
    "#We re-assemble the resampled dataframes and shuffle them\n",
    "data_balanced = pd.concat([df_class3_downsampled,df_class0_downsampled, df_class2_downsampled, df_class_1], ignore_index=True)\n",
    "data_balanced = data_balanced.sample(frac = 1, random_state = 1).reset_index()"
   ]
  },
  {
   "cell_type": "code",
   "execution_count": 15,
   "metadata": {},
   "outputs": [
    {
     "data": {
      "text/plain": [
       "<AxesSubplot: xlabel='Outcome', ylabel='count'>"
      ]
     },
     "execution_count": 15,
     "metadata": {},
     "output_type": "execute_result"
    },
    {
     "data": {
      "image/png": "[encoded data removed]",
      "text/plain": [
       "<Figure size 500x400 with 1 Axes>"
      ]
     },
     "metadata": {},
     "output_type": "display_data"
    }
   ],
   "source": [
    "f, axs = plt.subplots(1, figsize=(5,4))\n",
    "sns.countplot(x=data_balanced['Outcome'], ax=axs)"
   ]
  },
  {
   "cell_type": "code",
   "execution_count": 16,
   "metadata": {},
   "outputs": [],
   "source": [
    "del data_balanced['index'] #not always necessary"
   ]
  },
  {
   "cell_type": "code",
   "execution_count": 17,
   "metadata": {},
   "outputs": [],
   "source": [
    "X_train = data_balanced[['Number of Lawyers','Number of Legal Parties', \n",
    "       'Value formatted','Unified Contribution formatted', 'Tax Related','Milano', 'Bari', 'Bologna', 'Genova',\n",
    "       'Palermo', 'Napoli', 'Torino', 'Trento', 'Roma', \"L'Aquila\", 'Potenza',\n",
    "       'Perugia', 'Campobasso', 'Firenze', 'Cagliari', 'Venezia', 'Cosenza',\n",
    "       'Ancona', 'Trieste', 'Aosta','OR-140999', 'OR-145009', 'OR-139999',\n",
    "       'OR-145999', 'OR-130099', 'OR-101003', 'OR-130121', 'OR-130111',\n",
    "       'OR-130131', 'OR-101002', 'OR-180002', 'OSA-180002',\n",
    "       'OSA-180099','OSA-180001','OSA-140999','OSA-145999']]\n",
    "y_train = data_balanced['Outcome']"
   ]
  },
  {
   "attachments": {},
   "cell_type": "markdown",
   "metadata": {},
   "source": [
    "### <a style=background:yellow;color:black> Neural Network Unbalance</a>"
   ]
  },
  {
   "cell_type": "code",
   "execution_count": 18,
   "metadata": {},
   "outputs": [],
   "source": [
    "import tensorflow as tf\n",
    "from tensorflow import keras\n",
    "from sklearn.metrics import confusion_matrix\n",
    "from sklearn.metrics import precision_score\n",
    "from sklearn.metrics import recall_score\n",
    "from sklearn.metrics import f1_score"
   ]
  },
  {
   "cell_type": "code",
   "execution_count": 19,
   "metadata": {},
   "outputs": [],
   "source": [
    "tf.random.set_seed(42)\n",
    "keras.backend.clear_session() \n",
    "np.random.seed(42)"
   ]
  },
  {
   "cell_type": "code",
   "execution_count": 20,
   "metadata": {},
   "outputs": [],
   "source": [
    "def get_run_logdir(root_logdir, model_name):\n",
    "    import time\n",
    "    run_id = time.strftime('run_%Y_%m_%d-%H_%M_%S')\n",
    "    return os.path.join(root_logdir, model_name+'_'+run_id)\n",
    "\n",
    "model_name = input('Enter model name: ')\n",
    "root_logdir = os.path.join(os.curdir,'..', 'my_logs')\n",
    "run_logdir = get_run_logdir(root_logdir, model_name)\n",
    "\n",
    "early_stop_cb = tf.keras.callbacks.EarlyStopping(patience=10, restore_best_weights=True)\n",
    "tensorboard_cb = keras.callbacks.TensorBoard(run_logdir,\n",
    "                                            histogram_freq=1)"
   ]
  },
  {
   "cell_type": "code",
   "execution_count": null,
   "metadata": {},
   "outputs": [],
   "source": [
    "NN_class = keras.models.Sequential([\n",
    "    keras.layers.Dense(256,activation = 'relu',kernel_initializer='he_normal',input_shape = X_train.shape[1:]),\n",
    "    keras.layers.Dense(512,activation = 'relu',kernel_initializer='he_normal'),\n",
    "    keras.layers.Dense(256,activation = 'relu',kernel_initializer='he_normal'),\n",
    "    keras.layers.Dense(128,activation = 'relu',kernel_initializer='he_normal'),\n",
    "    keras.layers.Dense(64,activation = 'relu',kernel_initializer='he_normal'),\n",
    "    keras.layers.Dense(32,activation = 'relu',kernel_initializer='he_normal'),\n",
    "    keras.layers.Dense(4,activation = 'softmax')\n",
    "])\n"
   ]
  },
  {
   "cell_type": "code",
   "execution_count": null,
   "metadata": {},
   "outputs": [],
   "source": [
    "NN_class.compile(loss = \"sparse_categorical_crossentropy\",optimizer = \"adam\",metrics = ['Accuracy'])\n",
    "history_class = NN_class.fit(X_train,y_train,epochs = 30,validation_data = (X_val,y_val_Outcome))"
   ]
  },
  {
   "cell_type": "code",
   "execution_count": null,
   "metadata": {},
   "outputs": [],
   "source": [
    "!tensorboard --logdir=../my_logs --port=6006"
   ]
  },
  {
   "cell_type": "code",
   "execution_count": 25,
   "metadata": {},
   "outputs": [
    {
     "name": "stdout",
     "output_type": "stream",
     "text": [
      "788/788 [==============================] - 2s 3ms/step\n"
     ]
    },
    {
     "data": {
      "image/png": "[encoded data removed]",
      "text/plain": [
       "<Figure size 640x480 with 2 Axes>"
      ]
     },
     "metadata": {},
     "output_type": "display_data"
    }
   ],
   "source": [
    "y_pred_Outcome_NN = np.argmax(NN_class.predict(X_test),axis=1)\n",
    "ConfusionMatrixDisplay.from_predictions(y_test_Outcome,y_pred_Outcome_NN, normalize = \"true\", cmap = \"Reds\")\n",
    "plt.show()"
   ]
  },
  {
   "cell_type": "code",
   "execution_count": 26,
   "metadata": {},
   "outputs": [
    {
     "name": "stdout",
     "output_type": "stream",
     "text": [
      "precision: 0.5512882227781478\n",
      "recall: 0.3819502321704965\n",
      "f1 score: 0.4215651363951117\n"
     ]
    }
   ],
   "source": [
    "f1_NN = f1_score(y_test_Outcome,y_pred_Outcome_NN,average = 'weighted')\n",
    "precision_NN = precision_score(y_test_Outcome,y_pred_Outcome_NN,average = 'weighted')\n",
    "recall_NN = recall_score(y_test_Outcome,y_pred_Outcome_NN,average ='weighted')\n",
    "\n",
    "print(\"precision:\", precision_NN)\n",
    "print(\"recall:\", recall_NN)\n",
    "print(\"f1 score:\", f1_NN)"
   ]
  },
  {
   "attachments": {},
   "cell_type": "markdown",
   "metadata": {},
   "source": [
    "## <a style=background:yellow;color:black> REGRESSION TASK </a>"
   ]
  },
  {
   "attachments": {},
   "cell_type": "markdown",
   "metadata": {},
   "source": [
    "### <a style=background:yellow;color:black> Random forest Regression</a>"
   ]
  },
  {
   "cell_type": "code",
   "execution_count": 36,
   "metadata": {},
   "outputs": [],
   "source": [
    "from sklearn.ensemble import RandomForestRegressor\n",
    "from sklearn.metrics import mean_absolute_error"
   ]
  },
  {
   "cell_type": "code",
   "execution_count": 37,
   "metadata": {},
   "outputs": [
    {
     "name": "stderr",
     "output_type": "stream",
     "text": [
      "/var/folders/j3/6zzd1jr16pb3yxx70_376pmw0000gn/T/ipykernel_3320/3614527034.py:3: DataConversionWarning: A column-vector y was passed when a 1d array was expected. Please change the shape of y to (n_samples,), for example using ravel().\n",
      "  rnd_reg.fit(X_train_val, y_train_val_duration)\n"
     ]
    },
    {
     "name": "stdout",
     "output_type": "stream",
     "text": [
      "233.22475564117414\n"
     ]
    }
   ],
   "source": [
    "rnd_reg = RandomForestRegressor(n_estimators=300,random_state = 42)\n",
    "\n",
    "rnd_reg.fit(X_train_val, y_train_val_duration)\n",
    "\n",
    "y_pred_duration_rnd_for = rnd_reg.predict(X_test)\n",
    "\n",
    "print(mean_absolute_error(y_test_duration,y_pred_duration_rnd_for))"
   ]
  },
  {
   "cell_type": "code",
   "execution_count": null,
   "metadata": {},
   "outputs": [],
   "source": [
    "import joblib\n",
    "\n",
    "# joblib.dump(rnd_reg, '../models/rnd_for_reg_train_od.sav')\n",
    "# rnd_reg = joblib.load('../models/rnd_for_reg_train_od.sav')"
   ]
  },
  {
   "attachments": {},
   "cell_type": "markdown",
   "metadata": {},
   "source": [
    "### <a style=background:yellow;color:black> XGBOOST Regression </a>"
   ]
  },
  {
   "cell_type": "code",
   "execution_count": null,
   "metadata": {},
   "outputs": [],
   "source": [
    "import xgboost\n",
    "from sklearn.metrics import mean_absolute_error"
   ]
  },
  {
   "cell_type": "code",
   "execution_count": null,
   "metadata": {},
   "outputs": [],
   "source": [
    "xgb_reg = xgboost.XGBRegressor(n_estimators = 300,random_state = 42,eval_metric = 'mae')\n",
    "xgb_reg.fit(X_train,y_train_duration,eval_set = [(X_val,y_val_duration)],early_stopping_rounds = 15)"
   ]
  },
  {
   "cell_type": "code",
   "execution_count": null,
   "metadata": {},
   "outputs": [],
   "source": [
    "y_pred_duration_xgb = xgb_reg.predict(X_test)\n",
    "mean_absolute_error(y_test_duration,y_pred_duration_xgb)"
   ]
  },
  {
   "attachments": {},
   "cell_type": "markdown",
   "id": "f1d44acd",
   "metadata": {},
   "source": [
    "### <a style=background:yellow;color:black> Neural Network Regression</a>"
   ]
  },
  {
   "cell_type": "code",
   "execution_count": null,
   "metadata": {},
   "outputs": [],
   "source": [
    "import tensorflow as tf\n",
    "from tensorflow import keras\n",
    "from sklearn.metrics import mean_absolute_error"
   ]
  },
  {
   "cell_type": "code",
   "execution_count": null,
   "metadata": {},
   "outputs": [],
   "source": [
    "tf.random.set_seed(42)\n",
    "keras.backend.clear_session() \n",
    "np.random.seed(42)"
   ]
  },
  {
   "cell_type": "code",
   "execution_count": null,
   "metadata": {},
   "outputs": [],
   "source": [
    "def get_run_logdir(root_logdir, model_name):\n",
    "    import time\n",
    "    run_id = time.strftime('run_%Y_%m_%d-%H_%M_%S')\n",
    "    return os.path.join(root_logdir, model_name+'_'+run_id)\n",
    "\n",
    "model_name = input('Enter model name: ')\n",
    "root_logdir = os.path.join(os.curdir,'..', 'my_logs')\n",
    "run_logdir = get_run_logdir(root_logdir, model_name)\n",
    "\n",
    "early_stop_cb = tf.keras.callbacks.EarlyStopping(patience=10, restore_best_weights=True)\n",
    "tensorboard_cb = keras.callbacks.TensorBoard(run_logdir,\n",
    "                                            histogram_freq=1)"
   ]
  },
  {
   "cell_type": "code",
   "execution_count": null,
   "metadata": {},
   "outputs": [],
   "source": [
    "NN_reg = keras.models.Sequential([\n",
    "    keras.layers.Dense(128,activation = 'relu',kernel_initializer='he_normal',input_shape = X_train.shape[1:]),\n",
    "    keras.layers.Dense(256,activation = 'relu',kernel_initializer='he_normal'),\n",
    "    keras.layers.Dense(512, kernel_initializer='he_normal',activation='relu'),\n",
    "    keras.layers.Dense(256,activation = 'relu',kernel_initializer='he_normal'),\n",
    "    keras.layers.Dense(128,activation='relu',kernel_initializer='he_normal'),\n",
    "    keras.layers.Dense(1,activation = 'relu') #relu because i want only positive numbers\n",
    "])"
   ]
  },
  {
   "cell_type": "code",
   "execution_count": null,
   "metadata": {},
   "outputs": [],
   "source": [
    "NN_reg.compile(loss = 'mean_absolute_error',optimizer = 'adam')\n",
    "history_reg = NN_reg.fit(X_train,y_train_duration,epochs = 30,validation_data = (X_val,y_val_duration), callbakcs=[tensorboard_cb, early_stop_cb])"
   ]
  },
  {
   "cell_type": "code",
   "execution_count": null,
   "metadata": {},
   "outputs": [],
   "source": [
    "!tensorboard --logdir=../my_logs --port=6006"
   ]
  },
  {
   "cell_type": "code",
   "execution_count": null,
   "metadata": {},
   "outputs": [],
   "source": [
    "y_pred_duration_NN = NN_reg.predict(X_test)\n",
    "mean_absolute_error(y_test_duration,y_pred_duration_NN)"
   ]
  }
 ],
 "metadata": {
  "kernelspec": {
   "display_name": "Adri_Env",
   "language": "python",
   "name": "python3"
  },
  "language_info": {
   "codemirror_mode": {
    "name": "ipython",
    "version": 3
   },
   "file_extension": ".py",
   "mimetype": "text/x-python",
   "name": "python",
   "nbconvert_exporter": "python",
   "pygments_lexer": "ipython3",
   "version": "3.10.8"
  },
  "orig_nbformat": 4,
  "vscode": {
   "interpreter": {
    "hash": "28d2d24dc05509bf292e34803b47a1e549616d0bedf6bebdafbe5e542b7fb512"
   }
  }
 },
 "nbformat": 4,
 "nbformat_minor": 2
}
