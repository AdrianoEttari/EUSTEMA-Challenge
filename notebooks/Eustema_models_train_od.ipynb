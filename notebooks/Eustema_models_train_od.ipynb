{
 "cells": [
  {
   "attachments": {},
   "cell_type": "markdown",
   "metadata": {},
   "source": [
    "# <a style = background:lightgreen;color:black>Outcome and Duration Prediction on train_od (modeling) </a>"
   ]
  },
  {
   "cell_type": "code",
   "execution_count": 2,
   "metadata": {},
   "outputs": [],
   "source": [
    "import pandas as pd\n",
    "import numpy as np\n",
    "import os"
   ]
  },
  {
   "cell_type": "code",
   "execution_count": 3,
   "metadata": {},
   "outputs": [],
   "source": [
    "data = pd.read_csv('../DATA/final_train_od_dummies.csv')"
   ]
  },
  {
   "attachments": {},
   "cell_type": "markdown",
   "metadata": {},
   "source": [
    "You have to encode target (Outcome) labels with value between 0 and n_classes-1."
   ]
  },
  {
   "cell_type": "code",
   "execution_count": 4,
   "metadata": {},
   "outputs": [],
   "source": [
    "from sklearn.preprocessing import LabelEncoder\n",
    "\n",
    "le = LabelEncoder()\n",
    "le.fit(np.array(data['Outcome']).ravel())\n",
    "data['Outcome'] = le.transform(np.array(data['Outcome']).ravel())"
   ]
  },
  {
   "cell_type": "code",
   "execution_count": 5,
   "metadata": {},
   "outputs": [],
   "source": [
    "X = data[['Tax Related', 'Number of Lawyers',\n",
    "     'Number of Legal Parties', 'Value formatted',\n",
    "       'Unified Contribution formatted', 'Milano', 'Bari', 'Bologna', 'Genova',\n",
    "       'Palermo', 'Napoli', 'Torino', 'Trento', 'Roma', \"L'Aquila\", 'Potenza',\n",
    "       'Perugia', 'Campobasso', 'Firenze', 'Cagliari', 'Venezia', 'Cosenza',\n",
    "       'Ancona', 'Trieste', 'Aosta','OR-140999', 'OR-145009', 'OR-139999',\n",
    "       'OR-145999', 'OR-130099', 'OR-101003', 'OR-130121', 'OR-130111',\n",
    "       'OR-130131', 'OR-101002', 'OR-180002', 'OSA-180002','OSA-180099','OSA-180001','OSA-140999','OSA-145999']]\n",
    "\n",
    "y = data[['Duration', 'Outcome']]"
   ]
  },
  {
   "attachments": {},
   "cell_type": "markdown",
   "metadata": {},
   "source": [
    "## <a style=background:yellow;color:black> Standardization and Split in training, validation and testing set </a>"
   ]
  },
  {
   "attachments": {},
   "cell_type": "markdown",
   "metadata": {},
   "source": [
    "You need to scale just the variables that are neither dummies nor boolean."
   ]
  },
  {
   "cell_type": "code",
   "execution_count": 6,
   "metadata": {},
   "outputs": [],
   "source": [
    "X_to_scale = X[['Number of Lawyers','Number of Legal Parties', 'Value formatted',\n",
    "       'Unified Contribution formatted']]\n",
    "X_not_to_scale = X[['Tax Related','Milano', 'Bari', 'Bologna', 'Genova',\n",
    "       'Palermo', 'Napoli', 'Torino', 'Trento', 'Roma', \"L'Aquila\", 'Potenza',\n",
    "       'Perugia', 'Campobasso', 'Firenze', 'Cagliari', 'Venezia', 'Cosenza',\n",
    "       'Ancona', 'Trieste', 'Aosta','OR-140999', 'OR-145009', 'OR-139999',\n",
    "       'OR-145999', 'OR-130099', 'OR-101003', 'OR-130121', 'OR-130111',\n",
    "       'OR-130131', 'OR-101002', 'OR-180002', 'OSA-180002','OSA-180099','OSA-180001','OSA-140999','OSA-145999']]"
   ]
  },
  {
   "cell_type": "code",
   "execution_count": 7,
   "metadata": {},
   "outputs": [],
   "source": [
    "from sklearn.preprocessing import StandardScaler\n",
    "from sklearn.model_selection import train_test_split\n",
    "\n",
    "y = pd.DataFrame(y)\n",
    "std_scale = StandardScaler()\n",
    "X_scaled = std_scale.fit_transform(X_to_scale)"
   ]
  },
  {
   "cell_type": "code",
   "execution_count": 8,
   "metadata": {},
   "outputs": [],
   "source": [
    "X_scaled_df = pd.DataFrame(X_scaled, columns=[X_to_scale.columns])\n",
    "X_scaled_df = pd.concat([X_scaled_df, X_not_to_scale], axis=1)"
   ]
  },
  {
   "cell_type": "code",
   "execution_count": 9,
   "metadata": {},
   "outputs": [],
   "source": [
    "new_var_names = []\n",
    "for var_name in X_scaled_df.columns:\n",
    "    if '(' not in var_name:\n",
    "        new_var_names.append(var_name)\n",
    "    else:\n",
    "        new_var_names.append(var_name.replace('(', '').replace(')', '')\n",
    "        .replace('\\'','').replace(',','').replace('\"',''))\n",
    "new_var_names = []\n",
    "for var_name in X_scaled_df.columns:\n",
    "    if type(var_name) != tuple:\n",
    "        new_var_names.append(var_name)\n",
    "    else:\n",
    "        new_var_names.append(var_name[0])\n",
    "\n",
    "X_scaled_df = pd.DataFrame(X_scaled_df.values, columns=new_var_names)"
   ]
  },
  {
   "cell_type": "code",
   "execution_count": 10,
   "metadata": {},
   "outputs": [],
   "source": [
    "X_train_val, X_test, y_train_val, y_test = train_test_split(X_scaled_df, y, random_state=0,\n",
    "                                                            test_size=0.1)\n",
    "\n",
    "X_train, X_val, y_train, y_val = train_test_split(X_train_val, y_train_val,random_state=0,\n",
    "                                                            test_size=0.2  )"
   ]
  },
  {
   "cell_type": "code",
   "execution_count": 11,
   "metadata": {},
   "outputs": [],
   "source": [
    "y_train_val_duration = y_train_val['Duration']\n",
    "y_train_val_Outcome = y_train_val['Outcome']\n",
    "y_test_duration = y_test['Duration']\n",
    "y_test_Outcome = y_test['Outcome']\n",
    "y_train_duration = y_train['Duration']\n",
    "y_train_Outcome = y_train['Outcome']\n",
    "y_val_duration = y_val['Duration']\n",
    "y_val_Outcome = y_val['Outcome']\n",
    "y_train_val_duration = pd.DataFrame(y_train_val_duration)\n",
    "y_train_val_Outcome = pd.DataFrame(y_train_val_Outcome)\n",
    "y_test_duration = pd.DataFrame(y_test_duration)\n",
    "y_test_Outcome = pd.DataFrame(y_test_Outcome)\n",
    "y_train_duration = pd.DataFrame(y_train_duration)\n",
    "y_train_Outcome = pd.DataFrame(y_train_Outcome )\n",
    "y_val_duration = pd.DataFrame(y_val_duration)\n",
    "y_val_Outcome = pd.DataFrame(y_val_Outcome)"
   ]
  },
  {
   "attachments": {},
   "cell_type": "markdown",
   "id": "18ae4bfb",
   "metadata": {},
   "source": [
    "# <a style=background:yellow;color:black> Models <a>"
   ]
  },
  {
   "attachments": {},
   "cell_type": "markdown",
   "metadata": {},
   "source": [
    "## <a style=background:yellow;color:black> CLASSIFICATION TASK </a>"
   ]
  },
  {
   "attachments": {},
   "cell_type": "markdown",
   "id": "d1d472ad",
   "metadata": {},
   "source": [
    "### <a style=background:yellow;color:black> Random forest Classification</a>"
   ]
  },
  {
   "cell_type": "code",
   "execution_count": 14,
   "metadata": {},
   "outputs": [
    {
     "data": {
      "text/html": [
       "<style>#sk-container-id-1 {color: black;background-color: white;}#sk-container-id-1 pre{padding: 0;}#sk-container-id-1 div.sk-toggleable {background-color: white;}#sk-container-id-1 label.sk-toggleable__label {cursor: pointer;display: block;width: 100%;margin-bottom: 0;padding: 0.3em;box-sizing: border-box;text-align: center;}#sk-container-id-1 label.sk-toggleable__label-arrow:before {content: \"▸\";float: left;margin-right: 0.25em;color: #696969;}#sk-container-id-1 label.sk-toggleable__label-arrow:hover:before {color: black;}#sk-container-id-1 div.sk-estimator:hover label.sk-toggleable__label-arrow:before {color: black;}#sk-container-id-1 div.sk-toggleable__content {max-height: 0;max-width: 0;overflow: hidden;text-align: left;background-color: #f0f8ff;}#sk-container-id-1 div.sk-toggleable__content pre {margin: 0.2em;color: black;border-radius: 0.25em;background-color: #f0f8ff;}#sk-container-id-1 input.sk-toggleable__control:checked~div.sk-toggleable__content {max-height: 200px;max-width: 100%;overflow: auto;}#sk-container-id-1 input.sk-toggleable__control:checked~label.sk-toggleable__label-arrow:before {content: \"▾\";}#sk-container-id-1 div.sk-estimator input.sk-toggleable__control:checked~label.sk-toggleable__label {background-color: #d4ebff;}#sk-container-id-1 div.sk-label input.sk-toggleable__control:checked~label.sk-toggleable__label {background-color: #d4ebff;}#sk-container-id-1 input.sk-hidden--visually {border: 0;clip: rect(1px 1px 1px 1px);clip: rect(1px, 1px, 1px, 1px);height: 1px;margin: -1px;overflow: hidden;padding: 0;position: absolute;width: 1px;}#sk-container-id-1 div.sk-estimator {font-family: monospace;background-color: #f0f8ff;border: 1px dotted black;border-radius: 0.25em;box-sizing: border-box;margin-bottom: 0.5em;}#sk-container-id-1 div.sk-estimator:hover {background-color: #d4ebff;}#sk-container-id-1 div.sk-parallel-item::after {content: \"\";width: 100%;border-bottom: 1px solid gray;flex-grow: 1;}#sk-container-id-1 div.sk-label:hover label.sk-toggleable__label {background-color: #d4ebff;}#sk-container-id-1 div.sk-serial::before {content: \"\";position: absolute;border-left: 1px solid gray;box-sizing: border-box;top: 0;bottom: 0;left: 50%;z-index: 0;}#sk-container-id-1 div.sk-serial {display: flex;flex-direction: column;align-items: center;background-color: white;padding-right: 0.2em;padding-left: 0.2em;position: relative;}#sk-container-id-1 div.sk-item {position: relative;z-index: 1;}#sk-container-id-1 div.sk-parallel {display: flex;align-items: stretch;justify-content: center;background-color: white;position: relative;}#sk-container-id-1 div.sk-item::before, #sk-container-id-1 div.sk-parallel-item::before {content: \"\";position: absolute;border-left: 1px solid gray;box-sizing: border-box;top: 0;bottom: 0;left: 50%;z-index: -1;}#sk-container-id-1 div.sk-parallel-item {display: flex;flex-direction: column;z-index: 1;position: relative;background-color: white;}#sk-container-id-1 div.sk-parallel-item:first-child::after {align-self: flex-end;width: 50%;}#sk-container-id-1 div.sk-parallel-item:last-child::after {align-self: flex-start;width: 50%;}#sk-container-id-1 div.sk-parallel-item:only-child::after {width: 0;}#sk-container-id-1 div.sk-dashed-wrapped {border: 1px dashed gray;margin: 0 0.4em 0.5em 0.4em;box-sizing: border-box;padding-bottom: 0.4em;background-color: white;}#sk-container-id-1 div.sk-label label {font-family: monospace;font-weight: bold;display: inline-block;line-height: 1.2em;}#sk-container-id-1 div.sk-label-container {text-align: center;}#sk-container-id-1 div.sk-container {/* jupyter's `normalize.less` sets `[hidden] { display: none; }` but bootstrap.min.css set `[hidden] { display: none !important; }` so we also need the `!important` here to be able to override the default hidden behavior on the sphinx rendered scikit-learn.org. See: https://github.com/scikit-learn/scikit-learn/issues/21755 */display: inline-block !important;position: relative;}#sk-container-id-1 div.sk-text-repr-fallback {display: none;}</style><div id=\"sk-container-id-1\" class=\"sk-top-container\"><div class=\"sk-text-repr-fallback\"><pre>RandomForestClassifier(class_weight=&#x27;balanced&#x27;, max_depth=15,\n",
       "                       min_samples_leaf=100, min_samples_split=150)</pre><b>In a Jupyter environment, please rerun this cell to show the HTML representation or trust the notebook. <br />On GitHub, the HTML representation is unable to render, please try loading this page with nbviewer.org.</b></div><div class=\"sk-container\" hidden><div class=\"sk-item\"><div class=\"sk-estimator sk-toggleable\"><input class=\"sk-toggleable__control sk-hidden--visually\" id=\"sk-estimator-id-1\" type=\"checkbox\" checked><label for=\"sk-estimator-id-1\" class=\"sk-toggleable__label sk-toggleable__label-arrow\">RandomForestClassifier</label><div class=\"sk-toggleable__content\"><pre>RandomForestClassifier(class_weight=&#x27;balanced&#x27;, max_depth=15,\n",
       "                       min_samples_leaf=100, min_samples_split=150)</pre></div></div></div></div></div>"
      ],
      "text/plain": [
       "RandomForestClassifier(class_weight='balanced', max_depth=15,\n",
       "                       min_samples_leaf=100, min_samples_split=150)"
      ]
     },
     "execution_count": 14,
     "metadata": {},
     "output_type": "execute_result"
    }
   ],
   "source": [
    "from sklearn.ensemble import RandomForestClassifier\n",
    "from sklearn.metrics import confusion_matrix,precision_score\n",
    "from sklearn.metrics import recall_score,f1_score\n",
    "import matplotlib.pyplot as plt\n",
    "\n",
    "clf = RandomForestClassifier(min_samples_leaf=100, min_samples_split=150,\n",
    " n_estimators=100, max_depth=15, class_weight='balanced', max_features='sqrt')\n",
    "\n",
    "clf.fit(X_train_val, np.array(y_train_val_Outcome).ravel())"
   ]
  },
  {
   "cell_type": "code",
   "execution_count": 47,
   "metadata": {},
   "outputs": [
    {
     "name": "stdout",
     "output_type": "stream",
     "text": [
      "CONFUSION MATRIX: \n",
      " [[4385 2855 3602 3223]\n",
      " [ 110  618  218  173]\n",
      " [1147 1489 3222 2194]\n",
      " [ 191  195  331 1244]]\n",
      "\n",
      "precision MICRO: 0.37579870619518196\n",
      "recall MICRO: 0.37579870619518196\n",
      "f1 score MICRO: 0.37579870619518196\n",
      "\n",
      "precision MACRO: 0.3726563109015812\n",
      "recall MACRO: 0.47464121699041284\n",
      "f1 score MACRO: 0.334584979031711\n",
      "\n",
      "precision WEIGHTED: 0.5787692621600948\n",
      "recall WEIGHTED: 0.37579870619518196\n",
      "f1 score WEIGHTED: 0.41028966608222234\n"
     ]
    }
   ],
   "source": [
    "y_pred = clf.predict(X_test)\n",
    "conf_matrix = confusion_matrix(y_test_Outcome, y_pred)\n",
    "\n",
    "# MICRO\n",
    "f1_micro = f1_score(y_test_Outcome, y_pred,average = 'micro')\n",
    "precision_micro = precision_score(y_test_Outcome,y_pred,average = 'micro')\n",
    "recall_micro = recall_score(y_test_Outcome,y_pred,average ='micro')\n",
    "\n",
    "# MACRO\n",
    "f1_macro = f1_score(y_test_Outcome, y_pred,average = 'macro')\n",
    "precision_macro = precision_score(y_test_Outcome,y_pred,average = 'macro')\n",
    "recall_macro = recall_score(y_test_Outcome,y_pred,average ='macro')\n",
    "\n",
    "# WEIGHTED\n",
    "f1_weighted = f1_score(y_test_Outcome, y_pred,average = 'weighted')\n",
    "precision_weighted = precision_score(y_test_Outcome,y_pred,average = 'weighted')\n",
    "recall_weighted = recall_score(y_test_Outcome,y_pred,average ='weighted')\n",
    "\n",
    "print('CONFUSION MATRIX: \\n {}'.format(conf_matrix))\n",
    "print()\n",
    "print(\"precision MICRO:\", precision_micro)\n",
    "print(\"recall MICRO:\", recall_micro)\n",
    "print(\"f1 score MICRO:\", f1_micro)\n",
    "print()\n",
    "print(\"precision MACRO:\", precision_macro)\n",
    "print(\"recall MACRO:\", recall_macro)\n",
    "print(\"f1 score MACRO:\", f1_macro)\n",
    "print()\n",
    "print(\"precision WEIGHTED:\", precision_weighted)\n",
    "print(\"recall WEIGHTED:\", recall_weighted)\n",
    "print(\"f1 score WEIGHTED:\", f1_weighted)"
   ]
  },
  {
   "cell_type": "code",
   "execution_count": null,
   "metadata": {},
   "outputs": [],
   "source": [
    "# # The following code is the same as the previous one, but by hand.\n",
    "\n",
    "# conf_matrix = confusion_matrix(y_test_Outcome, y_pred_Outcome_rnd_for)\n",
    "# print(conf_matrix)\n",
    "# print()\n",
    "\n",
    "# precisions =[] \n",
    "# recalls = []\n",
    "# for i in range(4):\n",
    "#     precisions.append(conf_matrix[i,i]/np.sum(conf_matrix[:,i]))\n",
    "#     recalls.append(conf_matrix[i,i]/np.sum(conf_matrix[i,:]))\n",
    "#     print('Precision for class {}: {}, Recall: {}'.format(i,precisions[i], recalls[i]), 'n.obs: {}'.format(np.sum(conf_matrix[i,:])))\n",
    "\n",
    "\n",
    "# overall_precision_WEIGHTED = 0\n",
    "# overall_precision_MACRO = 0\n",
    "# overall_recall_WEIGHTED = 0\n",
    "# overall_recall_MACRO = 0\n",
    "# for i in range(4):\n",
    "#     overall_precision_WEIGHTED += precisions[i]*np.sum(y_test_Outcome==i)/len(y_test_Outcome)\n",
    "#     overall_precision_MACRO += precisions[i]/len(np.unique(y_test_Outcome))\n",
    "#     overall_recall_WEIGHTED += recalls[i]*np.sum(y_test_Outcome==i)/len(y_test_Outcome)\n",
    "#     overall_recall_MACRO += recalls[i]/len(np.unique(y_test_Outcome))\n",
    "\n",
    "# T_P_micro = np.sum(np.diag(conf_matrix))\n",
    "# F_P_micro = T_N_micro = np.sum(conf_matrix) - T_P_micro\n",
    "# overall_precision_MICRO = overall_recall_MICRO = T_P_micro/(T_P_micro + F_P_micro)\n",
    "\n",
    "# print()   \n",
    "# print('Overall Precision WEIGHTED: {}'.format(np.array(overall_precision_WEIGHTED)))\n",
    "# print('Overall Precision MACRO: {}'.format(np.array(overall_precision_MACRO)))\n",
    "# print('Overall Precision MICRO: {}'.format(np.array(overall_precision_MICRO)))\n",
    "# print('Overall Recall WEIGHTED: {}'.format(np.array(overall_recall_WEIGHTED)))\n",
    "# print('Overall Recall MACRO: {}'.format(np.array(overall_recall_MACRO)))\n",
    "# print('Overall Recall MICRO: {}'.format(np.array(overall_recall_MICRO)))"
   ]
  },
  {
   "attachments": {},
   "cell_type": "markdown",
   "metadata": {},
   "source": [
    "### <a style=background:yellow;color:black> XGBOOST Classification </a>"
   ]
  },
  {
   "cell_type": "code",
   "execution_count": 23,
   "metadata": {},
   "outputs": [],
   "source": [
    "import xgboost as xgb\n",
    "from sklearn.metrics import confusion_matrix\n",
    "from sklearn.metrics import precision_score\n",
    "from sklearn.metrics import recall_score\n",
    "from sklearn.metrics import f1_score\n",
    "import matplotlib.pyplot as plt\n",
    "from sklearn.metrics import ConfusionMatrixDisplay\n",
    "from sklearn.model_selection import GridSearchCV"
   ]
  },
  {
   "attachments": {},
   "cell_type": "markdown",
   "metadata": {},
   "source": [
    "eval_metric = 'merror' is for multiclass classification error rate. It is calculated as #(wrong cases)/ (total cases)."
   ]
  },
  {
   "cell_type": "code",
   "execution_count": 33,
   "metadata": {},
   "outputs": [],
   "source": [
    "params = {\n",
    "    'booster': 'gbtree',\n",
    "    'objective': 'multi:softmax',\n",
    "    'eval_metric': 'merror' ,\n",
    "    'eta': 0.01,\n",
    "    'subsample': 0.8,\n",
    "    'colsample_bytree': 0.5,\n",
    "    'tree_method': 'exact',\n",
    "    'verbosity': 0,\n",
    "    'max_depth': 10,\n",
    "    'num_class': 4}\n",
    "\n",
    "\n",
    "# Define the dataset for xgboost\n",
    "dtrain = xgb.DMatrix(X_train, label=y_train_Outcome)\n",
    "dval = xgb.DMatrix(X_val, label=y_val_Outcome)\n",
    "\n",
    "early_stopping_rounds = 50\n",
    "\n",
    "xgb_model = xgb.train(params, dtrain, num_boost_round=1000, evals=[(dval, 'val')], early_stopping_rounds=early_stopping_rounds, verbose_eval=False)"
   ]
  },
  {
   "cell_type": "code",
   "execution_count": 46,
   "metadata": {},
   "outputs": [
    {
     "name": "stdout",
     "output_type": "stream",
     "text": [
      "CONFUSION MATRIX: \n",
      " [[12973     2  1044    46]\n",
      " [  967     6   141     5]\n",
      " [ 6320     0  1671    61]\n",
      " [ 1482     0   294   185]]\n",
      "\n",
      "precision MICRO: 0.588760566734135\n",
      "recall MICRO: 0.588760566734135\n",
      "f1 score MICRO: 0.588760566734135\n",
      "\n",
      "precision MACRO: 0.625012762928088\n",
      "recall MACRO: 0.30739702566580673\n",
      "f1 score MACRO: 0.29936401615784647\n",
      "\n",
      "precision WEIGHTED: 0.5843725875886925\n",
      "recall WEIGHTED: 0.588760566734135\n",
      "f1 score WEIGHTED: 0.5130402233644848\n"
     ]
    }
   ],
   "source": [
    "dtest = xgb.DMatrix(X_test, label=y_test_Outcome)\n",
    "y_pred = xgb_model.predict(dtest)\n",
    "conf_matrix = confusion_matrix(y_test_Outcome, y_pred)\n",
    "\n",
    "# MICRO\n",
    "f1_micro = f1_score(y_test_Outcome, y_pred,average = 'micro')\n",
    "precision_micro = precision_score(y_test_Outcome,y_pred,average = 'micro')\n",
    "recall_micro = recall_score(y_test_Outcome,y_pred,average ='micro')\n",
    "\n",
    "# MACRO\n",
    "f1_macro = f1_score(y_test_Outcome, y_pred,average = 'macro')\n",
    "precision_macro = precision_score(y_test_Outcome,y_pred,average = 'macro')\n",
    "recall_macro = recall_score(y_test_Outcome,y_pred,average ='macro')\n",
    "\n",
    "# WEIGHTED\n",
    "f1_weighted = f1_score(y_test_Outcome, y_pred,average = 'weighted')\n",
    "precision_weighted = precision_score(y_test_Outcome,y_pred,average = 'weighted')\n",
    "recall_weighted = recall_score(y_test_Outcome,y_pred,average ='weighted')\n",
    "\n",
    "print('CONFUSION MATRIX: \\n {}'.format(conf_matrix))\n",
    "print()\n",
    "print(\"precision MICRO:\", precision_micro)\n",
    "print(\"recall MICRO:\", recall_micro)\n",
    "print(\"f1 score MICRO:\", f1_micro)\n",
    "print()\n",
    "print(\"precision MACRO:\", precision_macro)\n",
    "print(\"recall MACRO:\", recall_macro)\n",
    "print(\"f1 score MACRO:\", f1_macro)\n",
    "print()\n",
    "print(\"precision WEIGHTED:\", precision_weighted)\n",
    "print(\"recall WEIGHTED:\", recall_weighted)\n",
    "print(\"f1 score WEIGHTED:\", f1_weighted)"
   ]
  },
  {
   "attachments": {},
   "cell_type": "markdown",
   "metadata": {},
   "source": [
    "### <a style=background:yellow;color:black> Neural Network Classification </a>"
   ]
  },
  {
   "cell_type": "code",
   "execution_count": 11,
   "metadata": {},
   "outputs": [],
   "source": [
    "import tensorflow as tf\n",
    "from tensorflow import keras\n",
    "from sklearn.metrics import confusion_matrix,precision_score\n",
    "from sklearn.metrics import recall_score,f1_score,ConfusionMatrixDisplay\n",
    "import os"
   ]
  },
  {
   "cell_type": "code",
   "execution_count": 12,
   "metadata": {},
   "outputs": [],
   "source": [
    "tf.random.set_seed(42)\n",
    "keras.backend.clear_session() \n",
    "np.random.seed(42)"
   ]
  },
  {
   "cell_type": "code",
   "execution_count": 13,
   "metadata": {},
   "outputs": [],
   "source": [
    "def get_run_logdir(root_logdir, model_name):\n",
    "    import time\n",
    "    run_id = time.strftime('run_%Y_%m_%d-%H_%M_%S')\n",
    "    return os.path.join(root_logdir, model_name+'_'+run_id)\n",
    "\n",
    "model_name = input('Enter model name: ')\n",
    "root_logdir = os.path.join(os.curdir,'..', 'my_logs')\n",
    "run_logdir = get_run_logdir(root_logdir, model_name)\n",
    "\n",
    "early_stop_cb = tf.keras.callbacks.EarlyStopping(patience=10, restore_best_weights=True)\n",
    "tensorboard_cb = keras.callbacks.TensorBoard(run_logdir,\n",
    "                                            histogram_freq=1)"
   ]
  },
  {
   "cell_type": "code",
   "execution_count": null,
   "metadata": {},
   "outputs": [],
   "source": [
    "NN_class = keras.models.Sequential([\n",
    "    keras.layers.Dense(1024,activation = 'relu',kernel_initializer='he_normal',input_shape = X_train.shape[1:]),\n",
    "    keras.layers.Dense(512,activation = 'relu',kernel_initializer='he_normal'),\n",
    "    keras.layers.Dense(256,activation = 'relu',kernel_initializer='he_normal'),\n",
    "    keras.layers.Dense(128,activation = 'relu',kernel_initializer='he_normal'),\n",
    "    keras.layers.Dense(56,activation = 'relu',kernel_initializer='he_normal'),\n",
    "    keras.layers.Dense(4,activation = 'softmax')\n",
    "])"
   ]
  },
  {
   "cell_type": "code",
   "execution_count": null,
   "metadata": {},
   "outputs": [],
   "source": [
    "NN_class.compile(loss = \"sparse_categorical_crossentropy\",optimizer = \"adam\",metrics = ['Accuracy'])\n",
    "history_class = NN_class.fit(X_train,y_train_Outcome,epochs = 100,validation_data = (X_val,y_val_Outcome),callbacks=[tensorboard_cb, early_stop_cb])"
   ]
  },
  {
   "cell_type": "code",
   "execution_count": null,
   "metadata": {},
   "outputs": [],
   "source": [
    "# !tensorboard --logdir=../my_logs --port=6006"
   ]
  },
  {
   "cell_type": "code",
   "execution_count": 18,
   "metadata": {},
   "outputs": [
    {
     "name": "stdout",
     "output_type": "stream",
     "text": [
      "788/788 [==============================] - 2s 3ms/step\n",
      "CONFUSION MATRIX: \n",
      " [[11878    20  2055   112]\n",
      " [  869    28   209    13]\n",
      " [ 5313    12  2609   118]\n",
      " [ 1270     2   417   272]]\n",
      "\n",
      "precision MICRO: 0.5868555780450053\n",
      "recall MICRO: 0.5868555780450053\n",
      "f1 score MICRO: 0.5868555780450053\n",
      "\n",
      "precision MACRO: 0.5218620515261487\n",
      "recall MACRO: 0.3330634010594489\n",
      "f1 score MACRO: 0.3423966039067183\n",
      "\n",
      "precision WEIGHTED: 0.5617734796814394\n",
      "recall WEIGHTED: 0.5868555780450053\n",
      "f1 score WEIGHTED: 0.5412687022490835\n"
     ]
    }
   ],
   "source": [
    "y_pred = np.argmax(NN_class.predict(X_test),axis=1)\n",
    "conf_matrix = confusion_matrix(y_test_Outcome, y_pred)\n",
    "\n",
    "# MICRO\n",
    "f1_micro = f1_score(y_test_Outcome, y_pred,average = 'micro')\n",
    "precision_micro = precision_score(y_test_Outcome,y_pred,average = 'micro')\n",
    "recall_micro = recall_score(y_test_Outcome,y_pred,average ='micro')\n",
    "\n",
    "# MACRO\n",
    "f1_macro = f1_score(y_test_Outcome, y_pred,average = 'macro')\n",
    "precision_macro = precision_score(y_test_Outcome,y_pred,average = 'macro')\n",
    "recall_macro = recall_score(y_test_Outcome,y_pred,average ='macro')\n",
    "\n",
    "# WEIGHTED\n",
    "f1_weighted = f1_score(y_test_Outcome, y_pred,average = 'weighted')\n",
    "precision_weighted = precision_score(y_test_Outcome,y_pred,average = 'weighted')\n",
    "recall_weighted = recall_score(y_test_Outcome,y_pred,average ='weighted')\n",
    "\n",
    "print('CONFUSION MATRIX: \\n {}'.format(conf_matrix))\n",
    "print()\n",
    "print(\"precision MICRO:\", precision_micro)\n",
    "print(\"recall MICRO:\", recall_micro)\n",
    "print(\"f1 score MICRO:\", f1_micro)\n",
    "print()\n",
    "print(\"precision MACRO:\", precision_macro)\n",
    "print(\"recall MACRO:\", recall_macro)\n",
    "print(\"f1 score MACRO:\", f1_macro)\n",
    "print()\n",
    "print(\"precision WEIGHTED:\", precision_weighted)\n",
    "print(\"recall WEIGHTED:\", recall_weighted)\n",
    "print(\"f1 score WEIGHTED:\", f1_weighted)"
   ]
  },
  {
   "attachments": {},
   "cell_type": "markdown",
   "metadata": {},
   "source": [
    "## <a style=background:yellow;color:black> Dealing with the unbalance problem</a>"
   ]
  },
  {
   "cell_type": "code",
   "execution_count": 12,
   "metadata": {},
   "outputs": [],
   "source": [
    "train_data = pd.concat([X_train, y_train['Outcome']], axis=1, join='inner')"
   ]
  },
  {
   "cell_type": "code",
   "execution_count": 13,
   "metadata": {},
   "outputs": [
    {
     "data": {
      "image/png": "[encoded data removed]",
      "text/plain": [
       "<Figure size 500x400 with 1 Axes>"
      ]
     },
     "metadata": {},
     "output_type": "display_data"
    }
   ],
   "source": [
    "import seaborn as sns\n",
    "import matplotlib.pyplot as plt\n",
    "f, axs = plt.subplots(1, figsize=(5,4))\n",
    "sns.countplot(x=train_data['Outcome'], ax=axs)\n",
    "axs.set(ylabel='')\n",
    "axs.set_title('Count of observations per Outcome', fontsize=15)\n",
    "plt.show()"
   ]
  },
  {
   "cell_type": "code",
   "execution_count": 14,
   "metadata": {},
   "outputs": [],
   "source": [
    "df_class_0 = train_data[train_data.Outcome==0]\n",
    "df_class_1 = train_data[train_data.Outcome==1]\n",
    "df_class_2 = train_data[train_data.Outcome==2]\n",
    "df_class_3 = train_data[train_data.Outcome==3]"
   ]
  },
  {
   "attachments": {},
   "cell_type": "markdown",
   "metadata": {},
   "source": [
    "New sample size equal to lowest sample's size to avoid synthetic data (we already have a lot of data) "
   ]
  },
  {
   "cell_type": "code",
   "execution_count": 15,
   "metadata": {},
   "outputs": [],
   "source": [
    "min_sample_nbr = min(train_data['Outcome'].value_counts().tolist())\n",
    "\n",
    "#We perform the resampling \n",
    "df_class3_downsampled = df_class_3.sample(n = min_sample_nbr)\n",
    "df_class2_downsampled = df_class_2.sample(n = min_sample_nbr)\n",
    "df_class0_downsampled = df_class_0.sample(n = min_sample_nbr)\n",
    "\n",
    "#We re-assemble the resampled dataframes and shuffle them\n",
    "data_balanced = pd.concat([df_class3_downsampled,df_class0_downsampled, df_class2_downsampled, df_class_1], ignore_index=True)\n",
    "data_balanced = data_balanced.sample(frac = 1, random_state = 1).reset_index()"
   ]
  },
  {
   "cell_type": "code",
   "execution_count": 16,
   "metadata": {},
   "outputs": [
    {
     "data": {
      "image/png": "[encoded data removed]",
      "text/plain": [
       "<Figure size 500x400 with 1 Axes>"
      ]
     },
     "metadata": {},
     "output_type": "display_data"
    }
   ],
   "source": [
    "f, axs = plt.subplots(1, figsize=(5,4))\n",
    "sns.countplot(x=data_balanced['Outcome'], ax=axs)\n",
    "axs.set(ylabel='')\n",
    "axs.set_title('Count of observations per Outcome', fontsize=15)\n",
    "plt.show()"
   ]
  },
  {
   "cell_type": "code",
   "execution_count": 17,
   "metadata": {},
   "outputs": [],
   "source": [
    "del data_balanced['index'] #not always necessary"
   ]
  },
  {
   "cell_type": "code",
   "execution_count": 18,
   "metadata": {},
   "outputs": [],
   "source": [
    "X_train_balanced = data_balanced[['Number of Lawyers','Number of Legal Parties', \n",
    "       'Value formatted','Unified Contribution formatted', 'Tax Related','Milano', 'Bari', 'Bologna', 'Genova',\n",
    "       'Palermo', 'Napoli', 'Torino', 'Trento', 'Roma', \"L'Aquila\", 'Potenza',\n",
    "       'Perugia', 'Campobasso', 'Firenze', 'Cagliari', 'Venezia', 'Cosenza',\n",
    "       'Ancona', 'Trieste', 'Aosta','OR-140999', 'OR-145009', 'OR-139999',\n",
    "       'OR-145999', 'OR-130099', 'OR-101003', 'OR-130121', 'OR-130111',\n",
    "       'OR-130131', 'OR-101002', 'OR-180002', 'OSA-180002',\n",
    "       'OSA-180099','OSA-180001','OSA-140999','OSA-145999']]\n",
    "y_train_Outcome_balanced = data_balanced['Outcome']"
   ]
  },
  {
   "attachments": {},
   "cell_type": "markdown",
   "metadata": {},
   "source": [
    "### <a style=background:yellow;color:black> XGBOOST Unbalance problem</a>"
   ]
  },
  {
   "cell_type": "code",
   "execution_count": 31,
   "metadata": {},
   "outputs": [],
   "source": [
    "import xgboost as xgb\n",
    "from sklearn.metrics import confusion_matrix, precision_score\n",
    "from sklearn.metrics import recall_score, f1_score\n",
    "import matplotlib.pyplot as plt"
   ]
  },
  {
   "cell_type": "code",
   "execution_count": 32,
   "metadata": {},
   "outputs": [],
   "source": [
    "params = {\n",
    "    'booster': 'gbtree',\n",
    "    'objective': 'multi:softmax',\n",
    "    'eval_metric': 'merror' ,\n",
    "    'eta': 0.01,\n",
    "    'subsample': 1,\n",
    "    'colsample_bytree': 0.5,\n",
    "    'tree_method': 'exact',\n",
    "    'verbosity': 0,\n",
    "    'max_depth': 10,\n",
    "    'num_class': 4}\n",
    "\n",
    "\n",
    "# Define the dataset for xgboost\n",
    "dtrain = xgb.DMatrix(X_train_balanced, label=y_train_Outcome_balanced)\n",
    "dval = xgb.DMatrix(X_val, label=y_val_Outcome)\n",
    "\n",
    "early_stopping_rounds = 50\n",
    "\n",
    "xgb_model = xgb.train(params, dtrain, num_boost_round=1000, evals=[(dval, 'val')], early_stopping_rounds=early_stopping_rounds, verbose_eval=False)"
   ]
  },
  {
   "cell_type": "code",
   "execution_count": null,
   "metadata": {},
   "outputs": [],
   "source": [
    "dtest = xgb.DMatrix(X_test)\n",
    "y_pred = xgb_model.predict(dtest)\n",
    "conf_matrix = confusion_matrix(y_test_Outcome, y_pred)\n",
    "\n",
    "# MICRO\n",
    "f1_micro = f1_score(y_test_Outcome, y_pred,average = 'micro')\n",
    "precision_micro = precision_score(y_test_Outcome,y_pred,average = 'micro')\n",
    "recall_micro = recall_score(y_test_Outcome,y_pred,average ='micro')\n",
    "\n",
    "# MACRO\n",
    "f1_macro = f1_score(y_test_Outcome, y_pred,average = 'macro')\n",
    "precision_macro = precision_score(y_test_Outcome,y_pred,average = 'macro')\n",
    "recall_macro = recall_score(y_test_Outcome,y_pred,average ='macro')\n",
    "\n",
    "# WEIGHTED\n",
    "f1_weighted = f1_score(y_test_Outcome, y_pred,average = 'weighted')\n",
    "precision_weighted = precision_score(y_test_Outcome,y_pred,average = 'weighted')\n",
    "recall_weighted = recall_score(y_test_Outcome,y_pred,average ='weighted')\n",
    "\n",
    "print('CONFUSION MATRIX: \\n {}'.format(conf_matrix))\n",
    "print()\n",
    "print(\"precision MICRO:\", precision_micro)\n",
    "print(\"recall MICRO:\", recall_micro)\n",
    "print(\"f1 score MICRO:\", f1_micro)\n",
    "print()\n",
    "print(\"precision MACRO:\", precision_macro)\n",
    "print(\"recall MACRO:\", recall_macro)\n",
    "print(\"f1 score MACRO:\", f1_macro)\n",
    "print()\n",
    "print(\"precision WEIGHTED:\", precision_weighted)\n",
    "print(\"recall WEIGHTED:\", recall_weighted)\n",
    "print(\"f1 score WEIGHTED:\", f1_weighted)"
   ]
  },
  {
   "attachments": {},
   "cell_type": "markdown",
   "metadata": {},
   "source": [
    "### <a style=background:yellow;color:black> Neural Network Unbalance problem</a>"
   ]
  },
  {
   "cell_type": "code",
   "execution_count": 19,
   "metadata": {},
   "outputs": [],
   "source": [
    "import tensorflow as tf\n",
    "from tensorflow import keras\n",
    "from sklearn.metrics import confusion_matrix\n",
    "from sklearn.metrics import precision_score\n",
    "from sklearn.metrics import recall_score\n",
    "from sklearn.metrics import f1_score"
   ]
  },
  {
   "cell_type": "code",
   "execution_count": 40,
   "metadata": {},
   "outputs": [],
   "source": [
    "tf.random.set_seed(42)\n",
    "keras.backend.clear_session() \n",
    "np.random.seed(42)"
   ]
  },
  {
   "cell_type": "code",
   "execution_count": 41,
   "metadata": {},
   "outputs": [],
   "source": [
    "def scheduler(epoch, lr):\n",
    "    if epoch < 3:\n",
    "        return lr\n",
    "    else:\n",
    "        return lr * tf.math.exp(-0.025)\n",
    "\n",
    "def get_run_logdir(root_logdir, model_name):\n",
    "    import time\n",
    "    run_id = time.strftime('run_%Y_%m_%d-%H_%M_%S')\n",
    "    return os.path.join(root_logdir, model_name+'_'+run_id)\n",
    "\n",
    "model_name = input('Enter model name: ')\n",
    "root_logdir = os.path.join(os.curdir,'..', 'my_logs')\n",
    "run_logdir = get_run_logdir(root_logdir, model_name)\n",
    "\n",
    "lr_schedule_cb = tf.keras.callbacks.LearningRateScheduler(scheduler)\n",
    "early_stop_cb = tf.keras.callbacks.EarlyStopping(patience=15, restore_best_weights=True)\n",
    "tensorboard_cb = keras.callbacks.TensorBoard(run_logdir,\n",
    "                                            histogram_freq=1)"
   ]
  },
  {
   "cell_type": "code",
   "execution_count": 42,
   "metadata": {},
   "outputs": [],
   "source": [
    "NN_class = keras.models.Sequential([\n",
    "    keras.layers.Dense(256,activation = 'relu',kernel_initializer='he_normal',input_shape = X_train.shape[1:]),\n",
    "    keras.layers.Dense(512,activation = 'relu',kernel_initializer='he_normal'),\n",
    "    keras.layers.Dense(256,activation = 'relu',kernel_initializer='he_normal'),\n",
    "    keras.layers.Dense(128,activation = 'relu',kernel_initializer='he_normal'),\n",
    "    keras.layers.Dense(64,activation = 'relu',kernel_initializer='he_normal'),\n",
    "    keras.layers.Dense(32,activation = 'relu',kernel_initializer='he_normal'),\n",
    "    keras.layers.Dense(4,activation = 'softmax')\n",
    "])\n"
   ]
  },
  {
   "cell_type": "code",
   "execution_count": null,
   "metadata": {},
   "outputs": [],
   "source": [
    "NN_class.compile(loss = \"sparse_categorical_crossentropy\",optimizer = keras.optimizers.Adam(learning_rate=0.01),metrics = ['Accuracy'])\n",
    "history_class = NN_class.fit(X_train_balanced,y_train_Outcome_balanced,epochs = 100,validation_data = (X_val,y_val_Outcome),callbacks=[tensorboard_cb, early_stop_cb,lr_schedule_cb])"
   ]
  },
  {
   "cell_type": "code",
   "execution_count": 45,
   "metadata": {},
   "outputs": [],
   "source": [
    "# NN_class.save('../models/Neural_Network_classification_train_od.h5')"
   ]
  },
  {
   "cell_type": "code",
   "execution_count": 44,
   "metadata": {},
   "outputs": [
    {
     "name": "stdout",
     "output_type": "stream",
     "text": [
      " 50/788 [>.............................] - ETA: 2s"
     ]
    },
    {
     "name": "stderr",
     "output_type": "stream",
     "text": [
      "2023-01-16 18:53:29.922077: I tensorflow/core/grappler/optimizers/custom_graph_optimizer_registry.cc:113] Plugin optimizer for device_type GPU is enabled.\n"
     ]
    },
    {
     "name": "stdout",
     "output_type": "stream",
     "text": [
      "788/788 [==============================] - 2s 3ms/step\n",
      "CONFUSION MATRIX: \n",
      " [[5525 2112 5282 1146]\n",
      " [ 288  514  269   48]\n",
      " [2958  928 3389  777]\n",
      " [ 264   96  903  698]]\n",
      "\n",
      "precision MICRO: 0.40187323887764415\n",
      "recall MICRO: 0.40187323887764415\n",
      "f1 score MICRO: 0.4018732388776442\n",
      "\n",
      "precision MACRO: 0.33953986900977345\n",
      "recall MACRO: 0.40724695405759775\n",
      "f1 score MACRO: 0.34354767323207064\n",
      "\n",
      "precision WEIGHTED: 0.4779803426261784\n",
      "recall WEIGHTED: 0.40187323887764415\n",
      "f1 score WEIGHTED: 0.4210959165076711\n"
     ]
    }
   ],
   "source": [
    "y_pred = np.argmax(NN_class.predict(X_test),axis=1)\n",
    "conf_matrix = confusion_matrix(y_test_Outcome, y_pred)\n",
    "\n",
    "# MICRO\n",
    "f1_micro = f1_score(y_test_Outcome, y_pred,average = 'micro')\n",
    "precision_micro = precision_score(y_test_Outcome,y_pred,average = 'micro')\n",
    "recall_micro = recall_score(y_test_Outcome,y_pred,average ='micro')\n",
    "\n",
    "# MACRO\n",
    "f1_macro = f1_score(y_test_Outcome, y_pred,average = 'macro')\n",
    "precision_macro = precision_score(y_test_Outcome,y_pred,average = 'macro')\n",
    "recall_macro = recall_score(y_test_Outcome,y_pred,average ='macro')\n",
    "\n",
    "# WEIGHTED\n",
    "f1_weighted = f1_score(y_test_Outcome, y_pred,average = 'weighted')\n",
    "precision_weighted = precision_score(y_test_Outcome,y_pred,average = 'weighted')\n",
    "recall_weighted = recall_score(y_test_Outcome,y_pred,average ='weighted')\n",
    "\n",
    "print('CONFUSION MATRIX: \\n {}'.format(conf_matrix))\n",
    "print()\n",
    "print(\"precision MICRO:\", precision_micro)\n",
    "print(\"recall MICRO:\", recall_micro)\n",
    "print(\"f1 score MICRO:\", f1_micro)\n",
    "print()\n",
    "print(\"precision MACRO:\", precision_macro)\n",
    "print(\"recall MACRO:\", recall_macro)\n",
    "print(\"f1 score MACRO:\", f1_macro)\n",
    "print()\n",
    "print(\"precision WEIGHTED:\", precision_weighted)\n",
    "print(\"recall WEIGHTED:\", recall_weighted)\n",
    "print(\"f1 score WEIGHTED:\", f1_weighted)"
   ]
  },
  {
   "cell_type": "code",
   "execution_count": null,
   "metadata": {},
   "outputs": [],
   "source": [
    "# !tensorboard --logdir=../my_logs --port=6006"
   ]
  },
  {
   "attachments": {},
   "cell_type": "markdown",
   "metadata": {},
   "source": [
    "## <a style=background:yellow;color:black> REGRESSION TASK </a>"
   ]
  },
  {
   "attachments": {},
   "cell_type": "markdown",
   "metadata": {},
   "source": [
    "### <a style=background:yellow;color:black> Random forest Regression</a>"
   ]
  },
  {
   "cell_type": "code",
   "execution_count": 42,
   "metadata": {},
   "outputs": [],
   "source": [
    "from sklearn.ensemble import RandomForestRegressor\n",
    "from sklearn.metrics import mean_absolute_error"
   ]
  },
  {
   "cell_type": "code",
   "execution_count": 37,
   "metadata": {},
   "outputs": [
    {
     "name": "stderr",
     "output_type": "stream",
     "text": [
      "/var/folders/j3/6zzd1jr16pb3yxx70_376pmw0000gn/T/ipykernel_3320/3614527034.py:3: DataConversionWarning: A column-vector y was passed when a 1d array was expected. Please change the shape of y to (n_samples,), for example using ravel().\n",
      "  rnd_reg.fit(X_train_val, y_train_val_duration)\n"
     ]
    },
    {
     "name": "stdout",
     "output_type": "stream",
     "text": [
      "233.22475564117414\n"
     ]
    }
   ],
   "source": [
    "rnd_reg = RandomForestRegressor(n_estimators=300,random_state = 42)\n",
    "\n",
    "rnd_reg.fit(X_train_val, y_train_val_duration)\n",
    "\n",
    "y_pred_duration_rnd_for = rnd_reg.predict(X_test)\n",
    "\n",
    "print(mean_absolute_error(y_test_duration,y_pred_duration_rnd_for))"
   ]
  },
  {
   "cell_type": "code",
   "execution_count": null,
   "metadata": {},
   "outputs": [],
   "source": [
    "import joblib\n",
    "\n",
    "# joblib.dump(rnd_reg, '../models/rnd_for_reg_train_od.sav')\n",
    "# rnd_reg = joblib.load('../models/rnd_for_reg_train_od.sav')"
   ]
  },
  {
   "attachments": {},
   "cell_type": "markdown",
   "metadata": {},
   "source": [
    "### <a style=background:yellow;color:black> XGBOOST Regression </a>"
   ]
  },
  {
   "cell_type": "code",
   "execution_count": 43,
   "metadata": {},
   "outputs": [],
   "source": [
    "import xgboost\n",
    "from sklearn.metrics import mean_absolute_error"
   ]
  },
  {
   "cell_type": "code",
   "execution_count": null,
   "metadata": {},
   "outputs": [],
   "source": [
    "xgb_reg = xgboost.XGBRegressor(n_estimators = 300,random_state = 42,eval_metric = 'mae')\n",
    "xgb_reg.fit(X_train,y_train_duration,eval_set = [(X_val,y_val_duration)],early_stopping_rounds = 15)"
   ]
  },
  {
   "cell_type": "code",
   "execution_count": 48,
   "metadata": {},
   "outputs": [],
   "source": [
    "params = {\n",
    "    'booster': 'gbtree',\n",
    "    'learning_rate': 0.05,\n",
    "    'objective': 'reg:linear',\n",
    "    'eval_metric': 'mae',\n",
    "    'eta': 0.01,\n",
    "    'subsample': 0.8,\n",
    "    'colsample_bytree': 0.5,\n",
    "    'tree_method': 'exact',\n",
    "    'verbosity': 0,\n",
    "    'max_depth': 10,\n",
    "}\n",
    "\n",
    "# Define the dataset for xgboost\n",
    "dtrain = xgb.DMatrix(X_train, label=y_train_duration)\n",
    "dval = xgb.DMatrix(X_val, label=y_val_duration)\n",
    "\n",
    "early_stopping_rounds = 50\n",
    "\n",
    "model = xgb.train(params, dtrain, num_boost_round=1000, evals=[(dval, 'val')], early_stopping_rounds=early_stopping_rounds, verbose_eval=False)"
   ]
  },
  {
   "cell_type": "code",
   "execution_count": 49,
   "metadata": {},
   "outputs": [
    {
     "data": {
      "text/plain": [
       "214.14003181480228"
      ]
     },
     "execution_count": 49,
     "metadata": {},
     "output_type": "execute_result"
    }
   ],
   "source": [
    "dtest = xgb.DMatrix(X_test)\n",
    "y_pred_duration_xgb = model.predict(dtest)\n",
    "mean_absolute_error(y_test_duration,y_pred_duration_xgb)"
   ]
  },
  {
   "attachments": {},
   "cell_type": "markdown",
   "id": "f1d44acd",
   "metadata": {},
   "source": [
    "### <a style=background:yellow;color:black> Neural Network Regression</a>"
   ]
  },
  {
   "cell_type": "code",
   "execution_count": 19,
   "metadata": {},
   "outputs": [],
   "source": [
    "import tensorflow as tf\n",
    "from tensorflow import keras\n",
    "from sklearn.metrics import mean_absolute_error"
   ]
  },
  {
   "cell_type": "code",
   "execution_count": 20,
   "metadata": {},
   "outputs": [],
   "source": [
    "tf.random.set_seed(42)\n",
    "keras.backend.clear_session() \n",
    "np.random.seed(42)"
   ]
  },
  {
   "cell_type": "code",
   "execution_count": 21,
   "metadata": {},
   "outputs": [],
   "source": [
    "def get_run_logdir(root_logdir, model_name):\n",
    "    import time\n",
    "    run_id = time.strftime('run_%Y_%m_%d-%H_%M_%S')\n",
    "    return os.path.join(root_logdir, model_name+'_'+run_id)\n",
    "\n",
    "model_name = input('Enter model name: ')\n",
    "root_logdir = os.path.join(os.curdir,'..', 'my_logs')\n",
    "run_logdir = get_run_logdir(root_logdir, model_name)\n",
    "\n",
    "early_stop_cb = tf.keras.callbacks.EarlyStopping(patience=10, restore_best_weights=True)\n",
    "tensorboard_cb = keras.callbacks.TensorBoard(run_logdir,\n",
    "                                            histogram_freq=1)"
   ]
  },
  {
   "cell_type": "code",
   "execution_count": 22,
   "metadata": {},
   "outputs": [],
   "source": [
    "NN_reg = keras.models.Sequential([\n",
    "    keras.layers.Dense(128,activation = 'relu',kernel_initializer='he_normal',input_shape = X_train.shape[1:]),\n",
    "    keras.layers.Dense(256,activation = 'relu',kernel_initializer='he_normal'),\n",
    "    keras.layers.Dense(512, kernel_initializer='he_normal',activation='relu'),\n",
    "    keras.layers.Dense(256,activation = 'relu',kernel_initializer='he_normal'),\n",
    "    keras.layers.Dense(128,activation='relu',kernel_initializer='he_normal'),\n",
    "    keras.layers.Dense(1,activation = 'relu') #relu because i want only positive numbers\n",
    "])"
   ]
  },
  {
   "cell_type": "code",
   "execution_count": null,
   "metadata": {},
   "outputs": [],
   "source": [
    "NN_reg.compile(loss = 'mean_absolute_error',optimizer = 'adam')\n",
    "history_reg = NN_reg.fit(X_train,y_train_duration,epochs = 100,validation_data = (X_val,y_val_duration), callbacks=[tensorboard_cb, early_stop_cb])"
   ]
  },
  {
   "cell_type": "code",
   "execution_count": null,
   "metadata": {},
   "outputs": [],
   "source": [
    "# !tensorboard --logdir=../my_logs --port=6006"
   ]
  },
  {
   "cell_type": "code",
   "execution_count": 56,
   "metadata": {},
   "outputs": [],
   "source": [
    "# NN_reg.save('../models/Neural_Network_regression_train_od.h5')"
   ]
  },
  {
   "cell_type": "code",
   "execution_count": 27,
   "metadata": {},
   "outputs": [],
   "source": [
    "NN_reg = keras.models.load_model('../models/Neural_Network_regression_train_od.h5')"
   ]
  },
  {
   "cell_type": "code",
   "execution_count": 28,
   "metadata": {},
   "outputs": [
    {
     "name": "stdout",
     "output_type": "stream",
     "text": [
      " 59/788 [=>............................] - ETA: 1s"
     ]
    },
    {
     "name": "stderr",
     "output_type": "stream",
     "text": [
      "2023-01-16 16:11:36.665271: I tensorflow/core/grappler/optimizers/custom_graph_optimizer_registry.cc:113] Plugin optimizer for device_type GPU is enabled.\n"
     ]
    },
    {
     "name": "stdout",
     "output_type": "stream",
     "text": [
      "788/788 [==============================] - 2s 2ms/step\n"
     ]
    },
    {
     "data": {
      "text/plain": [
       "212.0404718248183"
      ]
     },
     "execution_count": 28,
     "metadata": {},
     "output_type": "execute_result"
    }
   ],
   "source": [
    "y_pred_duration_NN = NN_reg.predict(X_test)\n",
    "mean_absolute_error(y_test_duration,y_pred_duration_NN)"
   ]
  },
  {
   "attachments": {},
   "cell_type": "markdown",
   "metadata": {},
   "source": [
    "## <a style=background:yellow;color:black> test_od predictions</a>"
   ]
  },
  {
   "attachments": {},
   "cell_type": "markdown",
   "metadata": {},
   "source": [
    "<a style =color:deepskyblue>**PROBLEMS:**</a> \n",
    "\n",
    "*  We have a different number of columns among the training set on which we trained the models and the blind_test_od_scaled. It is a problem because we need to have the same number of columns that we had in the training set otherwise we can't use the model to make predictions on the blind test set. We solve this problem by adding a column of zeros to the blind_test_od_scaled.\n",
    "\n",
    "* There are some NA in the blind_test_od_scaled. We solve this problem in two ways:\n",
    "    * by replacing the NA according to the table of value and unified contribution we have in the preprocessing notebook. \n",
    "    * by deleting them."
   ]
  },
  {
   "cell_type": "code",
   "execution_count": 1,
   "metadata": {},
   "outputs": [],
   "source": [
    "X_train_val_columns = ['Number of Lawyers', 'Number of Legal Parties', 'Value formatted',\n",
    "       'Unified Contribution formatted', 'Tax Related', 'Milano', 'Bari',\n",
    "       'Bologna', 'Genova', 'Palermo', 'Napoli', 'Torino', 'Trento', 'Roma',\n",
    "       \"L'Aquila\", 'Potenza', 'Perugia', 'Campobasso', 'Firenze', 'Cagliari',\n",
    "       'Venezia', 'Cosenza', 'Ancona', 'Trieste', 'Aosta', 'OR-140999',\n",
    "       'OR-145009', 'OR-139999', 'OR-145999', 'OR-130099', 'OR-101003',\n",
    "       'OR-130121', 'OR-130111', 'OR-130131', 'OR-101002', 'OR-180002',\n",
    "       'OSA-180002', 'OSA-180099', 'OSA-180001', 'OSA-140999', 'OSA-145999']"
   ]
  },
  {
   "cell_type": "code",
   "execution_count": 2,
   "metadata": {},
   "outputs": [
    {
     "name": "stderr",
     "output_type": "stream",
     "text": [
      "/var/folders/j3/6zzd1jr16pb3yxx70_376pmw0000gn/T/ipykernel_4622/3803149581.py:12: FutureWarning: The default value of regex will change from True to False in a future version. In addition, single character regular expressions will *not* be treated as literal strings when regex=True.\n",
      "  .str.replace('Euro ', '').str.replace('.','').str.replace(',', '.'), errors='coerce')\n",
      "/var/folders/j3/6zzd1jr16pb3yxx70_376pmw0000gn/T/ipykernel_4622/3803149581.py:17: FutureWarning: The default value of regex will change from True to False in a future version. In addition, single character regular expressions will *not* be treated as literal strings when regex=True.\n",
      "  .str.replace('Euro ', '').str.replace('.','').str.replace(',', '.'), errors='coerce')\n"
     ]
    }
   ],
   "source": [
    "import pandas as pd\n",
    "import numpy as np\n",
    "from sklearn.preprocessing import OneHotEncoder\n",
    "from sklearn.preprocessing import StandardScaler\n",
    "\n",
    "\n",
    "blind_test_od = pd.read_csv('../DATA/test_od.csv')\n",
    "\n",
    "del blind_test_od['Unnamed: 0']\n",
    "\n",
    "blind_test_od['Value formatted'] = pd.to_numeric(blind_test_od['Value']\\\n",
    "    .str.replace('Euro ', '').str.replace('.','').str.replace(',', '.'), errors='coerce')\n",
    "    \n",
    "del blind_test_od['Value']\n",
    "\n",
    "blind_test_od['Unified Contribution formatted'] = pd.to_numeric(blind_test_od['Unified Contribution']\\\n",
    "    .str.replace('Euro ', '').str.replace('.','').str.replace(',', '.'), errors='coerce')\n",
    "    \n",
    "del blind_test_od['Unified Contribution']\n",
    "\n",
    "city_encoder = OneHotEncoder().fit(blind_test_od[['City of the judge’s office']])\n",
    "\n",
    "blind_test_od = pd.concat([blind_test_od,\n",
    "  pd.DataFrame(city_encoder.transform(blind_test_od[['City of the judge’s office']]).toarray(),columns=city_encoder.categories_)],\n",
    "  axis=1).drop(['City of the judge’s office'],axis=1)\n",
    "\n",
    "object_encoder = OneHotEncoder().fit(blind_test_od[['Object']])\n",
    "\n",
    "blind_test_od = pd.concat([blind_test_od,\n",
    "  pd.DataFrame(object_encoder.transform(blind_test_od[['Object']]).toarray(),columns=object_encoder.categories_)],\n",
    "  axis=1).drop(['Object'],axis=1)\n",
    "\n",
    "blind_test_od['Tax Related'] = blind_test_od['Tax Related'].fillna(0).replace(True, 1)\n",
    "\n",
    "new_var_names = []\n",
    "for var_name in blind_test_od.columns:\n",
    "    if '(' not in var_name:\n",
    "        new_var_names.append(var_name)\n",
    "    else:\n",
    "        new_var_names.append(var_name.replace('(', '').replace(')', '')\n",
    "        .replace('\\'','').replace(',','').replace('\"',''))\n",
    "new_var_names = []\n",
    "for var_name in blind_test_od.columns:\n",
    "    if type(var_name) != tuple:\n",
    "        new_var_names.append(var_name)\n",
    "    else:\n",
    "        new_var_names.append(var_name[0])\n",
    "\n",
    "blind_test_od = pd.DataFrame(blind_test_od.values, columns=new_var_names)\n",
    "\n",
    "del blind_test_od['Date']\n",
    "del blind_test_od['Case identifier']\n",
    "del blind_test_od['Judge Identifier']\n",
    "del blind_test_od['Section']\n",
    "del blind_test_od['Primary Actor']\n",
    "del blind_test_od['Secondary Actor']\n",
    "del blind_test_od['Primary Defendant']\n",
    "del blind_test_od['Secondary Defendant']\n",
    "del blind_test_od['Number of Persons']\n",
    "\n",
    "for col in X_train_val_columns:\n",
    "    if col not in blind_test_od.columns:\n",
    "        blind_test_od[col] = 0.0\n",
    "\n",
    "blind_test_od_to_scale = blind_test_od[['Number of Lawyers','Number of Legal Parties', 'Value formatted',\n",
    "       'Unified Contribution formatted']]\n",
    "blind_test_od_not_to_scale = blind_test_od[['Tax Related','Milano', 'Bari', 'Bologna', 'Genova',\n",
    "       'Palermo', 'Napoli', 'Torino', 'Trento', 'Roma', \"L'Aquila\", 'Potenza',\n",
    "       'Perugia', 'Campobasso', 'Firenze', 'Cagliari', 'Venezia', 'Cosenza',\n",
    "       'Ancona', 'Trieste', 'Aosta','OR-140999', 'OR-145009', 'OR-139999',\n",
    "       'OR-145999', 'OR-130099', 'OR-101003', 'OR-130121', 'OR-130111',\n",
    "       'OR-130131', 'OR-101002', 'OR-180002', 'OSA-180002','OSA-180099','OSA-180001','OSA-140999','OSA-145999','ID']]\n",
    "\n",
    "\n",
    "\n",
    "std_scale = StandardScaler()\n",
    "blind_test_od_scaled = std_scale.fit_transform(blind_test_od_to_scale)\n",
    "\n",
    "blind_test_od_scaled = pd.DataFrame(blind_test_od_scaled, columns=[blind_test_od_to_scale.columns])\n",
    "blind_test_od_scaled = pd.concat([blind_test_od_scaled, blind_test_od_not_to_scale], axis=1)\n",
    "\n",
    "new_var_names = []\n",
    "for var_name in blind_test_od_scaled.columns:\n",
    "    if '(' not in var_name:\n",
    "        new_var_names.append(var_name)\n",
    "    else:\n",
    "        new_var_names.append(var_name.replace('(', '').replace(')', '')\n",
    "        .replace('\\'','').replace(',','').replace('\"',''))\n",
    "new_var_names = []\n",
    "for var_name in blind_test_od_scaled.columns:\n",
    "    if type(var_name) != tuple:\n",
    "        new_var_names.append(var_name)\n",
    "    else:\n",
    "        new_var_names.append(var_name[0])\n",
    "\n",
    "blind_test_od_scaled = pd.DataFrame(blind_test_od_scaled.values, columns=new_var_names)\n",
    "\n",
    "blind_test_od_to_scale = blind_test_od[['Number of Lawyers','Number of Legal Parties', 'Value formatted',\n",
    "       'Unified Contribution formatted']]\n",
    "blind_test_od_not_to_scale = blind_test_od[['Tax Related','Milano', 'Bari', 'Bologna', 'Genova',\n",
    "       'Palermo', 'Napoli', 'Torino', 'Trento', 'Roma', \"L'Aquila\", 'Potenza',\n",
    "       'Perugia', 'Campobasso', 'Firenze', 'Cagliari', 'Venezia', 'Cosenza',\n",
    "       'Ancona', 'Trieste', 'Aosta','OR-140999', 'OR-145009', 'OR-139999',\n",
    "       'OR-145999', 'OR-130099', 'OR-101003', 'OR-130121', 'OR-130111',\n",
    "       'OR-130131', 'OR-101002', 'OR-180002', 'OSA-180002','OSA-180099','OSA-180001','OSA-140999','OSA-145999','ID']]\n",
    "\n",
    "\n",
    "\n",
    "std_scale = StandardScaler()\n",
    "blind_test_od_scaled = std_scale.fit_transform(blind_test_od_to_scale)\n",
    "\n",
    "blind_test_od_scaled = pd.DataFrame(blind_test_od_scaled, columns=[blind_test_od_to_scale.columns])\n",
    "blind_test_od_scaled = pd.concat([blind_test_od_scaled, blind_test_od_not_to_scale], axis=1)\n",
    "\n",
    "new_var_names = []\n",
    "for var_name in blind_test_od_scaled.columns:\n",
    "    if '(' not in var_name:\n",
    "        new_var_names.append(var_name)\n",
    "    else:\n",
    "        new_var_names.append(var_name.replace('(', '').replace(')', '')\n",
    "        .replace('\\'','').replace(',','').replace('\"',''))\n",
    "new_var_names = []\n",
    "for var_name in blind_test_od_scaled.columns:\n",
    "    if type(var_name) != tuple:\n",
    "        new_var_names.append(var_name)\n",
    "    else:\n",
    "        new_var_names.append(var_name[0])\n",
    "\n",
    "blind_test_od_scaled = pd.DataFrame(blind_test_od_scaled.values, columns=new_var_names)"
   ]
  },
  {
   "attachments": {},
   "cell_type": "markdown",
   "metadata": {},
   "source": [
    "<a style=color:deepskyblue> Let's start by deleting the NA values</a>"
   ]
  },
  {
   "cell_type": "code",
   "execution_count": 3,
   "metadata": {},
   "outputs": [],
   "source": [
    "blind_test_od_scaled_cleaned = blind_test_od_scaled.dropna()"
   ]
  },
  {
   "cell_type": "code",
   "execution_count": 4,
   "metadata": {},
   "outputs": [
    {
     "name": "stdout",
     "output_type": "stream",
     "text": [
      "Metal device set to: Apple M1\n",
      "\n",
      "systemMemory: 8.00 GB\n",
      "maxCacheSize: 2.67 GB\n",
      "\n"
     ]
    },
    {
     "name": "stderr",
     "output_type": "stream",
     "text": [
      "2023-01-16 19:01:57.590270: I tensorflow/core/common_runtime/pluggable_device/pluggable_device_factory.cc:305] Could not identify NUMA node of platform GPU ID 0, defaulting to 0. Your kernel may not have been built with NUMA support.\n",
      "2023-01-16 19:01:57.590659: I tensorflow/core/common_runtime/pluggable_device/pluggable_device_factory.cc:271] Created TensorFlow device (/job:localhost/replica:0/task:0/device:GPU:0 with 0 MB memory) -> physical PluggableDevice (device: 0, name: METAL, pci bus id: <undefined>)\n"
     ]
    }
   ],
   "source": [
    "from tensorflow import keras\n",
    "\n",
    "NN_clf = keras.models.load_model('../models/Neural_Network_classification_train_od.h5')\n",
    "NN_reg = keras.models.load_model('../models/Neural_Network_regression_train_od.h5')"
   ]
  },
  {
   "cell_type": "code",
   "execution_count": 5,
   "metadata": {},
   "outputs": [
    {
     "name": "stderr",
     "output_type": "stream",
     "text": [
      "/var/folders/j3/6zzd1jr16pb3yxx70_376pmw0000gn/T/ipykernel_4622/2433675451.py:2: FutureWarning: The pandas.np module is deprecated and will be removed from pandas in a future version. Import numpy directly instead.\n",
      "  blind_test_od_scaled_cleaned[col] = blind_test_od_scaled_cleaned[col].astype(pd.np.float64)\n",
      "/var/folders/j3/6zzd1jr16pb3yxx70_376pmw0000gn/T/ipykernel_4622/2433675451.py:2: SettingWithCopyWarning: \n",
      "A value is trying to be set on a copy of a slice from a DataFrame.\n",
      "Try using .loc[row_indexer,col_indexer] = value instead\n",
      "\n",
      "See the caveats in the documentation: https://pandas.pydata.org/pandas-docs/stable/user_guide/indexing.html#returning-a-view-versus-a-copy\n",
      "  blind_test_od_scaled_cleaned[col] = blind_test_od_scaled_cleaned[col].astype(pd.np.float64)\n"
     ]
    }
   ],
   "source": [
    "for col in X_train_val_columns:\n",
    "    blind_test_od_scaled_cleaned[col] = blind_test_od_scaled_cleaned[col].astype(pd.np.float64)"
   ]
  },
  {
   "cell_type": "code",
   "execution_count": null,
   "metadata": {},
   "outputs": [],
   "source": [
    "y_pred_Outcome = np.argmax(NN_clf.predict(blind_test_od_scaled_cleaned.drop('ID',axis=1)), axis=1)\n",
    "y_pred_Duration = NN_reg.predict(blind_test_od_scaled_cleaned.drop('ID',axis=1)).ravel()\n",
    "\n",
    "prediction_outcome_duration_2 = pd.DataFrame({'ID':blind_test_od_scaled_cleaned['ID'], 'Outcome':y_pred_Outcome, 'Duration':y_pred_Duration})\n",
    "prediction_outcome_duration_2['Outcome'] = prediction_outcome_duration_2['Outcome'].astype(pd.np.int)\n",
    "prediction_outcome_duration_2['Duration'] = prediction_outcome_duration_2['Duration'].astype(pd.np.int)\n",
    "\n",
    "# prediction_outcome_duration_2.to_csv('../predictions/prediction_outcome_duration_2.csv', index=False)"
   ]
  },
  {
   "attachments": {},
   "cell_type": "markdown",
   "metadata": {},
   "source": [
    "<a style=color:deepskyblue>Let's now make the csv prediction with replacing the NA</a>"
   ]
  },
  {
   "cell_type": "code",
   "execution_count": 1,
   "metadata": {},
   "outputs": [],
   "source": [
    "X_train_val_columns = ['Number of Lawyers', 'Number of Legal Parties', 'Value formatted',\n",
    "       'Unified Contribution formatted', 'Tax Related', 'Milano', 'Bari',\n",
    "       'Bologna', 'Genova', 'Palermo', 'Napoli', 'Torino', 'Trento', 'Roma',\n",
    "       \"L'Aquila\", 'Potenza', 'Perugia', 'Campobasso', 'Firenze', 'Cagliari',\n",
    "       'Venezia', 'Cosenza', 'Ancona', 'Trieste', 'Aosta', 'OR-140999',\n",
    "       'OR-145009', 'OR-139999', 'OR-145999', 'OR-130099', 'OR-101003',\n",
    "       'OR-130121', 'OR-130111', 'OR-130131', 'OR-101002', 'OR-180002',\n",
    "       'OSA-180002', 'OSA-180099', 'OSA-180001', 'OSA-140999', 'OSA-145999']"
   ]
  },
  {
   "cell_type": "code",
   "execution_count": 2,
   "metadata": {},
   "outputs": [],
   "source": [
    "import pandas as pd\n",
    "import numpy as np\n",
    "\n",
    "def unified_contribution_calculator(in_array):\n",
    "    out_array = list(in_array*0.5)+list(in_array*1)+list(in_array*1.5)+list(in_array*2)\n",
    "    return np.sort(np.array(out_array))\n",
    "\n",
    "table_range_since_25_06_2014 = pd.DataFrame({\n",
    "    'Lawsuit Value': [[0],np.arange(1,1101),np.arange(1101,5201),np.arange(5201,26001),np.arange(26001,52001),np.arange(52001,260001),np.arange(260001,520001),np.arange(520001, 3500000)],\n",
    "    'Unified Contribution' : [unified_contribution_calculator(np.array([43,98,237,259,518,43*1.5,98*1.5,237*1.5,259*1.5,518*1.5])),\n",
    "                              unified_contribution_calculator(np.array([43,43*1.5])),\n",
    "                              unified_contribution_calculator(np.array([98,98*1.5])),\n",
    "                              unified_contribution_calculator(np.array([237,237*1.5])),\n",
    "                              unified_contribution_calculator(np.array([518,518*1.5])),\n",
    "                              unified_contribution_calculator(np.array([759,759*1.5])),\n",
    "                              unified_contribution_calculator(np.array([1214,1214*1.5])),\n",
    "                              unified_contribution_calculator(np.array([1686,1686*1.5]))]\n",
    "})\n",
    "\n",
    "table_range_before_25_06_2014 = pd.DataFrame({\n",
    "    'Lawsuit Value': [[0],np.arange(1,1101),np.arange(1101,5201),np.arange(5201,26001),np.arange(26001,52001),np.arange(52001,260001),np.arange(260001,520001),np.arange(520001,3500000)],\n",
    "    'Unified Contribution' : [unified_contribution_calculator(np.array([37,85,206,450,37*1.5,85*1.5,206*1.5,450*1.5])),\n",
    "                              unified_contribution_calculator(np.array([37,37*1.5])),\n",
    "                              unified_contribution_calculator(np.array([85,85*1.5])),\n",
    "                              unified_contribution_calculator(np.array([206,206*1.5])),\n",
    "                              unified_contribution_calculator(np.array([450,450*1.5])),\n",
    "                              unified_contribution_calculator(np.array([660,660*1.5])),\n",
    "                              unified_contribution_calculator(np.array([1056,1056*1.5])),\n",
    "                              unified_contribution_calculator(np.array([1466,1466*1.5]))]\n",
    "})"
   ]
  },
  {
   "cell_type": "code",
   "execution_count": 3,
   "metadata": {},
   "outputs": [
    {
     "name": "stderr",
     "output_type": "stream",
     "text": [
      "/var/folders/j3/6zzd1jr16pb3yxx70_376pmw0000gn/T/ipykernel_4424/2653360889.py:10: FutureWarning: The default value of regex will change from True to False in a future version. In addition, single character regular expressions will *not* be treated as literal strings when regex=True.\n",
      "  .str.replace('Euro ', '').str.replace('.','').str.replace(',', '.'), errors='coerce')\n",
      "/var/folders/j3/6zzd1jr16pb3yxx70_376pmw0000gn/T/ipykernel_4424/2653360889.py:15: FutureWarning: The default value of regex will change from True to False in a future version. In addition, single character regular expressions will *not* be treated as literal strings when regex=True.\n",
      "  .str.replace('Euro ', '').str.replace('.','').str.replace(',', '.'), errors='coerce')\n"
     ]
    }
   ],
   "source": [
    "from sklearn.preprocessing import OneHotEncoder\n",
    "from sklearn.preprocessing import StandardScaler\n",
    "\n",
    "\n",
    "blind_test_od = pd.read_csv('../DATA/test_od.csv')\n",
    "\n",
    "del blind_test_od['Unnamed: 0']\n",
    "\n",
    "blind_test_od['Value formatted'] = pd.to_numeric(blind_test_od['Value']\\\n",
    "    .str.replace('Euro ', '').str.replace('.','').str.replace(',', '.'), errors='coerce')\n",
    "    \n",
    "del blind_test_od['Value']\n",
    "\n",
    "blind_test_od['Unified Contribution formatted'] = pd.to_numeric(blind_test_od['Unified Contribution']\\\n",
    "    .str.replace('Euro ', '').str.replace('.','').str.replace(',', '.'), errors='coerce')\n",
    "    \n",
    "del blind_test_od['Unified Contribution']\n",
    "\n",
    "city_encoder = OneHotEncoder().fit(blind_test_od[['City of the judge’s office']])\n",
    "\n",
    "blind_test_od = pd.concat([blind_test_od,\n",
    "  pd.DataFrame(city_encoder.transform(blind_test_od[['City of the judge’s office']]).toarray(),columns=city_encoder.categories_)],\n",
    "  axis=1).drop(['City of the judge’s office'],axis=1)\n",
    "\n",
    "object_encoder = OneHotEncoder().fit(blind_test_od[['Object']])\n",
    "\n",
    "blind_test_od = pd.concat([blind_test_od,\n",
    "  pd.DataFrame(object_encoder.transform(blind_test_od[['Object']]).toarray(),columns=object_encoder.categories_)],\n",
    "  axis=1).drop(['Object'],axis=1)\n",
    "\n",
    "blind_test_od['Tax Related'] = blind_test_od['Tax Related'].fillna(0).replace(True, 1)\n",
    "\n",
    "new_var_names = []\n",
    "for var_name in blind_test_od.columns:\n",
    "    if '(' not in var_name:\n",
    "        new_var_names.append(var_name)\n",
    "    else:\n",
    "        new_var_names.append(var_name.replace('(', '').replace(')', '')\n",
    "        .replace('\\'','').replace(',','').replace('\"',''))\n",
    "new_var_names = []\n",
    "for var_name in blind_test_od.columns:\n",
    "    if type(var_name) != tuple:\n",
    "        new_var_names.append(var_name)\n",
    "    else:\n",
    "        new_var_names.append(var_name[0])\n",
    "\n",
    "blind_test_od = pd.DataFrame(blind_test_od.values, columns=new_var_names)\n",
    "\n",
    "del blind_test_od['Case identifier']\n",
    "del blind_test_od['Judge Identifier']\n",
    "del blind_test_od['Section']\n",
    "del blind_test_od['Primary Actor']\n",
    "del blind_test_od['Secondary Actor']\n",
    "del blind_test_od['Primary Defendant']\n",
    "del blind_test_od['Secondary Defendant']\n",
    "del blind_test_od['Number of Persons']\n",
    "\n",
    "new_unified_contribution = []\n",
    "# DIFFERENT PART THAT FILL THE NA OF UNIFIED CONTRIBUTION   \n",
    "for i in range(blind_test_od.shape[0]):\n",
    "    if np.isnan(blind_test_od.iloc[i]['Unified Contribution formatted']):\n",
    "        if blind_test_od.iloc[i]['Date']>='2014-06-25':\n",
    "            for j in range(table_range_since_25_06_2014.shape[0]):\n",
    "                if np.round(blind_test_od.iloc[i]['Value formatted']) in table_range_since_25_06_2014.iloc[j]['Lawsuit Value']:\n",
    "                   new_unified_contribution.append(np.random.choice(table_range_since_25_06_2014.iloc[j]['Unified Contribution'])) \n",
    "        else:\n",
    "            for j in range(table_range_before_25_06_2014.shape[0]):\n",
    "                if np.round(blind_test_od.iloc[i]['Value formatted']) in table_range_before_25_06_2014.iloc[j]['Lawsuit Value']:\n",
    "                    new_unified_contribution.append(np.random.choice(table_range_since_25_06_2014.iloc[j]['Unified Contribution'])) \n",
    "    else:\n",
    "        new_unified_contribution.append(blind_test_od.iloc[i]['Unified Contribution formatted'])\n",
    "\n",
    "blind_test_od['Unified Contribution formatted'] = new_unified_contribution\n",
    "\n",
    "\n",
    "for col in X_train_val_columns:\n",
    "    if col not in blind_test_od.columns:\n",
    "        blind_test_od[col] = 0.0\n",
    "\n",
    "blind_test_od_to_scale = blind_test_od[['Number of Lawyers','Number of Legal Parties', 'Value formatted',\n",
    "       'Unified Contribution formatted']]\n",
    "blind_test_od_not_to_scale = blind_test_od[['Tax Related','Milano', 'Bari', 'Bologna', 'Genova',\n",
    "       'Palermo', 'Napoli', 'Torino', 'Trento', 'Roma', \"L'Aquila\", 'Potenza',\n",
    "       'Perugia', 'Campobasso', 'Firenze', 'Cagliari', 'Venezia', 'Cosenza',\n",
    "       'Ancona', 'Trieste', 'Aosta','OR-140999', 'OR-145009', 'OR-139999',\n",
    "       'OR-145999', 'OR-130099', 'OR-101003', 'OR-130121', 'OR-130111',\n",
    "       'OR-130131', 'OR-101002', 'OR-180002', 'OSA-180002','OSA-180099','OSA-180001','OSA-140999','OSA-145999','ID']]\n",
    "\n",
    "\n",
    "\n",
    "std_scale = StandardScaler()\n",
    "blind_test_od_scaled = std_scale.fit_transform(blind_test_od_to_scale)\n",
    "\n",
    "blind_test_od_scaled = pd.DataFrame(blind_test_od_scaled, columns=[blind_test_od_to_scale.columns])\n",
    "blind_test_od_scaled = pd.concat([blind_test_od_scaled, blind_test_od_not_to_scale], axis=1)\n",
    "\n",
    "new_var_names = []\n",
    "for var_name in blind_test_od_scaled.columns:\n",
    "    if '(' not in var_name:\n",
    "        new_var_names.append(var_name)\n",
    "    else:\n",
    "        new_var_names.append(var_name.replace('(', '').replace(')', '')\n",
    "        .replace('\\'','').replace(',','').replace('\"',''))\n",
    "new_var_names = []\n",
    "for var_name in blind_test_od_scaled.columns:\n",
    "    if type(var_name) != tuple:\n",
    "        new_var_names.append(var_name)\n",
    "    else:\n",
    "        new_var_names.append(var_name[0])\n",
    "\n",
    "blind_test_od_scaled = pd.DataFrame(blind_test_od_scaled.values, columns=new_var_names)\n",
    "\n",
    "blind_test_od_to_scale = blind_test_od[['Number of Lawyers','Number of Legal Parties', 'Value formatted',\n",
    "       'Unified Contribution formatted']]\n",
    "blind_test_od_not_to_scale = blind_test_od[['Tax Related','Milano', 'Bari', 'Bologna', 'Genova',\n",
    "       'Palermo', 'Napoli', 'Torino', 'Trento', 'Roma', \"L'Aquila\", 'Potenza',\n",
    "       'Perugia', 'Campobasso', 'Firenze', 'Cagliari', 'Venezia', 'Cosenza',\n",
    "       'Ancona', 'Trieste', 'Aosta','OR-140999', 'OR-145009', 'OR-139999',\n",
    "       'OR-145999', 'OR-130099', 'OR-101003', 'OR-130121', 'OR-130111',\n",
    "       'OR-130131', 'OR-101002', 'OR-180002', 'OSA-180002','OSA-180099','OSA-180001','OSA-140999','OSA-145999','ID']]\n",
    "\n",
    "\n",
    "\n",
    "std_scale = StandardScaler()\n",
    "blind_test_od_scaled = std_scale.fit_transform(blind_test_od_to_scale)\n",
    "\n",
    "blind_test_od_scaled = pd.DataFrame(blind_test_od_scaled, columns=[blind_test_od_to_scale.columns])\n",
    "blind_test_od_scaled = pd.concat([blind_test_od_scaled, blind_test_od_not_to_scale], axis=1)\n",
    "\n",
    "new_var_names = []\n",
    "for var_name in blind_test_od_scaled.columns:\n",
    "    if '(' not in var_name:\n",
    "        new_var_names.append(var_name)\n",
    "    else:\n",
    "        new_var_names.append(var_name.replace('(', '').replace(')', '')\n",
    "        .replace('\\'','').replace(',','').replace('\"',''))\n",
    "new_var_names = []\n",
    "for var_name in blind_test_od_scaled.columns:\n",
    "    if type(var_name) != tuple:\n",
    "        new_var_names.append(var_name)\n",
    "    else:\n",
    "        new_var_names.append(var_name[0])\n",
    "\n",
    "blind_test_od_scaled = pd.DataFrame(blind_test_od_scaled.values, columns=new_var_names)"
   ]
  },
  {
   "cell_type": "code",
   "execution_count": 4,
   "metadata": {},
   "outputs": [
    {
     "name": "stderr",
     "output_type": "stream",
     "text": [
      "2023-01-16 18:57:00.572755: I tensorflow/core/common_runtime/pluggable_device/pluggable_device_factory.cc:305] Could not identify NUMA node of platform GPU ID 0, defaulting to 0. Your kernel may not have been built with NUMA support.\n",
      "2023-01-16 18:57:00.573108: I tensorflow/core/common_runtime/pluggable_device/pluggable_device_factory.cc:271] Created TensorFlow device (/job:localhost/replica:0/task:0/device:GPU:0 with 0 MB memory) -> physical PluggableDevice (device: 0, name: METAL, pci bus id: <undefined>)\n"
     ]
    },
    {
     "name": "stdout",
     "output_type": "stream",
     "text": [
      "Metal device set to: Apple M1\n",
      "\n",
      "systemMemory: 8.00 GB\n",
      "maxCacheSize: 2.67 GB\n",
      "\n"
     ]
    }
   ],
   "source": [
    "from tensorflow import keras\n",
    "\n",
    "NN_clf = keras.models.load_model('../models/Neural_Network_classification_train_od.h5')\n",
    "NN_reg = keras.models.load_model('../models/Neural_Network_regression_train_od.h5')"
   ]
  },
  {
   "cell_type": "code",
   "execution_count": 5,
   "metadata": {},
   "outputs": [
    {
     "name": "stderr",
     "output_type": "stream",
     "text": [
      "/var/folders/j3/6zzd1jr16pb3yxx70_376pmw0000gn/T/ipykernel_4424/3155435785.py:2: FutureWarning: The pandas.np module is deprecated and will be removed from pandas in a future version. Import numpy directly instead.\n",
      "  blind_test_od_scaled[col] = blind_test_od_scaled[col].astype(pd.np.float64)\n"
     ]
    }
   ],
   "source": [
    "for col in X_train_val_columns:\n",
    "    blind_test_od_scaled[col] = blind_test_od_scaled[col].astype(pd.np.float64)"
   ]
  },
  {
   "cell_type": "code",
   "execution_count": null,
   "metadata": {},
   "outputs": [],
   "source": [
    "y_pred_Outcome = np.argmax(NN_clf.predict(blind_test_od_scaled.drop('ID',axis=1)), axis=1)\n",
    "y_pred_Duration = NN_reg.predict(blind_test_od_scaled.drop('ID',axis=1)).ravel()\n",
    "\n",
    "prediction_outcome_duration = pd.DataFrame({'ID':blind_test_od_scaled['ID'], 'Outcome':y_pred_Outcome, 'Duration':y_pred_Duration})\n",
    "prediction_outcome_duration['Outcome'] = prediction_outcome_duration['Outcome'].astype(pd.np.int)\n",
    "prediction_outcome_duration['Duration'] = prediction_outcome_duration['Duration'].astype(pd.np.int)\n",
    "\n",
    "# prediction_outcome_duration.to_csv('../predictions/prediction_outcome_duration.csv', index=False)"
   ]
  },
  {
   "attachments": {},
   "cell_type": "markdown",
   "metadata": {},
   "source": [
    "## <a style=background:yellow;color:black> Explainer </a>"
   ]
  },
  {
   "attachments": {},
   "cell_type": "markdown",
   "metadata": {},
   "source": [
    "Keep in mind that since neural network are complex models with a lot of parameters and a lot of interactions between the features, the explanations provided by LIME may not be as accurate as for simpler models, and the visualization may be harder to interpret.\n",
    "\n",
    "Also, keep in mind that LIME explanations are based on a linear model, so it doesn't take into account the non-linear behavior of neural networks. Therefore, they may not be a good fit to provide explanations for neural network models, and you may want to explore other alternatives such as SHAP or integrated gradients."
   ]
  },
  {
   "cell_type": "code",
   "execution_count": 20,
   "metadata": {},
   "outputs": [],
   "source": [
    "import numpy as np\n",
    "import pandas as pd\n",
    "from tensorflow import keras\n",
    "from lime import lime_tabular\n",
    "import matplotlib.pyplot as plt"
   ]
  },
  {
   "cell_type": "code",
   "execution_count": 21,
   "metadata": {},
   "outputs": [],
   "source": [
    "NN_reg = keras.models.load_model('../models/Neural_Network_regression_train_od.h5')"
   ]
  },
  {
   "cell_type": "code",
   "execution_count": 23,
   "metadata": {},
   "outputs": [],
   "source": [
    "explainer = lime_tabular.LimeTabularExplainer(X_test.values,\n",
    " feature_names=X_test.columns, class_names=['Duration'], discretize_continuous=True,\n",
    " mode='regression')"
   ]
  },
  {
   "cell_type": "code",
   "execution_count": 27,
   "metadata": {},
   "outputs": [
    {
     "name": "stdout",
     "output_type": "stream",
     "text": [
      "157/157 [==============================] - 0s 767us/step\n"
     ]
    }
   ],
   "source": [
    "explained = explainer.explain_instance(X_train.iloc[0], NN_reg.predict, num_features=10)"
   ]
  },
  {
   "cell_type": "code",
   "execution_count": 31,
   "metadata": {},
   "outputs": [
    {
     "data": {
      "image/png": "[encoded data removed]",
      "text/plain": [
       "<Figure size 640x480 with 1 Axes>"
      ]
     },
     "metadata": {},
     "output_type": "display_data"
    }
   ],
   "source": [
    "explained.as_pyplot_figure()\n",
    "plt.show()"
   ]
  },
  {
   "cell_type": "code",
   "execution_count": 24,
   "metadata": {},
   "outputs": [
    {
     "name": "stdout",
     "output_type": "stream",
     "text": [
      "157/157 [==============================] - 0s 2ms/step\n",
      " 12/157 [=>............................] - ETA: 1s"
     ]
    },
    {
     "ename": "KeyboardInterrupt",
     "evalue": "",
     "output_type": "error",
     "traceback": [
      "\u001b[0;31m---------------------------------------------------------------------------\u001b[0m",
      "\u001b[0;31mKeyboardInterrupt\u001b[0m                         Traceback (most recent call last)",
      "Cell \u001b[0;32mIn[24], line 1\u001b[0m\n\u001b[0;32m----> 1\u001b[0m exp_list \u001b[39m=\u001b[39m [explainer\u001b[39m.\u001b[39mexplain_instance(X_test\u001b[39m.\u001b[39miloc[i], NN_reg\u001b[39m.\u001b[39mpredict, num_features\u001b[39m=\u001b[39m\u001b[39m4\u001b[39m) \u001b[39mfor\u001b[39;00m i \u001b[39min\u001b[39;00m \u001b[39mrange\u001b[39m(X_test\u001b[39m.\u001b[39mshape[\u001b[39m0\u001b[39m])]\n",
      "Cell \u001b[0;32mIn[24], line 1\u001b[0m, in \u001b[0;36m<listcomp>\u001b[0;34m(.0)\u001b[0m\n\u001b[0;32m----> 1\u001b[0m exp_list \u001b[39m=\u001b[39m [explainer\u001b[39m.\u001b[39;49mexplain_instance(X_test\u001b[39m.\u001b[39;49miloc[i], NN_reg\u001b[39m.\u001b[39;49mpredict, num_features\u001b[39m=\u001b[39;49m\u001b[39m4\u001b[39;49m) \u001b[39mfor\u001b[39;00m i \u001b[39min\u001b[39;00m \u001b[39mrange\u001b[39m(X_test\u001b[39m.\u001b[39mshape[\u001b[39m0\u001b[39m])]\n",
      "File \u001b[0;32m~/miniforge3/envs/EUSTEMA_ENV/lib/python3.10/site-packages/lime/lime_tabular.py:355\u001b[0m, in \u001b[0;36mLimeTabularExplainer.explain_instance\u001b[0;34m(self, data_row, predict_fn, labels, top_labels, num_features, num_samples, distance_metric, model_regressor)\u001b[0m\n\u001b[1;32m    348\u001b[0m     scaled_data \u001b[39m=\u001b[39m (data \u001b[39m-\u001b[39m \u001b[39mself\u001b[39m\u001b[39m.\u001b[39mscaler\u001b[39m.\u001b[39mmean_) \u001b[39m/\u001b[39m \u001b[39mself\u001b[39m\u001b[39m.\u001b[39mscaler\u001b[39m.\u001b[39mscale_\n\u001b[1;32m    349\u001b[0m distances \u001b[39m=\u001b[39m sklearn\u001b[39m.\u001b[39mmetrics\u001b[39m.\u001b[39mpairwise_distances(\n\u001b[1;32m    350\u001b[0m         scaled_data,\n\u001b[1;32m    351\u001b[0m         scaled_data[\u001b[39m0\u001b[39m]\u001b[39m.\u001b[39mreshape(\u001b[39m1\u001b[39m, \u001b[39m-\u001b[39m\u001b[39m1\u001b[39m),\n\u001b[1;32m    352\u001b[0m         metric\u001b[39m=\u001b[39mdistance_metric\n\u001b[1;32m    353\u001b[0m )\u001b[39m.\u001b[39mravel()\n\u001b[0;32m--> 355\u001b[0m yss \u001b[39m=\u001b[39m predict_fn(inverse)\n\u001b[1;32m    357\u001b[0m \u001b[39m# for classification, the model needs to provide a list of tuples - classes\u001b[39;00m\n\u001b[1;32m    358\u001b[0m \u001b[39m# along with prediction probabilities\u001b[39;00m\n\u001b[1;32m    359\u001b[0m \u001b[39mif\u001b[39;00m \u001b[39mself\u001b[39m\u001b[39m.\u001b[39mmode \u001b[39m==\u001b[39m \u001b[39m\"\u001b[39m\u001b[39mclassification\u001b[39m\u001b[39m\"\u001b[39m:\n",
      "File \u001b[0;32m~/miniforge3/envs/EUSTEMA_ENV/lib/python3.10/site-packages/keras/utils/traceback_utils.py:65\u001b[0m, in \u001b[0;36mfilter_traceback.<locals>.error_handler\u001b[0;34m(*args, **kwargs)\u001b[0m\n\u001b[1;32m     63\u001b[0m filtered_tb \u001b[39m=\u001b[39m \u001b[39mNone\u001b[39;00m\n\u001b[1;32m     64\u001b[0m \u001b[39mtry\u001b[39;00m:\n\u001b[0;32m---> 65\u001b[0m     \u001b[39mreturn\u001b[39;00m fn(\u001b[39m*\u001b[39;49margs, \u001b[39m*\u001b[39;49m\u001b[39m*\u001b[39;49mkwargs)\n\u001b[1;32m     66\u001b[0m \u001b[39mexcept\u001b[39;00m \u001b[39mException\u001b[39;00m \u001b[39mas\u001b[39;00m e:\n\u001b[1;32m     67\u001b[0m     filtered_tb \u001b[39m=\u001b[39m _process_traceback_frames(e\u001b[39m.\u001b[39m__traceback__)\n",
      "File \u001b[0;32m~/miniforge3/envs/EUSTEMA_ENV/lib/python3.10/site-packages/keras/engine/training.py:2350\u001b[0m, in \u001b[0;36mModel.predict\u001b[0;34m(self, x, batch_size, verbose, steps, callbacks, max_queue_size, workers, use_multiprocessing)\u001b[0m\n\u001b[1;32m   2348\u001b[0m \u001b[39mfor\u001b[39;00m step \u001b[39min\u001b[39;00m data_handler\u001b[39m.\u001b[39msteps():\n\u001b[1;32m   2349\u001b[0m     callbacks\u001b[39m.\u001b[39mon_predict_batch_begin(step)\n\u001b[0;32m-> 2350\u001b[0m     tmp_batch_outputs \u001b[39m=\u001b[39m \u001b[39mself\u001b[39;49m\u001b[39m.\u001b[39;49mpredict_function(iterator)\n\u001b[1;32m   2351\u001b[0m     \u001b[39mif\u001b[39;00m data_handler\u001b[39m.\u001b[39mshould_sync:\n\u001b[1;32m   2352\u001b[0m         context\u001b[39m.\u001b[39masync_wait()\n",
      "File \u001b[0;32m~/miniforge3/envs/EUSTEMA_ENV/lib/python3.10/site-packages/tensorflow/python/util/traceback_utils.py:150\u001b[0m, in \u001b[0;36mfilter_traceback.<locals>.error_handler\u001b[0;34m(*args, **kwargs)\u001b[0m\n\u001b[1;32m    148\u001b[0m filtered_tb \u001b[39m=\u001b[39m \u001b[39mNone\u001b[39;00m\n\u001b[1;32m    149\u001b[0m \u001b[39mtry\u001b[39;00m:\n\u001b[0;32m--> 150\u001b[0m   \u001b[39mreturn\u001b[39;00m fn(\u001b[39m*\u001b[39;49margs, \u001b[39m*\u001b[39;49m\u001b[39m*\u001b[39;49mkwargs)\n\u001b[1;32m    151\u001b[0m \u001b[39mexcept\u001b[39;00m \u001b[39mException\u001b[39;00m \u001b[39mas\u001b[39;00m e:\n\u001b[1;32m    152\u001b[0m   filtered_tb \u001b[39m=\u001b[39m _process_traceback_frames(e\u001b[39m.\u001b[39m__traceback__)\n",
      "File \u001b[0;32m~/miniforge3/envs/EUSTEMA_ENV/lib/python3.10/site-packages/tensorflow/python/eager/polymorphic_function/polymorphic_function.py:880\u001b[0m, in \u001b[0;36mFunction.__call__\u001b[0;34m(self, *args, **kwds)\u001b[0m\n\u001b[1;32m    877\u001b[0m compiler \u001b[39m=\u001b[39m \u001b[39m\"\u001b[39m\u001b[39mxla\u001b[39m\u001b[39m\"\u001b[39m \u001b[39mif\u001b[39;00m \u001b[39mself\u001b[39m\u001b[39m.\u001b[39m_jit_compile \u001b[39melse\u001b[39;00m \u001b[39m\"\u001b[39m\u001b[39mnonXla\u001b[39m\u001b[39m\"\u001b[39m\n\u001b[1;32m    879\u001b[0m \u001b[39mwith\u001b[39;00m OptionalXlaContext(\u001b[39mself\u001b[39m\u001b[39m.\u001b[39m_jit_compile):\n\u001b[0;32m--> 880\u001b[0m   result \u001b[39m=\u001b[39m \u001b[39mself\u001b[39;49m\u001b[39m.\u001b[39;49m_call(\u001b[39m*\u001b[39;49margs, \u001b[39m*\u001b[39;49m\u001b[39m*\u001b[39;49mkwds)\n\u001b[1;32m    882\u001b[0m new_tracing_count \u001b[39m=\u001b[39m \u001b[39mself\u001b[39m\u001b[39m.\u001b[39mexperimental_get_tracing_count()\n\u001b[1;32m    883\u001b[0m without_tracing \u001b[39m=\u001b[39m (tracing_count \u001b[39m==\u001b[39m new_tracing_count)\n",
      "File \u001b[0;32m~/miniforge3/envs/EUSTEMA_ENV/lib/python3.10/site-packages/tensorflow/python/eager/polymorphic_function/polymorphic_function.py:919\u001b[0m, in \u001b[0;36mFunction._call\u001b[0;34m(self, *args, **kwds)\u001b[0m\n\u001b[1;32m    916\u001b[0m \u001b[39mself\u001b[39m\u001b[39m.\u001b[39m_lock\u001b[39m.\u001b[39mrelease()\n\u001b[1;32m    917\u001b[0m \u001b[39m# In this case we have not created variables on the first call. So we can\u001b[39;00m\n\u001b[1;32m    918\u001b[0m \u001b[39m# run the first trace but we should fail if variables are created.\u001b[39;00m\n\u001b[0;32m--> 919\u001b[0m results \u001b[39m=\u001b[39m \u001b[39mself\u001b[39;49m\u001b[39m.\u001b[39;49m_variable_creation_fn(\u001b[39m*\u001b[39;49margs, \u001b[39m*\u001b[39;49m\u001b[39m*\u001b[39;49mkwds)\n\u001b[1;32m    920\u001b[0m \u001b[39mif\u001b[39;00m \u001b[39mself\u001b[39m\u001b[39m.\u001b[39m_created_variables \u001b[39mand\u001b[39;00m \u001b[39mnot\u001b[39;00m ALLOW_DYNAMIC_VARIABLE_CREATION:\n\u001b[1;32m    921\u001b[0m   \u001b[39mraise\u001b[39;00m \u001b[39mValueError\u001b[39;00m(\u001b[39m\"\u001b[39m\u001b[39mCreating variables on a non-first call to a function\u001b[39m\u001b[39m\"\u001b[39m\n\u001b[1;32m    922\u001b[0m                    \u001b[39m\"\u001b[39m\u001b[39m decorated with tf.function.\u001b[39m\u001b[39m\"\u001b[39m)\n",
      "File \u001b[0;32m~/miniforge3/envs/EUSTEMA_ENV/lib/python3.10/site-packages/tensorflow/python/eager/polymorphic_function/tracing_compiler.py:133\u001b[0m, in \u001b[0;36mTracingCompiler.__call__\u001b[0;34m(self, *args, **kwargs)\u001b[0m\n\u001b[1;32m    130\u001b[0m \u001b[39m\u001b[39m\u001b[39m\"\"\"Calls a graph function specialized to the inputs.\"\"\"\u001b[39;00m\n\u001b[1;32m    131\u001b[0m \u001b[39mwith\u001b[39;00m \u001b[39mself\u001b[39m\u001b[39m.\u001b[39m_lock:\n\u001b[1;32m    132\u001b[0m   (concrete_function,\n\u001b[0;32m--> 133\u001b[0m    filtered_flat_args) \u001b[39m=\u001b[39m \u001b[39mself\u001b[39;49m\u001b[39m.\u001b[39;49m_maybe_define_function(args, kwargs)\n\u001b[1;32m    134\u001b[0m \u001b[39mreturn\u001b[39;00m concrete_function\u001b[39m.\u001b[39m_call_flat(\n\u001b[1;32m    135\u001b[0m     filtered_flat_args, captured_inputs\u001b[39m=\u001b[39mconcrete_function\u001b[39m.\u001b[39mcaptured_inputs)\n",
      "File \u001b[0;32m~/miniforge3/envs/EUSTEMA_ENV/lib/python3.10/site-packages/tensorflow/python/eager/polymorphic_function/tracing_compiler.py:338\u001b[0m, in \u001b[0;36mTracingCompiler._maybe_define_function\u001b[0;34m(self, args, kwargs)\u001b[0m\n\u001b[1;32m    333\u001b[0m \u001b[39m# cache_key_deletion_observer is useless here. It's based on all captures.\u001b[39;00m\n\u001b[1;32m    334\u001b[0m \u001b[39m# A new cache key will be built later when saving ConcreteFunction because\u001b[39;00m\n\u001b[1;32m    335\u001b[0m \u001b[39m# only active captures should be saved.\u001b[39;00m\n\u001b[1;32m    336\u001b[0m lookup_func_key, _ \u001b[39m=\u001b[39m function_context\u001b[39m.\u001b[39mmake_cache_key((args, kwargs),\n\u001b[1;32m    337\u001b[0m                                                      captures)\n\u001b[0;32m--> 338\u001b[0m concrete_function \u001b[39m=\u001b[39m \u001b[39mself\u001b[39;49m\u001b[39m.\u001b[39;49m_function_cache\u001b[39m.\u001b[39;49mlookup(lookup_func_key, \u001b[39mTrue\u001b[39;49;00m)\n\u001b[1;32m    339\u001b[0m \u001b[39mif\u001b[39;00m concrete_function \u001b[39mis\u001b[39;00m \u001b[39mnot\u001b[39;00m \u001b[39mNone\u001b[39;00m:\n\u001b[1;32m    340\u001b[0m   \u001b[39mreturn\u001b[39;00m concrete_function, filtered_flat_args\n",
      "File \u001b[0;32m~/miniforge3/envs/EUSTEMA_ENV/lib/python3.10/site-packages/tensorflow/core/function/polymorphism/function_cache.py:119\u001b[0m, in \u001b[0;36mFunctionCache.lookup\u001b[0;34m(self, key, use_function_subtyping)\u001b[0m\n\u001b[1;32m    117\u001b[0m dispatch_key \u001b[39m=\u001b[39m \u001b[39mself\u001b[39m\u001b[39m.\u001b[39m_dispatch_table\u001b[39m.\u001b[39mdispatch(key)\n\u001b[1;32m    118\u001b[0m \u001b[39mif\u001b[39;00m dispatch_key \u001b[39mis\u001b[39;00m \u001b[39mnot\u001b[39;00m \u001b[39mNone\u001b[39;00m:\n\u001b[0;32m--> 119\u001b[0m   \u001b[39mreturn\u001b[39;00m \u001b[39mself\u001b[39;49m\u001b[39m.\u001b[39;49m_primary[dispatch_key]\n\u001b[1;32m    121\u001b[0m \u001b[39mreturn\u001b[39;00m \u001b[39mNone\u001b[39;00m\n",
      "File \u001b[0;32m~/miniforge3/envs/EUSTEMA_ENV/lib/python3.10/site-packages/tensorflow/core/function/polymorphism/function_cache.py:87\u001b[0m, in \u001b[0;36mFunctionCacheKey.__eq__\u001b[0;34m(self, other)\u001b[0m\n\u001b[1;32m     83\u001b[0m \u001b[39mif\u001b[39;00m \u001b[39mnot\u001b[39;00m \u001b[39misinstance\u001b[39m(other, FunctionCacheKey):\n\u001b[1;32m     84\u001b[0m   \u001b[39mreturn\u001b[39;00m \u001b[39mFalse\u001b[39;00m\n\u001b[1;32m     86\u001b[0m \u001b[39mreturn\u001b[39;00m (\u001b[39mself\u001b[39m\u001b[39m.\u001b[39mcall_context \u001b[39m==\u001b[39m other\u001b[39m.\u001b[39mcall_context \u001b[39mand\u001b[39;00m\n\u001b[0;32m---> 87\u001b[0m         \u001b[39mself\u001b[39;49m\u001b[39m.\u001b[39;49mfunction_type \u001b[39m==\u001b[39;49m other\u001b[39m.\u001b[39;49mfunction_type)\n",
      "File \u001b[0;32m~/miniforge3/envs/EUSTEMA_ENV/lib/python3.10/site-packages/tensorflow/core/function/polymorphism/function_type.py:242\u001b[0m, in \u001b[0;36mFunctionType.__eq__\u001b[0;34m(self, other)\u001b[0m\n\u001b[1;32m    239\u001b[0m \u001b[39mif\u001b[39;00m \u001b[39mnot\u001b[39;00m \u001b[39misinstance\u001b[39m(other, FunctionType):\n\u001b[1;32m    240\u001b[0m   \u001b[39mreturn\u001b[39;00m \u001b[39mNotImplemented\u001b[39m\n\u001b[0;32m--> 242\u001b[0m \u001b[39mreturn\u001b[39;00m (\u001b[39mself\u001b[39;49m\u001b[39m.\u001b[39;49mparameters, \u001b[39mself\u001b[39;49m\u001b[39m.\u001b[39;49mcaptures) \u001b[39m==\u001b[39;49m (other\u001b[39m.\u001b[39;49mparameters,\n\u001b[1;32m    243\u001b[0m                                             other\u001b[39m.\u001b[39;49mcaptures)\n",
      "File \u001b[0;32m~/miniforge3/envs/EUSTEMA_ENV/lib/python3.10/site-packages/tensorflow/core/function/polymorphism/function_type.py:101\u001b[0m, in \u001b[0;36mParameter.__eq__\u001b[0;34m(self, other)\u001b[0m\n\u001b[1;32m     98\u001b[0m \u001b[39mif\u001b[39;00m \u001b[39mnot\u001b[39;00m \u001b[39misinstance\u001b[39m(other, Parameter):\n\u001b[1;32m     99\u001b[0m   \u001b[39mreturn\u001b[39;00m \u001b[39mNotImplemented\u001b[39m\n\u001b[0;32m--> 101\u001b[0m \u001b[39mreturn\u001b[39;00m ((\u001b[39mself\u001b[39;49m\u001b[39m.\u001b[39;49mname, \u001b[39mself\u001b[39;49m\u001b[39m.\u001b[39;49mkind, \u001b[39mself\u001b[39;49m\u001b[39m.\u001b[39;49moptional,\n\u001b[1;32m    102\u001b[0m          \u001b[39mself\u001b[39;49m\u001b[39m.\u001b[39;49mtype_constraint) \u001b[39m==\u001b[39;49m (other\u001b[39m.\u001b[39;49mname, other\u001b[39m.\u001b[39;49mkind, other\u001b[39m.\u001b[39;49moptional,\n\u001b[1;32m    103\u001b[0m                                    other\u001b[39m.\u001b[39;49mtype_constraint))\n",
      "File \u001b[0;32m~/miniforge3/envs/EUSTEMA_ENV/lib/python3.10/site-packages/tensorflow/core/function/trace_type/default_types.py:204\u001b[0m, in \u001b[0;36mTuple.__eq__\u001b[0;34m(self, other)\u001b[0m\n\u001b[1;32m    201\u001b[0m \u001b[39mif\u001b[39;00m \u001b[39mnot\u001b[39;00m \u001b[39misinstance\u001b[39m(other, Tuple):\n\u001b[1;32m    202\u001b[0m   \u001b[39mreturn\u001b[39;00m \u001b[39mFalse\u001b[39;00m\n\u001b[0;32m--> 204\u001b[0m \u001b[39mreturn\u001b[39;00m \u001b[39mself\u001b[39;49m\u001b[39m.\u001b[39;49mcomponents \u001b[39m==\u001b[39;49m other\u001b[39m.\u001b[39;49mcomponents\n",
      "File \u001b[0;32m~/miniforge3/envs/EUSTEMA_ENV/lib/python3.10/site-packages/tensorflow/core/function/trace_type/default_types.py:204\u001b[0m, in \u001b[0;36mTuple.__eq__\u001b[0;34m(self, other)\u001b[0m\n\u001b[1;32m    201\u001b[0m \u001b[39mif\u001b[39;00m \u001b[39mnot\u001b[39;00m \u001b[39misinstance\u001b[39m(other, Tuple):\n\u001b[1;32m    202\u001b[0m   \u001b[39mreturn\u001b[39;00m \u001b[39mFalse\u001b[39;00m\n\u001b[0;32m--> 204\u001b[0m \u001b[39mreturn\u001b[39;00m \u001b[39mself\u001b[39;49m\u001b[39m.\u001b[39;49mcomponents \u001b[39m==\u001b[39;49m other\u001b[39m.\u001b[39;49mcomponents\n",
      "File \u001b[0;32m~/miniforge3/envs/EUSTEMA_ENV/lib/python3.10/site-packages/tensorflow/core/function/trace_type/default_types.py:581\u001b[0m, in \u001b[0;36mReference.__eq__\u001b[0;34m(self, other)\u001b[0m\n\u001b[1;32m    576\u001b[0m \u001b[39mif\u001b[39;00m \u001b[39mnot\u001b[39;00m \u001b[39misinstance\u001b[39m(other, trace\u001b[39m.\u001b[39mTraceType):\n\u001b[1;32m    577\u001b[0m   \u001b[39mreturn\u001b[39;00m \u001b[39mNotImplemented\u001b[39m\n\u001b[1;32m    579\u001b[0m \u001b[39mreturn\u001b[39;00m \u001b[39misinstance\u001b[39m(\n\u001b[1;32m    580\u001b[0m     other, Reference\n\u001b[0;32m--> 581\u001b[0m ) \u001b[39mand\u001b[39;00m \u001b[39mself\u001b[39m\u001b[39m.\u001b[39midentifier \u001b[39m==\u001b[39m other\u001b[39m.\u001b[39midentifier \u001b[39mand\u001b[39;00m \u001b[39mself\u001b[39;49m\u001b[39m.\u001b[39;49mbase \u001b[39m==\u001b[39;49m other\u001b[39m.\u001b[39;49mbase\n",
      "File \u001b[0;32m~/miniforge3/envs/EUSTEMA_ENV/lib/python3.10/site-packages/tensorflow/python/framework/type_spec.py:474\u001b[0m, in \u001b[0;36mTypeSpec.__eq__\u001b[0;34m(self, other)\u001b[0m\n\u001b[1;32m    470\u001b[0m   \u001b[39mreturn\u001b[39;00m \u001b[39mcls\u001b[39m(\u001b[39m*\u001b[39mserialization)  \u001b[39m# pytype: disable=not-instantiable  # trace-all-classes\u001b[39;00m\n\u001b[1;32m    472\u001b[0m \u001b[39m# === Operators ===\u001b[39;00m\n\u001b[0;32m--> 474\u001b[0m \u001b[39mdef\u001b[39;00m \u001b[39m__eq__\u001b[39m(\u001b[39mself\u001b[39m, other) \u001b[39m-\u001b[39m\u001b[39m>\u001b[39m \u001b[39mbool\u001b[39m:\n\u001b[1;32m    475\u001b[0m   \u001b[39m# pylint: disable=protected-access\u001b[39;00m\n\u001b[1;32m    476\u001b[0m   \u001b[39mreturn\u001b[39;00m (\u001b[39mtype\u001b[39m(other) \u001b[39mis\u001b[39;00m \u001b[39mtype\u001b[39m(\u001b[39mself\u001b[39m) \u001b[39mand\u001b[39;00m\n\u001b[1;32m    477\u001b[0m           \u001b[39mself\u001b[39m\u001b[39m.\u001b[39m__get_cmp_key() \u001b[39m==\u001b[39m other\u001b[39m.\u001b[39m__get_cmp_key())\n\u001b[1;32m    479\u001b[0m \u001b[39mdef\u001b[39;00m \u001b[39m__ne__\u001b[39m(\u001b[39mself\u001b[39m, other) \u001b[39m-\u001b[39m\u001b[39m>\u001b[39m \u001b[39mbool\u001b[39m:\n",
      "\u001b[0;31mKeyboardInterrupt\u001b[0m: "
     ]
    }
   ],
   "source": [
    "exp_list = [explainer.explain_instance(X_test.iloc[i], NN_reg.predict, num_features=4) for i in range(X_test.shape[0])]"
   ]
  },
  {
   "cell_type": "code",
   "execution_count": null,
   "metadata": {},
   "outputs": [],
   "source": [
    "import shap\n",
    "explainer = shap.Explainer(NN_reg.predict, X_train)\n",
    "shap_values = explainer(X_train.iloc[0])\n",
    "# shap.summary_plot(shap_values)"
   ]
  },
  {
   "cell_type": "code",
   "execution_count": 19,
   "metadata": {},
   "outputs": [
    {
     "name": "stdout",
     "output_type": "stream",
     "text": [
      "48/48 [==============================] - 0s 832us/step\n",
      "48/48 [==============================] - 0s 658us/step\n",
      "48/48 [==============================] - 0s 698us/step\n",
      "48/48 [==============================] - 0s 734us/step\n",
      "48/48 [==============================] - 0s 716us/step\n",
      "48/48 [==============================] - 0s 738us/step\n",
      "48/48 [==============================] - 0s 759us/step\n",
      "48/48 [==============================] - 0s 763us/step\n",
      "48/48 [==============================] - 0s 733us/step\n",
      "40/40 [==============================] - 0s 718us/step\n",
      "40/40 [==============================] - 0s 747us/step\n",
      "40/40 [==============================] - 0s 738us/step\n",
      "40/40 [==============================] - 0s 788us/step\n",
      "40/40 [==============================] - 0s 798us/step\n",
      "40/40 [==============================] - 0s 720us/step\n",
      "40/40 [==============================] - 0s 694us/step\n",
      "40/40 [==============================] - 0s 726us/step\n",
      "40/40 [==============================] - 0s 765us/step\n",
      "36/36 [==============================] - 0s 743us/step\n",
      "37/37 [==============================] - 0s 704us/step\n",
      "37/37 [==============================] - 0s 730us/step\n",
      "37/37 [==============================] - 0s 890us/step\n",
      "37/37 [==============================] - 0s 753us/step\n",
      "37/37 [==============================] - 0s 832us/step\n",
      "37/37 [==============================] - 0s 757us/step\n",
      "37/37 [==============================] - 0s 675us/step\n",
      "37/37 [==============================] - 0s 747us/step\n",
      "37/37 [==============================] - 0s 749us/step\n",
      "32/32 [==============================] - 0s 698us/step\n",
      "43/43 [==============================] - 0s 852us/step\n",
      "43/43 [==============================] - 0s 712us/step\n",
      "43/43 [==============================] - 0s 768us/step\n",
      "43/43 [==============================] - 0s 737us/step\n",
      "43/43 [==============================] - 0s 713us/step\n",
      "43/43 [==============================] - 0s 735us/step\n",
      "43/43 [==============================] - 0s 731us/step\n",
      "43/43 [==============================] - 0s 732us/step\n",
      "43/43 [==============================] - 0s 688us/step\n",
      "40/40 [==============================] - 0s 754us/step\n",
      "38/38 [==============================] - 0s 709us/step\n",
      "38/38 [==============================] - 0s 770us/step\n",
      "38/38 [==============================] - 0s 773us/step\n",
      "38/38 [==============================] - 0s 739us/step\n",
      "38/38 [==============================] - 0s 740us/step\n",
      "38/38 [==============================] - 0s 814us/step\n",
      "38/38 [==============================] - 0s 716us/step\n",
      "38/38 [==============================] - 0s 1ms/step\n",
      "38/38 [==============================] - 0s 713us/step\n",
      "34/34 [==============================] - 0s 688us/step\n",
      "48/48 [==============================] - 0s 768us/step\n",
      "48/48 [==============================] - 0s 768us/step\n",
      "48/48 [==============================] - 0s 749us/step\n",
      "48/48 [==============================] - 0s 726us/step\n",
      "48/48 [==============================] - 0s 785us/step\n",
      "48/48 [==============================] - 0s 762us/step\n",
      "48/48 [==============================] - 0s 741us/step\n",
      "48/48 [==============================] - 0s 729us/step\n",
      "48/48 [==============================] - 0s 747us/step\n",
      "44/44 [==============================] - 0s 764us/step\n",
      "42/42 [==============================] - 0s 787us/step\n",
      "42/42 [==============================] - 0s 794us/step\n",
      "42/42 [==============================] - 0s 767us/step\n",
      "42/42 [==============================] - 0s 796us/step\n",
      "42/42 [==============================] - 0s 753us/step\n",
      "42/42 [==============================] - 0s 2ms/step\n",
      "42/42 [==============================] - 0s 819us/step\n",
      "42/42 [==============================] - 0s 830us/step\n",
      "42/42 [==============================] - 0s 762us/step\n",
      "37/37 [==============================] - 0s 938us/step\n",
      "44/44 [==============================] - 0s 729us/step\n",
      "44/44 [==============================] - 0s 1ms/step\n",
      "44/44 [==============================] - 0s 697us/step\n",
      "44/44 [==============================] - 0s 733us/step\n",
      "44/44 [==============================] - 0s 657us/step\n",
      "44/44 [==============================] - 0s 719us/step\n",
      "44/44 [==============================] - 0s 753us/step\n",
      "44/44 [==============================] - 0s 711us/step\n",
      "44/44 [==============================] - 0s 696us/step\n",
      "41/41 [==============================] - 0s 740us/step\n",
      "43/43 [==============================] - 0s 713us/step\n",
      "43/43 [==============================] - 0s 686us/step\n",
      "43/43 [==============================] - 0s 699us/step\n",
      "43/43 [==============================] - 0s 752us/step\n",
      "43/43 [==============================] - 0s 794us/step\n",
      "43/43 [==============================] - 0s 674us/step\n",
      "43/43 [==============================] - 0s 719us/step\n",
      "43/43 [==============================] - 0s 864us/step\n",
      "43/43 [==============================] - 0s 671us/step\n",
      "36/36 [==============================] - 0s 707us/step\n",
      "48/48 [==============================] - 0s 739us/step\n",
      "48/48 [==============================] - 0s 742us/step\n",
      "48/48 [==============================] - 0s 679us/step\n",
      "48/48 [==============================] - 0s 766us/step\n",
      "48/48 [==============================] - 0s 703us/step\n",
      "48/48 [==============================] - 0s 719us/step\n",
      "48/48 [==============================] - 0s 799us/step\n",
      "48/48 [==============================] - 0s 718us/step\n",
      "48/48 [==============================] - 0s 733us/step\n",
      "43/43 [==============================] - 0s 662us/step\n",
      "38/38 [==============================] - 0s 737us/step\n",
      "38/38 [==============================] - 0s 700us/step\n",
      "38/38 [==============================] - 0s 708us/step\n",
      "38/38 [==============================] - 0s 731us/step\n",
      "38/38 [==============================] - 0s 715us/step\n",
      "38/38 [==============================] - 0s 696us/step\n",
      "38/38 [==============================] - 0s 657us/step\n",
      "38/38 [==============================] - 0s 759us/step\n",
      "38/38 [==============================] - 0s 690us/step\n",
      "35/35 [==============================] - 0s 697us/step\n",
      "41/41 [==============================] - 0s 738us/step\n",
      "41/41 [==============================] - 0s 735us/step\n",
      "41/41 [==============================] - 0s 674us/step\n",
      "41/41 [==============================] - 0s 669us/step\n",
      "41/41 [==============================] - 0s 729us/step\n",
      "41/41 [==============================] - 0s 745us/step\n",
      "41/41 [==============================] - 0s 702us/step\n",
      "41/41 [==============================] - 0s 727us/step\n",
      "41/41 [==============================] - 0s 745us/step\n",
      "36/36 [==============================] - 0s 672us/step\n",
      "49/49 [==============================] - 0s 815us/step\n",
      "49/49 [==============================] - 0s 727us/step\n",
      "49/49 [==============================] - 0s 714us/step\n",
      "49/49 [==============================] - 0s 655us/step\n",
      "49/49 [==============================] - 0s 710us/step\n",
      "49/49 [==============================] - 0s 679us/step\n",
      "49/49 [==============================] - 0s 727us/step\n",
      "49/49 [==============================] - 0s 728us/step\n",
      "49/49 [==============================] - 0s 663us/step\n",
      "42/42 [==============================] - 0s 717us/step\n",
      "39/39 [==============================] - 0s 696us/step\n",
      "39/39 [==============================] - 0s 820us/step\n",
      "39/39 [==============================] - 0s 731us/step\n",
      "39/39 [==============================] - 0s 771us/step\n",
      "39/39 [==============================] - 0s 740us/step\n",
      "39/39 [==============================] - 0s 2ms/step\n",
      "39/39 [==============================] - 0s 734us/step\n",
      "39/39 [==============================] - 0s 732us/step\n",
      "39/39 [==============================] - 0s 771us/step\n",
      "32/32 [==============================] - 0s 820us/step\n",
      "40/40 [==============================] - 0s 672us/step\n",
      "40/40 [==============================] - 0s 744us/step\n",
      "40/40 [==============================] - 0s 725us/step\n",
      "40/40 [==============================] - 0s 742us/step\n",
      "40/40 [==============================] - 0s 688us/step\n",
      "40/40 [==============================] - 0s 716us/step\n",
      "40/40 [==============================] - 0s 739us/step\n",
      "40/40 [==============================] - 0s 703us/step\n",
      "40/40 [==============================] - 0s 729us/step\n",
      "37/37 [==============================] - 0s 672us/step\n"
     ]
    },
    {
     "name": "stderr",
     "output_type": "stream",
     "text": [
      "Permutation explainer:  15%|█▌        | 15/100 [00:00<?, ?it/s]"
     ]
    },
    {
     "name": "stdout",
     "output_type": "stream",
     "text": [
      "46/46 [==============================] - 0s 641us/step\n",
      "46/46 [==============================] - 0s 682us/step\n",
      "46/46 [==============================] - 0s 702us/step\n",
      "46/46 [==============================] - 0s 698us/step\n",
      "46/46 [==============================] - 0s 707us/step\n",
      "46/46 [==============================] - 0s 708us/step\n",
      "46/46 [==============================] - 0s 685us/step\n",
      "46/46 [==============================] - 0s 701us/step\n",
      "46/46 [==============================] - 0s 708us/step\n",
      "39/39 [==============================] - 0s 693us/step\n"
     ]
    },
    {
     "name": "stderr",
     "output_type": "stream",
     "text": [
      "Permutation explainer:  17%|█▋        | 17/100 [00:10<00:27,  3.07it/s]"
     ]
    },
    {
     "name": "stdout",
     "output_type": "stream",
     "text": [
      "39/39 [==============================] - 0s 707us/step\n",
      "39/39 [==============================] - 0s 734us/step\n",
      "39/39 [==============================] - 0s 724us/step\n",
      "39/39 [==============================] - 0s 698us/step\n",
      "39/39 [==============================] - 0s 723us/step\n",
      "39/39 [==============================] - 0s 755us/step\n",
      "39/39 [==============================] - 0s 675us/step\n",
      "39/39 [==============================] - 0s 884us/step\n",
      "39/39 [==============================] - 0s 721us/step\n",
      "36/36 [==============================] - 0s 719us/step\n"
     ]
    },
    {
     "name": "stderr",
     "output_type": "stream",
     "text": [
      "Permutation explainer:  18%|█▊        | 18/100 [00:11<00:36,  2.23it/s]"
     ]
    },
    {
     "name": "stdout",
     "output_type": "stream",
     "text": [
      "40/40 [==============================] - 0s 704us/step\n",
      "40/40 [==============================] - 0s 717us/step\n",
      "40/40 [==============================] - 0s 734us/step\n",
      "40/40 [==============================] - 0s 662us/step\n",
      "40/40 [==============================] - 0s 708us/step\n",
      "40/40 [==============================] - 0s 713us/step\n",
      "40/40 [==============================] - 0s 650us/step\n",
      "40/40 [==============================] - 0s 738us/step\n",
      "40/40 [==============================] - 0s 585us/step\n",
      "35/35 [==============================] - 0s 723us/step\n"
     ]
    },
    {
     "name": "stderr",
     "output_type": "stream",
     "text": [
      "Permutation explainer:  19%|█▉        | 19/100 [00:11<00:41,  1.97it/s]"
     ]
    },
    {
     "name": "stdout",
     "output_type": "stream",
     "text": [
      "40/40 [==============================] - 0s 759us/step\n",
      "40/40 [==============================] - 0s 685us/step\n",
      "40/40 [==============================] - 0s 656us/step\n",
      "40/40 [==============================] - 0s 729us/step\n",
      "40/40 [==============================] - 0s 733us/step\n",
      "40/40 [==============================] - 0s 669us/step\n",
      "40/40 [==============================] - 0s 705us/step\n",
      "40/40 [==============================] - 0s 704us/step\n",
      "40/40 [==============================] - 0s 830us/step\n",
      "36/36 [==============================] - 0s 813us/step\n"
     ]
    },
    {
     "name": "stderr",
     "output_type": "stream",
     "text": [
      "Permutation explainer:  20%|██        | 20/100 [00:12<00:44,  1.81it/s]"
     ]
    },
    {
     "name": "stdout",
     "output_type": "stream",
     "text": [
      "40/40 [==============================] - 0s 765us/step\n",
      "40/40 [==============================] - 0s 755us/step\n",
      "40/40 [==============================] - 0s 762us/step\n",
      "40/40 [==============================] - 0s 694us/step\n",
      "40/40 [==============================] - 0s 691us/step\n",
      "40/40 [==============================] - 0s 726us/step\n",
      "40/40 [==============================] - 0s 725us/step\n",
      "40/40 [==============================] - 0s 670us/step\n",
      "40/40 [==============================] - 0s 705us/step\n",
      "37/37 [==============================] - 0s 655us/step\n"
     ]
    },
    {
     "name": "stderr",
     "output_type": "stream",
     "text": [
      "Permutation explainer:  21%|██        | 21/100 [00:13<00:45,  1.74it/s]"
     ]
    },
    {
     "name": "stdout",
     "output_type": "stream",
     "text": [
      "43/43 [==============================] - 0s 685us/step\n",
      "43/43 [==============================] - 0s 720us/step\n",
      "43/43 [==============================] - 0s 768us/step\n",
      "43/43 [==============================] - 0s 714us/step\n",
      "43/43 [==============================] - 0s 768us/step\n",
      "43/43 [==============================] - 0s 709us/step\n",
      "43/43 [==============================] - 0s 701us/step\n",
      "43/43 [==============================] - 0s 684us/step\n",
      "43/43 [==============================] - 0s 663us/step\n",
      "39/39 [==============================] - 0s 718us/step\n"
     ]
    },
    {
     "name": "stderr",
     "output_type": "stream",
     "text": [
      "Permutation explainer:  22%|██▏       | 22/100 [00:13<00:46,  1.68it/s]"
     ]
    },
    {
     "name": "stdout",
     "output_type": "stream",
     "text": [
      "38/38 [==============================] - 0s 722us/step\n",
      "38/38 [==============================] - 0s 726us/step\n",
      "38/38 [==============================] - 0s 731us/step\n",
      "38/38 [==============================] - 0s 726us/step\n",
      "38/38 [==============================] - 0s 683us/step\n",
      "38/38 [==============================] - 0s 688us/step\n",
      "38/38 [==============================] - 0s 669us/step\n",
      "38/38 [==============================] - 0s 709us/step\n",
      "38/38 [==============================] - 0s 722us/step\n",
      "35/35 [==============================] - 0s 681us/step\n"
     ]
    },
    {
     "name": "stderr",
     "output_type": "stream",
     "text": [
      "Permutation explainer:  23%|██▎       | 23/100 [00:14<00:46,  1.67it/s]"
     ]
    },
    {
     "name": "stdout",
     "output_type": "stream",
     "text": [
      "39/39 [==============================] - 0s 766us/step\n",
      "39/39 [==============================] - 0s 714us/step\n",
      "39/39 [==============================] - 0s 635us/step\n",
      "39/39 [==============================] - 0s 710us/step\n",
      "39/39 [==============================] - 0s 659us/step\n",
      "39/39 [==============================] - 0s 715us/step\n",
      "39/39 [==============================] - 0s 693us/step\n",
      "39/39 [==============================] - 0s 691us/step\n",
      "39/39 [==============================] - 0s 794us/step\n",
      "35/35 [==============================] - 0s 757us/step\n"
     ]
    },
    {
     "name": "stderr",
     "output_type": "stream",
     "text": [
      "Permutation explainer:  24%|██▍       | 24/100 [00:15<00:45,  1.66it/s]"
     ]
    },
    {
     "name": "stdout",
     "output_type": "stream",
     "text": [
      "46/46 [==============================] - 0s 691us/step\n",
      "46/46 [==============================] - 0s 653us/step\n",
      "46/46 [==============================] - 0s 672us/step\n",
      "46/46 [==============================] - 0s 726us/step\n",
      "46/46 [==============================] - 0s 691us/step\n",
      "46/46 [==============================] - 0s 755us/step\n",
      "46/46 [==============================] - 0s 951us/step\n",
      "46/46 [==============================] - 0s 752us/step\n",
      "46/46 [==============================] - 0s 682us/step\n",
      "43/43 [==============================] - 0s 672us/step\n"
     ]
    },
    {
     "name": "stderr",
     "output_type": "stream",
     "text": [
      "Permutation explainer:  25%|██▌       | 25/100 [00:15<00:46,  1.61it/s]"
     ]
    },
    {
     "name": "stdout",
     "output_type": "stream",
     "text": [
      "45/45 [==============================] - 0s 722us/step\n",
      "45/45 [==============================] - 0s 680us/step\n",
      "45/45 [==============================] - 0s 667us/step\n",
      "45/45 [==============================] - 0s 661us/step\n",
      "45/45 [==============================] - 0s 674us/step\n",
      "45/45 [==============================] - 0s 666us/step\n",
      "45/45 [==============================] - 0s 664us/step\n",
      "45/45 [==============================] - 0s 711us/step\n",
      "45/45 [==============================] - 0s 718us/step\n",
      "38/38 [==============================] - 0s 690us/step\n"
     ]
    },
    {
     "name": "stderr",
     "output_type": "stream",
     "text": [
      "Permutation explainer:  26%|██▌       | 26/100 [00:16<00:46,  1.60it/s]"
     ]
    },
    {
     "name": "stdout",
     "output_type": "stream",
     "text": [
      "40/40 [==============================] - 0s 818us/step\n",
      "40/40 [==============================] - 0s 649us/step\n",
      "40/40 [==============================] - 0s 631us/step\n",
      "40/40 [==============================] - 0s 660us/step\n",
      "40/40 [==============================] - 0s 713us/step\n",
      "40/40 [==============================] - 0s 693us/step\n",
      "40/40 [==============================] - 0s 659us/step\n",
      "40/40 [==============================] - 0s 695us/step\n",
      "40/40 [==============================] - 0s 697us/step\n",
      "31/31 [==============================] - 0s 689us/step\n"
     ]
    },
    {
     "name": "stderr",
     "output_type": "stream",
     "text": [
      "Permutation explainer:  27%|██▋       | 27/100 [00:17<00:45,  1.61it/s]"
     ]
    },
    {
     "name": "stdout",
     "output_type": "stream",
     "text": [
      "41/41 [==============================] - 0s 740us/step\n",
      "41/41 [==============================] - 0s 683us/step\n",
      "41/41 [==============================] - 0s 636us/step\n",
      "41/41 [==============================] - 0s 647us/step\n",
      "41/41 [==============================] - 0s 646us/step\n",
      "41/41 [==============================] - 0s 674us/step\n",
      "41/41 [==============================] - 0s 712us/step\n",
      "41/41 [==============================] - 0s 667us/step\n",
      "41/41 [==============================] - 0s 654us/step\n",
      "37/37 [==============================] - 0s 644us/step\n"
     ]
    },
    {
     "name": "stderr",
     "output_type": "stream",
     "text": [
      "Permutation explainer:  28%|██▊       | 28/100 [00:17<00:44,  1.63it/s]"
     ]
    },
    {
     "name": "stdout",
     "output_type": "stream",
     "text": [
      "41/41 [==============================] - 0s 654us/step\n",
      "41/41 [==============================] - 0s 567us/step\n",
      "41/41 [==============================] - 0s 637us/step\n",
      "41/41 [==============================] - 0s 625us/step\n",
      "41/41 [==============================] - 0s 643us/step\n",
      "41/41 [==============================] - 0s 622us/step\n",
      "41/41 [==============================] - 0s 615us/step\n",
      "41/41 [==============================] - 0s 669us/step\n",
      "41/41 [==============================] - 0s 660us/step\n",
      "35/35 [==============================] - 0s 633us/step\n"
     ]
    },
    {
     "name": "stderr",
     "output_type": "stream",
     "text": [
      "Permutation explainer:  29%|██▉       | 29/100 [00:18<00:42,  1.66it/s]"
     ]
    },
    {
     "name": "stdout",
     "output_type": "stream",
     "text": [
      "45/45 [==============================] - 0s 642us/step\n",
      "45/45 [==============================] - 0s 624us/step\n",
      "45/45 [==============================] - 0s 642us/step\n",
      "45/45 [==============================] - 0s 670us/step\n",
      "45/45 [==============================] - 0s 652us/step\n",
      "45/45 [==============================] - 0s 665us/step\n",
      "45/45 [==============================] - 0s 645us/step\n",
      "45/45 [==============================] - 0s 636us/step\n",
      "45/45 [==============================] - 0s 899us/step\n",
      "41/41 [==============================] - 0s 771us/step\n"
     ]
    },
    {
     "name": "stderr",
     "output_type": "stream",
     "text": [
      "Permutation explainer:  30%|███       | 30/100 [00:18<00:42,  1.63it/s]"
     ]
    },
    {
     "name": "stdout",
     "output_type": "stream",
     "text": [
      "43/43 [==============================] - 0s 735us/step\n",
      "43/43 [==============================] - 0s 707us/step\n",
      "43/43 [==============================] - 0s 755us/step\n",
      "43/43 [==============================] - 0s 687us/step\n",
      "43/43 [==============================] - 0s 693us/step\n",
      "43/43 [==============================] - 0s 698us/step\n",
      "43/43 [==============================] - 0s 689us/step\n",
      "43/43 [==============================] - 0s 717us/step\n",
      "43/43 [==============================] - 0s 713us/step\n",
      "38/38 [==============================] - 0s 722us/step\n"
     ]
    },
    {
     "name": "stderr",
     "output_type": "stream",
     "text": [
      "Permutation explainer:  31%|███       | 31/100 [00:19<00:42,  1.61it/s]"
     ]
    },
    {
     "name": "stdout",
     "output_type": "stream",
     "text": [
      "40/40 [==============================] - 0s 698us/step\n",
      "40/40 [==============================] - 0s 742us/step\n",
      "40/40 [==============================] - 0s 744us/step\n",
      "40/40 [==============================] - 0s 679us/step\n",
      "40/40 [==============================] - 0s 685us/step\n",
      "40/40 [==============================] - 0s 704us/step\n",
      "40/40 [==============================] - 0s 658us/step\n",
      "40/40 [==============================] - 0s 715us/step\n",
      "40/40 [==============================] - 0s 675us/step\n",
      "36/36 [==============================] - 0s 694us/step\n"
     ]
    },
    {
     "name": "stderr",
     "output_type": "stream",
     "text": [
      "Permutation explainer:  32%|███▏      | 32/100 [00:20<00:41,  1.62it/s]"
     ]
    },
    {
     "name": "stdout",
     "output_type": "stream",
     "text": [
      "49/49 [==============================] - 0s 700us/step\n",
      "49/49 [==============================] - 0s 696us/step\n",
      "49/49 [==============================] - 0s 679us/step\n",
      "49/49 [==============================] - 0s 660us/step\n",
      "49/49 [==============================] - 0s 715us/step\n",
      "49/49 [==============================] - 0s 708us/step\n",
      "49/49 [==============================] - 0s 654us/step\n",
      "49/49 [==============================] - 0s 704us/step\n",
      "49/49 [==============================] - 0s 711us/step\n",
      "38/38 [==============================] - 0s 813us/step\n"
     ]
    },
    {
     "name": "stderr",
     "output_type": "stream",
     "text": [
      "Permutation explainer:  33%|███▎      | 33/100 [00:20<00:42,  1.56it/s]"
     ]
    },
    {
     "name": "stdout",
     "output_type": "stream",
     "text": [
      "40/40 [==============================] - 0s 794us/step\n",
      "40/40 [==============================] - 0s 751us/step\n",
      "40/40 [==============================] - 0s 749us/step\n",
      "40/40 [==============================] - 0s 770us/step\n",
      "40/40 [==============================] - 0s 654us/step\n",
      "40/40 [==============================] - 0s 715us/step\n",
      "40/40 [==============================] - 0s 662us/step\n",
      "40/40 [==============================] - 0s 725us/step\n",
      "40/40 [==============================] - 0s 681us/step\n",
      "37/37 [==============================] - 0s 646us/step\n"
     ]
    },
    {
     "name": "stderr",
     "output_type": "stream",
     "text": [
      "Permutation explainer:  34%|███▍      | 34/100 [00:21<00:41,  1.58it/s]"
     ]
    },
    {
     "name": "stdout",
     "output_type": "stream",
     "text": [
      "44/44 [==============================] - 0s 1ms/step\n",
      "44/44 [==============================] - 0s 707us/step\n",
      "44/44 [==============================] - 0s 723us/step\n",
      "44/44 [==============================] - 0s 707us/step\n",
      "44/44 [==============================] - 0s 694us/step\n",
      "44/44 [==============================] - 0s 751us/step\n",
      "44/44 [==============================] - 0s 717us/step\n",
      "44/44 [==============================] - 0s 734us/step\n",
      "44/44 [==============================] - 0s 702us/step\n",
      "40/40 [==============================] - 0s 711us/step\n"
     ]
    },
    {
     "name": "stderr",
     "output_type": "stream",
     "text": [
      "Permutation explainer:  35%|███▌      | 35/100 [00:22<00:41,  1.56it/s]"
     ]
    },
    {
     "name": "stdout",
     "output_type": "stream",
     "text": [
      "45/45 [==============================] - 0s 713us/step\n",
      "45/45 [==============================] - 0s 683us/step\n",
      "45/45 [==============================] - 0s 656us/step\n",
      "45/45 [==============================] - 0s 654us/step\n",
      "45/45 [==============================] - 0s 658us/step\n",
      "45/45 [==============================] - 0s 690us/step\n",
      "45/45 [==============================] - 0s 856us/step\n",
      "45/45 [==============================] - 0s 675us/step\n",
      "45/45 [==============================] - 0s 678us/step\n",
      "39/39 [==============================] - 0s 749us/step\n"
     ]
    },
    {
     "name": "stderr",
     "output_type": "stream",
     "text": [
      "Permutation explainer:  36%|███▌      | 36/100 [00:22<00:40,  1.56it/s]"
     ]
    },
    {
     "name": "stdout",
     "output_type": "stream",
     "text": [
      "39/39 [==============================] - 0s 663us/step\n",
      "39/39 [==============================] - 0s 687us/step\n",
      "39/39 [==============================] - 0s 728us/step\n",
      "39/39 [==============================] - 0s 658us/step\n",
      "39/39 [==============================] - 0s 730us/step\n",
      "39/39 [==============================] - 0s 728us/step\n",
      "39/39 [==============================] - 0s 665us/step\n",
      "39/39 [==============================] - 0s 684us/step\n",
      "39/39 [==============================] - 0s 659us/step\n",
      "36/36 [==============================] - 0s 743us/step\n"
     ]
    },
    {
     "name": "stderr",
     "output_type": "stream",
     "text": [
      "Permutation explainer:  37%|███▋      | 37/100 [00:23<00:39,  1.59it/s]"
     ]
    },
    {
     "name": "stdout",
     "output_type": "stream",
     "text": [
      "42/42 [==============================] - 0s 656us/step\n",
      "42/42 [==============================] - 0s 637us/step\n",
      "42/42 [==============================] - 0s 718us/step\n",
      "42/42 [==============================] - 0s 662us/step\n",
      "42/42 [==============================] - 0s 658us/step\n",
      "42/42 [==============================] - 0s 729us/step\n",
      "42/42 [==============================] - 0s 707us/step\n",
      "42/42 [==============================] - 0s 675us/step\n",
      "42/42 [==============================] - 0s 650us/step\n",
      "37/37 [==============================] - 0s 708us/step\n"
     ]
    },
    {
     "name": "stderr",
     "output_type": "stream",
     "text": [
      "Permutation explainer:  38%|███▊      | 38/100 [00:23<00:38,  1.60it/s]"
     ]
    },
    {
     "name": "stdout",
     "output_type": "stream",
     "text": [
      "51/51 [==============================] - 0s 661us/step\n",
      "51/51 [==============================] - 0s 713us/step\n",
      "51/51 [==============================] - 0s 698us/step\n",
      "51/51 [==============================] - 0s 681us/step\n",
      "51/51 [==============================] - 0s 756us/step\n",
      "51/51 [==============================] - 0s 682us/step\n",
      "51/51 [==============================] - 0s 652us/step\n",
      "51/51 [==============================] - 0s 642us/step\n",
      "51/51 [==============================] - 0s 676us/step\n",
      "45/45 [==============================] - 0s 706us/step\n"
     ]
    },
    {
     "name": "stderr",
     "output_type": "stream",
     "text": [
      "Permutation explainer:  39%|███▉      | 39/100 [00:24<00:39,  1.55it/s]"
     ]
    },
    {
     "name": "stdout",
     "output_type": "stream",
     "text": [
      "42/42 [==============================] - 0s 722us/step\n",
      "42/42 [==============================] - 0s 686us/step\n",
      "42/42 [==============================] - 0s 704us/step\n",
      "42/42 [==============================] - 0s 664us/step\n",
      "42/42 [==============================] - 0s 711us/step\n",
      "42/42 [==============================] - 0s 694us/step\n",
      "42/42 [==============================] - 0s 655us/step\n",
      "42/42 [==============================] - 0s 686us/step\n",
      "42/42 [==============================] - 0s 721us/step\n",
      "38/38 [==============================] - 0s 648us/step\n"
     ]
    },
    {
     "name": "stderr",
     "output_type": "stream",
     "text": [
      "Permutation explainer:  40%|████      | 40/100 [00:25<00:38,  1.57it/s]"
     ]
    },
    {
     "name": "stdout",
     "output_type": "stream",
     "text": [
      "50/50 [==============================] - 0s 686us/step\n",
      "50/50 [==============================] - 0s 669us/step\n",
      "50/50 [==============================] - 0s 691us/step\n",
      "50/50 [==============================] - 0s 660us/step\n",
      "50/50 [==============================] - 0s 680us/step\n",
      "50/50 [==============================] - 0s 662us/step\n",
      "50/50 [==============================] - 0s 681us/step\n",
      "50/50 [==============================] - 0s 650us/step\n",
      "50/50 [==============================] - 0s 676us/step\n",
      "44/44 [==============================] - 0s 674us/step\n"
     ]
    },
    {
     "name": "stderr",
     "output_type": "stream",
     "text": [
      "Permutation explainer:  41%|████      | 41/100 [00:25<00:38,  1.54it/s]"
     ]
    },
    {
     "name": "stdout",
     "output_type": "stream",
     "text": [
      "42/42 [==============================] - 0s 666us/step\n",
      "42/42 [==============================] - 0s 701us/step\n",
      "42/42 [==============================] - 0s 705us/step\n",
      "42/42 [==============================] - 0s 666us/step\n",
      "42/42 [==============================] - 0s 713us/step\n",
      "42/42 [==============================] - 0s 669us/step\n",
      "42/42 [==============================] - 0s 659us/step\n",
      "42/42 [==============================] - 0s 634us/step\n",
      "42/42 [==============================] - 0s 710us/step\n",
      "38/38 [==============================] - 0s 685us/step\n"
     ]
    },
    {
     "name": "stderr",
     "output_type": "stream",
     "text": [
      "Permutation explainer:  42%|████▏     | 42/100 [00:26<00:36,  1.57it/s]"
     ]
    },
    {
     "name": "stdout",
     "output_type": "stream",
     "text": [
      "39/39 [==============================] - 0s 686us/step\n",
      "39/39 [==============================] - 0s 701us/step\n",
      "39/39 [==============================] - 0s 662us/step\n",
      "39/39 [==============================] - 0s 675us/step\n",
      "39/39 [==============================] - 0s 649us/step\n",
      "39/39 [==============================] - 0s 690us/step\n",
      "39/39 [==============================] - 0s 676us/step\n",
      "39/39 [==============================] - 0s 725us/step\n",
      "39/39 [==============================] - 0s 723us/step\n",
      "35/35 [==============================] - 0s 683us/step\n"
     ]
    },
    {
     "name": "stderr",
     "output_type": "stream",
     "text": [
      "Permutation explainer:  43%|████▎     | 43/100 [00:27<00:35,  1.60it/s]"
     ]
    },
    {
     "name": "stdout",
     "output_type": "stream",
     "text": [
      "37/37 [==============================] - 0s 721us/step\n",
      "37/37 [==============================] - 0s 766us/step\n",
      "37/37 [==============================] - 0s 677us/step\n",
      "37/37 [==============================] - 0s 678us/step\n",
      "37/37 [==============================] - 0s 660us/step\n",
      "37/37 [==============================] - 0s 645us/step\n",
      "37/37 [==============================] - 0s 695us/step\n",
      "37/37 [==============================] - 0s 655us/step\n",
      "37/37 [==============================] - 0s 739us/step\n",
      "33/33 [==============================] - 0s 647us/step\n"
     ]
    },
    {
     "name": "stderr",
     "output_type": "stream",
     "text": [
      "Permutation explainer:  44%|████▍     | 44/100 [00:27<00:34,  1.64it/s]"
     ]
    },
    {
     "name": "stdout",
     "output_type": "stream",
     "text": [
      "41/41 [==============================] - 0s 735us/step\n",
      "41/41 [==============================] - 0s 643us/step\n",
      "41/41 [==============================] - 0s 651us/step\n",
      "41/41 [==============================] - 0s 797us/step\n",
      "41/41 [==============================] - 0s 668us/step\n",
      "41/41 [==============================] - 0s 752us/step\n",
      "41/41 [==============================] - 0s 653us/step\n",
      "41/41 [==============================] - 0s 695us/step\n",
      "41/41 [==============================] - 0s 667us/step\n",
      "38/38 [==============================] - 0s 687us/step\n"
     ]
    },
    {
     "name": "stderr",
     "output_type": "stream",
     "text": [
      "Permutation explainer:  45%|████▌     | 45/100 [00:28<00:33,  1.63it/s]"
     ]
    },
    {
     "name": "stdout",
     "output_type": "stream",
     "text": [
      "46/46 [==============================] - 0s 690us/step\n",
      "46/46 [==============================] - 0s 672us/step\n",
      "46/46 [==============================] - 0s 676us/step\n",
      "46/46 [==============================] - 0s 671us/step\n",
      "46/46 [==============================] - 0s 762us/step\n",
      "46/46 [==============================] - 0s 648us/step\n",
      "46/46 [==============================] - 0s 770us/step\n",
      "46/46 [==============================] - 0s 669us/step\n",
      "46/46 [==============================] - 0s 745us/step\n",
      "40/40 [==============================] - 0s 671us/step\n"
     ]
    },
    {
     "name": "stderr",
     "output_type": "stream",
     "text": [
      "Permutation explainer:  46%|████▌     | 46/100 [00:28<00:33,  1.59it/s]"
     ]
    },
    {
     "name": "stdout",
     "output_type": "stream",
     "text": [
      "42/42 [==============================] - 0s 664us/step\n",
      "42/42 [==============================] - 0s 709us/step\n",
      "42/42 [==============================] - 0s 705us/step\n",
      "42/42 [==============================] - 0s 663us/step\n",
      "42/42 [==============================] - 0s 663us/step\n",
      "42/42 [==============================] - 0s 693us/step\n",
      "42/42 [==============================] - 0s 825us/step\n",
      "42/42 [==============================] - 0s 739us/step\n",
      "42/42 [==============================] - 0s 709us/step\n",
      "36/36 [==============================] - 0s 644us/step\n"
     ]
    },
    {
     "name": "stderr",
     "output_type": "stream",
     "text": [
      "Permutation explainer:  47%|████▋     | 47/100 [00:29<00:33,  1.59it/s]"
     ]
    },
    {
     "name": "stdout",
     "output_type": "stream",
     "text": [
      "42/42 [==============================] - 0s 684us/step\n",
      "42/42 [==============================] - 0s 737us/step\n",
      "42/42 [==============================] - 0s 658us/step\n",
      "42/42 [==============================] - 0s 626us/step\n",
      "42/42 [==============================] - 0s 664us/step\n",
      "42/42 [==============================] - 0s 743us/step\n",
      "42/42 [==============================] - 0s 639us/step\n",
      "42/42 [==============================] - 0s 697us/step\n",
      "42/42 [==============================] - 0s 709us/step\n",
      "38/38 [==============================] - 0s 735us/step\n"
     ]
    },
    {
     "name": "stderr",
     "output_type": "stream",
     "text": [
      "Permutation explainer:  48%|████▊     | 48/100 [00:30<00:32,  1.60it/s]"
     ]
    },
    {
     "name": "stdout",
     "output_type": "stream",
     "text": [
      "44/44 [==============================] - 0s 804us/step\n",
      "44/44 [==============================] - 0s 1ms/step\n",
      "44/44 [==============================] - 0s 696us/step\n",
      "44/44 [==============================] - 0s 719us/step\n",
      "44/44 [==============================] - 0s 651us/step\n",
      "44/44 [==============================] - 0s 700us/step\n",
      "44/44 [==============================] - 0s 757us/step\n",
      "44/44 [==============================] - 0s 685us/step\n",
      "44/44 [==============================] - 0s 751us/step\n",
      "42/42 [==============================] - 0s 702us/step\n"
     ]
    },
    {
     "name": "stderr",
     "output_type": "stream",
     "text": [
      "Permutation explainer:  49%|████▉     | 49/100 [00:30<00:32,  1.55it/s]"
     ]
    },
    {
     "name": "stdout",
     "output_type": "stream",
     "text": [
      "41/41 [==============================] - 0s 741us/step\n",
      "41/41 [==============================] - 0s 698us/step\n",
      "41/41 [==============================] - 0s 868us/step\n",
      "41/41 [==============================] - 0s 785us/step\n",
      "41/41 [==============================] - 0s 718us/step\n",
      "41/41 [==============================] - 0s 680us/step\n",
      "41/41 [==============================] - 0s 709us/step\n",
      "41/41 [==============================] - 0s 661us/step\n",
      "41/41 [==============================] - 0s 751us/step\n",
      "36/36 [==============================] - 0s 627us/step\n"
     ]
    },
    {
     "name": "stderr",
     "output_type": "stream",
     "text": [
      "Permutation explainer:  50%|█████     | 50/100 [00:31<00:31,  1.58it/s]"
     ]
    },
    {
     "name": "stdout",
     "output_type": "stream",
     "text": [
      "39/39 [==============================] - 0s 758us/step\n",
      "39/39 [==============================] - 0s 687us/step\n",
      "39/39 [==============================] - 0s 657us/step\n",
      "39/39 [==============================] - 0s 713us/step\n",
      "39/39 [==============================] - 0s 663us/step\n",
      "39/39 [==============================] - 0s 714us/step\n",
      "39/39 [==============================] - 0s 637us/step\n",
      "39/39 [==============================] - 0s 717us/step\n",
      "39/39 [==============================] - 0s 683us/step\n",
      "35/35 [==============================] - 0s 685us/step\n"
     ]
    },
    {
     "name": "stderr",
     "output_type": "stream",
     "text": [
      "Permutation explainer:  51%|█████     | 51/100 [00:32<00:30,  1.61it/s]"
     ]
    },
    {
     "name": "stdout",
     "output_type": "stream",
     "text": [
      "45/45 [==============================] - 0s 1ms/step\n",
      "45/45 [==============================] - 0s 690us/step\n",
      "45/45 [==============================] - 0s 691us/step\n",
      "45/45 [==============================] - 0s 700us/step\n",
      "45/45 [==============================] - 0s 690us/step\n",
      "45/45 [==============================] - 0s 702us/step\n",
      "45/45 [==============================] - 0s 659us/step\n",
      "45/45 [==============================] - 0s 691us/step\n",
      "45/45 [==============================] - 0s 663us/step\n",
      "38/38 [==============================] - 0s 718us/step\n"
     ]
    },
    {
     "name": "stderr",
     "output_type": "stream",
     "text": [
      "Permutation explainer:  52%|█████▏    | 52/100 [00:32<00:30,  1.58it/s]"
     ]
    },
    {
     "name": "stdout",
     "output_type": "stream",
     "text": [
      "42/42 [==============================] - 0s 683us/step\n",
      "42/42 [==============================] - 0s 664us/step\n",
      "42/42 [==============================] - 0s 661us/step\n",
      "42/42 [==============================] - 0s 642us/step\n",
      "42/42 [==============================] - 0s 698us/step\n",
      "42/42 [==============================] - 0s 675us/step\n",
      "42/42 [==============================] - 0s 640us/step\n",
      "42/42 [==============================] - 0s 637us/step\n",
      "42/42 [==============================] - 0s 647us/step\n",
      "39/39 [==============================] - 0s 688us/step\n"
     ]
    },
    {
     "name": "stderr",
     "output_type": "stream",
     "text": [
      "Permutation explainer:  53%|█████▎    | 53/100 [00:33<00:29,  1.60it/s]"
     ]
    },
    {
     "name": "stdout",
     "output_type": "stream",
     "text": [
      "41/41 [==============================] - 0s 716us/step\n",
      "41/41 [==============================] - 0s 651us/step\n",
      "41/41 [==============================] - 0s 727us/step\n",
      "41/41 [==============================] - 0s 707us/step\n",
      "41/41 [==============================] - 0s 665us/step\n",
      "41/41 [==============================] - 0s 725us/step\n",
      "41/41 [==============================] - 0s 689us/step\n",
      "41/41 [==============================] - 0s 646us/step\n",
      "41/41 [==============================] - 0s 671us/step\n",
      "37/37 [==============================] - 0s 691us/step\n"
     ]
    },
    {
     "name": "stderr",
     "output_type": "stream",
     "text": [
      "Permutation explainer:  54%|█████▍    | 54/100 [00:33<00:28,  1.61it/s]"
     ]
    },
    {
     "name": "stdout",
     "output_type": "stream",
     "text": [
      "39/39 [==============================] - 0s 694us/step\n",
      "39/39 [==============================] - 0s 745us/step\n",
      "39/39 [==============================] - 0s 642us/step\n",
      "39/39 [==============================] - 0s 703us/step\n",
      "39/39 [==============================] - 0s 668us/step\n",
      "39/39 [==============================] - 0s 907us/step\n",
      "39/39 [==============================] - 0s 685us/step\n",
      "39/39 [==============================] - 0s 703us/step\n",
      "39/39 [==============================] - 0s 682us/step\n",
      "33/33 [==============================] - 0s 760us/step\n"
     ]
    },
    {
     "name": "stderr",
     "output_type": "stream",
     "text": [
      "Permutation explainer:  55%|█████▌    | 55/100 [00:34<00:27,  1.62it/s]"
     ]
    },
    {
     "name": "stdout",
     "output_type": "stream",
     "text": [
      "48/48 [==============================] - 0s 677us/step\n",
      "48/48 [==============================] - 0s 665us/step\n",
      "48/48 [==============================] - 0s 673us/step\n",
      "48/48 [==============================] - 0s 650us/step\n",
      "48/48 [==============================] - 0s 650us/step\n",
      "48/48 [==============================] - 0s 691us/step\n",
      "48/48 [==============================] - 0s 666us/step\n",
      "48/48 [==============================] - 0s 663us/step\n",
      "48/48 [==============================] - 0s 661us/step\n",
      "42/42 [==============================] - 0s 675us/step\n"
     ]
    },
    {
     "name": "stderr",
     "output_type": "stream",
     "text": [
      "Permutation explainer:  56%|█████▌    | 56/100 [00:35<00:27,  1.60it/s]"
     ]
    },
    {
     "name": "stdout",
     "output_type": "stream",
     "text": [
      "40/40 [==============================] - 0s 676us/step\n",
      "40/40 [==============================] - 0s 669us/step\n",
      "40/40 [==============================] - 0s 662us/step\n",
      "40/40 [==============================] - 0s 682us/step\n",
      "40/40 [==============================] - 0s 666us/step\n",
      "40/40 [==============================] - 0s 657us/step\n",
      "40/40 [==============================] - 0s 681us/step\n",
      "40/40 [==============================] - 0s 670us/step\n",
      "40/40 [==============================] - 0s 665us/step\n",
      "37/37 [==============================] - 0s 693us/step\n"
     ]
    },
    {
     "name": "stderr",
     "output_type": "stream",
     "text": [
      "Permutation explainer:  57%|█████▋    | 57/100 [00:35<00:26,  1.62it/s]"
     ]
    },
    {
     "name": "stdout",
     "output_type": "stream",
     "text": [
      "40/40 [==============================] - 0s 725us/step\n",
      "40/40 [==============================] - 0s 680us/step\n",
      "40/40 [==============================] - 0s 677us/step\n",
      "40/40 [==============================] - 0s 650us/step\n",
      "40/40 [==============================] - 0s 697us/step\n",
      "40/40 [==============================] - 0s 674us/step\n",
      "40/40 [==============================] - 0s 690us/step\n",
      "40/40 [==============================] - 0s 635us/step\n",
      "40/40 [==============================] - 0s 684us/step\n",
      "34/34 [==============================] - 0s 739us/step\n"
     ]
    },
    {
     "name": "stderr",
     "output_type": "stream",
     "text": [
      "Permutation explainer:  58%|█████▊    | 58/100 [00:36<00:25,  1.63it/s]"
     ]
    },
    {
     "name": "stdout",
     "output_type": "stream",
     "text": [
      "44/44 [==============================] - 0s 701us/step\n",
      "44/44 [==============================] - 0s 643us/step\n",
      "44/44 [==============================] - 0s 733us/step\n",
      "44/44 [==============================] - 0s 677us/step\n",
      "44/44 [==============================] - 0s 703us/step\n",
      "44/44 [==============================] - 0s 731us/step\n",
      "44/44 [==============================] - 0s 700us/step\n",
      "44/44 [==============================] - 0s 642us/step\n",
      "44/44 [==============================] - 0s 682us/step\n",
      "38/38 [==============================] - 0s 718us/step\n"
     ]
    },
    {
     "name": "stderr",
     "output_type": "stream",
     "text": [
      "Permutation explainer:  59%|█████▉    | 59/100 [00:37<00:25,  1.61it/s]"
     ]
    },
    {
     "name": "stdout",
     "output_type": "stream",
     "text": [
      "42/42 [==============================] - 0s 700us/step\n",
      "42/42 [==============================] - 0s 739us/step\n",
      "42/42 [==============================] - 0s 645us/step\n",
      "42/42 [==============================] - 0s 698us/step\n",
      "42/42 [==============================] - 0s 668us/step\n",
      "42/42 [==============================] - 0s 643us/step\n",
      "42/42 [==============================] - 0s 776us/step\n",
      "42/42 [==============================] - 0s 643us/step\n",
      "42/42 [==============================] - 0s 654us/step\n",
      "40/40 [==============================] - 0s 671us/step\n"
     ]
    },
    {
     "name": "stderr",
     "output_type": "stream",
     "text": [
      "Permutation explainer:  60%|██████    | 60/100 [00:37<00:24,  1.61it/s]"
     ]
    },
    {
     "name": "stdout",
     "output_type": "stream",
     "text": [
      "43/43 [==============================] - 0s 1ms/step\n",
      "43/43 [==============================] - 0s 651us/step\n",
      "43/43 [==============================] - 0s 658us/step\n",
      "43/43 [==============================] - 0s 660us/step\n",
      "43/43 [==============================] - 0s 704us/step\n",
      "43/43 [==============================] - 0s 650us/step\n",
      "43/43 [==============================] - 0s 716us/step\n",
      "43/43 [==============================] - 0s 663us/step\n",
      "43/43 [==============================] - 0s 720us/step\n",
      "38/38 [==============================] - 0s 625us/step\n"
     ]
    },
    {
     "name": "stderr",
     "output_type": "stream",
     "text": [
      "Permutation explainer:  61%|██████    | 61/100 [00:38<00:24,  1.57it/s]"
     ]
    },
    {
     "name": "stdout",
     "output_type": "stream",
     "text": [
      "43/43 [==============================] - 0s 717us/step\n",
      "43/43 [==============================] - 0s 674us/step\n",
      "43/43 [==============================] - 0s 674us/step\n",
      "43/43 [==============================] - 0s 635us/step\n",
      "43/43 [==============================] - 0s 672us/step\n",
      "43/43 [==============================] - 0s 651us/step\n",
      "43/43 [==============================] - 0s 697us/step\n",
      "43/43 [==============================] - 0s 682us/step\n",
      "43/43 [==============================] - 0s 694us/step\n",
      "37/37 [==============================] - 0s 692us/step\n"
     ]
    },
    {
     "name": "stderr",
     "output_type": "stream",
     "text": [
      "Permutation explainer:  62%|██████▏   | 62/100 [00:38<00:23,  1.59it/s]"
     ]
    },
    {
     "name": "stdout",
     "output_type": "stream",
     "text": [
      "42/42 [==============================] - 0s 711us/step\n",
      "42/42 [==============================] - 0s 680us/step\n",
      "42/42 [==============================] - 0s 637us/step\n",
      "42/42 [==============================] - 0s 658us/step\n",
      "42/42 [==============================] - 0s 695us/step\n",
      "42/42 [==============================] - 0s 676us/step\n",
      "42/42 [==============================] - 0s 693us/step\n",
      "42/42 [==============================] - 0s 702us/step\n",
      "42/42 [==============================] - 0s 670us/step\n",
      "38/38 [==============================] - 0s 648us/step\n"
     ]
    },
    {
     "name": "stderr",
     "output_type": "stream",
     "text": [
      "Permutation explainer:  63%|██████▎   | 63/100 [00:39<00:23,  1.60it/s]"
     ]
    },
    {
     "name": "stdout",
     "output_type": "stream",
     "text": [
      "39/39 [==============================] - 0s 726us/step\n",
      "39/39 [==============================] - 0s 702us/step\n",
      "39/39 [==============================] - 0s 685us/step\n",
      "39/39 [==============================] - 0s 661us/step\n",
      "39/39 [==============================] - 0s 646us/step\n",
      "39/39 [==============================] - 0s 697us/step\n",
      "39/39 [==============================] - 0s 658us/step\n",
      "39/39 [==============================] - 0s 782us/step\n",
      "39/39 [==============================] - 0s 686us/step\n",
      "34/34 [==============================] - 0s 689us/step\n"
     ]
    },
    {
     "name": "stderr",
     "output_type": "stream",
     "text": [
      "Permutation explainer:  64%|██████▍   | 64/100 [00:40<00:22,  1.62it/s]"
     ]
    },
    {
     "name": "stdout",
     "output_type": "stream",
     "text": [
      "43/43 [==============================] - 0s 714us/step\n",
      "43/43 [==============================] - 0s 648us/step\n",
      "43/43 [==============================] - 0s 650us/step\n",
      "43/43 [==============================] - 0s 677us/step\n",
      "43/43 [==============================] - 0s 660us/step\n",
      "43/43 [==============================] - 0s 641us/step\n",
      "43/43 [==============================] - 0s 704us/step\n",
      "43/43 [==============================] - 0s 685us/step\n",
      "43/43 [==============================] - 0s 641us/step\n",
      "37/37 [==============================] - 0s 682us/step\n"
     ]
    },
    {
     "name": "stderr",
     "output_type": "stream",
     "text": [
      "Permutation explainer:  65%|██████▌   | 65/100 [00:40<00:21,  1.62it/s]"
     ]
    },
    {
     "name": "stdout",
     "output_type": "stream",
     "text": [
      "52/52 [==============================] - 0s 664us/step\n",
      "52/52 [==============================] - 0s 667us/step\n",
      "52/52 [==============================] - 0s 676us/step\n",
      "52/52 [==============================] - 0s 686us/step\n",
      "52/52 [==============================] - 0s 666us/step\n",
      "52/52 [==============================] - 0s 685us/step\n",
      "52/52 [==============================] - 0s 681us/step\n",
      "52/52 [==============================] - 0s 666us/step\n",
      "52/52 [==============================] - 0s 675us/step\n",
      "43/43 [==============================] - 0s 694us/step\n"
     ]
    },
    {
     "name": "stderr",
     "output_type": "stream",
     "text": [
      "Permutation explainer:  66%|██████▌   | 66/100 [00:41<00:21,  1.57it/s]"
     ]
    },
    {
     "name": "stdout",
     "output_type": "stream",
     "text": [
      "39/39 [==============================] - 0s 725us/step\n",
      "39/39 [==============================] - 0s 706us/step\n",
      "39/39 [==============================] - 0s 692us/step\n",
      "39/39 [==============================] - 0s 705us/step\n",
      "39/39 [==============================] - 0s 659us/step\n",
      "39/39 [==============================] - 0s 729us/step\n",
      "39/39 [==============================] - 0s 749us/step\n",
      "39/39 [==============================] - 0s 687us/step\n",
      "39/39 [==============================] - 0s 696us/step\n",
      "33/33 [==============================] - 0s 751us/step\n"
     ]
    },
    {
     "name": "stderr",
     "output_type": "stream",
     "text": [
      "Permutation explainer:  67%|██████▋   | 67/100 [00:42<00:20,  1.57it/s]"
     ]
    },
    {
     "name": "stdout",
     "output_type": "stream",
     "text": [
      "41/41 [==============================] - 0s 722us/step\n",
      "41/41 [==============================] - 0s 654us/step\n",
      "41/41 [==============================] - 0s 680us/step\n",
      "41/41 [==============================] - 0s 666us/step\n",
      "41/41 [==============================] - 0s 682us/step\n",
      "41/41 [==============================] - 0s 694us/step\n",
      "41/41 [==============================] - 0s 647us/step\n",
      "41/41 [==============================] - 0s 645us/step\n",
      "41/41 [==============================] - 0s 671us/step\n",
      "36/36 [==============================] - 0s 692us/step\n"
     ]
    },
    {
     "name": "stderr",
     "output_type": "stream",
     "text": [
      "Permutation explainer:  68%|██████▊   | 68/100 [00:42<00:20,  1.60it/s]"
     ]
    },
    {
     "name": "stdout",
     "output_type": "stream",
     "text": [
      "43/43 [==============================] - 0s 769us/step\n",
      "43/43 [==============================] - 0s 686us/step\n",
      "43/43 [==============================] - 0s 706us/step\n",
      "43/43 [==============================] - 0s 823us/step\n",
      "43/43 [==============================] - 0s 710us/step\n",
      "43/43 [==============================] - 0s 669us/step\n",
      "43/43 [==============================] - 0s 652us/step\n",
      "43/43 [==============================] - 0s 682us/step\n",
      "43/43 [==============================] - 0s 705us/step\n",
      "36/36 [==============================] - 0s 668us/step\n"
     ]
    },
    {
     "name": "stderr",
     "output_type": "stream",
     "text": [
      "Permutation explainer:  69%|██████▉   | 69/100 [00:43<00:19,  1.59it/s]"
     ]
    },
    {
     "name": "stdout",
     "output_type": "stream",
     "text": [
      "43/43 [==============================] - 0s 852us/step\n",
      "43/43 [==============================] - 0s 761us/step\n",
      "43/43 [==============================] - 0s 675us/step\n",
      "43/43 [==============================] - 0s 707us/step\n",
      "43/43 [==============================] - 0s 668us/step\n",
      "43/43 [==============================] - 0s 673us/step\n",
      "43/43 [==============================] - 0s 666us/step\n",
      "43/43 [==============================] - 0s 638us/step\n",
      "43/43 [==============================] - 0s 708us/step\n",
      "40/40 [==============================] - 0s 688us/step\n"
     ]
    },
    {
     "name": "stderr",
     "output_type": "stream",
     "text": [
      "Permutation explainer:  70%|███████   | 70/100 [00:43<00:18,  1.58it/s]"
     ]
    },
    {
     "name": "stdout",
     "output_type": "stream",
     "text": [
      "43/43 [==============================] - 0s 764us/step\n",
      "43/43 [==============================] - 0s 636us/step\n",
      "43/43 [==============================] - 0s 701us/step\n",
      "43/43 [==============================] - 0s 673us/step\n",
      "43/43 [==============================] - 0s 656us/step\n",
      "43/43 [==============================] - 0s 672us/step\n",
      "43/43 [==============================] - 0s 697us/step\n",
      "43/43 [==============================] - 0s 660us/step\n",
      "43/43 [==============================] - 0s 655us/step\n",
      "37/37 [==============================] - 0s 733us/step\n"
     ]
    },
    {
     "name": "stderr",
     "output_type": "stream",
     "text": [
      "Permutation explainer:  71%|███████   | 71/100 [00:44<00:18,  1.59it/s]"
     ]
    },
    {
     "name": "stdout",
     "output_type": "stream",
     "text": [
      "39/39 [==============================] - 0s 732us/step\n",
      "39/39 [==============================] - 0s 667us/step\n",
      "39/39 [==============================] - 0s 699us/step\n",
      "39/39 [==============================] - 0s 646us/step\n",
      "39/39 [==============================] - 0s 689us/step\n",
      "39/39 [==============================] - 0s 694us/step\n",
      "39/39 [==============================] - 0s 713us/step\n",
      "39/39 [==============================] - 0s 843us/step\n",
      "39/39 [==============================] - 0s 697us/step\n",
      "36/36 [==============================] - 0s 722us/step\n"
     ]
    },
    {
     "name": "stderr",
     "output_type": "stream",
     "text": [
      "Permutation explainer:  72%|███████▏  | 72/100 [00:45<00:17,  1.60it/s]"
     ]
    },
    {
     "name": "stdout",
     "output_type": "stream",
     "text": [
      "43/43 [==============================] - 0s 725us/step\n",
      "43/43 [==============================] - 0s 696us/step\n",
      "43/43 [==============================] - 0s 660us/step\n",
      "43/43 [==============================] - 0s 709us/step\n",
      "43/43 [==============================] - 0s 681us/step\n",
      "43/43 [==============================] - 0s 697us/step\n",
      "43/43 [==============================] - 0s 665us/step\n",
      "43/43 [==============================] - 0s 893us/step\n",
      "43/43 [==============================] - 0s 644us/step\n",
      "39/39 [==============================] - 0s 722us/step\n"
     ]
    },
    {
     "name": "stderr",
     "output_type": "stream",
     "text": [
      "Permutation explainer:  73%|███████▎  | 73/100 [00:45<00:16,  1.59it/s]"
     ]
    },
    {
     "name": "stdout",
     "output_type": "stream",
     "text": [
      "38/38 [==============================] - 0s 754us/step\n",
      "38/38 [==============================] - 0s 671us/step\n",
      "38/38 [==============================] - 0s 763us/step\n",
      "38/38 [==============================] - 0s 696us/step\n",
      "38/38 [==============================] - 0s 675us/step\n",
      "38/38 [==============================] - 0s 739us/step\n",
      "38/38 [==============================] - 0s 659us/step\n",
      "38/38 [==============================] - 0s 736us/step\n",
      "38/38 [==============================] - 0s 697us/step\n",
      "35/35 [==============================] - 0s 675us/step\n"
     ]
    },
    {
     "name": "stderr",
     "output_type": "stream",
     "text": [
      "Permutation explainer:  74%|███████▍  | 74/100 [00:46<00:16,  1.62it/s]"
     ]
    },
    {
     "name": "stdout",
     "output_type": "stream",
     "text": [
      "41/41 [==============================] - 0s 675us/step\n",
      "41/41 [==============================] - 0s 663us/step\n",
      "41/41 [==============================] - 0s 722us/step\n",
      "41/41 [==============================] - 0s 702us/step\n",
      "41/41 [==============================] - 0s 648us/step\n",
      "41/41 [==============================] - 0s 686us/step\n",
      "41/41 [==============================] - 0s 663us/step\n",
      "41/41 [==============================] - 0s 669us/step\n",
      "41/41 [==============================] - 0s 701us/step\n",
      "38/38 [==============================] - 0s 697us/step\n"
     ]
    },
    {
     "name": "stderr",
     "output_type": "stream",
     "text": [
      "Permutation explainer:  75%|███████▌  | 75/100 [00:47<00:15,  1.62it/s]"
     ]
    },
    {
     "name": "stdout",
     "output_type": "stream",
     "text": [
      "43/43 [==============================] - 0s 669us/step\n",
      "43/43 [==============================] - 0s 625us/step\n",
      "43/43 [==============================] - 0s 688us/step\n",
      "43/43 [==============================] - 0s 650us/step\n",
      "43/43 [==============================] - 0s 712us/step\n",
      "43/43 [==============================] - 0s 701us/step\n",
      "43/43 [==============================] - 0s 708us/step\n",
      "43/43 [==============================] - 0s 686us/step\n",
      "43/43 [==============================] - 0s 659us/step\n",
      "39/39 [==============================] - 0s 717us/step\n"
     ]
    },
    {
     "name": "stderr",
     "output_type": "stream",
     "text": [
      "Permutation explainer:  76%|███████▌  | 76/100 [00:47<00:14,  1.62it/s]"
     ]
    },
    {
     "name": "stdout",
     "output_type": "stream",
     "text": [
      "43/43 [==============================] - 0s 712us/step\n",
      "43/43 [==============================] - 0s 670us/step\n",
      "43/43 [==============================] - 0s 672us/step\n",
      "43/43 [==============================] - 0s 703us/step\n",
      "43/43 [==============================] - 0s 677us/step\n",
      "43/43 [==============================] - 0s 701us/step\n",
      "43/43 [==============================] - 0s 825us/step\n",
      "43/43 [==============================] - 0s 719us/step\n",
      "43/43 [==============================] - 0s 677us/step\n",
      "39/39 [==============================] - 0s 713us/step\n"
     ]
    },
    {
     "name": "stderr",
     "output_type": "stream",
     "text": [
      "Permutation explainer:  77%|███████▋  | 77/100 [00:48<00:14,  1.60it/s]"
     ]
    },
    {
     "name": "stdout",
     "output_type": "stream",
     "text": [
      "49/49 [==============================] - 0s 703us/step\n",
      "49/49 [==============================] - 0s 675us/step\n",
      "49/49 [==============================] - 0s 680us/step\n",
      "49/49 [==============================] - 0s 649us/step\n",
      "49/49 [==============================] - 0s 742us/step\n",
      "49/49 [==============================] - 0s 614us/step\n",
      "49/49 [==============================] - 0s 673us/step\n",
      "49/49 [==============================] - 0s 679us/step\n",
      "49/49 [==============================] - 0s 684us/step\n",
      "43/43 [==============================] - 0s 714us/step\n"
     ]
    },
    {
     "name": "stderr",
     "output_type": "stream",
     "text": [
      "Permutation explainer:  78%|███████▊  | 78/100 [00:48<00:13,  1.57it/s]"
     ]
    },
    {
     "name": "stdout",
     "output_type": "stream",
     "text": [
      "45/45 [==============================] - 0s 757us/step\n",
      "45/45 [==============================] - 0s 807us/step\n",
      "45/45 [==============================] - 0s 669us/step\n",
      "45/45 [==============================] - 0s 692us/step\n",
      "45/45 [==============================] - 0s 677us/step\n",
      "45/45 [==============================] - 0s 665us/step\n",
      "45/45 [==============================] - 0s 640us/step\n",
      "45/45 [==============================] - 0s 709us/step\n",
      "45/45 [==============================] - 0s 712us/step\n",
      "39/39 [==============================] - 0s 705us/step\n"
     ]
    },
    {
     "name": "stderr",
     "output_type": "stream",
     "text": [
      "Permutation explainer:  79%|███████▉  | 79/100 [00:49<00:13,  1.56it/s]"
     ]
    },
    {
     "name": "stdout",
     "output_type": "stream",
     "text": [
      "39/39 [==============================] - 0s 684us/step\n",
      "39/39 [==============================] - 0s 692us/step\n",
      "39/39 [==============================] - 0s 707us/step\n",
      "39/39 [==============================] - 0s 647us/step\n",
      "39/39 [==============================] - 0s 714us/step\n",
      "39/39 [==============================] - 0s 631us/step\n",
      "39/39 [==============================] - 0s 753us/step\n",
      "39/39 [==============================] - 0s 714us/step\n",
      "39/39 [==============================] - 0s 657us/step\n",
      "33/33 [==============================] - 0s 677us/step\n"
     ]
    },
    {
     "name": "stderr",
     "output_type": "stream",
     "text": [
      "Permutation explainer:  80%|████████  | 80/100 [00:50<00:12,  1.60it/s]"
     ]
    },
    {
     "name": "stdout",
     "output_type": "stream",
     "text": [
      "45/45 [==============================] - 0s 740us/step\n",
      "45/45 [==============================] - 0s 710us/step\n",
      "45/45 [==============================] - 0s 712us/step\n",
      "45/45 [==============================] - 0s 677us/step\n",
      "45/45 [==============================] - 0s 693us/step\n",
      "45/45 [==============================] - 0s 689us/step\n",
      "45/45 [==============================] - 0s 714us/step\n",
      "45/45 [==============================] - 0s 680us/step\n",
      "45/45 [==============================] - 0s 677us/step\n",
      "42/42 [==============================] - 0s 689us/step\n"
     ]
    },
    {
     "name": "stderr",
     "output_type": "stream",
     "text": [
      "Permutation explainer:  81%|████████  | 81/100 [00:50<00:11,  1.60it/s]"
     ]
    },
    {
     "name": "stdout",
     "output_type": "stream",
     "text": [
      "41/41 [==============================] - 0s 667us/step\n",
      "41/41 [==============================] - 0s 652us/step\n",
      "41/41 [==============================] - 0s 735us/step\n",
      "41/41 [==============================] - 0s 678us/step\n",
      "41/41 [==============================] - 0s 684us/step\n",
      "41/41 [==============================] - 0s 873us/step\n",
      "41/41 [==============================] - 0s 651us/step\n",
      "41/41 [==============================] - 0s 664us/step\n",
      "41/41 [==============================] - 0s 661us/step\n",
      "35/35 [==============================] - 0s 739us/step\n"
     ]
    },
    {
     "name": "stderr",
     "output_type": "stream",
     "text": [
      "Permutation explainer:  82%|████████▏ | 82/100 [00:51<00:11,  1.61it/s]"
     ]
    },
    {
     "name": "stdout",
     "output_type": "stream",
     "text": [
      "39/39 [==============================] - 0s 702us/step\n",
      "39/39 [==============================] - 0s 659us/step\n",
      "39/39 [==============================] - 0s 705us/step\n",
      "39/39 [==============================] - 0s 653us/step\n",
      "39/39 [==============================] - 0s 698us/step\n",
      "39/39 [==============================] - 0s 662us/step\n",
      "39/39 [==============================] - 0s 647us/step\n",
      "39/39 [==============================] - 0s 682us/step\n",
      "39/39 [==============================] - 0s 674us/step\n",
      "34/34 [==============================] - 0s 713us/step\n"
     ]
    },
    {
     "name": "stderr",
     "output_type": "stream",
     "text": [
      "Permutation explainer:  83%|████████▎ | 83/100 [00:52<00:10,  1.63it/s]"
     ]
    },
    {
     "name": "stdout",
     "output_type": "stream",
     "text": [
      "46/46 [==============================] - 0s 715us/step\n",
      "46/46 [==============================] - 0s 699us/step\n",
      "46/46 [==============================] - 0s 1ms/step\n",
      "46/46 [==============================] - 0s 723us/step\n",
      "46/46 [==============================] - 0s 686us/step\n",
      "46/46 [==============================] - 0s 716us/step\n",
      "46/46 [==============================] - 0s 684us/step\n",
      "46/46 [==============================] - 0s 690us/step\n",
      "46/46 [==============================] - 0s 664us/step\n",
      "37/37 [==============================] - 0s 680us/step\n"
     ]
    },
    {
     "name": "stderr",
     "output_type": "stream",
     "text": [
      "Permutation explainer:  84%|████████▍ | 84/100 [00:52<00:10,  1.58it/s]"
     ]
    },
    {
     "name": "stdout",
     "output_type": "stream",
     "text": [
      "39/39 [==============================] - 0s 713us/step\n",
      "39/39 [==============================] - 0s 669us/step\n",
      "39/39 [==============================] - 0s 1ms/step\n",
      "39/39 [==============================] - 0s 659us/step\n",
      "39/39 [==============================] - 0s 710us/step\n",
      "39/39 [==============================] - 0s 682us/step\n",
      "39/39 [==============================] - 0s 656us/step\n",
      "39/39 [==============================] - 0s 702us/step\n",
      "39/39 [==============================] - 0s 697us/step\n",
      "36/36 [==============================] - 0s 699us/step\n"
     ]
    },
    {
     "name": "stderr",
     "output_type": "stream",
     "text": [
      "Permutation explainer:  85%|████████▌ | 85/100 [00:53<00:09,  1.58it/s]"
     ]
    },
    {
     "name": "stdout",
     "output_type": "stream",
     "text": [
      "51/51 [==============================] - 0s 692us/step\n",
      "51/51 [==============================] - 0s 680us/step\n",
      "51/51 [==============================] - 0s 668us/step\n",
      "51/51 [==============================] - 0s 676us/step\n",
      "51/51 [==============================] - 0s 665us/step\n",
      "51/51 [==============================] - 0s 652us/step\n",
      "51/51 [==============================] - 0s 659us/step\n",
      "51/51 [==============================] - 0s 653us/step\n",
      "51/51 [==============================] - 0s 667us/step\n",
      "44/44 [==============================] - 0s 744us/step\n"
     ]
    },
    {
     "name": "stderr",
     "output_type": "stream",
     "text": [
      "Permutation explainer:  86%|████████▌ | 86/100 [00:54<00:09,  1.55it/s]"
     ]
    },
    {
     "name": "stdout",
     "output_type": "stream",
     "text": [
      "43/43 [==============================] - 0s 685us/step\n",
      "43/43 [==============================] - 0s 672us/step\n",
      "43/43 [==============================] - 0s 709us/step\n",
      "43/43 [==============================] - 0s 695us/step\n",
      "43/43 [==============================] - 0s 655us/step\n",
      "43/43 [==============================] - 0s 716us/step\n",
      "43/43 [==============================] - 0s 685us/step\n",
      "43/43 [==============================] - 0s 643us/step\n",
      "43/43 [==============================] - 0s 628us/step\n",
      "39/39 [==============================] - 0s 702us/step\n"
     ]
    },
    {
     "name": "stderr",
     "output_type": "stream",
     "text": [
      "Permutation explainer:  87%|████████▋ | 87/100 [00:54<00:08,  1.57it/s]"
     ]
    },
    {
     "name": "stdout",
     "output_type": "stream",
     "text": [
      "53/53 [==============================] - 0s 676us/step\n",
      "53/53 [==============================] - 0s 673us/step\n",
      "53/53 [==============================] - 0s 663us/step\n",
      "53/53 [==============================] - 0s 698us/step\n",
      "53/53 [==============================] - 0s 656us/step\n",
      "53/53 [==============================] - 0s 680us/step\n",
      "53/53 [==============================] - 0s 696us/step\n",
      "53/53 [==============================] - 0s 645us/step\n",
      "53/53 [==============================] - 0s 659us/step\n",
      "43/43 [==============================] - 0s 673us/step\n"
     ]
    },
    {
     "name": "stderr",
     "output_type": "stream",
     "text": [
      "Permutation explainer:  88%|████████▊ | 88/100 [00:55<00:07,  1.53it/s]"
     ]
    },
    {
     "name": "stdout",
     "output_type": "stream",
     "text": [
      "40/40 [==============================] - 0s 760us/step\n",
      "40/40 [==============================] - 0s 686us/step\n",
      "40/40 [==============================] - 0s 717us/step\n",
      "40/40 [==============================] - 0s 686us/step\n",
      "40/40 [==============================] - 0s 670us/step\n",
      "40/40 [==============================] - 0s 674us/step\n",
      "40/40 [==============================] - 0s 732us/step\n",
      "40/40 [==============================] - 0s 683us/step\n",
      "40/40 [==============================] - 0s 750us/step\n",
      "35/35 [==============================] - 0s 680us/step\n"
     ]
    },
    {
     "name": "stderr",
     "output_type": "stream",
     "text": [
      "Permutation explainer:  89%|████████▉ | 89/100 [00:55<00:06,  1.58it/s]"
     ]
    },
    {
     "name": "stdout",
     "output_type": "stream",
     "text": [
      "40/40 [==============================] - 0s 711us/step\n",
      "40/40 [==============================] - 0s 715us/step\n",
      "40/40 [==============================] - 0s 666us/step\n",
      "40/40 [==============================] - 0s 692us/step\n",
      "40/40 [==============================] - 0s 682us/step\n",
      "40/40 [==============================] - 0s 716us/step\n",
      "40/40 [==============================] - 0s 706us/step\n",
      "40/40 [==============================] - 0s 930us/step\n",
      "40/40 [==============================] - 0s 738us/step\n",
      "36/36 [==============================] - 0s 726us/step\n"
     ]
    },
    {
     "name": "stderr",
     "output_type": "stream",
     "text": [
      "Permutation explainer:  90%|█████████ | 90/100 [00:56<00:06,  1.59it/s]"
     ]
    },
    {
     "name": "stdout",
     "output_type": "stream",
     "text": [
      "43/43 [==============================] - 0s 712us/step\n",
      "43/43 [==============================] - 0s 682us/step\n",
      "43/43 [==============================] - 0s 663us/step\n",
      "43/43 [==============================] - 0s 710us/step\n",
      "43/43 [==============================] - 0s 653us/step\n",
      "43/43 [==============================] - 0s 741us/step\n",
      "43/43 [==============================] - 0s 702us/step\n",
      "43/43 [==============================] - 0s 714us/step\n",
      "43/43 [==============================] - 0s 728us/step\n",
      "35/35 [==============================] - 0s 686us/step\n"
     ]
    },
    {
     "name": "stderr",
     "output_type": "stream",
     "text": [
      "Permutation explainer:  91%|█████████ | 91/100 [00:57<00:05,  1.59it/s]"
     ]
    },
    {
     "name": "stdout",
     "output_type": "stream",
     "text": [
      "41/41 [==============================] - 0s 765us/step\n",
      "41/41 [==============================] - 0s 682us/step\n",
      "41/41 [==============================] - 0s 699us/step\n",
      "41/41 [==============================] - 0s 657us/step\n",
      "41/41 [==============================] - 0s 724us/step\n",
      "41/41 [==============================] - 0s 691us/step\n",
      "41/41 [==============================] - 0s 632us/step\n",
      "41/41 [==============================] - 0s 768us/step\n",
      "41/41 [==============================] - 0s 729us/step\n",
      "36/36 [==============================] - 0s 678us/step\n"
     ]
    },
    {
     "name": "stderr",
     "output_type": "stream",
     "text": [
      "Permutation explainer:  92%|█████████▏| 92/100 [00:57<00:05,  1.60it/s]"
     ]
    },
    {
     "name": "stdout",
     "output_type": "stream",
     "text": [
      "40/40 [==============================] - 0s 665us/step\n",
      "40/40 [==============================] - 0s 714us/step\n",
      "40/40 [==============================] - 0s 701us/step\n",
      "40/40 [==============================] - 0s 680us/step\n",
      "40/40 [==============================] - 0s 691us/step\n",
      "40/40 [==============================] - 0s 674us/step\n",
      "40/40 [==============================] - 0s 656us/step\n",
      "40/40 [==============================] - 0s 776us/step\n",
      "40/40 [==============================] - 0s 675us/step\n",
      "30/30 [==============================] - 0s 663us/step\n"
     ]
    },
    {
     "name": "stderr",
     "output_type": "stream",
     "text": [
      "Permutation explainer:  93%|█████████▎| 93/100 [00:58<00:04,  1.61it/s]"
     ]
    },
    {
     "name": "stdout",
     "output_type": "stream",
     "text": [
      "41/41 [==============================] - 0s 679us/step\n",
      "41/41 [==============================] - 0s 685us/step\n",
      "41/41 [==============================] - 0s 727us/step\n",
      "41/41 [==============================] - 0s 659us/step\n",
      "41/41 [==============================] - 0s 662us/step\n",
      "41/41 [==============================] - 0s 675us/step\n",
      "41/41 [==============================] - 0s 641us/step\n",
      "41/41 [==============================] - 0s 767us/step\n",
      "41/41 [==============================] - 0s 685us/step\n",
      "36/36 [==============================] - 0s 810us/step\n"
     ]
    },
    {
     "name": "stderr",
     "output_type": "stream",
     "text": [
      "Permutation explainer:  94%|█████████▍| 94/100 [00:59<00:03,  1.62it/s]"
     ]
    },
    {
     "name": "stdout",
     "output_type": "stream",
     "text": [
      "50/50 [==============================] - 0s 757us/step\n",
      "50/50 [==============================] - 0s 700us/step\n",
      "50/50 [==============================] - 0s 687us/step\n",
      "50/50 [==============================] - 0s 682us/step\n",
      "50/50 [==============================] - 0s 645us/step\n",
      "50/50 [==============================] - 0s 675us/step\n",
      "50/50 [==============================] - 0s 660us/step\n",
      "50/50 [==============================] - 0s 683us/step\n",
      "50/50 [==============================] - 0s 686us/step\n",
      "43/43 [==============================] - 0s 655us/step\n"
     ]
    },
    {
     "name": "stderr",
     "output_type": "stream",
     "text": [
      "Permutation explainer:  95%|█████████▌| 95/100 [00:59<00:03,  1.57it/s]"
     ]
    },
    {
     "name": "stdout",
     "output_type": "stream",
     "text": [
      "42/42 [==============================] - 0s 752us/step\n",
      "42/42 [==============================] - 0s 836us/step\n",
      "42/42 [==============================] - 0s 761us/step\n",
      "42/42 [==============================] - 0s 701us/step\n",
      "42/42 [==============================] - 0s 767us/step\n",
      "42/42 [==============================] - 0s 736us/step\n",
      "42/42 [==============================] - 0s 775us/step\n",
      "42/42 [==============================] - 0s 760us/step\n",
      "42/42 [==============================] - 0s 714us/step\n",
      "39/39 [==============================] - 0s 712us/step\n"
     ]
    },
    {
     "name": "stderr",
     "output_type": "stream",
     "text": [
      "Permutation explainer:  96%|█████████▌| 96/100 [01:00<00:02,  1.58it/s]"
     ]
    },
    {
     "name": "stdout",
     "output_type": "stream",
     "text": [
      "37/37 [==============================] - 0s 777us/step\n",
      "37/37 [==============================] - 0s 651us/step\n",
      "37/37 [==============================] - 0s 753us/step\n",
      "37/37 [==============================] - 0s 651us/step\n",
      "37/37 [==============================] - 0s 755us/step\n",
      "37/37 [==============================] - 0s 673us/step\n",
      "37/37 [==============================] - 0s 756us/step\n",
      "37/37 [==============================] - 0s 733us/step\n",
      "37/37 [==============================] - 0s 679us/step\n",
      "33/33 [==============================] - 0s 701us/step\n"
     ]
    },
    {
     "name": "stderr",
     "output_type": "stream",
     "text": [
      "Permutation explainer:  97%|█████████▋| 97/100 [01:00<00:01,  1.61it/s]"
     ]
    },
    {
     "name": "stdout",
     "output_type": "stream",
     "text": [
      "44/44 [==============================] - 0s 693us/step\n",
      "44/44 [==============================] - 0s 740us/step\n",
      "44/44 [==============================] - 0s 749us/step\n",
      "44/44 [==============================] - 0s 688us/step\n",
      "44/44 [==============================] - 0s 698us/step\n",
      "44/44 [==============================] - 0s 717us/step\n",
      "44/44 [==============================] - 0s 711us/step\n",
      "44/44 [==============================] - 0s 661us/step\n",
      "44/44 [==============================] - 0s 652us/step\n",
      "38/38 [==============================] - 0s 939us/step\n"
     ]
    },
    {
     "name": "stderr",
     "output_type": "stream",
     "text": [
      "Permutation explainer:  98%|█████████▊| 98/100 [01:01<00:01,  1.59it/s]"
     ]
    },
    {
     "name": "stdout",
     "output_type": "stream",
     "text": [
      "42/42 [==============================] - 0s 755us/step\n",
      "42/42 [==============================] - 0s 715us/step\n",
      "42/42 [==============================] - 0s 690us/step\n",
      "42/42 [==============================] - 0s 673us/step\n",
      "42/42 [==============================] - 0s 677us/step\n",
      "42/42 [==============================] - 0s 690us/step\n",
      "42/42 [==============================] - 0s 647us/step\n",
      "42/42 [==============================] - 0s 718us/step\n",
      "42/42 [==============================] - 0s 721us/step\n",
      "38/38 [==============================] - 0s 636us/step\n"
     ]
    },
    {
     "name": "stderr",
     "output_type": "stream",
     "text": [
      "Permutation explainer:  99%|█████████▉| 99/100 [01:02<00:00,  1.60it/s]"
     ]
    },
    {
     "name": "stdout",
     "output_type": "stream",
     "text": [
      "39/39 [==============================] - 0s 730us/step\n",
      "39/39 [==============================] - 0s 750us/step\n",
      "39/39 [==============================] - 0s 687us/step\n",
      "39/39 [==============================] - 0s 668us/step\n",
      "39/39 [==============================] - 0s 690us/step\n",
      "39/39 [==============================] - 0s 702us/step\n",
      "39/39 [==============================] - 0s 691us/step\n",
      "39/39 [==============================] - 0s 660us/step\n",
      "39/39 [==============================] - 0s 735us/step\n",
      "35/35 [==============================] - 0s 704us/step\n"
     ]
    },
    {
     "name": "stderr",
     "output_type": "stream",
     "text": [
      "Permutation explainer: 100%|██████████| 100/100 [01:02<00:00,  1.62it/s]"
     ]
    },
    {
     "name": "stdout",
     "output_type": "stream",
     "text": [
      "49/49 [==============================] - 0s 733us/step\n",
      "49/49 [==============================] - 0s 687us/step\n",
      "49/49 [==============================] - 0s 682us/step\n",
      "49/49 [==============================] - 0s 674us/step\n",
      "49/49 [==============================] - 0s 692us/step\n",
      "49/49 [==============================] - 0s 701us/step\n",
      "49/49 [==============================] - 0s 667us/step\n",
      "49/49 [==============================] - 0s 714us/step\n",
      "49/49 [==============================] - 0s 689us/step\n",
      "45/45 [==============================] - 0s 681us/step\n"
     ]
    },
    {
     "name": "stderr",
     "output_type": "stream",
     "text": [
      "Permutation explainer: 101it [01:03,  1.35it/s]                         \n",
      "No data for colormapping provided via 'c'. Parameters 'vmin', 'vmax' will be ignored\n"
     ]
    },
    {
     "data": {
      "image/png": "[encoded data removed]",
      "text/plain": [
       "<Figure size 800x950 with 2 Axes>"
      ]
     },
     "metadata": {},
     "output_type": "display_data"
    }
   ],
   "source": [
    "shap_values = explainer(X_train.iloc[0:100])\n",
    "shap.summary_plot(shap_values)"
   ]
  },
  {
   "cell_type": "code",
   "execution_count": null,
   "metadata": {},
   "outputs": [],
   "source": []
  },
  {
   "cell_type": "markdown",
   "metadata": {},
   "source": []
  }
 ],
 "metadata": {
  "kernelspec": {
   "display_name": "EUSTEMA_ENV",
   "language": "python",
   "name": "python3"
  },
  "language_info": {
   "codemirror_mode": {
    "name": "ipython",
    "version": 3
   },
   "file_extension": ".py",
   "mimetype": "text/x-python",
   "name": "python",
   "nbconvert_exporter": "python",
   "pygments_lexer": "ipython3",
   "version": "3.10.8"
  },
  "orig_nbformat": 4,
  "vscode": {
   "interpreter": {
    "hash": "2acc762cc7aeb6db2a706c4dc52cf1d55b70f63001b943adf40303505232559a"
   }
  }
 },
 "nbformat": 4,
 "nbformat_minor": 2
}
