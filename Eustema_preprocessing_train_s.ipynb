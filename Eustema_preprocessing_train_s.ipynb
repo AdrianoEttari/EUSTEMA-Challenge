{
  "cells": [
    {
      "cell_type": "markdown",
      "id": "f3093124",
      "metadata": {
        "id": "f3093124"
      },
      "source": [
        "# <a style = background:lightgreen;color:black>Training Set for Settlement prediction </a>"
      ]
    },
    {
      "cell_type": "code",
      "execution_count": 2,
      "id": "64f78507",
      "metadata": {
        "id": "64f78507"
      },
      "outputs": [],
      "source": [
        "import pandas as pd\n",
        "import numpy as np\n",
        "import matplotlib.pyplot as plt\n",
        "import seaborn as sns"
      ]
    },
    {
      "cell_type": "markdown",
      "id": "300f9a9f",
      "metadata": {
        "id": "300f9a9f"
      },
      "source": [
        "## <a style=background:yellow;color:black id='eda_preproc'> EDA and preprocessing</a>"
      ]
    },
    {
      "cell_type": "code",
      "execution_count": 3,
      "id": "a793c3dc",
      "metadata": {
        "id": "a793c3dc"
      },
      "outputs": [],
      "source": [
        "path_train_s = 'DATA/train_s.csv'\n",
        "\n",
        "train_s = pd.read_csv(path_train_s)"
      ]
    },
    {
      "cell_type": "markdown",
      "id": "a18a3e00",
      "metadata": {
        "id": "a18a3e00"
      },
      "source": [
        "The first column `(Unnamed:0` and the second one (ID) are the same, so we can remove the first one."
      ]
    },
    {
      "cell_type": "code",
      "execution_count": 4,
      "id": "f0e0d116",
      "metadata": {
        "id": "f0e0d116"
      },
      "outputs": [],
      "source": [
        "del train_s['Unnamed: 0']"
      ]
    },
    {
      "cell_type": "markdown",
      "id": "7a2dfa5b",
      "metadata": {
        "id": "7a2dfa5b"
      },
      "source": [
        "`ID` is an unique identifier for each row in the dataset, but it's not from 0 to 106639 (total number of rows)."
      ]
    },
    {
      "cell_type": "markdown",
      "id": "98170fcb",
      "metadata": {
        "id": "98170fcb"
      },
      "source": [
        "`Case identifier` is an unique identifier for the cases. <a style=color:deepskyblue> The number before the frontslash indicates when the violation was registered (iscritto a ruolo) (e.g. the second violation of the year 2016 will be registered as 2/2016). BUT, pay attention! You may have more case identifiers repeated because each office of each city has its own register. </a>\n",
        "\n",
        "In our data the case identifier together with the city (City of the judge’s office) is a primary key."
      ]
    },
    {
      "cell_type": "code",
      "execution_count": 5,
      "id": "b6247ab1",
      "metadata": {
        "id": "b6247ab1"
      },
      "outputs": [],
      "source": [
        "assert len(train_s)==len(train_s.groupby(['Case identifier', \"City of the judge’s office\"]).count())"
      ]
    },
    {
      "cell_type": "markdown",
      "id": "36fda3ab",
      "metadata": {
        "id": "36fda3ab"
      },
      "source": [
        "`Date` is the starting date of the case. Notice that each case identifier may have more starting dates (it is obvious if you think that there may be the same case identifier for different cities). "
      ]
    },
    {
      "cell_type": "code",
      "execution_count": 6,
      "id": "55362858",
      "metadata": {
        "id": "55362858"
      },
      "outputs": [],
      "source": [
        "train_s['Date'] = pd.to_datetime(train_s['Date'])"
      ]
    },
    {
      "cell_type": "markdown",
      "id": "43d2e352",
      "metadata": {
        "id": "43d2e352"
      },
      "source": [
        "`Object` is a code which identifies the type of the lawsuit. In our dataset we have two macrotypes of objects (OSA (Opposizioni Sanzioni Amministrative) and OR). The number after OSA or OR represents the specific type of the object.\n",
        "\n",
        "There are 12 types of lawsuit objects in the dataset."
      ]
    },
    {
      "cell_type": "markdown",
      "id": "d99cc19a",
      "metadata": {
        "id": "d99cc19a"
      },
      "source": [
        "`Judge Identifier` is an unique identifier given to each Judge. There are 547 judges in the dataset."
      ]
    },
    {
      "cell_type": "markdown",
      "id": "ee09916b",
      "metadata": {
        "id": "ee09916b"
      },
      "source": [
        "`Section` is the judge's tribunal section. There are 27 sections in the dataset. There may for the same year, same city and the same section, multiple judges. "
      ]
    },
    {
      "cell_type": "code",
      "execution_count": 7,
      "id": "7a05aaa5",
      "metadata": {
        "id": "7a05aaa5",
        "outputId": "ed223404-26d0-4b4a-f26d-152f2f053dee"
      },
      "outputs": [
        {
          "data": {
            "text/plain": [
              "Year  City of the judge’s office  Section\n",
              "1998  Cagliari                    1                                                 [Judge_68]\n",
              "2005  Cagliari                    1                                       [Judge_75, Judge_77]\n",
              "      Firenze                     F3                                               [Judge_109]\n",
              "      L'Aquila                    1                                     [Judge_120, Judge_122]\n",
              "      Palermo                     1^                                               [Judge_398]\n",
              "                                                                   ...                        \n",
              "2021  Roma                        6          [Judge_456, Judge_527, Judge_461, Judge_537, J...\n",
              "      Torino                      2          [Judge_553, Judge_552, Judge_545, Judge_548, J...\n",
              "      Trento                      1                                                [Judge_569]\n",
              "      Trieste                     1               [Judge_571, Judge_573, Judge_570, Judge_572]\n",
              "      Venezia                     1                          [Judge_583, Judge_577, Judge_576]\n",
              "Name: Judge Identifier, Length: 739, dtype: object"
            ]
          },
          "execution_count": 7,
          "metadata": {},
          "output_type": "execute_result"
        }
      ],
      "source": [
        "train_s['Year'] = train_s['Date'].dt.year\n",
        "train_s.groupby(['Year','City of the judge’s office', 'Section'])['Judge Identifier'].unique()"
      ]
    },
    {
      "cell_type": "code",
      "execution_count": 8,
      "id": "bc0a60eb",
      "metadata": {
        "id": "bc0a60eb"
      },
      "outputs": [],
      "source": [
        "del train_s['Year']"
      ]
    },
    {
      "cell_type": "markdown",
      "id": "e38b3375",
      "metadata": {
        "id": "e38b3375"
      },
      "source": [
        "`City of the judge’s office` is the city in which the judge's office is located. There are 20 cities in the dataset. As you can see in the following barplot, the cases are not balanced in the cities."
      ]
    },
    {
      "cell_type": "code",
      "execution_count": 9,
      "id": "85e09c06",
      "metadata": {
        "id": "85e09c06",
        "outputId": "2f891ee4-7286-4a9b-e186-6e6498a78287"
      },
      "outputs": [
        {
          "data": {
            "image/png": "[encoded data removed]",
            "text/plain": [
              "<Figure size 1000x500 with 1 Axes>"
            ]
          },
          "metadata": {},
          "output_type": "display_data"
        }
      ],
      "source": [
        "sns.set_theme(rc={\"axes.spines.right\": False,\n",
        "                  \"axes.spines.top\": False,\n",
        "                  'axes.spines.left': False,\n",
        "                  'axes.spines.bottom': False})\n",
        "\n",
        "f, axs = plt.subplots(1, figsize=(10,5))\n",
        "    \n",
        "sns.barplot(data = train_s.groupby(['City of the judge’s office'])\\\n",
        "            .size().reset_index().rename(columns={0:'Count'})\\\n",
        "            .sort_values(['Count'], ascending=False),\n",
        "            x='City of the judge’s office',\n",
        "            y= 'Count',\n",
        "            color='cornflowerblue',\n",
        "            saturation=0.7,\n",
        "           ax=axs)\n",
        "\n",
        "bars = list(train_s.groupby(['City of the judge’s office'])\\\n",
        "            .size().reset_index().rename(columns={0:'Count'})\\\n",
        "            .sort_values(['Count'], ascending=False)['City of the judge’s office'])\n",
        "\n",
        "x_pos = np.arange(len(bars))\n",
        "plt.xticks(x_pos, bars, rotation=90)\n",
        "plt.subplots_adjust(bottom=0.2, top=0.99)\n",
        "\n",
        "heights=np.array(train_s.groupby(['City of the judge’s office'])\\\n",
        "            .size().reset_index().rename(columns={0:'Count'})\\\n",
        "            .sort_values(['Count'], ascending=False)['Count'])\n",
        "\n",
        "plt.text(x = -0.4 , y = heights[0]+1, s = heights[0], size = 15)\n",
        "plt.text(x = len(bars)-1.4 , y = heights[-1]+1, s = heights[-1], size = 15)\n",
        "plt.xlabel('City of the judge’s office', fontsize=12)\n",
        "plt.yticks([])\n",
        "plt.ylabel('')\n",
        "plt.title('Number of lawsuits per city', fontsize=20, color='orange')\n",
        "plt.show()"
      ]
    },
    {
      "cell_type": "markdown",
      "id": "547fb419",
      "metadata": {
        "id": "547fb419"
      },
      "source": [
        "`Tax Related` indicates if the case is tax related. It gets either nan or True as values, so we decided to substitute all the NaN with False. There are 101516 not tax related rows and 5123 tax related rows."
      ]
    },
    {
      "cell_type": "code",
      "execution_count": 10,
      "id": "41bc0c44",
      "metadata": {
        "id": "41bc0c44",
        "outputId": "9fc93888-ecc4-4745-e638-5c29f5cfa7bd"
      },
      "outputs": [
        {
          "data": {
            "text/html": [
              "<div>\n",
              "<style scoped>\n",
              "    .dataframe tbody tr th:only-of-type {\n",
              "        vertical-align: middle;\n",
              "    }\n",
              "\n",
              "    .dataframe tbody tr th {\n",
              "        vertical-align: top;\n",
              "    }\n",
              "\n",
              "    .dataframe thead th {\n",
              "        text-align: right;\n",
              "    }\n",
              "</style>\n",
              "<table border=\"1\" class=\"dataframe\">\n",
              "  <thead>\n",
              "    <tr style=\"text-align: right;\">\n",
              "      <th></th>\n",
              "      <th>Tax Related</th>\n",
              "      <th>Count</th>\n",
              "    </tr>\n",
              "  </thead>\n",
              "  <tbody>\n",
              "    <tr>\n",
              "      <th>0</th>\n",
              "      <td>0</td>\n",
              "      <td>101516</td>\n",
              "    </tr>\n",
              "    <tr>\n",
              "      <th>1</th>\n",
              "      <td>1</td>\n",
              "      <td>5123</td>\n",
              "    </tr>\n",
              "  </tbody>\n",
              "</table>\n",
              "</div>"
            ],
            "text/plain": [
              "   Tax Related   Count\n",
              "0            0  101516\n",
              "1            1    5123"
            ]
          },
          "execution_count": 10,
          "metadata": {},
          "output_type": "execute_result"
        }
      ],
      "source": [
        "train_s['Tax Related'] = train_s['Tax Related'].replace(np.nan, 0)\n",
        "train_s['Tax Related'] = train_s['Tax Related'].replace(True, 1)\n",
        "train_s.groupby(['Tax Related']).size().reset_index().rename(columns={0:'Count'})"
      ]
    },
    {
      "cell_type": "markdown",
      "id": "b279bdac",
      "metadata": {
        "id": "b279bdac"
      },
      "source": [
        "`Value` is the monetary value of the lawsuit. Example: I got a traffic ticket for speeding of 500€ and I appel to court (the 500€ of the ticket represents the value of the lawsuit). It is formatted as string, we have to remove the 'Euro' and take just the number, moreover, we have to remove the point which in Italy is used to separate the thousands."
      ]
    },
    {
      "cell_type": "code",
      "execution_count": 12,
      "id": "ef1a5e36",
      "metadata": {
        "id": "ef1a5e36"
      },
      "outputs": [],
      "source": [
        "taxes_string = np.array(train_s['Value'])\n",
        "\n",
        "taxes_string_number = [string[5:] for string in taxes_string]\n",
        "\n",
        "taxes_number = []\n",
        "for value_string_wrong in taxes_string_number:\n",
        "    value_string = ''\n",
        "    for chr_ in value_string_wrong:\n",
        "        if chr_ != '.' and chr_ != ',':\n",
        "            value_string += chr_\n",
        "        elif chr_ == ',':\n",
        "            value_string += '.'\n",
        "    taxes_number.append(float(value_string)) # we need to transform the number in float"
      ]
    },
    {
      "cell_type": "code",
      "execution_count": 13,
      "id": "5b9b9f8c",
      "metadata": {
        "id": "5b9b9f8c"
      },
      "outputs": [],
      "source": [
        "train_s['Value formatted'] = taxes_number"
      ]
    },
    {
      "cell_type": "code",
      "execution_count": 14,
      "id": "920e97b3",
      "metadata": {
        "id": "920e97b3"
      },
      "outputs": [],
      "source": [
        "del train_s['Value']"
      ]
    },
    {
      "cell_type": "markdown",
      "id": "185665e1",
      "metadata": {
        "id": "185665e1"
      },
      "source": [
        "`Unified contribution` is the monetary cost for starting the lawsuit. Basically, to start a lawsuit there is the need of a \"budget\" that is the unified contribution.\n",
        "The unified contribution depends from the value of the lawsuit. The following are the unified contribution tables (of the first lawsuit grade) valid since the 25/06/2014 (first one) and before (second one).\n",
        "\n",
        "<a style=color:deepskyblue>$$SINCE - 25/06/2014 (First Grade)$$ </a>\n",
        "<table>\n",
        "    <tr> <td> Lawsuit value</td> <td> Unified contribution</td> </tr>\n",
        "    <tr> <td> 0€</td> <td>43€, 237€ and 98€ </td> </tr>\n",
        "    <tr> <td> 1€-1000€</td> <td> 43€</td> </tr>\n",
        "    <tr> <td> 1000.01€-1100€</td> <td> 43€</td> </tr>\n",
        "    <tr> <td> 1100.01€-5200€ </td> <td> 98€</td> </tr>\n",
        "    <tr> <td> 5200.01€-26000€</td> <td> 237€</td> </tr>\n",
        "    <tr> <td> 26000.01€-52000€</td> <td> 518€</td> </tr>\n",
        "    <tr> <td> 52000.01€-260000€</td> <td> 759€</td> </tr>\n",
        "    <tr> <td> 260000.01€-520000€</td> <td> 1214€</td> </tr>\n",
        "    <tr> <td> 520000.01€-∞</td> <td> 1686€</td> </tr>\n",
        "</table>\n",
        "\n",
        "<a style=color:deepskyblue> $$BEFORE - 25/06/2014 (First Grade)$$</a> \n",
        "<table>\n",
        "    <tr> <td> Lawsuit value</td> <td> Unified contribution</td> </tr>\n",
        "    <tr> <td> 0€</td> <td>37€, 85€, 206€ and 450€</td> </tr>\n",
        "    <tr> <td> 1€-1000€</td> <td>37€ </td> </tr>\n",
        "    <tr> <td> 1000.01€-1100€</td> <td>37€ </td> </tr>\n",
        "    <tr> <td> 1100.01€-5200€ </td> <td>85€ </td> </tr>\n",
        "    <tr> <td> 5200.01€-26000€</td> <td>206€ </td> </tr>\n",
        "    <tr> <td> 26000.01€-52000€</td> <td>450€ </td> </tr>\n",
        "    <tr> <td> 52000.01€-260000€</td> <td>660€ </td> </tr>\n",
        "    <tr> <td> 260000.01€-520000€</td> <td>1056€ </td> </tr>\n",
        "    <tr> <td> 520000.01€-∞</td> <td> 1466€</td> </tr>\n",
        "</table>\n",
        "\n",
        "In this field there are 6461 NaN values.\n",
        "\n",
        "Moreover, this field is formatted as the Value column was formatted, so we have to remove 'Euro' and convert the field as float. It's name will be `Unified Contribution formatted`. Once you have done it, you can see that the minimum unified contribution is 1 euro and the maximum is 98147."
      ]
    },
    {
      "cell_type": "code",
      "execution_count": 15,
      "id": "e342115e",
      "metadata": {
        "id": "e342115e"
      },
      "outputs": [],
      "source": [
        "un_contr_string = train_s['Unified Contribution']\n",
        "\n",
        "un_contr_string_number =[]\n",
        "for string in un_contr_string:\n",
        "    if pd.isna(string)==False:\n",
        "        un_contr_string_number.append(string[5:])\n",
        "    else:\n",
        "        un_contr_string_number.append(pd.NA)\n",
        "\n",
        "un_contr_number = []\n",
        "for value_string_wrong in un_contr_string_number:\n",
        "    value_string = ''\n",
        "    if pd.isna(value_string_wrong)==False:\n",
        "        for chr_ in value_string_wrong:\n",
        "            if chr_ != '.' and chr_ != ',':\n",
        "                value_string += chr_\n",
        "            elif chr_ == ',':\n",
        "                value_string += '.'\n",
        "        un_contr_number.append(float(value_string)) # we need to transform the number in float\n",
        "    else:\n",
        "        un_contr_number.append(pd.NA)\n"
      ]
    },
    {
      "cell_type": "code",
      "execution_count": 16,
      "id": "16744506",
      "metadata": {
        "id": "16744506"
      },
      "outputs": [],
      "source": [
        "train_s['Unified Contribution formatted'] = un_contr_number\n",
        "del train_s['Unified Contribution']"
      ]
    },
    {
      "cell_type": "markdown",
      "id": "0c8d4c43",
      "metadata": {
        "id": "0c8d4c43"
      },
      "source": [
        "#### In the following chunks we create a function which returns the indexes of the rows which are probably anomalies. To do this we check in each row the value of Value formatted. If the value formatted is in a given range, then its Unified Contribution formatted must be in a given range to be a correct value (the tables are shown above: there are two of them because after the 25th June 2014 they changed). If the Unified Contribution is not in that range, then the function append the index in the anomalies_index list. Notice the following things:  \n",
        "\n",
        "* The NaN are not considered because otherwise pd.NA in [1,2,3] returns an error. We will analyze them separetely.\n",
        "* We are considering two tables because after the 25th June 2014 they changed.\n",
        "* We are considering the Value formatted transformed in integers because the values with float are far from the boundaries and so there is no danger that a row ends up in another range when we consider it as int.\n",
        "* We create also a function (unified_contribution_calculator) which gets the array of the \"standard\" values of the unified contribution like the ones you've seen in the previous table and returns an array with these values, these values multipled by 0.5, these values multipied by 1.5 and these values multiplied by 2. We did this in order to eliminate just the obvious anomalies.\n",
        "* We create two different excel files with all the columns of train_s and as rows the anomaly records."
      ]
    },
    {
      "cell_type": "code",
      "execution_count": 17,
      "id": "4790e56a",
      "metadata": {
        "id": "4790e56a"
      },
      "outputs": [],
      "source": [
        "def retrieve_oddness(data, range_table):\n",
        "        '''\n",
        "        This function iterates through each row of the data and through each row in range_table and\n",
        "        if the Value formatted of a row in the data is in a range of the Lawsuit Value, then it is checked also if \n",
        "        the Unified Contribution of that row is in the right Unified Contribution range.\n",
        "        '''\n",
        "        anomalies_index = []\n",
        "        \n",
        "        for row_index_data in range(len(data)):\n",
        "            for row_index_table in range(len(range_table)):\n",
        "                if int(data.iloc[row_index_data]['Value formatted']) in range_table.iloc[row_index_table]['Lawsuit Value']:\n",
        "                    if data.iloc[row_index_data]['Unified Contribution formatted'] not in range_table.iloc[row_index_table]['Unified Contribution']:\n",
        "                        anomalies_index.append(row_index_data)\n",
        "                    break # once we find the right row (value-unified contribution) we don't need to check the ones below\n",
        "                        \n",
        "        return anomalies_index"
      ]
    },
    {
      "cell_type": "code",
      "execution_count": 18,
      "id": "0bfb062c",
      "metadata": {
        "id": "0bfb062c"
      },
      "outputs": [],
      "source": [
        "def unified_contribution_calculator(in_array):\n",
        "    out_array = list(in_array*0.5)+list(in_array*1)+list(in_array*1.5)+list(in_array*2)\n",
        "    return np.sort(np.array(out_array))"
      ]
    },
    {
      "cell_type": "markdown",
      "id": "b21b898d",
      "metadata": {
        "id": "b21b898d"
      },
      "source": [
        "The unified_contribution_calculator will be fed with the values of the first grade and the values of the second grade (which are the values of the first grade multiplied by 1.5)."
      ]
    },
    {
      "cell_type": "code",
      "execution_count": 19,
      "id": "f5d5574d",
      "metadata": {
        "id": "f5d5574d"
      },
      "outputs": [],
      "source": [
        "table_range_since_25_06_2014 = pd.DataFrame({\n",
        "    'Lawsuit Value': [[0],np.arange(1,1101),np.arange(1101,5201),np.arange(5201,26001),np.arange(26001,52001),np.arange(52001,260001),np.arange(260001,520001),np.arange(520001, 3500000)],\n",
        "    'Unified Contribution' : [unified_contribution_calculator(np.array([43,98,237,259,518,43*1.5,98*1.5,237*1.5,259*1.5,518*1.5])),\n",
        "                              unified_contribution_calculator(np.array([43,43*1.5])),\n",
        "                              unified_contribution_calculator(np.array([98,98*1.5])),\n",
        "                              unified_contribution_calculator(np.array([237,237*1.5])),\n",
        "                              unified_contribution_calculator(np.array([518,518*1.5])),\n",
        "                              unified_contribution_calculator(np.array([759,759*1.5])),\n",
        "                              unified_contribution_calculator(np.array([1214,1214*1.5])),\n",
        "                              unified_contribution_calculator(np.array([1686,1686*1.5]))]\n",
        "})\n",
        "\n",
        "table_range_before_25_06_2014 = pd.DataFrame({\n",
        "    'Lawsuit Value': [[0],np.arange(1,1101),np.arange(1101,5201),np.arange(5201,26001),np.arange(26001,52001),np.arange(52001,260001),np.arange(260001,520001),np.arange(520001,3500000)],\n",
        "    'Unified Contribution' : [unified_contribution_calculator(np.array([37,85,206,450,37*1.5,85*1.5,206*1.5,450*1.5])),\n",
        "                              unified_contribution_calculator(np.array([37,37*1.5])),\n",
        "                              unified_contribution_calculator(np.array([85,85*1.5])),\n",
        "                              unified_contribution_calculator(np.array([206,206*1.5])),\n",
        "                              unified_contribution_calculator(np.array([450,450*1.5])),\n",
        "                              unified_contribution_calculator(np.array([660,660*1.5])),\n",
        "                              unified_contribution_calculator(np.array([1056,1056*1.5])),\n",
        "                              unified_contribution_calculator(np.array([1466,1466*1.5]))]\n",
        "})\n",
        "\n",
        "train_s_since_25_06_2014_complete = train_s.loc[train_s['Date']>='2014-06-25'][['ID','Value formatted', 'Unified Contribution formatted']]\n",
        "train_s_since_25_06_2014_not_NA = train_s_since_25_06_2014_complete.dropna()  \n",
        "train_s_before_25_06_2014_complete = train_s.loc[train_s['Date']<'2014-06-25'][['ID','Value formatted', 'Unified Contribution formatted']]\n",
        "train_s_before_25_06_2014_not_NA = train_s_before_25_06_2014_complete.dropna() "
      ]
    },
    {
      "cell_type": "code",
      "execution_count": 20,
      "id": "06fa05a7",
      "metadata": {
        "id": "06fa05a7",
        "scrolled": true
      },
      "outputs": [],
      "source": [
        "anomalies_index_since_25_06_2014 = retrieve_oddness(train_s_since_25_06_2014_not_NA, table_range_since_25_06_2014)\n",
        "\n",
        "anomalies_ID_since_25_06_2014 = []\n",
        "\n",
        "for idx in anomalies_index_since_25_06_2014:\n",
        "    anomalies_ID_since_25_06_2014.append(train_s_since_25_06_2014_not_NA.iloc[idx]['ID'])\n",
        "\n",
        "anomalies_index_before_25_06_2014 = retrieve_oddness(train_s_before_25_06_2014_not_NA, table_range_before_25_06_2014)\n",
        "\n",
        "anomalies_ID_before_25_06_2014 = []\n",
        "\n",
        "for idx in anomalies_index_before_25_06_2014:\n",
        "    anomalies_ID_before_25_06_2014.append(train_s_before_25_06_2014_not_NA.iloc[idx]['ID'])\n",
        "\n",
        "df_anomaly_since_25_06_2014 = train_s.loc[train_s['ID'].isin(anomalies_ID_since_25_06_2014)]\n",
        "#df_anomaly_since_25_06_2014.to_excel('df_anomaly_since_25_06_2014.xlsx')\n",
        "\n",
        "df_anomaly_before_25_06_2014 = train_s.loc[train_s['ID'].isin(anomalies_ID_before_25_06_2014)]\n",
        "#df_anomaly_before_25_06_2014.to_excel('df_anomaly_before_25_06_2014.xlsx')"
      ]
    },
    {
      "cell_type": "markdown",
      "id": "0e0bd618",
      "metadata": {
        "id": "0e0bd618"
      },
      "source": [
        "<a style=color:deepskyblue> After analyzing the anomalies obtained with these function, we've decided to remove them from the data. This because they are just 2054+1492 rows (3.33% of train_s) and so it's not worth trying to substitute wrong values with the ones which respect the unified contribution boundaries. Also, we've decided to remove the NA values because we couldn't find a reason why there is no value in there. The only pattern that we found is that in the dataset with all \"Unified Contribution formatted\"'s NaNs, the Lawsuits with 0 number of persons are 71%, whereas in the dataset without anomaly they are just the 12%.</a>"
      ]
    },
    {
      "cell_type": "code",
      "execution_count": 21,
      "id": "17f39984",
      "metadata": {
        "id": "17f39984"
      },
      "outputs": [],
      "source": [
        "anomaly_IDs = list(df_anomaly_since_25_06_2014['ID'])+list(df_anomaly_before_25_06_2014['ID'])\n",
        "\n",
        "train_s_no_anomaly = train_s.loc[~train_s['ID'].isin(anomaly_IDs)]\n",
        "\n",
        "# train_s_no_anomaly.to_excel('train_s_no_anomaly.xlsx')"
      ]
    },
    {
      "cell_type": "code",
      "execution_count": 22,
      "id": "f90595de",
      "metadata": {
        "id": "f90595de"
      },
      "outputs": [],
      "source": [
        "train_s_no_anomaly_NA = train_s_no_anomaly.loc[train_s_no_anomaly['Unified Contribution formatted'].isna()]\n",
        "to_remove_anomalies = list(df_anomaly_before_25_06_2014['ID'])+list(df_anomaly_since_25_06_2014['ID'])\n",
        "to_remove_NA = list(train_s_no_anomaly_NA['ID'])\n",
        "train_s_cleaned = train_s.loc[~train_s['ID'].isin(to_remove_anomalies)]\n",
        "train_s_cleaned = train_s_cleaned.loc[~train_s_cleaned['ID'].isin(to_remove_NA)]\n",
        "# train_s_cleaned.to_excel('train_s_cleaned.xlsx')"
      ]
    },
    {
      "cell_type": "code",
      "execution_count": 23,
      "id": "802b50ac",
      "metadata": {
        "id": "802b50ac",
        "outputId": "0d5db6bf-8dad-46a3-cfd2-9d7d72f70f37"
      },
      "outputs": [
        {
          "data": {
            "image/png": "[encoded data removed]",
            "text/plain": [
              "<Figure size 1500x500 with 2 Axes>"
            ]
          },
          "metadata": {},
          "output_type": "display_data"
        }
      ],
      "source": [
        "sns.set_theme(rc={\"axes.spines.right\": False,\n",
        "                  \"axes.spines.top\": False,\n",
        "                  'axes.spines.left': False,\n",
        "                  'axes.spines.bottom': False})\n",
        "\n",
        "f, axs = plt.subplots(nrows=1, ncols=2, figsize=(15,5))\n",
        "    \n",
        "sns.barplot(data =train_s_no_anomaly_NA.groupby(['Number of Persons'])\\\n",
        "        .size().reset_index().rename(columns={0:'Count'})\\\n",
        "        .sort_values(['Count'], ascending=False),\n",
        "            x='Number of Persons',\n",
        "            y= 'Count',\n",
        "            color='cornflowerblue',\n",
        "            saturation=0.7,\n",
        "           ax=axs[0]).set(title='Count of the number of persons for NaN dataset')\n",
        "\n",
        "sns.barplot(data =train_s_no_anomaly.loc[~train_s_no_anomaly['Unified Contribution formatted'].isna()].groupby(['Number of Persons'])\\\n",
        "        .size().reset_index().rename(columns={0:'Count'})\\\n",
        "        .sort_values(['Count'], ascending=False),\n",
        "            x='Number of Persons',\n",
        "            y= 'Count',\n",
        "            color='cornflowerblue',\n",
        "            saturation=0.7,\n",
        "           ax=axs[1]).set(title='Count of the number of persons for no NaN dataset')\n",
        "\n",
        "plt.show()"
      ]
    },
    {
      "cell_type": "markdown",
      "id": "9e65c69a",
      "metadata": {
        "id": "9e65c69a"
      },
      "source": [
        "<a style=color:deepskyblue> From now we are going to use the train_s_cleaned dataset. </a>"
      ]
    },
    {
      "cell_type": "markdown",
      "id": "6f5d5a98",
      "metadata": {
        "id": "6f5d5a98"
      },
      "source": [
        "`Primary Actor` is the accusing part. There are 14248 NaN values. It is meaningless to check how many are the unique values because they are encripted for privacy reasons."
      ]
    },
    {
      "cell_type": "markdown",
      "id": "bbff4ef4",
      "metadata": {
        "id": "bbff4ef4"
      },
      "source": [
        "`Secondary Actor` is always the accusing part. There are 98547 NaN values."
      ]
    },
    {
      "cell_type": "markdown",
      "id": "1a58fd70",
      "metadata": {
        "id": "1a58fd70"
      },
      "source": [
        "`Primary Defendant` is the defendant of the lawsuit. There are 14287 NaN values."
      ]
    },
    {
      "cell_type": "markdown",
      "id": "e8862930",
      "metadata": {
        "id": "e8862930"
      },
      "source": [
        "`Secondary Defendant` is the defendant of the lawsuit. There are 77331 NaN values."
      ]
    },
    {
      "cell_type": "markdown",
      "id": "7747a455",
      "metadata": {
        "id": "7747a455"
      },
      "source": [
        "<a style=color:deepskyblue> The following is an interesting pattern. There are almost the same number of NaN in the columns Primary Actor and Primary Defendant and almost all of them are in common (there are 13253 NaN values in Primary Defendant and in common with Primary Actor there are 13115 of them)  </a>"
      ]
    },
    {
      "cell_type": "code",
      "execution_count": 24,
      "id": "cb3b3eae",
      "metadata": {
        "id": "cb3b3eae",
        "outputId": "e7068fdc-83c6-4ec2-8a33-69b02c859945"
      },
      "outputs": [
        {
          "data": {
            "text/plain": [
              "13115"
            ]
          },
          "execution_count": 24,
          "metadata": {},
          "output_type": "execute_result"
        }
      ],
      "source": [
        "pr_actor = np.array(train_s_cleaned['Primary Actor'])\n",
        "pr_def = np.array(train_s_cleaned['Primary Defendant'])\n",
        "\n",
        "counter=0\n",
        "for i in np.argwhere(pd.isna(pr_actor)):\n",
        "    if pd.isna(pr_actor[i]) and pd.isna(pr_def[i]):\n",
        "        counter+=1\n",
        "        \n",
        "counter"
      ]
    },
    {
      "cell_type": "markdown",
      "id": "4e780b51",
      "metadata": {
        "id": "4e780b51"
      },
      "source": [
        "`Number of Lawyers`: lawyers of the actor + lawyers of the defendant"
      ]
    },
    {
      "cell_type": "markdown",
      "id": "d325ccfb",
      "metadata": {
        "id": "d325ccfb"
      },
      "source": [
        "`Number of Legal Parties`:  the number of legal parties involved in the lawsuit"
      ]
    },
    {
      "cell_type": "markdown",
      "id": "4edfa0b1",
      "metadata": {
        "id": "4edfa0b1"
      },
      "source": [
        "`Number of Persons`: number of attacked people ."
      ]
    },
    {
      "cell_type": "markdown",
      "id": "a2f8daaa",
      "metadata": {
        "id": "a2f8daaa"
      },
      "source": [
        "`Settlement`: How much the lawyers earn from the lawsuit."
      ]
    },
    {
      "cell_type": "markdown",
      "id": "91d95676",
      "metadata": {
        "id": "91d95676"
      },
      "source": [
        "The settlement usually is a percentage of the value of the lawsuit, but it all depends from the agreements: <a style=color:deepskyblue>if my lawyer and I stipulate a contract such that at the end of the lawsuit the lawyer has to be paid 1000 euro end eventually we win, even if the judge determines that the lawyer of the winner has to be paid 500 euro (and so the loser has to repay the winner just of these 500 euro) the winner lawyer has to be paid 1000 euro and so I (the winner) have to pay the remaining 500 euro. </a>"
      ]
    },
    {
      "cell_type": "code",
      "execution_count": 25,
      "id": "838d1b8f",
      "metadata": {
        "id": "838d1b8f"
      },
      "outputs": [],
      "source": [
        "train_s_cleaned['Settlement_greater_Value']=(train_s_cleaned['Value formatted']!=0)&(train_s_cleaned['Settlement']>train_s_cleaned['Value formatted'])"
      ]
    },
    {
      "cell_type": "code",
      "execution_count": 26,
      "id": "ff90201c",
      "metadata": {
        "id": "ff90201c"
      },
      "outputs": [],
      "source": [
        "train_s_cleaned['Settlement_2*greater_Value']=(train_s_cleaned['Value formatted']!=0)&(train_s_cleaned['Settlement']>2*train_s_cleaned['Value formatted'])"
      ]
    },
    {
      "cell_type": "code",
      "execution_count": 27,
      "id": "02372a55",
      "metadata": {
        "id": "02372a55",
        "outputId": "2973325f-206e-4cb8-b421-d736eaec4aa6"
      },
      "outputs": [
        {
          "data": {
            "text/html": [
              "<div>\n",
              "<style scoped>\n",
              "    .dataframe tbody tr th:only-of-type {\n",
              "        vertical-align: middle;\n",
              "    }\n",
              "\n",
              "    .dataframe tbody tr th {\n",
              "        vertical-align: top;\n",
              "    }\n",
              "\n",
              "    .dataframe thead th {\n",
              "        text-align: right;\n",
              "    }\n",
              "</style>\n",
              "<table border=\"1\" class=\"dataframe\">\n",
              "  <thead>\n",
              "    <tr style=\"text-align: right;\">\n",
              "      <th></th>\n",
              "      <th>Settlement_greater_Value</th>\n",
              "      <th>Settlement_2*greater_Value</th>\n",
              "      <th>Count</th>\n",
              "    </tr>\n",
              "  </thead>\n",
              "  <tbody>\n",
              "    <tr>\n",
              "      <th>0</th>\n",
              "      <td>False</td>\n",
              "      <td>False</td>\n",
              "      <td>92305</td>\n",
              "    </tr>\n",
              "    <tr>\n",
              "      <th>1</th>\n",
              "      <td>True</td>\n",
              "      <td>False</td>\n",
              "      <td>3715</td>\n",
              "    </tr>\n",
              "    <tr>\n",
              "      <th>2</th>\n",
              "      <td>True</td>\n",
              "      <td>True</td>\n",
              "      <td>612</td>\n",
              "    </tr>\n",
              "  </tbody>\n",
              "</table>\n",
              "</div>"
            ],
            "text/plain": [
              "   Settlement_greater_Value  Settlement_2*greater_Value  Count\n",
              "0                     False                       False  92305\n",
              "1                      True                       False   3715\n",
              "2                      True                        True    612"
            ]
          },
          "execution_count": 27,
          "metadata": {},
          "output_type": "execute_result"
        }
      ],
      "source": [
        "train_s_cleaned.groupby(['Settlement_greater_Value','Settlement_2*greater_Value' ])\\\n",
        "            .size().reset_index().rename(columns={0:'Count'})\\\n",
        "            .sort_values(['Count'], ascending=False)"
      ]
    },
    {
      "cell_type": "code",
      "execution_count": 28,
      "id": "b8c896ab",
      "metadata": {
        "id": "b8c896ab",
        "outputId": "ed849661-f587-46ae-e5f1-5f19a089b526",
        "scrolled": false
      },
      "outputs": [
        {
          "data": {
            "image/png": "[encoded data removed]",
            "text/plain": [
              "<Figure size 1000x500 with 1 Axes>"
            ]
          },
          "metadata": {},
          "output_type": "display_data"
        }
      ],
      "source": [
        "sns.set_theme(rc={\"axes.spines.right\": False,\n",
        "                  \"axes.spines.top\": False,\n",
        "                  'axes.spines.left': False,\n",
        "                  'axes.spines.bottom': False})\n",
        "\n",
        "f, axs = plt.subplots(1, figsize=(10,5))\n",
        "    \n",
        "sns.barplot(data = train_s_cleaned.groupby(['Settlement_greater_Value','Settlement_2*greater_Value'])\\\n",
        "            .size().reset_index().rename(columns={0:'Count'})\\\n",
        "            .sort_values(['Count'], ascending=False),\n",
        "            x='Settlement_greater_Value',\n",
        "            y= 'Count',\n",
        "            hue='Settlement_2*greater_Value',\n",
        "            #color='cornflowerblue',\n",
        "            saturation=0.7,\n",
        "           ax=axs)\n",
        "\n",
        "bars = list(train_s_cleaned.groupby(['Settlement_greater_Value','Settlement_2*greater_Value'])\\\n",
        "            .size().reset_index().rename(columns={0:'Count'})\\\n",
        "            .sort_values(['Count'], ascending=False)['Settlement_greater_Value'])\n",
        "\n",
        "x_pos = np.arange(len(bars)-1)\n",
        "plt.xticks(x_pos, bars[:2])\n",
        "plt.subplots_adjust(bottom=0.2, top=0.99)\n",
        "\n",
        "heights=np.array(train_s_cleaned.groupby(['Settlement_greater_Value','Settlement_2*greater_Value'])\\\n",
        "            .size().reset_index().rename(columns={0:'Count'})\\\n",
        "            .sort_values(['Count'], ascending=False)['Count'])\n",
        "\n",
        "plt.text(x = -0.28 , y = heights[0]+1, s = heights[0], size = 15)\n",
        "plt.text(x = len(bars)-2.25 , y = heights[1], s = heights[1], size = 15)\n",
        "plt.text(x = len(bars)-1.85, y = heights[2], s = heights[2], size = 15)\n",
        "plt.title('Settlement greater than Value and Value different from 0', fontsize=20,\n",
        "          color='deepskyblue')\n",
        "plt.yticks([])\n",
        "plt.ylabel('')\n",
        "plt.xlabel('')\n",
        "plt.show()"
      ]
    },
    {
      "cell_type": "markdown",
      "id": "6bc14d26",
      "metadata": {
        "id": "6bc14d26"
      },
      "source": [
        "Let's analyze the spearman (not linear) correlation between the numerical columns of the dataset. We can see that there are some columns which are highly correlated. For example, the number of persons is highly correlated with the number of legal parties. The settlement is highly correlated with the value of the lawsuit."
      ]
    },
    {
      "cell_type": "code",
      "execution_count": 29,
      "id": "93c43897",
      "metadata": {
        "id": "93c43897",
        "outputId": "33a6368b-9a16-4398-8e0f-ced9216de46e"
      },
      "outputs": [
        {
          "name": "stderr",
          "output_type": "stream",
          "text": [
            "/var/folders/j3/6zzd1jr16pb3yxx70_376pmw0000gn/T/ipykernel_1631/4206548609.py:3: FutureWarning: The default value of numeric_only in DataFrame.corr is deprecated. In a future version, it will default to False. Select only valid columns or specify the value of numeric_only to silence this warning.\n",
            "  corr = df_num.corr('spearman')\n"
          ]
        },
        {
          "data": {
            "image/png": "[encoded data removed]",
            "text/plain": [
              "<Figure size 640x480 with 2 Axes>"
            ]
          },
          "metadata": {},
          "output_type": "display_data"
        }
      ],
      "source": [
        "df_num = train_s_cleaned[['Value formatted', 'Unified Contribution formatted', 'Number of Lawyers', 'Number of Legal Parties', 'Number of Persons', 'Settlement']]\n",
        "\n",
        "corr = df_num.corr('spearman')\n",
        "\n",
        "mask = np.zeros_like(corr)\n",
        "mask[np.triu_indices_from(mask)] = True\n",
        "\n",
        "dataplot = sns.heatmap(corr, cmap=plt.cm.coolwarm, annot=True,mask=mask, square=True)\n",
        "plt.show()"
      ]
    },
    {
      "cell_type": "markdown",
      "id": "9301c696",
      "metadata": {
        "id": "9301c696"
      },
      "source": [
        "<a style=color:deepskyblue> **The last preprocessing steps (we want to delete some potential anomalies such as the ones whose settlement is greater than 1'000'000 or a lot higher than the corresponding value):** </a>\n",
        "\n",
        "* Remove the Settlment values that are close to the corresponding Value formatted multiplied by 10, 100, 1'000, 10'000 and in the range 10'000 < Settlement < 1'000'000.\n",
        "\n",
        "* Remove the Settlement value greater than 1'000'000.\n",
        "\n",
        "* Remove non necessary columns.\n",
        "\n",
        "* Finally, create the final dataset."
      ]
    },
    {
      "cell_type": "code",
      "execution_count": 30,
      "id": "91149856",
      "metadata": {
        "id": "91149856"
      },
      "outputs": [],
      "source": [
        "start = 0.9\n",
        "end = 1.1\n",
        "\n",
        "first_range = np.arange(start*10,int(end*10+1))\n",
        "second_range = np.arange(start*100, int(end*100+1))\n",
        "third_range = np.arange(start*1000, int(end*1000+1))\n",
        "fourth_range = np.arange(start*10000, int(end*10000+1))"
      ]
    },
    {
      "cell_type": "code",
      "execution_count": 31,
      "id": "ab6af8a2",
      "metadata": {
        "id": "ab6af8a2"
      },
      "outputs": [],
      "source": [
        "df = train_s_cleaned.loc[(train_s_cleaned['Settlement']<1000000) & (train_s_cleaned['Settlement']>10000)]\n",
        "\n",
        "IDs_to_remove = []\n",
        "\n",
        "for i in range(len(df)):\n",
        "    if df.iloc[i]['Value formatted']!=0:\n",
        "        ratio = int(df.iloc[i]['Settlement']/df.iloc[i]['Value formatted'])\n",
        "        if (ratio in first_range) or (ratio in second_range) or (ratio in third_range) or (ratio in fourth_range):\n",
        "            IDs_to_remove.append(df.iloc[i]['ID'])"
      ]
    },
    {
      "cell_type": "code",
      "execution_count": 32,
      "id": "31009ee5",
      "metadata": {
        "id": "31009ee5"
      },
      "outputs": [],
      "source": [
        "for i in range(len(train_s_cleaned)):\n",
        "    if train_s_cleaned.iloc[i]['Settlement']>=1000000:\n",
        "        IDs_to_remove.append(train_s_cleaned.iloc[i]['ID'])"
      ]
    },
    {
      "cell_type": "code",
      "execution_count": 33,
      "id": "a5230ccd",
      "metadata": {
        "id": "a5230ccd"
      },
      "outputs": [],
      "source": [
        "final_df = train_s_cleaned.loc[(~train_s_cleaned['ID'].isin(IDs_to_remove))]\\\n",
        ".sort_values(['Settlement'], ascending=False)"
      ]
    },
    {
      "cell_type": "code",
      "execution_count": 34,
      "id": "0b2cfd7f",
      "metadata": {
        "id": "0b2cfd7f"
      },
      "outputs": [],
      "source": [
        "IDs_to_remove = list(final_df.loc[(final_df['Settlement']>90000) &\n",
        "             (final_df['Settlement']>final_df['Value formatted']*5)].ID)"
      ]
    },
    {
      "cell_type": "code",
      "execution_count": 35,
      "id": "d0dae6e6",
      "metadata": {
        "id": "d0dae6e6"
      },
      "outputs": [],
      "source": [
        "final_df = final_df.loc[~final_df['ID'].isin(IDs_to_remove)]"
      ]
    },
    {
      "cell_type": "code",
      "execution_count": 36,
      "id": "29404877",
      "metadata": {
        "id": "29404877"
      },
      "outputs": [],
      "source": [
        "del final_df['ID']\n",
        "del final_df['Primary Actor']\n",
        "del final_df['Secondary Actor']\n",
        "del final_df['Primary Defendant']\n",
        "del final_df['Secondary Defendant']\n",
        "del final_df['Settlement_greater_Value']\n",
        "del final_df['Settlement_2*greater_Value']"
      ]
    },
    {
      "cell_type": "code",
      "execution_count": 37,
      "id": "095a0354",
      "metadata": {
        "id": "095a0354"
      },
      "outputs": [],
      "source": [
        "# final_df.to_excel('final_train_s.xlsx')"
      ]
    },
    {
      "cell_type": "code",
      "execution_count": 38,
      "id": "4453b33c",
      "metadata": {
        "id": "4453b33c",
        "outputId": "48244416-cce5-46ae-c0fa-1e6aca3e198b"
      },
      "outputs": [
        {
          "name": "stderr",
          "output_type": "stream",
          "text": [
            "/var/folders/j3/6zzd1jr16pb3yxx70_376pmw0000gn/T/ipykernel_1631/613644969.py:3: FutureWarning: The default value of numeric_only in DataFrame.corr is deprecated. In a future version, it will default to False. Select only valid columns or specify the value of numeric_only to silence this warning.\n",
            "  corr = df_num.corr('spearman')\n"
          ]
        },
        {
          "data": {
            "image/png": "[encoded data removed]",
            "text/plain": [
              "<Figure size 640x480 with 2 Axes>"
            ]
          },
          "metadata": {},
          "output_type": "display_data"
        }
      ],
      "source": [
        "df_num = final_df[['Value formatted', 'Unified Contribution formatted', 'Number of Lawyers', 'Number of Legal Parties', 'Number of Persons', 'Settlement']]\n",
        "\n",
        "corr = df_num.corr('spearman')\n",
        "\n",
        "mask = np.zeros_like(corr)\n",
        "mask[np.triu_indices_from(mask)] = True\n",
        "\n",
        "dataplot = sns.heatmap(corr, cmap=plt.cm.coolwarm, annot=True,mask=mask, square=True)\n",
        "plt.show()"
      ]
    },
    {
      "attachments": {},
      "cell_type": "markdown",
      "id": "753a3c26",
      "metadata": {
        "id": "753a3c26"
      },
      "source": [
        "## <a style=background:yellow;color:black > Let's convert the variable 'City of the judge’s office' in One-Hot encoding </a>"
      ]
    },
    {
      "cell_type": "code",
      "execution_count": 8,
      "id": "6c4491a4",
      "metadata": {
        "id": "6c4491a4",
        "outputId": "7d3c5c79-7c7c-4791-fbfb-9a7ed034fcca"
      },
      "outputs": [
        {
          "name": "stderr",
          "output_type": "stream",
          "text": [
            "/var/folders/j3/6zzd1jr16pb3yxx70_376pmw0000gn/T/ipykernel_1887/3215480812.py:13: SettingWithCopyWarning: \n",
            "A value is trying to be set on a copy of a slice from a DataFrame\n",
            "\n",
            "See the caveats in the documentation: https://pandas.pydata.org/pandas-docs/stable/user_guide/indexing.html#returning-a-view-versus-a-copy\n",
            "  data[data['City of the judge’s office'].iloc[i]].iloc[i] = 1\n"
          ]
        }
      ],
      "source": [
        "data = pd.read_excel('DATA/final_train_s.xlsx')\n",
        "\n",
        "cities = []\n",
        "for city in data['City of the judge’s office'].tolist() :\n",
        "\n",
        "    if city not in cities : \n",
        "        cities.append(city)\n",
        "\n",
        "for city in cities : \n",
        "    data[city] = np.zeros(len(data))\n",
        "\n",
        "for i in range(len(data)) : \n",
        "    data[data['City of the judge’s office'].iloc[i]].iloc[i] = 1\n",
        "\n",
        "del data['City of the judge’s office']"
      ]
    },
    {
      "cell_type": "code",
      "execution_count": 9,
      "id": "05215e68",
      "metadata": {
        "id": "05215e68",
        "outputId": "b299c91f-fc0f-4b1e-90eb-d419931a74f1"
      },
      "outputs": [
        {
          "name": "stderr",
          "output_type": "stream",
          "text": [
            "/var/folders/j3/6zzd1jr16pb3yxx70_376pmw0000gn/T/ipykernel_1887/1566618401.py:14: SettingWithCopyWarning: \n",
            "A value is trying to be set on a copy of a slice from a DataFrame\n",
            "\n",
            "See the caveats in the documentation: https://pandas.pydata.org/pandas-docs/stable/user_guide/indexing.html#returning-a-view-versus-a-copy\n",
            "  data[data['Object'].iloc[i]].iloc[i] = 1\n"
          ]
        }
      ],
      "source": [
        "crimes=[]\n",
        "for crime in data['Object'].tolist() :\n",
        "\n",
        "    if crime not in crimes : \n",
        "\n",
        "        crimes.append(crime)\n",
        "\n",
        "for crime in crimes : \n",
        "\n",
        "    data[crime] = np.zeros(len(data))\n",
        "\n",
        "for i in range(len(data)) : \n",
        "\n",
        "    data[data['Object'].iloc[i]].iloc[i] = 1\n",
        "\n",
        "del data['Object']"
      ]
    },
    {
      "cell_type": "code",
      "execution_count": 10,
      "id": "82031d49",
      "metadata": {
        "id": "82031d49",
        "outputId": "b6a8fb41-1f3d-40b8-de61-f92e17d7a252"
      },
      "outputs": [
        {
          "name": "stderr",
          "output_type": "stream",
          "text": [
            "/var/folders/j3/6zzd1jr16pb3yxx70_376pmw0000gn/T/ipykernel_1887/274897289.py:9: SettingWithCopyWarning: \n",
            "A value is trying to be set on a copy of a slice from a DataFrame\n",
            "\n",
            "See the caveats in the documentation: https://pandas.pydata.org/pandas-docs/stable/user_guide/indexing.html#returning-a-view-versus-a-copy\n",
            "  data['Tax Related'].iloc[i] = 0\n",
            "/var/folders/j3/6zzd1jr16pb3yxx70_376pmw0000gn/T/ipykernel_1887/274897289.py:5: SettingWithCopyWarning: \n",
            "A value is trying to be set on a copy of a slice from a DataFrame\n",
            "\n",
            "See the caveats in the documentation: https://pandas.pydata.org/pandas-docs/stable/user_guide/indexing.html#returning-a-view-versus-a-copy\n",
            "  data['Tax Related'].iloc[i]  = 1\n"
          ]
        }
      ],
      "source": [
        "for i in range(len(data)) : \n",
        "\n",
        "    if data['Tax Related'].iloc[i] == True : \n",
        "\n",
        "        data['Tax Related'].iloc[i]  = 1 \n",
        "\n",
        "    else :\n",
        "\n",
        "        data['Tax Related'].iloc[i] = 0"
      ]
    },
    {
      "cell_type": "code",
      "execution_count": null,
      "id": "7638e41f",
      "metadata": {
        "id": "7638e41f"
      },
      "outputs": [],
      "source": [
        "# data.to_excel('final_train_s_dummies.xlsx')"
      ]
    }
  ],
  "metadata": {
    "colab": {
      "collapsed_sections": [
        "f4575ad0",
        "4e70501d"
      ],
      "provenance": []
    },
    "gpuClass": "standard",
    "kernelspec": {
      "display_name": "Adri_Env",
      "language": "python",
      "name": "python3"
    },
    "language_info": {
      "codemirror_mode": {
        "name": "ipython",
        "version": 3
      },
      "file_extension": ".py",
      "mimetype": "text/x-python",
      "name": "python",
      "nbconvert_exporter": "python",
      "pygments_lexer": "ipython3",
      "version": "3.10.8 | packaged by conda-forge | (main, Nov 22 2022, 08:25:29) [Clang 14.0.6 ]"
    },
    "vscode": {
      "interpreter": {
        "hash": "28d2d24dc05509bf292e34803b47a1e549616d0bedf6bebdafbe5e542b7fb512"
      }
    }
  },
  "nbformat": 4,
  "nbformat_minor": 5
}
